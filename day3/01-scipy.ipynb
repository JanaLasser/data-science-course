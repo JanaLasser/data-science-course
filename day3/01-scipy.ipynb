{
 "cells": [
  {
   "cell_type": "markdown",
   "metadata": {},
   "source": [
    "# Scientific python with Scipy\n",
    "### Author : Jérémy Vachier"
   ]
  },
  {
   "cell_type": "markdown",
   "metadata": {},
   "source": [
    "Scipy is the library for scientific computing. With Scipy we can interpolate, integrate, optimize, do image processing, statistics, use special functions, etc.\n",
    "\n",
    "Scipy is the core package for scientific routines in Python; it is meant to operate efficiently on numpy arrays, so that numpy and scipy work hand in hand.\n"
   ]
  },
  {
   "cell_type": "markdown",
   "metadata": {},
   "source": [
    "## Interaction with Numpy"
   ]
  },
  {
   "cell_type": "markdown",
   "metadata": {},
   "source": [
    "See the lecture on Numpy"
   ]
  },
  {
   "cell_type": "markdown",
   "metadata": {},
   "source": [
    "## Different libraries\n",
    "\n",
    "- scipy.cluster -> Vector quantization / Kmeans\n",
    "\n",
    "- scipy.constants -> Physical and mathematical constants\n",
    "\n",
    "- scipy.fftpack -> Fourier transform\n",
    "\n",
    "- scipy.integrate -> Integration routines\n",
    "\n",
    "- scipy.io -> Data input and output\n",
    "\n",
    "- scipy.ndimage -> n-dimensional image package\n",
    "\n",
    "- scipy.odr -> Orthogonal distance regression\n",
    "\n",
    "- scipy.signal -> Signal processing\n",
    "\n",
    "- scipy.sparse -> Sparse matrices\n",
    "\n",
    "- scipy.spatial -> Spatial data structures and algorithms\n",
    "\n",
    "- scipy.special -> Any special mathematical functions\n",
    "\n",
    "- ### scipy.linalg -> Linear algebra routines **\n",
    "- ### scipy.optimize -> Optimization **\n",
    "- ### scipy.stats -> Statistics **\n",
    "- ### scipy.interpolate -> Interpolation **"
   ]
  },
  {
   "cell_type": "markdown",
   "metadata": {},
   "source": [
    "## Linear algebra operations: scipy.linalg"
   ]
  },
  {
   "cell_type": "markdown",
   "metadata": {},
   "source": [
    "Why you need to know a bit of linear algebra ?\n",
    "\n",
    "Differential equations or system of differential equations, e.g. really useful to describe the population dynamics. We can also use the matrices to do image processing and biostatistics. So it is always good to know a bit of linear algebra."
   ]
  },
  {
   "cell_type": "code",
   "execution_count": 141,
   "metadata": {},
   "outputs": [
    {
     "name": "stdout",
     "output_type": "stream",
     "text": [
      "A: [[ 0.60482195  0.39499287]\n",
      " [ 0.3746054   0.06307277]]\n",
      "B: [[ 0.42895903  0.71972093  0.76803089  0.19436815  0.86287077]\n",
      " [ 0.02872195  0.90212882  0.23654588  0.12858426  0.31787579]\n",
      " [ 0.8487613   0.83229775  0.34565135  0.23997119  0.53578755]\n",
      " [ 0.27146694  0.03443087  0.62708559  0.52020046  0.04195581]\n",
      " [ 0.75747277  0.98834976  0.80140096  0.34398109  0.33539124]\n",
      " [ 0.3515714   0.44294568  0.57949344  0.61756091  0.17711749]\n",
      " [ 0.86498179  0.71027069  0.17063169  0.85508266  0.01985662]\n",
      " [ 0.64168373  0.16233435  0.25755049  0.34260646  0.00614414]\n",
      " [ 0.43855106  0.79704411  0.67566494  0.54502309  0.56422699]\n",
      " [ 0.01398415  0.60897714  0.98856638  0.22410702  0.58721772]]\n",
      "C: [[3 4]\n",
      " [5 6]]\n"
     ]
    }
   ],
   "source": [
    "from scipy import linalg\n",
    "import numpy as np\n",
    "\n",
    "## Creating Matrices by using Numpy\n",
    "A = np.matrix(np.random.random((2,2)))\n",
    "B = np.mat(np.random.random((10,5)))\n",
    "C = np.mat([[3,4],[5,6]])\n",
    "\n",
    "print('A: '+str(A)+'\\n'+'B: '+str(B)+'\\n'+'C: '+str(C))"
   ]
  },
  {
   "cell_type": "code",
   "execution_count": 142,
   "metadata": {},
   "outputs": [
    {
     "data": {
      "text/plain": [
       "array([[-0.57433562,  3.59677354],\n",
       "       [ 3.41112685, -5.50746039]])"
      ]
     },
     "execution_count": 142,
     "metadata": {},
     "output_type": "execute_result"
    }
   ],
   "source": [
    "## Basic operation on the Matrix\n",
    "A.I #inverse\n",
    "linalg.inv(A)"
   ]
  },
  {
   "cell_type": "code",
   "execution_count": 143,
   "metadata": {},
   "outputs": [
    {
     "data": {
      "text/plain": [
       "0.66789472512846759"
      ]
     },
     "execution_count": 143,
     "metadata": {},
     "output_type": "execute_result"
    }
   ],
   "source": [
    "A.T # transpose matrix\n",
    "A.H # conjugate transposition\n",
    "np.trace(A) # trace"
   ]
  },
  {
   "cell_type": "markdown",
   "metadata": {},
   "source": [
    "$||A||_F=\\sqrt{\\sum\\limits_{i=1}^m\\sum\\limits_{j=1}^n|a_{ij}|^2} $ -- Frobenius norm"
   ]
  },
  {
   "cell_type": "code",
   "execution_count": 144,
   "metadata": {},
   "outputs": [
    {
     "data": {
      "text/plain": [
       "0.9998148256060627"
      ]
     },
     "execution_count": 144,
     "metadata": {},
     "output_type": "execute_result"
    }
   ],
   "source": [
    "linalg.norm(A) #Frobenius norm\n",
    "linalg.norm(A,1) # max column sum\n",
    "linalg.norm(A,np.inf) # max row sum"
   ]
  },
  {
   "cell_type": "code",
   "execution_count": 145,
   "metadata": {},
   "outputs": [
    {
     "data": {
      "text/plain": [
       "-0.1098186659557528"
      ]
     },
     "execution_count": 145,
     "metadata": {},
     "output_type": "execute_result"
    }
   ],
   "source": [
    "np.linalg.matrix_rank(C) # Matrix rank\n",
    "linalg.det(A) # Determinant"
   ]
  },
  {
   "cell_type": "markdown",
   "metadata": {},
   "source": [
    "## Optimization and fit: scipy.optimize"
   ]
  },
  {
   "cell_type": "code",
   "execution_count": 146,
   "metadata": {},
   "outputs": [
    {
     "data": {
      "image/png": "[encoded data removed]",
      "text/plain": [
       "<matplotlib.figure.Figure at 0x104ebc550>"
      ]
     },
     "metadata": {},
     "output_type": "display_data"
    }
   ],
   "source": [
    "from scipy import optimize\n",
    "import matplotlib.pyplot as plt\n",
    "\n",
    "#find the minimum of a function\n",
    "\n",
    "def f(x):\n",
    "    return x**2 + 10*np.sin(x)\n",
    "\n",
    "x = np.arange(-10, 10, 0.1)\n",
    "\n",
    "plt.plot(x, f(x)) \n",
    "\n",
    "plt.show()"
   ]
  },
  {
   "cell_type": "markdown",
   "metadata": {},
   "source": [
    "The general and efficient way to find a minimum for this function is to conduct a gradient descent starting from a given initial point. The Broyden-Fletcher-Goldfarb-Shanno (BFGS) algorithm is a good way of doing this\n"
   ]
  },
  {
   "cell_type": "code",
   "execution_count": 147,
   "metadata": {},
   "outputs": [
    {
     "name": "stdout",
     "output_type": "stream",
     "text": [
      "Optimization terminated successfully.\n",
      "         Current function value: -7.945823\n",
      "         Iterations: 5\n",
      "         Function evaluations: 24\n",
      "         Gradient evaluations: 8\n"
     ]
    },
    {
     "data": {
      "text/plain": [
       "array([-1.30644003])"
      ]
     },
     "execution_count": 147,
     "metadata": {},
     "output_type": "execute_result"
    }
   ],
   "source": [
    "optimize.fmin_bfgs(f, 0)"
   ]
  },
  {
   "cell_type": "markdown",
   "metadata": {},
   "source": [
    "A possible issue with this approach is that, if the function has local minima the algorithm may find these local minima instead of the global minimum depending on the initial point\n"
   ]
  },
  {
   "cell_type": "code",
   "execution_count": 148,
   "metadata": {},
   "outputs": [
    {
     "data": {
      "text/plain": [
       "array([ 3.83746663])"
      ]
     },
     "execution_count": 148,
     "metadata": {},
     "output_type": "execute_result"
    }
   ],
   "source": [
    "optimize.fmin_bfgs(f, 3, disp=0) #disp = 0 remove the explanation part"
   ]
  },
  {
   "cell_type": "code",
   "execution_count": 149,
   "metadata": {},
   "outputs": [
    {
     "name": "stdout",
     "output_type": "stream",
     "text": [
      "Optimization terminated successfully.\n",
      "         Current function value: 8.315586\n",
      "         Iterations: 5\n",
      "         Function evaluations: 24\n",
      "         Gradient evaluations: 8\n"
     ]
    },
    {
     "data": {
      "text/plain": [
       "array([ 3.83746663])"
      ]
     },
     "execution_count": 149,
     "metadata": {},
     "output_type": "execute_result"
    }
   ],
   "source": [
    "optimize.fmin_bfgs(f, 3)"
   ]
  },
  {
   "cell_type": "markdown",
   "metadata": {},
   "source": [
    "To find the global minimum, the simplest algorithm is the brute force algorithm, in which the function is evaluated on each point of a given grid. To find the local minimum, let's constraint the variable to the interval (0, 10).\n"
   ]
  },
  {
   "cell_type": "code",
   "execution_count": 150,
   "metadata": {},
   "outputs": [
    {
     "name": "stdout",
     "output_type": "stream",
     "text": [
      "[-1.30641113] 3.8374671195\n"
     ]
    }
   ],
   "source": [
    "grid = (-10, 10, 0.1)\n",
    "xmin_global = optimize.brute(f, (grid,)) #f is the function and (grid,) is the range\n",
    "xmin_local = optimize.fminbound(f, 0, 10) # we look f(x), where 0<x<10\n",
    "print(xmin_global,xmin_local)"
   ]
  },
  {
   "cell_type": "markdown",
   "metadata": {},
   "source": [
    "### Roots of a scalar function"
   ]
  },
  {
   "cell_type": "markdown",
   "metadata": {},
   "source": [
    "To find a root, i.e. a point where f(x) = 0, we use scipy.optimize.fsolve()"
   ]
  },
  {
   "cell_type": "code",
   "execution_count": 151,
   "metadata": {},
   "outputs": [
    {
     "data": {
      "text/plain": [
       "array([ 0.])"
      ]
     },
     "execution_count": 151,
     "metadata": {},
     "output_type": "execute_result"
    }
   ],
   "source": [
    "root = optimize.fsolve(f, 1)  # our initial guess is 1\n",
    "root"
   ]
  },
  {
   "cell_type": "markdown",
   "metadata": {},
   "source": [
    "Only one root is found. The plot of f reveals that there is a second root around -2.5. We find the exact value of it by adjusting our initial guess"
   ]
  },
  {
   "cell_type": "code",
   "execution_count": 152,
   "metadata": {},
   "outputs": [
    {
     "data": {
      "text/plain": [
       "array([-2.47948183])"
      ]
     },
     "execution_count": 152,
     "metadata": {},
     "output_type": "execute_result"
    }
   ],
   "source": [
    "root2 = optimize.fsolve(f, -2.5)\n",
    "root2"
   ]
  },
  {
   "cell_type": "markdown",
   "metadata": {},
   "source": [
    "### Curve fitting"
   ]
  },
  {
   "cell_type": "code",
   "execution_count": 153,
   "metadata": {},
   "outputs": [
    {
     "data": {
      "text/plain": [
       "array([ 0.4500013 ,  0.51547953])"
      ]
     },
     "execution_count": 153,
     "metadata": {},
     "output_type": "execute_result"
    }
   ],
   "source": [
    "np.random.randn(2) #“standard normal” distribution"
   ]
  },
  {
   "cell_type": "code",
   "execution_count": 154,
   "metadata": {
    "collapsed": true
   },
   "outputs": [],
   "source": [
    "xdata = np.linspace(-10, 10, num=20)\n",
    "ydata = f(xdata) + np.random.randn(xdata.size) #xdata.size give the dimensions\n",
    "def f2(x, a, b):\n",
    "    return a*x**2 + b*np.sin(x)"
   ]
  },
  {
   "cell_type": "markdown",
   "metadata": {},
   "source": [
    "Then we can use scipy.optimize.curve_fit() to find a and b"
   ]
  },
  {
   "cell_type": "code",
   "execution_count": 155,
   "metadata": {},
   "outputs": [
    {
     "name": "stdout",
     "output_type": "stream",
     "text": [
      "[  0.98677818  10.29472521] [[  1.45391753e-05  -4.42848480e-12]\n",
      " [ -4.42848480e-12   7.42547659e-02]]\n"
     ]
    }
   ],
   "source": [
    "guess = [2, 2]\n",
    "params, params_covariance = optimize.curve_fit(f2, xdata, ydata, guess)\n",
    "print(params, params_covariance)"
   ]
  },
  {
   "cell_type": "markdown",
   "metadata": {},
   "source": [
    "### Exercice (easy)"
   ]
  },
  {
   "cell_type": "markdown",
   "metadata": {},
   "source": [
    "From the previous system, plot on the same graphics f(x), the curve fit result, the minima and the roots.<br>\n",
    "Add labels + legend. For f(x) use a blue line, red dash for curve fit, dot markers for the minima and triangle markers for roots."
   ]
  },
  {
   "cell_type": "markdown",
   "metadata": {},
   "source": [
    "### Exercice (medium)"
   ]
  },
  {
   "cell_type": "markdown",
   "metadata": {},
   "source": [
    "The temperature extremes in Alaska for each month, starting in January, are given by (in degrees Celcius) \n",
    "\n",
    "max:  17,  19,  21,  28,  33,  38, 37,  37,  31,  23,  19,  18\n",
    "\n",
    "min: -62, -59, -56, -46, -32, -18, -9, -13, -25, -46, -52, -58\n",
    "\n",
    "- Plot these temperature extremes.\n",
    "- Compute the mean value for each month and plot it.\n",
    "- Define a function that can describe min and max temperatures. Hint: this function has to have a period of 1 year. Hint: include a time offset.\n",
    "- Fit this function to the data with scipy.optimize.curve_fit().\n",
    "- Print the params. Use it to plot the fit curve.\n",
    "- Plot the result. Add labels : name of the month + legend. Define the degree Celcius.\n",
    "Is the fit reasonable? If not, why?\n",
    "- Is the time offset for min and max temperatures the same within the fit accuracy?"
   ]
  },
  {
   "cell_type": "markdown",
   "metadata": {},
   "source": [
    "### Exercice (hard)"
   ]
  },
  {
   "cell_type": "markdown",
   "metadata": {},
   "source": [
    "\n",
    "The six-hump camelback function : $f(x,y)=(4−2.1x^2+\\frac{x^4}{3})x^2+xy+(4y^2−4)y^2$ has multiple global and local minima. Find the global minima of this function.\n",
    "\n",
    "Hints :\n",
    "\n",
    "- Variables can be restricted to -2 < x < 2 and -1 < y < 1.\n",
    "- Use numpy.meshgrid() and plt.imshow() to find visually the regions.\n",
    "- Use scipy.optimize.fmin_bfgs() or another multidimensional minimizer.\n",
    "\n",
    "How many global minima are there, and what is the function value at those points? What happens for an initial guess of (x, y) = (0, 0) ?"
   ]
  },
  {
   "cell_type": "markdown",
   "metadata": {},
   "source": [
    "##  Statistics and random numbers: scipy.stats"
   ]
  },
  {
   "cell_type": "markdown",
   "metadata": {},
   "source": [
    "### Histogram and probability density function"
   ]
  },
  {
   "cell_type": "code",
   "execution_count": 156,
   "metadata": {},
   "outputs": [
    {
     "name": "stdout",
     "output_type": "stream",
     "text": [
      "[-4.  -3.5 -3.  -2.5 -2.  -1.5 -1.  -0.5  0.   0.5  1.   1.5  2.   2.5  3.\n",
      "  3.5  4.   4.5]\n"
     ]
    },
    {
     "data": {
      "image/png": "[encoded data removed]",
      "text/plain": [
       "<matplotlib.figure.Figure at 0x10fdb2780>"
      ]
     },
     "metadata": {},
     "output_type": "display_data"
    }
   ],
   "source": [
    "from scipy import stats\n",
    "import numpy as np\n",
    "\n",
    "a = np.random.normal(size=100000) #Normal distribution\n",
    "bins = np.arange(-4, 5,0.5)\n",
    "print(bins)\n",
    "histogram = np.histogram(a, bins=bins, normed=True)[0]\n",
    "bins = 0.5*(bins[1:] + bins[:-1])\n",
    "\n",
    "\n",
    "b = stats.norm.pdf(bins)  # norm is a distribution\n",
    "plt.plot(bins, histogram)\n",
    "plt.plot(bins, b)\n",
    "plt.show()"
   ]
  },
  {
   "cell_type": "markdown",
   "metadata": {},
   "source": [
    "### Exercise (easy)"
   ]
  },
  {
   "cell_type": "markdown",
   "metadata": {},
   "source": [
    "Generate 1000 random variates from a gamma distribution with a shape parameter of 1, then plot a histogram from those samples. Can you plot the pdf on top (it should match)?"
   ]
  },
  {
   "cell_type": "markdown",
   "metadata": {},
   "source": [
    "### Statistical tests"
   ]
  },
  {
   "cell_type": "markdown",
   "metadata": {},
   "source": [
    "A statistical test is a decision indicator. For instance, if we have two sets of observations, that we assume are generated from Gaussian processes, we can use a T-test to decide whether the two sets of observations are significantly different. It is a two-sample location test which is used to test the hypothesis that two populations have equal means."
   ]
  },
  {
   "cell_type": "code",
   "execution_count": 157,
   "metadata": {},
   "outputs": [
    {
     "name": "stdout",
     "output_type": "stream",
     "text": [
      "[ 0.43509539  0.6434335   0.14108299  1.29387089  1.62502671  0.72753258\n",
      "  0.10865894  1.54288666  1.79463806 -2.39706763  1.30446146  1.36045045\n",
      " -2.35542725  0.11060919 -0.97003093  0.77549502  0.02235318 -0.45780131\n",
      " -0.81803001  2.13423867  1.23044638  0.17337574  1.139043   -0.51422305\n",
      " -0.21078491  0.97206518  0.78787869 -2.37780781 -0.70240161  0.68909485\n",
      "  0.86469732  2.1708985  -1.1972964  -0.14855563  1.65912363 -2.22927028\n",
      "  0.49651898  0.92278477 -0.8112535   1.66161686  0.32253929  1.19044558\n",
      " -0.49524767  0.01001103  1.87187962 -0.69621566 -1.02517319  0.13479783\n",
      " -0.93974838  0.48862991  1.15893115 -0.23397781 -0.00677132 -0.51392379\n",
      " -0.21233073 -0.7942119   2.27954256  0.7678537   0.19332355 -0.30447308\n",
      " -2.65995274  0.97754932  0.35011735  0.18093291  0.5237991   0.1445082\n",
      "  0.38489054  0.23199841 -0.34922507  0.68442154  1.13932756  2.34228909\n",
      "  0.90732542 -0.66164086 -0.73859457 -2.65813964 -0.913531    0.15939779\n",
      " -0.6694766   1.07658091  1.04457734  0.03324822 -0.82675744  0.1349769\n",
      "  0.37007291 -0.01399147 -0.75173001  1.20485919 -0.55462862  0.27328539\n",
      " -0.36334692  0.89096753  0.64460329 -0.90261512  1.23468978  1.20065506\n",
      " -0.78299597  0.32807026  0.13415771  0.04286999]\n",
      "[ 2.61083853  2.01706454  0.52424498  0.41232271  1.92511168  1.94903584\n",
      "  1.51739093  0.44395348  0.12571747 -0.02249839]\n"
     ]
    }
   ],
   "source": [
    "a = np.random.normal(0, 1, size=100) #normal distribution mu = 0, sigma = 1\n",
    "b = np.random.normal(1, 1, size=10)\n",
    "print(str(a)+'\\n'+str(b))"
   ]
  },
  {
   "cell_type": "code",
   "execution_count": 158,
   "metadata": {},
   "outputs": [
    {
     "data": {
      "text/plain": [
       "Ttest_indResult(statistic=-2.7375253463819833, pvalue=0.0072409768506509781)"
      ]
     },
     "execution_count": 158,
     "metadata": {},
     "output_type": "execute_result"
    }
   ],
   "source": [
    "#print(a,b)\n",
    "stats.ttest_ind(a, b)  "
   ]
  },
  {
   "cell_type": "markdown",
   "metadata": {},
   "source": [
    "- The statistic value : it is a number the sign of which is proportional to the difference between the two random processes and the magnitude is related to the significance of this difference.\n",
    "- The p value : the probability of both processes being identical. If it is close to 1, the two process are almost certainly identical. The closer it is to zero, the more likely it is that the processes have different means.\n"
   ]
  },
  {
   "cell_type": "markdown",
   "metadata": {},
   "source": [
    "## Interpolation: scipy.interpolate"
   ]
  },
  {
   "cell_type": "markdown",
   "metadata": {},
   "source": [
    "The scipy.interpolate is useful for fitting a function from experimental data and thus evaluating points where no measure exists."
   ]
  },
  {
   "cell_type": "code",
   "execution_count": 159,
   "metadata": {},
   "outputs": [
    {
     "data": {
      "image/png": "[encoded data removed]",
      "text/plain": [
       "<matplotlib.figure.Figure at 0x1104e2860>"
      ]
     },
     "metadata": {},
     "output_type": "display_data"
    }
   ],
   "source": [
    "import numpy as np\n",
    "from scipy.interpolate import interp1d\n",
    "import matplotlib.pyplot as plt\n",
    "\n",
    "## Let create experimental data\n",
    "measured_time = np.linspace(0, 1, 10)\n",
    "noise = (np.random.random(10)*2 - 1) * 1e-1 #10 = number of variables - values from [-0.1;0.1]\n",
    "measures = np.sin(2 * np.pi * measured_time) + noise\n",
    "\n",
    "## The scipy.interpolate.interp1d class can build a linear interpolation function\n",
    "linear_interp = interp1d(measured_time, measures) #comparaison between measured_time and measures\n",
    "#linear_interp is a function\n",
    "\n",
    "\n",
    "## Then the scipy.interpolate.linear_interp instance needs to be evaluated at the time of interest\n",
    "computed_time = np.linspace(0, 1, 50)\n",
    "linear_results = linear_interp(computed_time)\n",
    "\n",
    "## A cubic interpolation can also be selected by providing the kind optional keyword argument\n",
    "cubic_interp = interp1d(measured_time, measures, kind='cubic') \n",
    "#kind = kind of interpretation (‘linear’, ‘nearest’, ‘zero’, ‘slinear’, ‘quadratic, ‘cubic’ where ‘slinear’, \n",
    "#‘quadratic’ and ‘cubic’ refer to a spline interpolation of first, second or third order)\n",
    "cubic_results = cubic_interp(computed_time)\n",
    "\n",
    "plt.plot(measured_time, measures, 'o', ms=6, label='measures') #ms = size of the markers\n",
    "plt.plot(computed_time, linear_results, label='linear interp')\n",
    "plt.plot(computed_time, cubic_results, label='cubic interp')\n",
    "plt.legend()\n",
    "plt.show()"
   ]
  },
  {
   "cell_type": "markdown",
   "metadata": {},
   "source": [
    "## Exercice\n",
    "\n",
    "Story Name: Brain Size and Intelligence\n",
    "\n",
    "Abstract: Are the size and weight of your brain indicators of your mental\n",
    "capacity? In this study by Willerman et al. (1991) the researchers use Magnetic\n",
    "Resonance Imaging (MRI) to determine the brain size of the subjects. The\n",
    "researchers take into account gender and body size to draw conclusions about the\n",
    "connection between brain size and intelligence.\n",
    "\n",
    "- IQ = intelligence quotient\n",
    "- FSIQ = full scale intelligence quotient\n",
    "- VIQ = verbal intelligence quotient\n",
    "- PIQ = performance intelligence quotient\n",
    "\n",
    "### Section 1 : Introduction\n",
    "1) By using pandas read data from brain_size.csv <br>\n",
    "2) Print the shape of the data, shows columns and print the column with the name gendre<br>\n",
    "3) Group data : split the dataframeon values of categorical variables : here gender and put that into grou_gender. Then compute the mean.\n",
    "\n",
    "### Section 2 : Mean, sum and plot\n",
    "1) What is the mean value for VIQ for the full population ?<br>\n",
    "2) How many males/females were included in this study ?<br> Hint use 'tab completion' to find out the methods that can be called, instead of 'mean'.<br>\n",
    "3) What is the average value of MRI counts expressed in log units, for males and females ?\n",
    "\n",
    "### Section 3 : Statistics and test\n",
    "1) Test the value of a population mean. Use scipy.stats.ttest_1samp(), which tests if the population mean of data is likely to be equel to a given value. Do that for 'VIQ' for a given value : 0.<br>\n",
    "2) Test for difference across population. Use scipy.stats.ttest_ind() to test if the difference of the mean VIQ between male and female is significant.<br>\n",
    "3) Repeated measurements on the same individuals. Test if FSIQ and PIQ are significantly different. Plot the result by using boxplot.<br>\n",
    "Warning : This method forgets about the link between FSIQ and PIQ. They are measured on the same induviduals.<br>\n",
    "4) To remove that redo the previous test by using a paired test. Use scipy.stats.ttes_rel(). Plot the result by using boxplot.<br>\n",
    "5) Substract PIQ to FSIQ. Test if the population mean data is likely to be equal to a given value 0. PLot the result and compare it to the previous question. What do you conclude ?\n",
    "\n",
    "### Bonus\n",
    "- Test the difference between weights in males and females.\n",
    "- Use non parametric statistics to test the difference between VIQ in males and females.<br>\n",
    "What do you conlude ? Is the difference between in males and females are different ?\n"
   ]
  },
  {
   "cell_type": "code",
   "execution_count": 160,
   "metadata": {
    "collapsed": true
   },
   "outputs": [],
   "source": [
    "import pandas\n",
    "data = pandas.read_csv('brain_size.csv', sep=';', na_values=\".\") \n",
    "#na_values = Additional strings to recognize as NA/NaN. If dict passed, specific per-column NA values. "
   ]
  },
  {
   "cell_type": "code",
   "execution_count": 161,
   "metadata": {},
   "outputs": [
    {
     "data": {
      "text/html": [
       "<div>\n",
       "<table border=\"1\" class=\"dataframe\">\n",
       "  <thead>\n",
       "    <tr style=\"text-align: right;\">\n",
       "      <th></th>\n",
       "      <th>Unnamed: 0</th>\n",
       "      <th>Gender</th>\n",
       "      <th>FSIQ</th>\n",
       "      <th>VIQ</th>\n",
       "      <th>PIQ</th>\n",
       "      <th>Weight</th>\n",
       "      <th>Height</th>\n",
       "      <th>MRI_Count</th>\n",
       "    </tr>\n",
       "  </thead>\n",
       "  <tbody>\n",
       "    <tr>\n",
       "      <th>0</th>\n",
       "      <td>1</td>\n",
       "      <td>Female</td>\n",
       "      <td>133</td>\n",
       "      <td>132</td>\n",
       "      <td>124</td>\n",
       "      <td>118</td>\n",
       "      <td>64.5</td>\n",
       "      <td>816932</td>\n",
       "    </tr>\n",
       "    <tr>\n",
       "      <th>1</th>\n",
       "      <td>2</td>\n",
       "      <td>Male</td>\n",
       "      <td>140</td>\n",
       "      <td>150</td>\n",
       "      <td>124</td>\n",
       "      <td>NaN</td>\n",
       "      <td>72.5</td>\n",
       "      <td>1001121</td>\n",
       "    </tr>\n",
       "    <tr>\n",
       "      <th>2</th>\n",
       "      <td>3</td>\n",
       "      <td>Male</td>\n",
       "      <td>139</td>\n",
       "      <td>123</td>\n",
       "      <td>150</td>\n",
       "      <td>143</td>\n",
       "      <td>73.3</td>\n",
       "      <td>1038437</td>\n",
       "    </tr>\n",
       "    <tr>\n",
       "      <th>3</th>\n",
       "      <td>4</td>\n",
       "      <td>Male</td>\n",
       "      <td>133</td>\n",
       "      <td>129</td>\n",
       "      <td>128</td>\n",
       "      <td>172</td>\n",
       "      <td>68.8</td>\n",
       "      <td>965353</td>\n",
       "    </tr>\n",
       "    <tr>\n",
       "      <th>4</th>\n",
       "      <td>5</td>\n",
       "      <td>Female</td>\n",
       "      <td>137</td>\n",
       "      <td>132</td>\n",
       "      <td>134</td>\n",
       "      <td>147</td>\n",
       "      <td>65.0</td>\n",
       "      <td>951545</td>\n",
       "    </tr>\n",
       "    <tr>\n",
       "      <th>5</th>\n",
       "      <td>6</td>\n",
       "      <td>Female</td>\n",
       "      <td>99</td>\n",
       "      <td>90</td>\n",
       "      <td>110</td>\n",
       "      <td>146</td>\n",
       "      <td>69.0</td>\n",
       "      <td>928799</td>\n",
       "    </tr>\n",
       "    <tr>\n",
       "      <th>6</th>\n",
       "      <td>7</td>\n",
       "      <td>Female</td>\n",
       "      <td>138</td>\n",
       "      <td>136</td>\n",
       "      <td>131</td>\n",
       "      <td>138</td>\n",
       "      <td>64.5</td>\n",
       "      <td>991305</td>\n",
       "    </tr>\n",
       "    <tr>\n",
       "      <th>7</th>\n",
       "      <td>8</td>\n",
       "      <td>Female</td>\n",
       "      <td>92</td>\n",
       "      <td>90</td>\n",
       "      <td>98</td>\n",
       "      <td>175</td>\n",
       "      <td>66.0</td>\n",
       "      <td>854258</td>\n",
       "    </tr>\n",
       "    <tr>\n",
       "      <th>8</th>\n",
       "      <td>9</td>\n",
       "      <td>Male</td>\n",
       "      <td>89</td>\n",
       "      <td>93</td>\n",
       "      <td>84</td>\n",
       "      <td>134</td>\n",
       "      <td>66.3</td>\n",
       "      <td>904858</td>\n",
       "    </tr>\n",
       "    <tr>\n",
       "      <th>9</th>\n",
       "      <td>10</td>\n",
       "      <td>Male</td>\n",
       "      <td>133</td>\n",
       "      <td>114</td>\n",
       "      <td>147</td>\n",
       "      <td>172</td>\n",
       "      <td>68.8</td>\n",
       "      <td>955466</td>\n",
       "    </tr>\n",
       "    <tr>\n",
       "      <th>10</th>\n",
       "      <td>11</td>\n",
       "      <td>Female</td>\n",
       "      <td>132</td>\n",
       "      <td>129</td>\n",
       "      <td>124</td>\n",
       "      <td>118</td>\n",
       "      <td>64.5</td>\n",
       "      <td>833868</td>\n",
       "    </tr>\n",
       "    <tr>\n",
       "      <th>11</th>\n",
       "      <td>12</td>\n",
       "      <td>Male</td>\n",
       "      <td>141</td>\n",
       "      <td>150</td>\n",
       "      <td>128</td>\n",
       "      <td>151</td>\n",
       "      <td>70.0</td>\n",
       "      <td>1079549</td>\n",
       "    </tr>\n",
       "    <tr>\n",
       "      <th>12</th>\n",
       "      <td>13</td>\n",
       "      <td>Male</td>\n",
       "      <td>135</td>\n",
       "      <td>129</td>\n",
       "      <td>124</td>\n",
       "      <td>155</td>\n",
       "      <td>69.0</td>\n",
       "      <td>924059</td>\n",
       "    </tr>\n",
       "    <tr>\n",
       "      <th>13</th>\n",
       "      <td>14</td>\n",
       "      <td>Female</td>\n",
       "      <td>140</td>\n",
       "      <td>120</td>\n",
       "      <td>147</td>\n",
       "      <td>155</td>\n",
       "      <td>70.5</td>\n",
       "      <td>856472</td>\n",
       "    </tr>\n",
       "    <tr>\n",
       "      <th>14</th>\n",
       "      <td>15</td>\n",
       "      <td>Female</td>\n",
       "      <td>96</td>\n",
       "      <td>100</td>\n",
       "      <td>90</td>\n",
       "      <td>146</td>\n",
       "      <td>66.0</td>\n",
       "      <td>878897</td>\n",
       "    </tr>\n",
       "    <tr>\n",
       "      <th>15</th>\n",
       "      <td>16</td>\n",
       "      <td>Female</td>\n",
       "      <td>83</td>\n",
       "      <td>71</td>\n",
       "      <td>96</td>\n",
       "      <td>135</td>\n",
       "      <td>68.0</td>\n",
       "      <td>865363</td>\n",
       "    </tr>\n",
       "    <tr>\n",
       "      <th>16</th>\n",
       "      <td>17</td>\n",
       "      <td>Female</td>\n",
       "      <td>132</td>\n",
       "      <td>132</td>\n",
       "      <td>120</td>\n",
       "      <td>127</td>\n",
       "      <td>68.5</td>\n",
       "      <td>852244</td>\n",
       "    </tr>\n",
       "    <tr>\n",
       "      <th>17</th>\n",
       "      <td>18</td>\n",
       "      <td>Male</td>\n",
       "      <td>100</td>\n",
       "      <td>96</td>\n",
       "      <td>102</td>\n",
       "      <td>178</td>\n",
       "      <td>73.5</td>\n",
       "      <td>945088</td>\n",
       "    </tr>\n",
       "    <tr>\n",
       "      <th>18</th>\n",
       "      <td>19</td>\n",
       "      <td>Female</td>\n",
       "      <td>101</td>\n",
       "      <td>112</td>\n",
       "      <td>84</td>\n",
       "      <td>136</td>\n",
       "      <td>66.3</td>\n",
       "      <td>808020</td>\n",
       "    </tr>\n",
       "    <tr>\n",
       "      <th>19</th>\n",
       "      <td>20</td>\n",
       "      <td>Male</td>\n",
       "      <td>80</td>\n",
       "      <td>77</td>\n",
       "      <td>86</td>\n",
       "      <td>180</td>\n",
       "      <td>70.0</td>\n",
       "      <td>889083</td>\n",
       "    </tr>\n",
       "    <tr>\n",
       "      <th>20</th>\n",
       "      <td>21</td>\n",
       "      <td>Male</td>\n",
       "      <td>83</td>\n",
       "      <td>83</td>\n",
       "      <td>86</td>\n",
       "      <td>NaN</td>\n",
       "      <td>NaN</td>\n",
       "      <td>892420</td>\n",
       "    </tr>\n",
       "    <tr>\n",
       "      <th>21</th>\n",
       "      <td>22</td>\n",
       "      <td>Male</td>\n",
       "      <td>97</td>\n",
       "      <td>107</td>\n",
       "      <td>84</td>\n",
       "      <td>186</td>\n",
       "      <td>76.5</td>\n",
       "      <td>905940</td>\n",
       "    </tr>\n",
       "    <tr>\n",
       "      <th>22</th>\n",
       "      <td>23</td>\n",
       "      <td>Female</td>\n",
       "      <td>135</td>\n",
       "      <td>129</td>\n",
       "      <td>134</td>\n",
       "      <td>122</td>\n",
       "      <td>62.0</td>\n",
       "      <td>790619</td>\n",
       "    </tr>\n",
       "    <tr>\n",
       "      <th>23</th>\n",
       "      <td>24</td>\n",
       "      <td>Male</td>\n",
       "      <td>139</td>\n",
       "      <td>145</td>\n",
       "      <td>128</td>\n",
       "      <td>132</td>\n",
       "      <td>68.0</td>\n",
       "      <td>955003</td>\n",
       "    </tr>\n",
       "    <tr>\n",
       "      <th>24</th>\n",
       "      <td>25</td>\n",
       "      <td>Female</td>\n",
       "      <td>91</td>\n",
       "      <td>86</td>\n",
       "      <td>102</td>\n",
       "      <td>114</td>\n",
       "      <td>63.0</td>\n",
       "      <td>831772</td>\n",
       "    </tr>\n",
       "    <tr>\n",
       "      <th>25</th>\n",
       "      <td>26</td>\n",
       "      <td>Male</td>\n",
       "      <td>141</td>\n",
       "      <td>145</td>\n",
       "      <td>131</td>\n",
       "      <td>171</td>\n",
       "      <td>72.0</td>\n",
       "      <td>935494</td>\n",
       "    </tr>\n",
       "    <tr>\n",
       "      <th>26</th>\n",
       "      <td>27</td>\n",
       "      <td>Female</td>\n",
       "      <td>85</td>\n",
       "      <td>90</td>\n",
       "      <td>84</td>\n",
       "      <td>140</td>\n",
       "      <td>68.0</td>\n",
       "      <td>798612</td>\n",
       "    </tr>\n",
       "    <tr>\n",
       "      <th>27</th>\n",
       "      <td>28</td>\n",
       "      <td>Male</td>\n",
       "      <td>103</td>\n",
       "      <td>96</td>\n",
       "      <td>110</td>\n",
       "      <td>187</td>\n",
       "      <td>77.0</td>\n",
       "      <td>1062462</td>\n",
       "    </tr>\n",
       "    <tr>\n",
       "      <th>28</th>\n",
       "      <td>29</td>\n",
       "      <td>Female</td>\n",
       "      <td>77</td>\n",
       "      <td>83</td>\n",
       "      <td>72</td>\n",
       "      <td>106</td>\n",
       "      <td>63.0</td>\n",
       "      <td>793549</td>\n",
       "    </tr>\n",
       "    <tr>\n",
       "      <th>29</th>\n",
       "      <td>30</td>\n",
       "      <td>Female</td>\n",
       "      <td>130</td>\n",
       "      <td>126</td>\n",
       "      <td>124</td>\n",
       "      <td>159</td>\n",
       "      <td>66.5</td>\n",
       "      <td>866662</td>\n",
       "    </tr>\n",
       "    <tr>\n",
       "      <th>30</th>\n",
       "      <td>31</td>\n",
       "      <td>Female</td>\n",
       "      <td>133</td>\n",
       "      <td>126</td>\n",
       "      <td>132</td>\n",
       "      <td>127</td>\n",
       "      <td>62.5</td>\n",
       "      <td>857782</td>\n",
       "    </tr>\n",
       "    <tr>\n",
       "      <th>31</th>\n",
       "      <td>32</td>\n",
       "      <td>Male</td>\n",
       "      <td>144</td>\n",
       "      <td>145</td>\n",
       "      <td>137</td>\n",
       "      <td>191</td>\n",
       "      <td>67.0</td>\n",
       "      <td>949589</td>\n",
       "    </tr>\n",
       "    <tr>\n",
       "      <th>32</th>\n",
       "      <td>33</td>\n",
       "      <td>Male</td>\n",
       "      <td>103</td>\n",
       "      <td>96</td>\n",
       "      <td>110</td>\n",
       "      <td>192</td>\n",
       "      <td>75.5</td>\n",
       "      <td>997925</td>\n",
       "    </tr>\n",
       "    <tr>\n",
       "      <th>33</th>\n",
       "      <td>34</td>\n",
       "      <td>Male</td>\n",
       "      <td>90</td>\n",
       "      <td>96</td>\n",
       "      <td>86</td>\n",
       "      <td>181</td>\n",
       "      <td>69.0</td>\n",
       "      <td>879987</td>\n",
       "    </tr>\n",
       "    <tr>\n",
       "      <th>34</th>\n",
       "      <td>35</td>\n",
       "      <td>Female</td>\n",
       "      <td>83</td>\n",
       "      <td>90</td>\n",
       "      <td>81</td>\n",
       "      <td>143</td>\n",
       "      <td>66.5</td>\n",
       "      <td>834344</td>\n",
       "    </tr>\n",
       "    <tr>\n",
       "      <th>35</th>\n",
       "      <td>36</td>\n",
       "      <td>Female</td>\n",
       "      <td>133</td>\n",
       "      <td>129</td>\n",
       "      <td>128</td>\n",
       "      <td>153</td>\n",
       "      <td>66.5</td>\n",
       "      <td>948066</td>\n",
       "    </tr>\n",
       "    <tr>\n",
       "      <th>36</th>\n",
       "      <td>37</td>\n",
       "      <td>Male</td>\n",
       "      <td>140</td>\n",
       "      <td>150</td>\n",
       "      <td>124</td>\n",
       "      <td>144</td>\n",
       "      <td>70.5</td>\n",
       "      <td>949395</td>\n",
       "    </tr>\n",
       "    <tr>\n",
       "      <th>37</th>\n",
       "      <td>38</td>\n",
       "      <td>Female</td>\n",
       "      <td>88</td>\n",
       "      <td>86</td>\n",
       "      <td>94</td>\n",
       "      <td>139</td>\n",
       "      <td>64.5</td>\n",
       "      <td>893983</td>\n",
       "    </tr>\n",
       "    <tr>\n",
       "      <th>38</th>\n",
       "      <td>39</td>\n",
       "      <td>Male</td>\n",
       "      <td>81</td>\n",
       "      <td>90</td>\n",
       "      <td>74</td>\n",
       "      <td>148</td>\n",
       "      <td>74.0</td>\n",
       "      <td>930016</td>\n",
       "    </tr>\n",
       "    <tr>\n",
       "      <th>39</th>\n",
       "      <td>40</td>\n",
       "      <td>Male</td>\n",
       "      <td>89</td>\n",
       "      <td>91</td>\n",
       "      <td>89</td>\n",
       "      <td>179</td>\n",
       "      <td>75.5</td>\n",
       "      <td>935863</td>\n",
       "    </tr>\n",
       "  </tbody>\n",
       "</table>\n",
       "</div>"
      ],
      "text/plain": [
       "    Unnamed: 0  Gender  FSIQ  VIQ  PIQ  Weight  Height  MRI_Count\n",
       "0            1  Female   133  132  124     118    64.5     816932\n",
       "1            2    Male   140  150  124     NaN    72.5    1001121\n",
       "2            3    Male   139  123  150     143    73.3    1038437\n",
       "3            4    Male   133  129  128     172    68.8     965353\n",
       "4            5  Female   137  132  134     147    65.0     951545\n",
       "5            6  Female    99   90  110     146    69.0     928799\n",
       "6            7  Female   138  136  131     138    64.5     991305\n",
       "7            8  Female    92   90   98     175    66.0     854258\n",
       "8            9    Male    89   93   84     134    66.3     904858\n",
       "9           10    Male   133  114  147     172    68.8     955466\n",
       "10          11  Female   132  129  124     118    64.5     833868\n",
       "11          12    Male   141  150  128     151    70.0    1079549\n",
       "12          13    Male   135  129  124     155    69.0     924059\n",
       "13          14  Female   140  120  147     155    70.5     856472\n",
       "14          15  Female    96  100   90     146    66.0     878897\n",
       "15          16  Female    83   71   96     135    68.0     865363\n",
       "16          17  Female   132  132  120     127    68.5     852244\n",
       "17          18    Male   100   96  102     178    73.5     945088\n",
       "18          19  Female   101  112   84     136    66.3     808020\n",
       "19          20    Male    80   77   86     180    70.0     889083\n",
       "20          21    Male    83   83   86     NaN     NaN     892420\n",
       "21          22    Male    97  107   84     186    76.5     905940\n",
       "22          23  Female   135  129  134     122    62.0     790619\n",
       "23          24    Male   139  145  128     132    68.0     955003\n",
       "24          25  Female    91   86  102     114    63.0     831772\n",
       "25          26    Male   141  145  131     171    72.0     935494\n",
       "26          27  Female    85   90   84     140    68.0     798612\n",
       "27          28    Male   103   96  110     187    77.0    1062462\n",
       "28          29  Female    77   83   72     106    63.0     793549\n",
       "29          30  Female   130  126  124     159    66.5     866662\n",
       "30          31  Female   133  126  132     127    62.5     857782\n",
       "31          32    Male   144  145  137     191    67.0     949589\n",
       "32          33    Male   103   96  110     192    75.5     997925\n",
       "33          34    Male    90   96   86     181    69.0     879987\n",
       "34          35  Female    83   90   81     143    66.5     834344\n",
       "35          36  Female   133  129  128     153    66.5     948066\n",
       "36          37    Male   140  150  124     144    70.5     949395\n",
       "37          38  Female    88   86   94     139    64.5     893983\n",
       "38          39    Male    81   90   74     148    74.0     930016\n",
       "39          40    Male    89   91   89     179    75.5     935863"
      ]
     },
     "execution_count": 161,
     "metadata": {},
     "output_type": "execute_result"
    }
   ],
   "source": [
    "data"
   ]
  },
  {
   "cell_type": "code",
   "execution_count": 162,
   "metadata": {},
   "outputs": [
    {
     "data": {
      "text/plain": [
       "(40, 8)"
      ]
     },
     "execution_count": 162,
     "metadata": {},
     "output_type": "execute_result"
    }
   ],
   "source": [
    "data.shape    # 40 rows and 8 columns"
   ]
  },
  {
   "cell_type": "code",
   "execution_count": 163,
   "metadata": {},
   "outputs": [
    {
     "data": {
      "text/plain": [
       "Index(['Unnamed: 0', 'Gender', 'FSIQ', 'VIQ', 'PIQ', 'Weight', 'Height',\n",
       "       'MRI_Count'],\n",
       "      dtype='object')"
      ]
     },
     "execution_count": 163,
     "metadata": {},
     "output_type": "execute_result"
    }
   ],
   "source": [
    "data.columns  # It has columns   "
   ]
  },
  {
   "cell_type": "code",
   "execution_count": 164,
   "metadata": {},
   "outputs": [
    {
     "name": "stdout",
     "output_type": "stream",
     "text": [
      "0     Female\n",
      "1       Male\n",
      "2       Male\n",
      "3       Male\n",
      "4     Female\n",
      "5     Female\n",
      "6     Female\n",
      "7     Female\n",
      "8       Male\n",
      "9       Male\n",
      "10    Female\n",
      "11      Male\n",
      "12      Male\n",
      "13    Female\n",
      "14    Female\n",
      "15    Female\n",
      "16    Female\n",
      "17      Male\n",
      "18    Female\n",
      "19      Male\n",
      "20      Male\n",
      "21      Male\n",
      "22    Female\n",
      "23      Male\n",
      "24    Female\n",
      "25      Male\n",
      "26    Female\n",
      "27      Male\n",
      "28    Female\n",
      "29    Female\n",
      "30    Female\n",
      "31      Male\n",
      "32      Male\n",
      "33      Male\n",
      "34    Female\n",
      "35    Female\n",
      "36      Male\n",
      "37    Female\n",
      "38      Male\n",
      "39      Male\n",
      "Name: Gender, dtype: object\n"
     ]
    }
   ],
   "source": [
    "print(data['Gender']) # Columns can be addressed by name"
   ]
  },
  {
   "cell_type": "code",
   "execution_count": 165,
   "metadata": {},
   "outputs": [
    {
     "data": {
      "text/plain": [
       "109.45"
      ]
     },
     "execution_count": 165,
     "metadata": {},
     "output_type": "execute_result"
    }
   ],
   "source": [
    "data[data['Gender'] == 'Female']['VIQ'].mean() #take the mean for VIQ female"
   ]
  },
  {
   "cell_type": "code",
   "execution_count": 166,
   "metadata": {},
   "outputs": [
    {
     "data": {
      "text/html": [
       "<div>\n",
       "<table border=\"1\" class=\"dataframe\">\n",
       "  <thead>\n",
       "    <tr style=\"text-align: right;\">\n",
       "      <th></th>\n",
       "      <th>Unnamed: 0</th>\n",
       "      <th>FSIQ</th>\n",
       "      <th>VIQ</th>\n",
       "      <th>PIQ</th>\n",
       "      <th>Weight</th>\n",
       "      <th>Height</th>\n",
       "      <th>MRI_Count</th>\n",
       "    </tr>\n",
       "  </thead>\n",
       "  <tbody>\n",
       "    <tr>\n",
       "      <th>count</th>\n",
       "      <td>40.000000</td>\n",
       "      <td>40.000000</td>\n",
       "      <td>40.000000</td>\n",
       "      <td>40.00000</td>\n",
       "      <td>38.000000</td>\n",
       "      <td>39.000000</td>\n",
       "      <td>40.000000</td>\n",
       "    </tr>\n",
       "    <tr>\n",
       "      <th>mean</th>\n",
       "      <td>20.500000</td>\n",
       "      <td>113.450000</td>\n",
       "      <td>112.350000</td>\n",
       "      <td>111.02500</td>\n",
       "      <td>151.052632</td>\n",
       "      <td>68.525641</td>\n",
       "      <td>908755.000000</td>\n",
       "    </tr>\n",
       "    <tr>\n",
       "      <th>std</th>\n",
       "      <td>11.690452</td>\n",
       "      <td>24.082071</td>\n",
       "      <td>23.616107</td>\n",
       "      <td>22.47105</td>\n",
       "      <td>23.478509</td>\n",
       "      <td>3.994649</td>\n",
       "      <td>72282.048931</td>\n",
       "    </tr>\n",
       "    <tr>\n",
       "      <th>min</th>\n",
       "      <td>1.000000</td>\n",
       "      <td>77.000000</td>\n",
       "      <td>71.000000</td>\n",
       "      <td>72.00000</td>\n",
       "      <td>106.000000</td>\n",
       "      <td>62.000000</td>\n",
       "      <td>790619.000000</td>\n",
       "    </tr>\n",
       "    <tr>\n",
       "      <th>25%</th>\n",
       "      <td>10.750000</td>\n",
       "      <td>89.750000</td>\n",
       "      <td>90.000000</td>\n",
       "      <td>88.25000</td>\n",
       "      <td>135.250000</td>\n",
       "      <td>66.000000</td>\n",
       "      <td>855918.500000</td>\n",
       "    </tr>\n",
       "    <tr>\n",
       "      <th>50%</th>\n",
       "      <td>20.500000</td>\n",
       "      <td>116.500000</td>\n",
       "      <td>113.000000</td>\n",
       "      <td>115.00000</td>\n",
       "      <td>146.500000</td>\n",
       "      <td>68.000000</td>\n",
       "      <td>905399.000000</td>\n",
       "    </tr>\n",
       "    <tr>\n",
       "      <th>75%</th>\n",
       "      <td>30.250000</td>\n",
       "      <td>135.500000</td>\n",
       "      <td>129.750000</td>\n",
       "      <td>128.00000</td>\n",
       "      <td>172.000000</td>\n",
       "      <td>70.500000</td>\n",
       "      <td>950078.000000</td>\n",
       "    </tr>\n",
       "    <tr>\n",
       "      <th>max</th>\n",
       "      <td>40.000000</td>\n",
       "      <td>144.000000</td>\n",
       "      <td>150.000000</td>\n",
       "      <td>150.00000</td>\n",
       "      <td>192.000000</td>\n",
       "      <td>77.000000</td>\n",
       "      <td>1079549.000000</td>\n",
       "    </tr>\n",
       "  </tbody>\n",
       "</table>\n",
       "</div>"
      ],
      "text/plain": [
       "       Unnamed: 0        FSIQ         VIQ        PIQ      Weight     Height  \\\n",
       "count   40.000000   40.000000   40.000000   40.00000   38.000000  39.000000   \n",
       "mean    20.500000  113.450000  112.350000  111.02500  151.052632  68.525641   \n",
       "std     11.690452   24.082071   23.616107   22.47105   23.478509   3.994649   \n",
       "min      1.000000   77.000000   71.000000   72.00000  106.000000  62.000000   \n",
       "25%     10.750000   89.750000   90.000000   88.25000  135.250000  66.000000   \n",
       "50%     20.500000  116.500000  113.000000  115.00000  146.500000  68.000000   \n",
       "75%     30.250000  135.500000  129.750000  128.00000  172.000000  70.500000   \n",
       "max     40.000000  144.000000  150.000000  150.00000  192.000000  77.000000   \n",
       "\n",
       "            MRI_Count  \n",
       "count       40.000000  \n",
       "mean    908755.000000  \n",
       "std      72282.048931  \n",
       "min     790619.000000  \n",
       "25%     855918.500000  \n",
       "50%     905399.000000  \n",
       "75%     950078.000000  \n",
       "max    1079549.000000  "
      ]
     },
     "execution_count": 166,
     "metadata": {},
     "output_type": "execute_result"
    }
   ],
   "source": [
    "pandas.DataFrame.describe(data) #contain lot of information for a big dataframe"
   ]
  },
  {
   "cell_type": "code",
   "execution_count": 167,
   "metadata": {},
   "outputs": [],
   "source": [
    "groupby_gender = data.groupby('Gender')\n",
    "# groupby_gender is an object"
   ]
  },
  {
   "cell_type": "code",
   "execution_count": 186,
   "metadata": {},
   "outputs": [
    {
     "name": "stdout",
     "output_type": "stream",
     "text": [
      "('Female', 109.45)\n",
      "('Male', 115.25)\n"
     ]
    }
   ],
   "source": [
    "for gender, value in groupby_gender['VIQ']:#here we just look the gender and the associated value, we compute the mean\n",
    "    print((gender, value.mean()))"
   ]
  },
  {
   "cell_type": "code",
   "execution_count": 187,
   "metadata": {},
   "outputs": [
    {
     "data": {
      "text/html": [
       "<div>\n",
       "<table border=\"1\" class=\"dataframe\">\n",
       "  <thead>\n",
       "    <tr style=\"text-align: right;\">\n",
       "      <th></th>\n",
       "      <th>Unnamed: 0</th>\n",
       "      <th>FSIQ</th>\n",
       "      <th>VIQ</th>\n",
       "      <th>PIQ</th>\n",
       "      <th>Weight</th>\n",
       "      <th>Height</th>\n",
       "      <th>MRI_Count</th>\n",
       "    </tr>\n",
       "    <tr>\n",
       "      <th>Gender</th>\n",
       "      <th></th>\n",
       "      <th></th>\n",
       "      <th></th>\n",
       "      <th></th>\n",
       "      <th></th>\n",
       "      <th></th>\n",
       "      <th></th>\n",
       "    </tr>\n",
       "  </thead>\n",
       "  <tbody>\n",
       "    <tr>\n",
       "      <th>Female</th>\n",
       "      <td>19.65</td>\n",
       "      <td>111.9</td>\n",
       "      <td>109.45</td>\n",
       "      <td>110.45</td>\n",
       "      <td>137.200000</td>\n",
       "      <td>65.765000</td>\n",
       "      <td>862654.6</td>\n",
       "    </tr>\n",
       "    <tr>\n",
       "      <th>Male</th>\n",
       "      <td>21.35</td>\n",
       "      <td>115.0</td>\n",
       "      <td>115.25</td>\n",
       "      <td>111.60</td>\n",
       "      <td>166.444444</td>\n",
       "      <td>71.431579</td>\n",
       "      <td>954855.4</td>\n",
       "    </tr>\n",
       "  </tbody>\n",
       "</table>\n",
       "</div>"
      ],
      "text/plain": [
       "        Unnamed: 0   FSIQ     VIQ     PIQ      Weight     Height  MRI_Count\n",
       "Gender                                                                     \n",
       "Female       19.65  111.9  109.45  110.45  137.200000  65.765000   862654.6\n",
       "Male         21.35  115.0  115.25  111.60  166.444444  71.431579   954855.4"
      ]
     },
     "execution_count": 187,
     "metadata": {},
     "output_type": "execute_result"
    }
   ],
   "source": [
    "groupby_gender.mean()#we apply mean on all the tab"
   ]
  },
  {
   "cell_type": "code",
   "execution_count": 188,
   "metadata": {},
   "outputs": [
    {
     "data": {
      "text/plain": [
       "Gender\n",
       "Female    20\n",
       "Male      20\n",
       "dtype: int64"
      ]
     },
     "execution_count": 188,
     "metadata": {},
     "output_type": "execute_result"
    }
   ],
   "source": [
    "groupby_gender.size()"
   ]
  },
  {
   "cell_type": "code",
   "execution_count": 189,
   "metadata": {},
   "outputs": [
    {
     "data": {
      "text/html": [
       "<div>\n",
       "<table border=\"1\" class=\"dataframe\">\n",
       "  <thead>\n",
       "    <tr style=\"text-align: right;\">\n",
       "      <th></th>\n",
       "      <th>Unnamed: 0</th>\n",
       "      <th>FSIQ</th>\n",
       "      <th>VIQ</th>\n",
       "      <th>PIQ</th>\n",
       "      <th>Weight</th>\n",
       "      <th>Height</th>\n",
       "      <th>MRI_Count</th>\n",
       "    </tr>\n",
       "    <tr>\n",
       "      <th>Gender</th>\n",
       "      <th></th>\n",
       "      <th></th>\n",
       "      <th></th>\n",
       "      <th></th>\n",
       "      <th></th>\n",
       "      <th></th>\n",
       "      <th></th>\n",
       "    </tr>\n",
       "  </thead>\n",
       "  <tbody>\n",
       "    <tr>\n",
       "      <th>Female</th>\n",
       "      <td>20</td>\n",
       "      <td>20</td>\n",
       "      <td>20</td>\n",
       "      <td>20</td>\n",
       "      <td>20</td>\n",
       "      <td>20</td>\n",
       "      <td>20</td>\n",
       "    </tr>\n",
       "    <tr>\n",
       "      <th>Male</th>\n",
       "      <td>20</td>\n",
       "      <td>20</td>\n",
       "      <td>20</td>\n",
       "      <td>20</td>\n",
       "      <td>18</td>\n",
       "      <td>19</td>\n",
       "      <td>20</td>\n",
       "    </tr>\n",
       "  </tbody>\n",
       "</table>\n",
       "</div>"
      ],
      "text/plain": [
       "        Unnamed: 0  FSIQ  VIQ  PIQ  Weight  Height  MRI_Count\n",
       "Gender                                                       \n",
       "Female          20    20   20   20      20      20         20\n",
       "Male            20    20   20   20      18      19         20"
      ]
     },
     "execution_count": 189,
     "metadata": {},
     "output_type": "execute_result"
    }
   ],
   "source": [
    "groupby_gender.count()"
   ]
  },
  {
   "cell_type": "markdown",
   "metadata": {},
   "source": [
    "Boxplot : Make a box and whisker plot for each column of x or each vector in sequence x. The box extends from the lower to upper quartile values of the data, with a line at the median. The whiskers extend from the box to show the range of the data. Flier points are those past the end of the whiskers."
   ]
  },
  {
   "cell_type": "code",
   "execution_count": 190,
   "metadata": {},
   "outputs": [
    {
     "name": "stderr",
     "output_type": "stream",
     "text": [
      "/Users/jeremy/anaconda/lib/python3.5/site-packages/pandas/tools/plotting.py:3022: FutureWarning: \n",
      "The default value for 'return_type' will change to 'axes' in a future release.\n",
      " To use the future behavior now, set return_type='axes'.\n",
      " To keep the previous behavior and silence this warning, set return_type='dict'.\n",
      "  rot=rot, grid=grid, **kwds)\n"
     ]
    },
    {
     "data": {
      "image/png": "[encoded data removed]",
      "text/plain": [
       "<matplotlib.figure.Figure at 0x1104cd898>"
      ]
     },
     "metadata": {},
     "output_type": "display_data"
    }
   ],
   "source": [
    "groupby_gender.boxplot(column=['FSIQ', 'VIQ', 'PIQ'])\n",
    "plt.show()"
   ]
  },
  {
   "cell_type": "code",
   "execution_count": 191,
   "metadata": {},
   "outputs": [
    {
     "name": "stdout",
     "output_type": "stream",
     "text": [
      "('Female', 13.667769658201751)\n",
      "('Male', 13.769315194386104)\n"
     ]
    }
   ],
   "source": [
    "for gender, value in groupby_gender['MRI_Count']:\n",
    "    print((gender, np.log(value.mean())))"
   ]
  },
  {
   "cell_type": "code",
   "execution_count": 193,
   "metadata": {},
   "outputs": [
    {
     "name": "stderr",
     "output_type": "stream",
     "text": [
      "/Users/jeremy/anaconda/lib/python3.5/site-packages/pandas/tools/plotting.py:3022: FutureWarning: \n",
      "The default value for 'return_type' will change to 'axes' in a future release.\n",
      " To use the future behavior now, set return_type='axes'.\n",
      " To keep the previous behavior and silence this warning, set return_type='dict'.\n",
      "  rot=rot, grid=grid, **kwds)\n"
     ]
    },
    {
     "data": {
      "image/png": "[encoded data removed]",
      "text/plain": [
       "<matplotlib.figure.Figure at 0x11862da90>"
      ]
     },
     "metadata": {},
     "output_type": "display_data"
    }
   ],
   "source": [
    "#groupby_gender.boxplot(column=['MRI_Count'])\n",
    "groupby_gender.boxplot(column=['Height'])\n",
    "plt.yscale('log')\n",
    "plt.show()"
   ]
  },
  {
   "cell_type": "code",
   "execution_count": 175,
   "metadata": {},
   "outputs": [
    {
     "data": {
      "text/plain": [
       "Ttest_1sampResult(statistic=30.088099970849328, pvalue=1.3289196468728067e-28)"
      ]
     },
     "execution_count": 175,
     "metadata": {},
     "output_type": "execute_result"
    }
   ],
   "source": [
    "from scipy import stats\n",
    "stats.ttest_1samp(data['VIQ'], 0)  #ttest_1samp calculate the T-test for the mean of ONE group of scores."
   ]
  },
  {
   "cell_type": "code",
   "execution_count": 194,
   "metadata": {},
   "outputs": [
    {
     "data": {
      "text/plain": [
       "Ttest_indResult(statistic=-0.77261617232750113, pvalue=0.44452876778583217)"
      ]
     },
     "execution_count": 194,
     "metadata": {},
     "output_type": "execute_result"
    }
   ],
   "source": [
    "female_viq = data[data['Gender'] == 'Female']['VIQ']\n",
    "male_viq = data[data['Gender'] == 'Male']['VIQ']\n",
    "stats.ttest_ind(female_viq, male_viq) #ttest_ind calculate the T-test for the means of two independent samples of scores."
   ]
  },
  {
   "cell_type": "code",
   "execution_count": 177,
   "metadata": {},
   "outputs": [
    {
     "data": {
      "text/plain": [
       "Ttest_indResult(statistic=0.46563759638096403, pvalue=0.64277250094148408)"
      ]
     },
     "execution_count": 177,
     "metadata": {},
     "output_type": "execute_result"
    }
   ],
   "source": [
    "stats.ttest_ind(data['FSIQ'], data['PIQ'])   "
   ]
  },
  {
   "cell_type": "code",
   "execution_count": 178,
   "metadata": {},
   "outputs": [
    {
     "name": "stderr",
     "output_type": "stream",
     "text": [
      "/Users/jeremy/anaconda/lib/python3.5/site-packages/ipykernel/__main__.py:1: FutureWarning: \n",
      "The default value for 'return_type' will change to 'axes' in a future release.\n",
      " To use the future behavior now, set return_type='axes'.\n",
      " To keep the previous behavior and silence this warning, set return_type='dict'.\n",
      "  if __name__ == '__main__':\n"
     ]
    },
    {
     "data": {
      "image/png": "[encoded data removed]",
      "text/plain": [
       "<matplotlib.figure.Figure at 0x119ed0550>"
      ]
     },
     "metadata": {},
     "output_type": "display_data"
    }
   ],
   "source": [
    "data.boxplot(column=['FSIQ', 'PIQ'])\n",
    "plt.show()"
   ]
  },
  {
   "cell_type": "code",
   "execution_count": 179,
   "metadata": {},
   "outputs": [
    {
     "data": {
      "text/plain": [
       "Ttest_relResult(statistic=1.7842019405859857, pvalue=0.082172638183642358)"
      ]
     },
     "execution_count": 179,
     "metadata": {},
     "output_type": "execute_result"
    }
   ],
   "source": [
    "stats.ttest_rel(data['FSIQ'], data['PIQ'])  "
   ]
  },
  {
   "cell_type": "code",
   "execution_count": 180,
   "metadata": {},
   "outputs": [
    {
     "data": {
      "text/plain": [
       "Ttest_1sampResult(statistic=1.7842019405859857, pvalue=0.082172638183642358)"
      ]
     },
     "execution_count": 180,
     "metadata": {},
     "output_type": "execute_result"
    }
   ],
   "source": [
    "stats.ttest_1samp(data['FSIQ'] - data['PIQ'], 0)"
   ]
  },
  {
   "cell_type": "code",
   "execution_count": 181,
   "metadata": {},
   "outputs": [
    {
     "data": {
      "image/png": "[encoded data removed]",
      "text/plain": [
       "<matplotlib.figure.Figure at 0x109eb4be0>"
      ]
     },
     "metadata": {},
     "output_type": "display_data"
    }
   ],
   "source": [
    "plt.boxplot(data['FSIQ'] - data['PIQ'])\n",
    "plt.xticks((1, ), ('FSIQ - PIQ', ))\n",
    "plt.show()"
   ]
  },
  {
   "cell_type": "markdown",
   "metadata": {},
   "source": [
    "# Biblio\n",
    "- http://python-scientific-lecture-notes.developpez.com/tutorial/getting-started-python-science/#LI-E\n",
    "- http://www.scipy-lectures.org/packages/\n",
    "- https://www.datacamp.com/community/blog/python-scipy-cheat-sheet"
   ]
  },
  {
   "cell_type": "markdown",
   "metadata": {},
   "source": [
    "## Solution exercice easy"
   ]
  },
  {
   "cell_type": "code",
   "execution_count": 182,
   "metadata": {},
   "outputs": [
    {
     "data": {
      "image/png": "[encoded data removed]",
      "text/plain": [
       "<matplotlib.figure.Figure at 0x119f739e8>"
      ]
     },
     "metadata": {},
     "output_type": "display_data"
    }
   ],
   "source": [
    "import numpy as np\n",
    "from scipy import optimize\n",
    "import matplotlib.pyplot as plt\n",
    "\n",
    "x = np.arange(-10, 10, 0.1)\n",
    "\n",
    "def f(x):\n",
    "    return x**2 + 10*np.sin(x)\n",
    "\n",
    "grid = (-10, 10, 0.1)\n",
    "xmin_global = optimize.brute(f, (grid,))\n",
    "xmin_local = optimize.fminbound(f, 0, 10)\n",
    "root = optimize.fsolve(f, 1)  # our initial guess is 1\n",
    "root2 = optimize.fsolve(f, -2.5)\n",
    "\n",
    "xdata = np.linspace(-10, 10, num=20)\n",
    "np.random.seed(1234)\n",
    "ydata = f(xdata) + np.random.randn(xdata.size)\n",
    "\n",
    "def f2(x, a, b):\n",
    "    return a*x**2 + b*np.sin(x)\n",
    "\n",
    "guess = [2, 2]\n",
    "params, params_covariance = optimize.curve_fit(f2, xdata, ydata, guess)\n",
    "\n",
    "\n",
    "fig = plt.figure()\n",
    "ax = fig.add_subplot(111)\n",
    "ax.plot(x, f(x), 'b-', label=\"f(x)\")\n",
    "ax.plot(x, f2(x, *params), 'r--', label=\"Curve fit result\")\n",
    "xmins = np.array([xmin_global[0], xmin_local])\n",
    "ax.plot(xmins, f(xmins), 'go', label=\"Minima\")\n",
    "roots = np.array([root, root2])\n",
    "ax.plot(roots, f(roots), 'kv', label=\"Roots\")\n",
    "ax.legend()\n",
    "ax.set_xlabel('x')\n",
    "ax.set_ylabel('f(x)')\n",
    "plt.show()"
   ]
  },
  {
   "cell_type": "markdown",
   "metadata": {},
   "source": [
    "## Solution exercice medium"
   ]
  },
  {
   "cell_type": "code",
   "execution_count": 183,
   "metadata": {},
   "outputs": [
    {
     "name": "stdout",
     "output_type": "stream",
     "text": [
      "[ 27.62925851 -10.63955647  -0.22590566] [-37.71075225 -25.20712457  -0.65355893]\n"
     ]
    },
    {
     "data": {
      "image/png": "[encoded data removed]",
      "text/plain": [
       "<matplotlib.figure.Figure at 0x119f736d8>"
      ]
     },
     "metadata": {},
     "output_type": "display_data"
    },
    {
     "data": {
      "image/png": "[encoded data removed]",
      "text/plain": [
       "<matplotlib.figure.Figure at 0x119e66e80>"
      ]
     },
     "metadata": {},
     "output_type": "display_data"
    }
   ],
   "source": [
    "import numpy as np\n",
    "import matplotlib.pyplot as plt\n",
    "from scipy import optimize\n",
    "\n",
    "\n",
    "dates = ['Jan','Feb','Mar','Apr','May','Jun','Jul','Aug','Sep','Oct','Novr','Dec']\n",
    "months = np.arange(12)\n",
    "days = np.linspace(0, 12, num=365)\n",
    "#print(dates)\n",
    "    \n",
    "maximum = np.array([17,  19,  21,  28,  33,  38, 37,  37,  31,  23,  19,  18])\n",
    "minimum = np.array([-62, -59, -56, -46, -32, -18, -9, -13, -25, -46, -52, -58])\n",
    "\n",
    "i = 0\n",
    "meanvalue = []\n",
    "while i < np.size(maximum):\n",
    "    meanvalue.append((maximum[i]+minimum[i])/2.)\n",
    "    i += 1\n",
    "\n",
    "    \n",
    "def yearly_temps(times, avg, ampl, time_offset):\n",
    "    return (avg\n",
    "            + ampl * np.cos((times + time_offset) * 2 * np.pi / times.max()))\n",
    "\n",
    "res_max, cov_max = optimize.curve_fit(yearly_temps, months,\n",
    "                                      maximum, [20, 10, 0])\n",
    "res_min, cov_min = optimize.curve_fit(yearly_temps, months,\n",
    "                                      minimum, [-40, 20, 0])\n",
    "\n",
    "\n",
    "print(res_max,res_min)\n",
    "\n",
    "\n",
    "plt.figure(1)   \n",
    "plt.plot(meanvalue)\n",
    "plt.plot(maximum,'b-',label='Maximum')\n",
    "plt.plot(minimum,'r-',label='Minimum')\n",
    "plt.xticks([0,1,2,3,4,5,6,7,8,9,10,11,12],dates)\n",
    "plt.xlabel('Months')\n",
    "plt.ylabel('Temperature in ($^\\circ$C)')\n",
    "plt.legend()\n",
    "\n",
    "plt.figure(2)\n",
    "plt.plot(months, maximum, 'ro')\n",
    "plt.plot(days, yearly_temps(days, *res_max), 'r-')\n",
    "plt.plot(days, yearly_temps(days,27.6292585 , -10.63955648, -0.001), 'g-')\n",
    "plt.plot(months, minimum, 'bo')\n",
    "plt.plot(days, yearly_temps(days, *res_min), 'b-')\n",
    "plt.plot(days, yearly_temps(days,-37.710752255 , -25.207124588, -0.2), 'k-')\n",
    "plt.xlabel('Month')\n",
    "plt.xticks([0,1,2,3,4,5,6,7,8,9,10,11,12],dates)\n",
    "plt.ylabel('Temperature ($^\\circ$C)')\n",
    "\n",
    "\n",
    "plt.show()"
   ]
  },
  {
   "cell_type": "markdown",
   "metadata": {},
   "source": [
    "## Solution exercice hard"
   ]
  },
  {
   "cell_type": "code",
   "execution_count": 184,
   "metadata": {},
   "outputs": [
    {
     "data": {
      "image/png": "[encoded data removed]",
      "text/plain": [
       "<matplotlib.figure.Figure at 0x1104e3a20>"
      ]
     },
     "metadata": {},
     "output_type": "display_data"
    },
    {
     "data": {
      "image/png": "[encoded data removed]",
      "text/plain": [
       "<matplotlib.figure.Figure at 0x119b81908>"
      ]
     },
     "metadata": {},
     "output_type": "display_data"
    }
   ],
   "source": [
    "import numpy as np\n",
    "from scipy import optimize\n",
    "import matplotlib.pyplot as plt\n",
    "from mpl_toolkits.mplot3d import Axes3D\n",
    "\n",
    "\n",
    "def sixhump(x):\n",
    "    return (4 - 2.1*x[0]**2 + x[0]**4 / 3.) * x[0]**2 + x[0] * x[1] + (-4 + \\\n",
    "        4*x[1]**2) * x[1] **2\n",
    "\n",
    "x = np.linspace(-2, 2)\n",
    "y = np.linspace(-1, 1)\n",
    "xg, yg = np.meshgrid(x, y)\n",
    "\n",
    "\n",
    "plt.figure(1)  # simple visualization for use in tutorial\n",
    "plt.imshow(sixhump([xg, yg]))\n",
    "plt.colorbar()\n",
    "\n",
    "\n",
    "fig = plt.figure(2)\n",
    "ax = fig.add_subplot(111, projection='3d')\n",
    "surf = ax.plot_surface(xg, yg, sixhump([xg, yg]), rstride=1, cstride=1,\n",
    "                       cmap=plt.cm.jet, linewidth=0, antialiased=False)\n",
    "\n",
    "ax.set_xlabel('x')\n",
    "ax.set_ylabel('y')\n",
    "ax.set_zlabel('f(x, y)')\n",
    "ax.set_title('Six-hump Camelback function')\n",
    "plt.show()"
   ]
  },
  {
   "cell_type": "code",
   "execution_count": null,
   "metadata": {
    "collapsed": true
   },
   "outputs": [],
   "source": []
  },
  {
   "cell_type": "code",
   "execution_count": 185,
   "metadata": {},
   "outputs": [
    {
     "data": {
      "text/plain": [
       "array([ 0.43509539,  0.6434335 ,  0.14108299,  1.29387089,  1.62502671,\n",
       "        0.72753258,  0.10865894,  1.54288666,  1.79463806, -2.39706763,\n",
       "        1.30446146,  1.36045045, -2.35542725,  0.11060919, -0.97003093,\n",
       "        0.77549502,  0.02235318, -0.45780131, -0.81803001,  2.13423867,\n",
       "        1.23044638,  0.17337574,  1.139043  , -0.51422305, -0.21078491,\n",
       "        0.97206518,  0.78787869, -2.37780781, -0.70240161,  0.68909485,\n",
       "        0.86469732,  2.1708985 , -1.1972964 , -0.14855563,  1.65912363,\n",
       "       -2.22927028,  0.49651898,  0.92278477, -0.8112535 ,  1.66161686,\n",
       "        0.32253929,  1.19044558, -0.49524767,  0.01001103,  1.87187962,\n",
       "       -0.69621566, -1.02517319,  0.13479783, -0.93974838,  0.48862991,\n",
       "        1.15893115, -0.23397781, -0.00677132, -0.51392379, -0.21233073,\n",
       "       -0.7942119 ,  2.27954256,  0.7678537 ,  0.19332355, -0.30447308,\n",
       "       -2.65995274,  0.97754932,  0.35011735,  0.18093291,  0.5237991 ,\n",
       "        0.1445082 ,  0.38489054,  0.23199841, -0.34922507,  0.68442154,\n",
       "        1.13932756,  2.34228909,  0.90732542, -0.66164086, -0.73859457,\n",
       "       -2.65813964, -0.913531  ,  0.15939779, -0.6694766 ,  1.07658091,\n",
       "        1.04457734,  0.03324822, -0.82675744,  0.1349769 ,  0.37007291,\n",
       "       -0.01399147, -0.75173001,  1.20485919, -0.55462862,  0.27328539,\n",
       "       -0.36334692,  0.89096753,  0.64460329, -0.90261512,  1.23468978,\n",
       "        1.20065506, -0.78299597,  0.32807026,  0.13415771,  0.04286999])"
      ]
     },
     "execution_count": 185,
     "metadata": {},
     "output_type": "execute_result"
    }
   ],
   "source": [
    "a\n"
   ]
  }
 ],
 "metadata": {
  "kernelspec": {
   "display_name": "Python 3",
   "language": "python",
   "name": "python3"
  },
  "language_info": {
   "codemirror_mode": {
    "name": "ipython",
    "version": 3
   },
   "file_extension": ".py",
   "mimetype": "text/x-python",
   "name": "python",
   "nbconvert_exporter": "python",
   "pygments_lexer": "ipython3",
   "version": "3.6.3"
  }
 },
 "nbformat": 4,
 "nbformat_minor": 2
}
