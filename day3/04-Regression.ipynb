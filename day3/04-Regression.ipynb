{
 "cells": [
  {
   "cell_type": "markdown",
   "metadata": {
    "deletable": true,
    "editable": true
   },
   "source": [
    "# Regression Models\n"
   ]
  },
  {
   "cell_type": "markdown",
   "metadata": {
    "deletable": true,
    "editable": true
   },
   "source": [
    "\n"
   ]
  },
  {
   "cell_type": "markdown",
   "metadata": {
    "deletable": true,
    "editable": true
   },
   "source": [
    "### Motivation\n",
    "\n",
    "Why are we learning linear regression?\n",
    "\n",
    "* easy to use - does not require lots of fine tuning\n",
    "* runs fast\n",
    "* highly interpretable\n",
    "\n",
    "### Python Libraries\n",
    "\n",
    "* [Statsmodels](http://www.statsmodels.org/stable/index.html):nice for linear modeling\n",
    "* [scikit-learn](http://scikit-learn.org/stable/): more functionality for machine learning in general\n",
    "\n",
    "### Introduction\n",
    "Sir Francis Galton, a cousin of James Darwin, examined the relationship between the height of children and their parents towards the end of the 19th century. He coined the terms \"regression\" and \"correlation\".\n",
    "\n",
    "#### Questions to consider\n",
    "* Use parent's heights to predict childrent's heights.\n",
    "* Find a concise relationship between parents' and children's heights.\n",
    "* Investigate variations in children's heights that appears unrelated to parent's heights.\n",
    "* Quantify what impact genotype information has beyond parental height in explaining child height.\n",
    "* Figure out what assumptions are needed to generilise findings beyond the data in question.\n"
   ]
  },
  {
   "cell_type": "code",
   "execution_count": 115,
   "metadata": {
    "collapsed": true
   },
   "outputs": [],
   "source": [
    "import csv\n",
    "import requests \n",
    "import numpy as np\n",
    "import pandas as pd\n",
    "import matplotlib.pyplot as plt\n",
    "import seaborn as sns\n",
    "sns.set_palette(\"GnBu_d\")\n",
    "import warnings\n",
    "warnings.filterwarnings('ignore')"
   ]
  },
  {
   "cell_type": "code",
   "execution_count": 116,
   "metadata": {
    "collapsed": false,
    "deletable": true,
    "editable": true
   },
   "outputs": [
    {
     "name": "stdout",
     "output_type": "stream",
     "text": [
      "  Family Father Mother Gender Height Kids\n",
      "0      1   78.5     67      M   73.2    4\n",
      "1      1   78.5     67      F   69.2    4\n",
      "2      1   78.5     67      F     69    4\n",
      "3      1   78.5     67      F     69    4\n",
      "4      2   75.5   66.5      M   73.5    4\n",
      "('\\n', Family    object\n",
      "Father    object\n",
      "Mother    object\n",
      "Gender    object\n",
      "Height    object\n",
      "Kids      object\n",
      "dtype: object)\n",
      "('\\n',        Family Father Mother Gender Height Kids\n",
      "count     898    898    898    898    898  898\n",
      "unique    197     34     29      2     65   12\n",
      "top       185     70     65      M     65    5\n",
      "freq       15    131    133    465     61  140)\n"
     ]
    }
   ],
   "source": [
    "# Get data from URL and load into a dataframe\n",
    "url = \"http://www.math.uah.edu/stat/data/Galton.csv\"\n",
    "with requests.Session() as s:\n",
    "    download = s.get(url)\n",
    "    decoded_content = download.content.decode('utf-8')\n",
    " \n",
    "data_iter = csv.reader(decoded_content.splitlines(), delimiter=',')\n",
    "data = [data for data in data_iter]\n",
    "#print(data) \n",
    "df = pd.DataFrame(data[1:]) #skip first line with the titles\n",
    "df.columns = data[0] #first line of CSV has col names\n",
    "#print(df)\n",
    "print(df.head())\n",
    "print(\"\\n\", df.dtypes)\n",
    "print(\"\\n\", df.describe())"
   ]
  },
  {
   "cell_type": "code",
   "execution_count": 117,
   "metadata": {
    "collapsed": false,
    "deletable": true,
    "editable": true
   },
   "outputs": [
    {
     "name": "stdout",
     "output_type": "stream",
     "text": [
      "('\\n',            Father      Mother      Height        Kids\n",
      "count  898.000000  898.000000  898.000000  898.000000\n",
      "mean    69.232851   64.084410   66.760690    6.135857\n",
      "std      2.470256    2.307025    3.582918    2.685156\n",
      "min     62.000000   58.000000   56.000000    1.000000\n",
      "25%     68.000000   63.000000   64.000000    4.000000\n",
      "50%     69.000000   64.000000   66.500000    6.000000\n",
      "75%     71.000000   65.500000   69.700000    8.000000\n",
      "max     78.500000   70.500000   79.000000   15.000000)\n",
      "('\\n',            Father      Mother      Height        Kids  Mean_Parents\n",
      "count  898.000000  898.000000  898.000000  898.000000     898.00000\n",
      "mean    69.232851   64.084410   66.760690    6.135857      66.65863\n",
      "std      2.470256    2.307025    3.582918    2.685156       1.75101\n",
      "min     62.000000   58.000000   56.000000    1.000000      62.00000\n",
      "25%     68.000000   63.000000   64.000000    4.000000      65.50000\n",
      "50%     69.000000   64.000000   66.500000    6.000000      66.75000\n",
      "75%     71.000000   65.500000   69.700000    8.000000      67.50000\n",
      "max     78.500000   70.500000   79.000000   15.000000      72.75000)\n"
     ]
    }
   ],
   "source": [
    "#convert the cells of interest to numeric datatype\n",
    "df[['Father', 'Mother', 'Height', 'Kids']] = df[['Father', 'Mother', 'Height', 'Kids']].apply(pd.to_numeric)\n",
    "print(\"\\n\", df.describe(include=['number']))\n",
    "#print(df)\n",
    "#add column for mean parents height\n",
    "df['Mean_Parents'] = (df['Father'] + df['Mother'])/2.\n",
    "print(\"\\n\", df.describe(include=['number']))\n"
   ]
  },
  {
   "cell_type": "markdown",
   "metadata": {},
   "source": [
    "Following Galton's methodology we will adjust the female heights so that so that both average female and male height are equal."
   ]
  },
  {
   "cell_type": "code",
   "execution_count": 118,
   "metadata": {
    "collapsed": false
   },
   "outputs": [
    {
     "name": "stdout",
     "output_type": "stream",
     "text": [
      "('\\n',            Father      Mother      Height        Kids  Mean_Parents  \\\n",
      "count  898.000000  898.000000  898.000000  898.000000     898.00000   \n",
      "mean    69.232851   64.084410   66.760690    6.135857      66.65863   \n",
      "std      2.470256    2.307025    3.582918    2.685156       1.75101   \n",
      "min     62.000000   58.000000   56.000000    1.000000      62.00000   \n",
      "25%     68.000000   63.000000   64.000000    4.000000      65.50000   \n",
      "50%     69.000000   64.000000   66.500000    6.000000      66.75000   \n",
      "75%     71.000000   65.500000   69.700000    8.000000      67.50000   \n",
      "max     78.500000   70.500000   79.000000   15.000000      72.75000   \n",
      "\n",
      "       Adj_Height  \n",
      "count  898.000000  \n",
      "mean    69.233715  \n",
      "std      2.595853  \n",
      "min     60.000000  \n",
      "25%     67.500000  \n",
      "50%     69.120000  \n",
      "75%     71.000000  \n",
      "max     79.000000  )\n"
     ]
    },
    {
     "data": {
      "text/plain": [
       "<matplotlib.text.Text at 0x7fc862764bd0>"
      ]
     },
     "execution_count": 118,
     "metadata": {},
     "output_type": "execute_result"
    },
    {
     "data": {
      "image/png": "[encoded data removed]",
      "text/plain": [
       "<matplotlib.figure.Figure at 0x7fc867ba6490>"
      ]
     },
     "metadata": {},
     "output_type": "display_data"
    }
   ],
   "source": [
    "#adjust female height by multiplying by 1.08\n",
    "# 1st alternative\n",
    "def adjust_height(c):\n",
    "    if c['Gender'] == 'F':\n",
    "        return c['Height'] * 1.08\n",
    "    else:\n",
    "        return c['Height']\n",
    "\n",
    "#%timeit \n",
    "df['Adj_Height'] = df.apply(adjust_height,axis=1)\n",
    "#print(\"\\n\", df.describe(include=['number']))\n",
    "# 2nd alternative (faster)\n",
    "#%timeit \n",
    "df['Adj_Height'] = np.where(df['Gender']=='F', df['Height'] * 1.08, df['Height'])  \n",
    "print(\"\\n\", df.describe(include=['number']))\n",
    "\n",
    "\n",
    "#plot the two distributions\n",
    "f, (ax1,ax2) = plt.subplots(1,2)\n",
    "ax1.hist(df['Mean_Parents'],20)\n",
    "ax1.set_title('Parents')\n",
    "ax2.hist(df['Adj_Height'],20)\n",
    "ax2.set_title('Child')"
   ]
  },
  {
   "cell_type": "markdown",
   "metadata": {
    "deletable": true,
    "editable": true
   },
   "source": [
    "#### Finding the middle via least squares\n",
    "\n",
    "Considering only the children's heights, how could one describe the \"middle\"?\n",
    "\n",
    "Let $Y_i$ be the height of child $i$ for $i= 1, ..., n$. Define the middle as the value $\\mu$ that minimises $$\\sum^n_{i=1} \\left( Y_i - \\mu\\right)^2$$\n",
    "\n",
    "This is the physical center of mass of the histogram, and $\\mu = \\bar{Y}$."
   ]
  },
  {
   "cell_type": "code",
   "execution_count": 149,
   "metadata": {
    "collapsed": false,
    "deletable": true,
    "editable": true
   },
   "outputs": [
    {
     "data": {
      "text/html": [
       "\n",
       "    <div class=\"bk-root\">\n",
       "        <a href=\"http://bokeh.pydata.org\" target=\"_blank\" class=\"bk-logo bk-logo-small bk-logo-notebook\"></a>\n",
       "        <span id=\"57e14040-3be9-466e-999a-d809ada24625\">Loading BokehJS ...</span>\n",
       "    </div>"
      ]
     },
     "metadata": {},
     "output_type": "display_data"
    },
    {
     "data": {
      "application/javascript": [
       "\n",
       "(function(global) {\n",
       "  function now() {\n",
       "    return new Date();\n",
       "  }\n",
       "\n",
       "  var force = true;\n",
       "\n",
       "  if (typeof (window._bokeh_onload_callbacks) === \"undefined\" || force === true) {\n",
       "    window._bokeh_onload_callbacks = [];\n",
       "    window._bokeh_is_loading = undefined;\n",
       "  }\n",
       "\n",
       "\n",
       "  \n",
       "  if (typeof (window._bokeh_timeout) === \"undefined\" || force === true) {\n",
       "    window._bokeh_timeout = Date.now() + 5000;\n",
       "    window._bokeh_failed_load = false;\n",
       "  }\n",
       "\n",
       "  var NB_LOAD_WARNING = {'data': {'text/html':\n",
       "     \"<div style='background-color: #fdd'>\\n\"+\n",
       "     \"<p>\\n\"+\n",
       "     \"BokehJS does not appear to have successfully loaded. If loading BokehJS from CDN, this \\n\"+\n",
       "     \"may be due to a slow or bad network connection. Possible fixes:\\n\"+\n",
       "     \"</p>\\n\"+\n",
       "     \"<ul>\\n\"+\n",
       "     \"<li>re-rerun `output_notebook()` to attempt to load from CDN again, or</li>\\n\"+\n",
       "     \"<li>use INLINE resources instead, as so:</li>\\n\"+\n",
       "     \"</ul>\\n\"+\n",
       "     \"<code>\\n\"+\n",
       "     \"from bokeh.resources import INLINE\\n\"+\n",
       "     \"output_notebook(resources=INLINE)\\n\"+\n",
       "     \"</code>\\n\"+\n",
       "     \"</div>\"}};\n",
       "\n",
       "  function display_loaded() {\n",
       "    if (window.Bokeh !== undefined) {\n",
       "      document.getElementById(\"57e14040-3be9-466e-999a-d809ada24625\").textContent = \"BokehJS successfully loaded.\";\n",
       "    } else if (Date.now() < window._bokeh_timeout) {\n",
       "      setTimeout(display_loaded, 100)\n",
       "    }\n",
       "  }\n",
       "\n",
       "  function run_callbacks() {\n",
       "    window._bokeh_onload_callbacks.forEach(function(callback) { callback() });\n",
       "    delete window._bokeh_onload_callbacks\n",
       "    console.info(\"Bokeh: all callbacks have finished\");\n",
       "  }\n",
       "\n",
       "  function load_libs(js_urls, callback) {\n",
       "    window._bokeh_onload_callbacks.push(callback);\n",
       "    if (window._bokeh_is_loading > 0) {\n",
       "      console.log(\"Bokeh: BokehJS is being loaded, scheduling callback at\", now());\n",
       "      return null;\n",
       "    }\n",
       "    if (js_urls == null || js_urls.length === 0) {\n",
       "      run_callbacks();\n",
       "      return null;\n",
       "    }\n",
       "    console.log(\"Bokeh: BokehJS not loaded, scheduling load and callback at\", now());\n",
       "    window._bokeh_is_loading = js_urls.length;\n",
       "    for (var i = 0; i < js_urls.length; i++) {\n",
       "      var url = js_urls[i];\n",
       "      var s = document.createElement('script');\n",
       "      s.src = url;\n",
       "      s.async = false;\n",
       "      s.onreadystatechange = s.onload = function() {\n",
       "        window._bokeh_is_loading--;\n",
       "        if (window._bokeh_is_loading === 0) {\n",
       "          console.log(\"Bokeh: all BokehJS libraries loaded\");\n",
       "          run_callbacks()\n",
       "        }\n",
       "      };\n",
       "      s.onerror = function() {\n",
       "        console.warn(\"failed to load library \" + url);\n",
       "      };\n",
       "      console.log(\"Bokeh: injecting script tag for BokehJS library: \", url);\n",
       "      document.getElementsByTagName(\"head\")[0].appendChild(s);\n",
       "    }\n",
       "  };var element = document.getElementById(\"57e14040-3be9-466e-999a-d809ada24625\");\n",
       "  if (element == null) {\n",
       "    console.log(\"Bokeh: ERROR: autoload.js configured with elementid '57e14040-3be9-466e-999a-d809ada24625' but no matching script tag was found. \")\n",
       "    return false;\n",
       "  }\n",
       "\n",
       "  var js_urls = [\"https://cdn.pydata.org/bokeh/release/bokeh-0.12.4.min.js\", \"https://cdn.pydata.org/bokeh/release/bokeh-widgets-0.12.4.min.js\"];\n",
       "\n",
       "  var inline_js = [\n",
       "    function(Bokeh) {\n",
       "      Bokeh.set_log_level(\"info\");\n",
       "    },\n",
       "    \n",
       "    function(Bokeh) {\n",
       "      \n",
       "      document.getElementById(\"57e14040-3be9-466e-999a-d809ada24625\").textContent = \"BokehJS is loading...\";\n",
       "    },\n",
       "    function(Bokeh) {\n",
       "      console.log(\"Bokeh: injecting CSS: https://cdn.pydata.org/bokeh/release/bokeh-0.12.4.min.css\");\n",
       "      Bokeh.embed.inject_css(\"https://cdn.pydata.org/bokeh/release/bokeh-0.12.4.min.css\");\n",
       "      console.log(\"Bokeh: injecting CSS: https://cdn.pydata.org/bokeh/release/bokeh-widgets-0.12.4.min.css\");\n",
       "      Bokeh.embed.inject_css(\"https://cdn.pydata.org/bokeh/release/bokeh-widgets-0.12.4.min.css\");\n",
       "    }\n",
       "  ];\n",
       "\n",
       "  function run_inline_js() {\n",
       "    \n",
       "    if ((window.Bokeh !== undefined) || (force === true)) {\n",
       "      for (var i = 0; i < inline_js.length; i++) {\n",
       "        inline_js[i](window.Bokeh);\n",
       "      }if (force === true) {\n",
       "        display_loaded();\n",
       "      }} else if (Date.now() < window._bokeh_timeout) {\n",
       "      setTimeout(run_inline_js, 100);\n",
       "    } else if (!window._bokeh_failed_load) {\n",
       "      console.log(\"Bokeh: BokehJS failed to load within specified timeout.\");\n",
       "      window._bokeh_failed_load = true;\n",
       "    } else if (force !== true) {\n",
       "      var cell = $(document.getElementById(\"57e14040-3be9-466e-999a-d809ada24625\")).parents('.cell').data().cell;\n",
       "      cell.output_area.append_execute_result(NB_LOAD_WARNING)\n",
       "    }\n",
       "\n",
       "  }\n",
       "\n",
       "  if (window._bokeh_is_loading === 0) {\n",
       "    console.log(\"Bokeh: BokehJS loaded, going straight to plotting\");\n",
       "    run_inline_js();\n",
       "  } else {\n",
       "    load_libs(js_urls, function() {\n",
       "      console.log(\"Bokeh: BokehJS plotting callback run at\", now());\n",
       "      run_inline_js();\n",
       "    });\n",
       "  }\n",
       "}(this));"
      ]
     },
     "metadata": {},
     "output_type": "display_data"
    },
    {
     "data": {
      "text/html": [
       "\n",
       "\n",
       "    <div class=\"bk-root\">\n",
       "        <div class=\"bk-plotdiv\" id=\"38f8fd0a-4a63-4f30-8597-896621621dea\"></div>\n",
       "    </div>\n",
       "<script type=\"text/javascript\">\n",
       "  \n",
       "  (function(global) {\n",
       "    function now() {\n",
       "      return new Date();\n",
       "    }\n",
       "  \n",
       "    var force = false;\n",
       "  \n",
       "    if (typeof (window._bokeh_onload_callbacks) === \"undefined\" || force === true) {\n",
       "      window._bokeh_onload_callbacks = [];\n",
       "      window._bokeh_is_loading = undefined;\n",
       "    }\n",
       "  \n",
       "  \n",
       "    \n",
       "    if (typeof (window._bokeh_timeout) === \"undefined\" || force === true) {\n",
       "      window._bokeh_timeout = Date.now() + 0;\n",
       "      window._bokeh_failed_load = false;\n",
       "    }\n",
       "  \n",
       "    var NB_LOAD_WARNING = {'data': {'text/html':\n",
       "       \"<div style='background-color: #fdd'>\\n\"+\n",
       "       \"<p>\\n\"+\n",
       "       \"BokehJS does not appear to have successfully loaded. If loading BokehJS from CDN, this \\n\"+\n",
       "       \"may be due to a slow or bad network connection. Possible fixes:\\n\"+\n",
       "       \"</p>\\n\"+\n",
       "       \"<ul>\\n\"+\n",
       "       \"<li>re-rerun `output_notebook()` to attempt to load from CDN again, or</li>\\n\"+\n",
       "       \"<li>use INLINE resources instead, as so:</li>\\n\"+\n",
       "       \"</ul>\\n\"+\n",
       "       \"<code>\\n\"+\n",
       "       \"from bokeh.resources import INLINE\\n\"+\n",
       "       \"output_notebook(resources=INLINE)\\n\"+\n",
       "       \"</code>\\n\"+\n",
       "       \"</div>\"}};\n",
       "  \n",
       "    function display_loaded() {\n",
       "      if (window.Bokeh !== undefined) {\n",
       "        document.getElementById(\"38f8fd0a-4a63-4f30-8597-896621621dea\").textContent = \"BokehJS successfully loaded.\";\n",
       "      } else if (Date.now() < window._bokeh_timeout) {\n",
       "        setTimeout(display_loaded, 100)\n",
       "      }\n",
       "    }if ((window.Jupyter !== undefined) && Jupyter.notebook.kernel) {\n",
       "      comm_manager = Jupyter.notebook.kernel.comm_manager\n",
       "      comm_manager.register_target(\"6a3df7cd-c4b4-4ec0-a3d3-ad40e4155f8c\", function () {});\n",
       "    }\n",
       "  \n",
       "    function run_callbacks() {\n",
       "      window._bokeh_onload_callbacks.forEach(function(callback) { callback() });\n",
       "      delete window._bokeh_onload_callbacks\n",
       "      console.info(\"Bokeh: all callbacks have finished\");\n",
       "    }\n",
       "  \n",
       "    function load_libs(js_urls, callback) {\n",
       "      window._bokeh_onload_callbacks.push(callback);\n",
       "      if (window._bokeh_is_loading > 0) {\n",
       "        console.log(\"Bokeh: BokehJS is being loaded, scheduling callback at\", now());\n",
       "        return null;\n",
       "      }\n",
       "      if (js_urls == null || js_urls.length === 0) {\n",
       "        run_callbacks();\n",
       "        return null;\n",
       "      }\n",
       "      console.log(\"Bokeh: BokehJS not loaded, scheduling load and callback at\", now());\n",
       "      window._bokeh_is_loading = js_urls.length;\n",
       "      for (var i = 0; i < js_urls.length; i++) {\n",
       "        var url = js_urls[i];\n",
       "        var s = document.createElement('script');\n",
       "        s.src = url;\n",
       "        s.async = false;\n",
       "        s.onreadystatechange = s.onload = function() {\n",
       "          window._bokeh_is_loading--;\n",
       "          if (window._bokeh_is_loading === 0) {\n",
       "            console.log(\"Bokeh: all BokehJS libraries loaded\");\n",
       "            run_callbacks()\n",
       "          }\n",
       "        };\n",
       "        s.onerror = function() {\n",
       "          console.warn(\"failed to load library \" + url);\n",
       "        };\n",
       "        console.log(\"Bokeh: injecting script tag for BokehJS library: \", url);\n",
       "        document.getElementsByTagName(\"head\")[0].appendChild(s);\n",
       "      }\n",
       "    };var element = document.getElementById(\"38f8fd0a-4a63-4f30-8597-896621621dea\");\n",
       "    if (element == null) {\n",
       "      console.log(\"Bokeh: ERROR: autoload.js configured with elementid '38f8fd0a-4a63-4f30-8597-896621621dea' but no matching script tag was found. \")\n",
       "      return false;\n",
       "    }\n",
       "  \n",
       "    var js_urls = [];\n",
       "  \n",
       "    var inline_js = [\n",
       "      function(Bokeh) {\n",
       "        (function() {\n",
       "          var fn = function() {\n",
       "            var docs_json = {\"1986cab1-c08e-467a-b014-78b8dbf0f1a3\":{\"roots\":{\"references\":[{\"attributes\":{\"plot\":{\"id\":\"14a96ad6-3670-49e0-9a01-9013fe02da11\",\"subtype\":\"Figure\",\"type\":\"Plot\"}},\"id\":\"f595bcdb-0d58-4f3c-862d-6cc54a0c90b3\",\"type\":\"SaveTool\"},{\"attributes\":{\"bottom\":{\"value\":0},\"fill_alpha\":{\"value\":0.1},\"fill_color\":{\"value\":\"#1f77b4\"},\"left\":{\"field\":\"left\"},\"line_alpha\":{\"value\":0.1},\"line_color\":{\"value\":\"#1f77b4\"},\"right\":{\"field\":\"right\"},\"top\":{\"field\":\"top\"}},\"id\":\"247c74cd-87b9-4e40-b8c4-7eb04cf12bd0\",\"type\":\"Quad\"},{\"attributes\":{\"plot\":{\"id\":\"14a96ad6-3670-49e0-9a01-9013fe02da11\",\"subtype\":\"Figure\",\"type\":\"Plot\"}},\"id\":\"00c9f1fa-2af1-496b-84b1-5a81d9e3cb7d\",\"type\":\"PanTool\"},{\"attributes\":{\"active_drag\":\"auto\",\"active_scroll\":\"auto\",\"active_tap\":\"auto\",\"tools\":[{\"id\":\"00c9f1fa-2af1-496b-84b1-5a81d9e3cb7d\",\"type\":\"PanTool\"},{\"id\":\"5132d73f-d19a-442d-83c5-8f7267f6cea7\",\"type\":\"WheelZoomTool\"},{\"id\":\"e81fe21d-fb6d-4823-8875-d4ec1ebf35ea\",\"type\":\"BoxZoomTool\"},{\"id\":\"f595bcdb-0d58-4f3c-862d-6cc54a0c90b3\",\"type\":\"SaveTool\"},{\"id\":\"f58205c6-e7a8-4bf1-b717-d4b4c2a62e36\",\"type\":\"ResetTool\"},{\"id\":\"b2286328-fe5f-4611-9654-253e2d9c6157\",\"type\":\"HelpTool\"}]},\"id\":\"a975f6da-b043-4fdd-b165-2dd1350d9acd\",\"type\":\"Toolbar\"},{\"attributes\":{\"plot\":{\"id\":\"14a96ad6-3670-49e0-9a01-9013fe02da11\",\"subtype\":\"Figure\",\"type\":\"Plot\"}},\"id\":\"5132d73f-d19a-442d-83c5-8f7267f6cea7\",\"type\":\"WheelZoomTool\"},{\"attributes\":{\"bottom_units\":\"screen\",\"fill_alpha\":{\"value\":0.5},\"fill_color\":{\"value\":\"lightgrey\"},\"left_units\":\"screen\",\"level\":\"overlay\",\"line_alpha\":{\"value\":1.0},\"line_color\":{\"value\":\"black\"},\"line_dash\":[4,4],\"line_width\":{\"value\":2},\"plot\":null,\"render_mode\":\"css\",\"right_units\":\"screen\",\"top_units\":\"screen\"},\"id\":\"0a765368-eacb-4d2f-8ce0-2b86549c6c15\",\"type\":\"BoxAnnotation\"},{\"attributes\":{\"axis_label\":\"child\",\"formatter\":{\"id\":\"29e7c814-56e0-452a-86d6-e76e020ff586\",\"type\":\"BasicTickFormatter\"},\"plot\":{\"id\":\"14a96ad6-3670-49e0-9a01-9013fe02da11\",\"subtype\":\"Figure\",\"type\":\"Plot\"},\"ticker\":{\"id\":\"6e65f186-933a-413e-bfe2-d535361648ed\",\"type\":\"BasicTicker\"}},\"id\":\"d755d393-1e6d-46e3-aa8e-8639d9ad09a8\",\"type\":\"LinearAxis\"},{\"attributes\":{\"overlay\":{\"id\":\"0a765368-eacb-4d2f-8ce0-2b86549c6c15\",\"type\":\"BoxAnnotation\"},\"plot\":{\"id\":\"14a96ad6-3670-49e0-9a01-9013fe02da11\",\"subtype\":\"Figure\",\"type\":\"Plot\"}},\"id\":\"e81fe21d-fb6d-4823-8875-d4ec1ebf35ea\",\"type\":\"BoxZoomTool\"},{\"attributes\":{\"callback\":null,\"column_names\":[\"right\",\"top\",\"left\"],\"data\":{\"left\":{\"__ndarray__\":\"AAAAAAAATkCamZmZmXlOQDMzMzMz805AzczMzMxsT0BmZmZmZuZPQAAAAAAAMFBAzczMzMxsUECamZmZmalQQGZmZmZm5lBAMzMzMzMjUUAAAAAAAGBRQM3MzMzMnFFAmpmZmZnZUUBmZmZmZhZSQDMzMzMzU1JAAAAAAACQUkDNzMzMzMxSQJqZmZmZCVNAZmZmZmZGU0AzMzMzM4NTQA==\",\"dtype\":\"float64\",\"shape\":[20]},\"right\":{\"__ndarray__\":\"mpmZmZl5TkAzMzMzM/NOQM3MzMzMbE9AZmZmZmbmT0AAAAAAADBQQM3MzMzMbFBAmpmZmZmpUEBmZmZmZuZQQDMzMzMzI1FAAAAAAABgUUDNzMzMzJxRQJqZmZmZ2VFAZmZmZmYWUkAzMzMzM1NSQAAAAAAAkFJAzczMzMzMUkCamZmZmQlTQGZmZmZmRlNAMzMzMzODU0AAAAAAAMBTQA==\",\"dtype\":\"float64\",\"shape\":[20]},\"top\":{\"__ndarray__\":\"J9GsW4s0Yz9Q0axbizRjP7w5gwnRzmw/+DmDCdHOfD/g0/h0YjWPPyAG6/jjAas/J9GsW4s0sz+ph2eiNIK/P+lDXTQ1QcE/YN1/2ZCnwD/DBEVseAHFP4V39UQiDsM/p7dg0xROsj8CNzfw+c2wP+DT+HRiNZ8/4NP4dGI1jz+8OYMJ0c58P3jRrFuLNFM/J9GsW4s0Uz8n0axbizRTPw==\",\"dtype\":\"float64\",\"shape\":[20]}}},\"id\":\"d25ad580-503a-4672-8a2f-7710d11d94ba\",\"type\":\"ColumnDataSource\"},{\"attributes\":{},\"id\":\"29e7c814-56e0-452a-86d6-e76e020ff586\",\"type\":\"BasicTickFormatter\"},{\"attributes\":{\"plot\":null,\"text\":\"Childrens height distribution\"},\"id\":\"ef5cb8b3-695c-43a0-a9da-0692ecc27930\",\"type\":\"Title\"},{\"attributes\":{\"below\":[{\"id\":\"d755d393-1e6d-46e3-aa8e-8639d9ad09a8\",\"type\":\"LinearAxis\"}],\"left\":[{\"id\":\"15dd323f-bd5c-4af0-89a9-3969bf3d7dca\",\"type\":\"LinearAxis\"}],\"plot_height\":300,\"renderers\":[{\"id\":\"d755d393-1e6d-46e3-aa8e-8639d9ad09a8\",\"type\":\"LinearAxis\"},{\"id\":\"0bd424c2-b6d6-445d-acf2-53d28403a635\",\"type\":\"Grid\"},{\"id\":\"15dd323f-bd5c-4af0-89a9-3969bf3d7dca\",\"type\":\"LinearAxis\"},{\"id\":\"a0b1cb54-bbe4-4f6c-a26d-bb993cb8a307\",\"type\":\"Grid\"},{\"id\":\"0a765368-eacb-4d2f-8ce0-2b86549c6c15\",\"type\":\"BoxAnnotation\"},{\"id\":\"fed938cb-c7d4-442b-a158-148ef7518afd\",\"type\":\"GlyphRenderer\"},{\"id\":\"adf0ca96-a449-4cd5-8a11-12706396355b\",\"type\":\"GlyphRenderer\"}],\"title\":{\"id\":\"ef5cb8b3-695c-43a0-a9da-0692ecc27930\",\"type\":\"Title\"},\"tool_events\":{\"id\":\"aaf73324-0894-4e5e-a2ca-77d7052d5455\",\"type\":\"ToolEvents\"},\"toolbar\":{\"id\":\"a975f6da-b043-4fdd-b165-2dd1350d9acd\",\"type\":\"Toolbar\"},\"x_range\":{\"id\":\"317bd7f6-12b1-446a-873e-85cb0d9f8dfd\",\"type\":\"DataRange1d\"},\"y_range\":{\"id\":\"8da37cb6-8558-4225-b89a-218b4885a648\",\"type\":\"Range1d\"}},\"id\":\"14a96ad6-3670-49e0-9a01-9013fe02da11\",\"subtype\":\"Figure\",\"type\":\"Plot\"},{\"attributes\":{\"callback\":null},\"id\":\"317bd7f6-12b1-446a-873e-85cb0d9f8dfd\",\"type\":\"DataRange1d\"},{\"attributes\":{\"dimension\":1,\"plot\":{\"id\":\"14a96ad6-3670-49e0-9a01-9013fe02da11\",\"subtype\":\"Figure\",\"type\":\"Plot\"},\"ticker\":{\"id\":\"23495e76-bc6e-4950-8819-9f3056acd654\",\"type\":\"BasicTicker\"}},\"id\":\"a0b1cb54-bbe4-4f6c-a26d-bb993cb8a307\",\"type\":\"Grid\"},{\"attributes\":{\"line_alpha\":{\"value\":0.1},\"line_color\":{\"value\":\"#1f77b4\"},\"line_width\":{\"value\":3},\"x\":{\"field\":\"mu\"},\"y\":{\"field\":\"y\"}},\"id\":\"99e215a7-524d-46e9-bf9a-147a28662f83\",\"type\":\"Line\"},{\"attributes\":{\"data_source\":{\"id\":\"b9996f9d-a3de-4103-9289-d168fd546d0b\",\"type\":\"ColumnDataSource\"},\"glyph\":{\"id\":\"cf1bee5f-b82d-4b55-b6d4-fc578dc21173\",\"type\":\"Line\"},\"hover_glyph\":null,\"nonselection_glyph\":{\"id\":\"99e215a7-524d-46e9-bf9a-147a28662f83\",\"type\":\"Line\"},\"selection_glyph\":null},\"id\":\"adf0ca96-a449-4cd5-8a11-12706396355b\",\"type\":\"GlyphRenderer\"},{\"attributes\":{\"formatter\":{\"id\":\"77c8d6da-1ec9-42ab-8c52-5031f6f9e5ce\",\"type\":\"BasicTickFormatter\"},\"plot\":{\"id\":\"14a96ad6-3670-49e0-9a01-9013fe02da11\",\"subtype\":\"Figure\",\"type\":\"Plot\"},\"ticker\":{\"id\":\"23495e76-bc6e-4950-8819-9f3056acd654\",\"type\":\"BasicTicker\"}},\"id\":\"15dd323f-bd5c-4af0-89a9-3969bf3d7dca\",\"type\":\"LinearAxis\"},{\"attributes\":{\"plot\":{\"id\":\"14a96ad6-3670-49e0-9a01-9013fe02da11\",\"subtype\":\"Figure\",\"type\":\"Plot\"},\"ticker\":{\"id\":\"6e65f186-933a-413e-bfe2-d535361648ed\",\"type\":\"BasicTicker\"}},\"id\":\"0bd424c2-b6d6-445d-acf2-53d28403a635\",\"type\":\"Grid\"},{\"attributes\":{\"callback\":null,\"column_names\":[\"mu\",\"h\",\"y\"],\"data\":{\"h\":{\"__ndarray__\":\"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\",\"dtype\":\"float64\",\"shape\":[898]},\"mu\":[50,50],\"y\":[0,0.25]}},\"id\":\"b9996f9d-a3de-4103-9289-d168fd546d0b\",\"type\":\"ColumnDataSource\"},{\"attributes\":{\"data_source\":{\"id\":\"d25ad580-503a-4672-8a2f-7710d11d94ba\",\"type\":\"ColumnDataSource\"},\"glyph\":{\"id\":\"5f99c6d2-14d0-4862-98a0-a0eadb0b6f7f\",\"type\":\"Quad\"},\"hover_glyph\":null,\"nonselection_glyph\":{\"id\":\"247c74cd-87b9-4e40-b8c4-7eb04cf12bd0\",\"type\":\"Quad\"},\"selection_glyph\":null},\"id\":\"fed938cb-c7d4-442b-a158-148ef7518afd\",\"type\":\"GlyphRenderer\"},{\"attributes\":{\"callback\":null,\"end\":0.3,\"start\":-0.1},\"id\":\"8da37cb6-8558-4225-b89a-218b4885a648\",\"type\":\"Range1d\"},{\"attributes\":{\"bottom\":{\"value\":0},\"fill_color\":{\"value\":\"#036564\"},\"left\":{\"field\":\"left\"},\"line_color\":{\"value\":\"#033649\"},\"right\":{\"field\":\"right\"},\"top\":{\"field\":\"top\"}},\"id\":\"5f99c6d2-14d0-4862-98a0-a0eadb0b6f7f\",\"type\":\"Quad\"},{\"attributes\":{},\"id\":\"6e65f186-933a-413e-bfe2-d535361648ed\",\"type\":\"BasicTicker\"},{\"attributes\":{},\"id\":\"77c8d6da-1ec9-42ab-8c52-5031f6f9e5ce\",\"type\":\"BasicTickFormatter\"},{\"attributes\":{},\"id\":\"aaf73324-0894-4e5e-a2ca-77d7052d5455\",\"type\":\"ToolEvents\"},{\"attributes\":{\"plot\":{\"id\":\"14a96ad6-3670-49e0-9a01-9013fe02da11\",\"subtype\":\"Figure\",\"type\":\"Plot\"}},\"id\":\"b2286328-fe5f-4611-9654-253e2d9c6157\",\"type\":\"HelpTool\"},{\"attributes\":{\"plot\":{\"id\":\"14a96ad6-3670-49e0-9a01-9013fe02da11\",\"subtype\":\"Figure\",\"type\":\"Plot\"}},\"id\":\"f58205c6-e7a8-4bf1-b717-d4b4c2a62e36\",\"type\":\"ResetTool\"},{\"attributes\":{},\"id\":\"23495e76-bc6e-4950-8819-9f3056acd654\",\"type\":\"BasicTicker\"},{\"attributes\":{\"line_color\":{\"value\":\"#9b0f0f\"},\"line_width\":{\"value\":3},\"x\":{\"field\":\"mu\"},\"y\":{\"field\":\"y\"}},\"id\":\"cf1bee5f-b82d-4b55-b6d4-fc578dc21173\",\"type\":\"Line\"}],\"root_ids\":[\"14a96ad6-3670-49e0-9a01-9013fe02da11\"]},\"title\":\"Bokeh Application\",\"version\":\"0.12.4\"}};\n",
       "            var render_items = [{\"docid\":\"1986cab1-c08e-467a-b014-78b8dbf0f1a3\",\"elementid\":\"38f8fd0a-4a63-4f30-8597-896621621dea\",\"modelid\":\"14a96ad6-3670-49e0-9a01-9013fe02da11\",\"notebook_comms_target\":\"6a3df7cd-c4b4-4ec0-a3d3-ad40e4155f8c\"}];\n",
       "            \n",
       "            Bokeh.embed.embed_items(docs_json, render_items);\n",
       "          };\n",
       "          if (document.readyState != \"loading\") fn();\n",
       "          else document.addEventListener(\"DOMContentLoaded\", fn);\n",
       "        })();\n",
       "      },\n",
       "      function(Bokeh) {\n",
       "      }\n",
       "    ];\n",
       "  \n",
       "    function run_inline_js() {\n",
       "      \n",
       "      if ((window.Bokeh !== undefined) || (force === true)) {\n",
       "        for (var i = 0; i < inline_js.length; i++) {\n",
       "          inline_js[i](window.Bokeh);\n",
       "        }if (force === true) {\n",
       "          display_loaded();\n",
       "        }} else if (Date.now() < window._bokeh_timeout) {\n",
       "        setTimeout(run_inline_js, 100);\n",
       "      } else if (!window._bokeh_failed_load) {\n",
       "        console.log(\"Bokeh: BokehJS failed to load within specified timeout.\");\n",
       "        window._bokeh_failed_load = true;\n",
       "      } else if (force !== true) {\n",
       "        var cell = $(document.getElementById(\"38f8fd0a-4a63-4f30-8597-896621621dea\")).parents('.cell').data().cell;\n",
       "        cell.output_area.append_execute_result(NB_LOAD_WARNING)\n",
       "      }\n",
       "  \n",
       "    }\n",
       "  \n",
       "    if (window._bokeh_is_loading === 0) {\n",
       "      console.log(\"Bokeh: BokehJS loaded, going straight to plotting\");\n",
       "      run_inline_js();\n",
       "    } else {\n",
       "      load_libs(js_urls, function() {\n",
       "        console.log(\"Bokeh: BokehJS plotting callback run at\", now());\n",
       "        run_inline_js();\n",
       "      });\n",
       "    }\n",
       "  }(this));\n",
       "</script>"
      ]
     },
     "metadata": {},
     "output_type": "display_data"
    },
    {
     "data": {
      "application/vnd.jupyter.widget-view+json": {
       "model_id": "167cdb6a6d2f41cb8aaf694a0938d415"
      }
     },
     "metadata": {},
     "output_type": "display_data"
    },
    {
     "data": {
      "text/plain": [
       "<function __main__.update>"
      ]
     },
     "execution_count": 149,
     "metadata": {},
     "output_type": "execute_result"
    }
   ],
   "source": [
    "from ipywidgets import interact\n",
    "\n",
    "from  bokeh.models.sources import ColumnDataSource\n",
    "from bokeh.io import push_notebook, show, output_notebook\n",
    "from bokeh.plotting import figure\n",
    "output_notebook()\n",
    "\n",
    "mu = 50\n",
    "source = ColumnDataSource(data=dict(mu=[mu,mu], h=df['Adj_Height']))\n",
    "\n",
    "hist, edges = np.histogram(df['Adj_Height'], density=True, bins=20)\n",
    "p = figure(title='Childrens height distribution', plot_height=300, plot_width=600, y_range=(-.1,0.3),x_axis_label='child')\n",
    "p.quad(top=hist, bottom=0, left=edges[:-1], right=edges[1:],\n",
    "        fill_color=\"#036564\", line_color=\"#033649\")\n",
    "\n",
    "r = p.line('mu', [0,0.25], color=\"#9b0f0f\",source=source, line_width=3)\n",
    "\n",
    "def calc_mse_s(mi,h):    \n",
    "    mse = ((h-mi).pow(2)).mean()  \n",
    "    return mse\n",
    "        \n",
    "\n",
    "def update( m=60):    \n",
    "    r.data_source.data['mu'] = [m,m]\n",
    "    #gi.data_source.data['ys'] = [ [a+b*entry[0],entry[1]] for entry in zip(x_n,y_n)] \n",
    "    mse = calc_mse_s(m,r.data_source.data['h'] )\n",
    "    p.title.text='Childrens height distribution (mu= %.3f, MSE = %.3f)'%(m, mse)\n",
    "    push_notebook()\n",
    "    \n",
    "    \n",
    "show(p, notebook_handle=True)\n",
    "interact(update,  m=(60,80))\n",
    "\n",
    "#manipulate to find center of mass , slider controls position of bar, top position of mi kai MSE\n"
   ]
  },
  {
   "cell_type": "markdown",
   "metadata": {},
   "source": [
    "The empirical mean is the least squares solution for minimising the sum of squared deviations:"
   ]
  },
  {
   "cell_type": "markdown",
   "metadata": {
    "deletable": true,
    "editable": true
   },
   "source": [
    "$\\begin{align} \n",
    "\\sum_{i=1}^n (Y_i - \\mu)^2 & = \\\n",
    "\\sum_{i=1}^n (Y_i - \\bar Y + \\bar Y - \\mu)^2 \\\\ \n",
    "& = \\sum_{i=1}^n (Y_i - \\bar Y)^2 + \\\n",
    "2 \\sum_{i=1}^n (Y_i - \\bar Y)  (\\bar Y - \\mu) +\\\n",
    "\\sum_{i=1}^n (\\bar Y - \\mu)^2 \\\\\n",
    "& = \\sum_{i=1}^n (Y_i - \\bar Y)^2 + \\\n",
    "2 (\\bar Y - \\mu) \\sum_{i=1}^n (Y_i - \\bar Y)  +\\\n",
    "\\sum_{i=1}^n (\\bar Y - \\mu)^2 \\\\\n",
    "& = \\sum_{i=1}^n (Y_i - \\bar Y)^2 + \\\n",
    "2 (\\bar Y - \\mu)  (\\sum_{i=1}^n Y_i - n \\bar Y) +\\\n",
    "\\sum_{i=1}^n (\\bar Y - \\mu)^2 \\\\\n",
    "& = \\sum_{i=1}^n (Y_i - \\bar Y)^2 + \\sum_{i=1}^n (\\bar Y - \\mu)^2\\\\ \n",
    "& \\geq \\sum_{i=1}^n (Y_i - \\bar Y)^2 \\\n",
    "\\end{align} $"
   ]
  },
  {
   "cell_type": "markdown",
   "metadata": {},
   "source": [
    "However, we would like to explain the variance of children's data with the parents heights.\n",
    "With a simple scatter plot we observe that there is some underlying linear relaship between these two variables:"
   ]
  },
  {
   "cell_type": "code",
   "execution_count": 120,
   "metadata": {
    "collapsed": false,
    "deletable": true,
    "editable": true
   },
   "outputs": [
    {
     "data": {
      "image/png": "[encoded data removed]",
      "text/plain": [
       "<matplotlib.figure.Figure at 0x7fc8628924d0>"
      ]
     },
     "metadata": {},
     "output_type": "display_data"
    }
   ],
   "source": [
    "df.plot(kind='scatter', x='Mean_Parents', y='Adj_Height');"
   ]
  },
  {
   "cell_type": "markdown",
   "metadata": {
    "deletable": true,
    "editable": true
   },
   "source": [
    "## Notation\n"
   ]
  },
  {
   "cell_type": "markdown",
   "metadata": {
    "deletable": true,
    "editable": true
   },
   "source": [
    "We will use capital letters for conceptual values of the variables and lowercase for realised ones:\n",
    "> * $X_i$ is a conceptual random variable\n",
    "> * $x$ is a realised variable (the number we plug in)\n"
   ]
  },
  {
   "cell_type": "markdown",
   "metadata": {
    "deletable": true,
    "editable": true
   },
   "source": [
    "#### Empirical Mean: $$\\bar{X} = \\frac{1}{n} \\sum_{i=1}^{n}{ X_i}$$\n",
    "\n",
    "Recall from previous section that the empirical mean is the least squares solution for minimising $$\\sum_{i=1}^n \\left(X_i - \\mu \\right)^2$$\n"
   ]
  },
  {
   "cell_type": "markdown",
   "metadata": {
    "deletable": true,
    "editable": true
   },
   "source": [
    "#### Empirical Variance: \n",
    "$$ S^2 = \\frac{1}{n-1} \\sum_{i=1}^{n}{ \\left( X_i - \\bar{X} \\right)^2  } = \\frac{1}{n-1} \\left(\\sum_{i=1}^{n}{  X_i^2 - n\\bar{X}^2  } \\right) $$\n",
    "\n",
    "#### Empirical Standard Deviation:\n",
    "$$ S = \\sqrt{S^2}$$\n",
    "\n",
    "Notice that standard deviation is expressed in the same units as $X_i$.\n",
    "\n",
    "**Scaling** : Rescaling the data, $\\frac{X_i}{S}$, to have empirical standard deviation $1$.\n",
    "\n",
    "#### Normalisation:\n",
    "\n",
    "Centered and scaled data, defined by: $$ Z_i = \\frac{X_i-\\bar{X}}{S}$$ have empirical mean $0$ and empirical standard deviation $1$.\n",
    "\n",
    "\n",
    "\n",
    "\n",
    "For pairs of datapoints, $\\left( X_i, Y_i \\right)$:\n",
    "#### Empirical Covariance:\n",
    "\n",
    "$$ Cov(X, Y) = \n",
    "\\frac{1}{n-1}\\sum_{i=1}^n (X_i - \\bar X) (Y_i - \\bar Y)\n",
    "= \\frac{1}{n-1}\\left( \\sum_{i=1}^n X_i Y_i - n \\bar X \\bar Y\\right) $$\n",
    "\n",
    "#### Correlation:\n",
    "\n",
    "$$ Cor(X, Y) = \\frac{Cov(X, Y)}{S_x S_y}, $$\n",
    "where $S_x$ and $S_y$ are estimates of standard deviations for the $X$ and $Y$ observations, respectively.\n",
    "\n",
    "\n",
    "* $Cor(X, Y) = Cor(Y, X)$\n",
    "* $-1 \\leq Cor(X, Y) \\leq 1$\n",
    "* $Cor(X,Y) = 1$ and $Cor(X, Y) = -1$ only when the $X$ or $Y$ observations fall perfectly on a positive or negative sloped line, respectively.\n",
    "* $Cor(X, Y)$ measures the strength of the linear relationship between the \\(X\\) and \\(Y\\) data, with stronger relationships as \\(Cor(X,Y)\\) heads towards -1 or 1.</li>\n",
    "* $Cor(X, Y) = 0$ implies no linear relationship. \n"
   ]
  },
  {
   "cell_type": "markdown",
   "metadata": {
    "deletable": true,
    "editable": true
   },
   "source": [
    "## Linear Regression\n"
   ]
  },
  {
   "cell_type": "markdown",
   "metadata": {
    "deletable": true,
    "editable": true
   },
   "source": [
    "\n",
    "#### Regression through the origin\n",
    "\n",
    "Suppose $X_i$ are the parents' heights (**predictor**) and $Y_i$ the children's heights (**response**). We assume that the children's heights may be explained by the parent's height.\n",
    "\n",
    "We would like to identify the **slope** $\\beta$ that minimises \n",
    "$$ \\sum_{i=1}^n \\left( Y_i - X_i \\beta \\right)^2 $$\n",
    "\n",
    "This is exactly using the origin as a pivot point picking the line that minimises the sum of the squared vertical distances of the points to the line.\n",
    "\n",
    "Here it is easy to see that for\n",
    "$$ min_\\beta \\sum(Y_i - \\beta X_i)^2 = \\sum Y_i^2 - 2\\beta\\sum X_iY_i + \\beta^2\\sum X_i^2,$$\n",
    "\n",
    "we derive the condition $$- 2\\sum X_iY_i + 2\\hat{\\beta}\\sum X_i^2=0$$ which results in\n",
    "$$\\hat{\\beta}= \\frac{\\sum X_i Y_i}{\\sum X_i^2}$$.\n",
    "\n",
    "Let us first consider a simple contrived example:"
   ]
  },
  {
   "cell_type": "code",
   "execution_count": 121,
   "metadata": {
    "collapsed": false,
    "deletable": true,
    "editable": true
   },
   "outputs": [
    {
     "data": {
      "text/plain": [
       "<matplotlib.text.Text at 0x7fc862447910>"
      ]
     },
     "execution_count": 121,
     "metadata": {},
     "output_type": "execute_result"
    },
    {
     "data": {
      "image/png": "[encoded data removed]",
      "text/plain": [
       "<matplotlib.figure.Figure at 0x7fc8629f0890>"
      ]
     },
     "metadata": {},
     "output_type": "display_data"
    }
   ],
   "source": [
    "#create random points \n",
    "x = np.random.rand(100) + 0.5\n",
    "a =  np.random.rand(100)+3.5\n",
    "b = 3 \n",
    "y = b * x + a\n",
    "plt.scatter(x,y)\n",
    "plt.plot([0,1.5],[0,8*1.5] ,'r')\n",
    "plt.plot([0,1.5],[0,5*1.5] ,'r')\n",
    "plt.plot([0,1.5],[0,6*1.5] ,'r')\n",
    "plt.xlim([0,1.75])\n",
    "plt.ylim([0,10])\n",
    "plt.xlabel('x')\n",
    "plt.ylabel('y')"
   ]
  },
  {
   "cell_type": "markdown",
   "metadata": {},
   "source": [
    "Substract the means so that the origin is the mean of parent and children's heights (this is called **centering**)"
   ]
  },
  {
   "cell_type": "code",
   "execution_count": 150,
   "metadata": {
    "collapsed": false,
    "deletable": true,
    "editable": true
   },
   "outputs": [],
   "source": [
    "x_n = x - np.mean(x)\n",
    "y_n = y - np.mean(y)\n"
   ]
  },
  {
   "cell_type": "code",
   "execution_count": 123,
   "metadata": {
    "collapsed": false,
    "deletable": true,
    "editable": true
   },
   "outputs": [
    {
     "data": {
      "text/plain": [
       "[<matplotlib.lines.Line2D at 0x7fc8626949d0>]"
      ]
     },
     "execution_count": 123,
     "metadata": {},
     "output_type": "execute_result"
    },
    {
     "data": {
      "image/png": "[encoded data removed]",
      "text/plain": [
       "<matplotlib.figure.Figure at 0x7fc8626940d0>"
      ]
     },
     "metadata": {},
     "output_type": "display_data"
    }
   ],
   "source": [
    "plt.scatter(x_n,y_n)\n",
    "plt.xlim([-0.6,.6])\n",
    "plt.ylim([-2.,2])\n",
    "plt.xlabel('x_n')\n",
    "plt.ylabel('y_n')\n",
    "plt.plot([-1.,1],[-3,3],'k',lw=3)\n"
   ]
  },
  {
   "cell_type": "code",
   "execution_count": null,
   "metadata": {
    "collapsed": false,
    "deletable": true,
    "editable": true
   },
   "outputs": [],
   "source": []
  },
  {
   "cell_type": "code",
   "execution_count": 148,
   "metadata": {
    "collapsed": false,
    "deletable": true,
    "editable": true
   },
   "outputs": [
    {
     "data": {
      "text/html": [
       "\n",
       "    <div class=\"bk-root\">\n",
       "        <a href=\"http://bokeh.pydata.org\" target=\"_blank\" class=\"bk-logo bk-logo-small bk-logo-notebook\"></a>\n",
       "        <span id=\"b7329346-0e04-4db8-a28e-c59253be4fe9\">Loading BokehJS ...</span>\n",
       "    </div>"
      ]
     },
     "metadata": {},
     "output_type": "display_data"
    },
    {
     "data": {
      "application/javascript": [
       "\n",
       "(function(global) {\n",
       "  function now() {\n",
       "    return new Date();\n",
       "  }\n",
       "\n",
       "  var force = true;\n",
       "\n",
       "  if (typeof (window._bokeh_onload_callbacks) === \"undefined\" || force === true) {\n",
       "    window._bokeh_onload_callbacks = [];\n",
       "    window._bokeh_is_loading = undefined;\n",
       "  }\n",
       "\n",
       "\n",
       "  \n",
       "  if (typeof (window._bokeh_timeout) === \"undefined\" || force === true) {\n",
       "    window._bokeh_timeout = Date.now() + 5000;\n",
       "    window._bokeh_failed_load = false;\n",
       "  }\n",
       "\n",
       "  var NB_LOAD_WARNING = {'data': {'text/html':\n",
       "     \"<div style='background-color: #fdd'>\\n\"+\n",
       "     \"<p>\\n\"+\n",
       "     \"BokehJS does not appear to have successfully loaded. If loading BokehJS from CDN, this \\n\"+\n",
       "     \"may be due to a slow or bad network connection. Possible fixes:\\n\"+\n",
       "     \"</p>\\n\"+\n",
       "     \"<ul>\\n\"+\n",
       "     \"<li>re-rerun `output_notebook()` to attempt to load from CDN again, or</li>\\n\"+\n",
       "     \"<li>use INLINE resources instead, as so:</li>\\n\"+\n",
       "     \"</ul>\\n\"+\n",
       "     \"<code>\\n\"+\n",
       "     \"from bokeh.resources import INLINE\\n\"+\n",
       "     \"output_notebook(resources=INLINE)\\n\"+\n",
       "     \"</code>\\n\"+\n",
       "     \"</div>\"}};\n",
       "\n",
       "  function display_loaded() {\n",
       "    if (window.Bokeh !== undefined) {\n",
       "      document.getElementById(\"b7329346-0e04-4db8-a28e-c59253be4fe9\").textContent = \"BokehJS successfully loaded.\";\n",
       "    } else if (Date.now() < window._bokeh_timeout) {\n",
       "      setTimeout(display_loaded, 100)\n",
       "    }\n",
       "  }\n",
       "\n",
       "  function run_callbacks() {\n",
       "    window._bokeh_onload_callbacks.forEach(function(callback) { callback() });\n",
       "    delete window._bokeh_onload_callbacks\n",
       "    console.info(\"Bokeh: all callbacks have finished\");\n",
       "  }\n",
       "\n",
       "  function load_libs(js_urls, callback) {\n",
       "    window._bokeh_onload_callbacks.push(callback);\n",
       "    if (window._bokeh_is_loading > 0) {\n",
       "      console.log(\"Bokeh: BokehJS is being loaded, scheduling callback at\", now());\n",
       "      return null;\n",
       "    }\n",
       "    if (js_urls == null || js_urls.length === 0) {\n",
       "      run_callbacks();\n",
       "      return null;\n",
       "    }\n",
       "    console.log(\"Bokeh: BokehJS not loaded, scheduling load and callback at\", now());\n",
       "    window._bokeh_is_loading = js_urls.length;\n",
       "    for (var i = 0; i < js_urls.length; i++) {\n",
       "      var url = js_urls[i];\n",
       "      var s = document.createElement('script');\n",
       "      s.src = url;\n",
       "      s.async = false;\n",
       "      s.onreadystatechange = s.onload = function() {\n",
       "        window._bokeh_is_loading--;\n",
       "        if (window._bokeh_is_loading === 0) {\n",
       "          console.log(\"Bokeh: all BokehJS libraries loaded\");\n",
       "          run_callbacks()\n",
       "        }\n",
       "      };\n",
       "      s.onerror = function() {\n",
       "        console.warn(\"failed to load library \" + url);\n",
       "      };\n",
       "      console.log(\"Bokeh: injecting script tag for BokehJS library: \", url);\n",
       "      document.getElementsByTagName(\"head\")[0].appendChild(s);\n",
       "    }\n",
       "  };var element = document.getElementById(\"b7329346-0e04-4db8-a28e-c59253be4fe9\");\n",
       "  if (element == null) {\n",
       "    console.log(\"Bokeh: ERROR: autoload.js configured with elementid 'b7329346-0e04-4db8-a28e-c59253be4fe9' but no matching script tag was found. \")\n",
       "    return false;\n",
       "  }\n",
       "\n",
       "  var js_urls = [\"https://cdn.pydata.org/bokeh/release/bokeh-0.12.4.min.js\", \"https://cdn.pydata.org/bokeh/release/bokeh-widgets-0.12.4.min.js\"];\n",
       "\n",
       "  var inline_js = [\n",
       "    function(Bokeh) {\n",
       "      Bokeh.set_log_level(\"info\");\n",
       "    },\n",
       "    \n",
       "    function(Bokeh) {\n",
       "      \n",
       "      document.getElementById(\"b7329346-0e04-4db8-a28e-c59253be4fe9\").textContent = \"BokehJS is loading...\";\n",
       "    },\n",
       "    function(Bokeh) {\n",
       "      console.log(\"Bokeh: injecting CSS: https://cdn.pydata.org/bokeh/release/bokeh-0.12.4.min.css\");\n",
       "      Bokeh.embed.inject_css(\"https://cdn.pydata.org/bokeh/release/bokeh-0.12.4.min.css\");\n",
       "      console.log(\"Bokeh: injecting CSS: https://cdn.pydata.org/bokeh/release/bokeh-widgets-0.12.4.min.css\");\n",
       "      Bokeh.embed.inject_css(\"https://cdn.pydata.org/bokeh/release/bokeh-widgets-0.12.4.min.css\");\n",
       "    }\n",
       "  ];\n",
       "\n",
       "  function run_inline_js() {\n",
       "    \n",
       "    if ((window.Bokeh !== undefined) || (force === true)) {\n",
       "      for (var i = 0; i < inline_js.length; i++) {\n",
       "        inline_js[i](window.Bokeh);\n",
       "      }if (force === true) {\n",
       "        display_loaded();\n",
       "      }} else if (Date.now() < window._bokeh_timeout) {\n",
       "      setTimeout(run_inline_js, 100);\n",
       "    } else if (!window._bokeh_failed_load) {\n",
       "      console.log(\"Bokeh: BokehJS failed to load within specified timeout.\");\n",
       "      window._bokeh_failed_load = true;\n",
       "    } else if (force !== true) {\n",
       "      var cell = $(document.getElementById(\"b7329346-0e04-4db8-a28e-c59253be4fe9\")).parents('.cell').data().cell;\n",
       "      cell.output_area.append_execute_result(NB_LOAD_WARNING)\n",
       "    }\n",
       "\n",
       "  }\n",
       "\n",
       "  if (window._bokeh_is_loading === 0) {\n",
       "    console.log(\"Bokeh: BokehJS loaded, going straight to plotting\");\n",
       "    run_inline_js();\n",
       "  } else {\n",
       "    load_libs(js_urls, function() {\n",
       "      console.log(\"Bokeh: BokehJS plotting callback run at\", now());\n",
       "      run_inline_js();\n",
       "    });\n",
       "  }\n",
       "}(this));"
      ]
     },
     "metadata": {},
     "output_type": "display_data"
    },
    {
     "data": {
      "text/html": [
       "\n",
       "\n",
       "    <div class=\"bk-root\">\n",
       "        <div class=\"bk-plotdiv\" id=\"a6d609c9-bc81-49fc-9317-abb97f3a5261\"></div>\n",
       "    </div>\n",
       "<script type=\"text/javascript\">\n",
       "  \n",
       "  (function(global) {\n",
       "    function now() {\n",
       "      return new Date();\n",
       "    }\n",
       "  \n",
       "    var force = false;\n",
       "  \n",
       "    if (typeof (window._bokeh_onload_callbacks) === \"undefined\" || force === true) {\n",
       "      window._bokeh_onload_callbacks = [];\n",
       "      window._bokeh_is_loading = undefined;\n",
       "    }\n",
       "  \n",
       "  \n",
       "    \n",
       "    if (typeof (window._bokeh_timeout) === \"undefined\" || force === true) {\n",
       "      window._bokeh_timeout = Date.now() + 0;\n",
       "      window._bokeh_failed_load = false;\n",
       "    }\n",
       "  \n",
       "    var NB_LOAD_WARNING = {'data': {'text/html':\n",
       "       \"<div style='background-color: #fdd'>\\n\"+\n",
       "       \"<p>\\n\"+\n",
       "       \"BokehJS does not appear to have successfully loaded. If loading BokehJS from CDN, this \\n\"+\n",
       "       \"may be due to a slow or bad network connection. Possible fixes:\\n\"+\n",
       "       \"</p>\\n\"+\n",
       "       \"<ul>\\n\"+\n",
       "       \"<li>re-rerun `output_notebook()` to attempt to load from CDN again, or</li>\\n\"+\n",
       "       \"<li>use INLINE resources instead, as so:</li>\\n\"+\n",
       "       \"</ul>\\n\"+\n",
       "       \"<code>\\n\"+\n",
       "       \"from bokeh.resources import INLINE\\n\"+\n",
       "       \"output_notebook(resources=INLINE)\\n\"+\n",
       "       \"</code>\\n\"+\n",
       "       \"</div>\"}};\n",
       "  \n",
       "    function display_loaded() {\n",
       "      if (window.Bokeh !== undefined) {\n",
       "        document.getElementById(\"a6d609c9-bc81-49fc-9317-abb97f3a5261\").textContent = \"BokehJS successfully loaded.\";\n",
       "      } else if (Date.now() < window._bokeh_timeout) {\n",
       "        setTimeout(display_loaded, 100)\n",
       "      }\n",
       "    }if ((window.Jupyter !== undefined) && Jupyter.notebook.kernel) {\n",
       "      comm_manager = Jupyter.notebook.kernel.comm_manager\n",
       "      comm_manager.register_target(\"81e7d2cb-4307-46f7-b5dd-8daf6b836933\", function () {});\n",
       "    }\n",
       "  \n",
       "    function run_callbacks() {\n",
       "      window._bokeh_onload_callbacks.forEach(function(callback) { callback() });\n",
       "      delete window._bokeh_onload_callbacks\n",
       "      console.info(\"Bokeh: all callbacks have finished\");\n",
       "    }\n",
       "  \n",
       "    function load_libs(js_urls, callback) {\n",
       "      window._bokeh_onload_callbacks.push(callback);\n",
       "      if (window._bokeh_is_loading > 0) {\n",
       "        console.log(\"Bokeh: BokehJS is being loaded, scheduling callback at\", now());\n",
       "        return null;\n",
       "      }\n",
       "      if (js_urls == null || js_urls.length === 0) {\n",
       "        run_callbacks();\n",
       "        return null;\n",
       "      }\n",
       "      console.log(\"Bokeh: BokehJS not loaded, scheduling load and callback at\", now());\n",
       "      window._bokeh_is_loading = js_urls.length;\n",
       "      for (var i = 0; i < js_urls.length; i++) {\n",
       "        var url = js_urls[i];\n",
       "        var s = document.createElement('script');\n",
       "        s.src = url;\n",
       "        s.async = false;\n",
       "        s.onreadystatechange = s.onload = function() {\n",
       "          window._bokeh_is_loading--;\n",
       "          if (window._bokeh_is_loading === 0) {\n",
       "            console.log(\"Bokeh: all BokehJS libraries loaded\");\n",
       "            run_callbacks()\n",
       "          }\n",
       "        };\n",
       "        s.onerror = function() {\n",
       "          console.warn(\"failed to load library \" + url);\n",
       "        };\n",
       "        console.log(\"Bokeh: injecting script tag for BokehJS library: \", url);\n",
       "        document.getElementsByTagName(\"head\")[0].appendChild(s);\n",
       "      }\n",
       "    };var element = document.getElementById(\"a6d609c9-bc81-49fc-9317-abb97f3a5261\");\n",
       "    if (element == null) {\n",
       "      console.log(\"Bokeh: ERROR: autoload.js configured with elementid 'a6d609c9-bc81-49fc-9317-abb97f3a5261' but no matching script tag was found. \")\n",
       "      return false;\n",
       "    }\n",
       "  \n",
       "    var js_urls = [];\n",
       "  \n",
       "    var inline_js = [\n",
       "      function(Bokeh) {\n",
       "        (function() {\n",
       "          var fn = function() {\n",
       "            var docs_json = {\"8938eba2-4e27-4516-b5a5-1933665181ba\":{\"roots\":{\"references\":[{\"attributes\":{\"label\":{\"value\":\"y=x*b\"},\"renderers\":[{\"id\":\"2e9e30e3-7e7f-4ffc-a883-86d02d6dcb2d\",\"type\":\"GlyphRenderer\"}]},\"id\":\"0901e05d-7288-4f74-96a2-4f3a99da8869\",\"type\":\"LegendItem\"},{\"attributes\":{\"data_source\":{\"id\":\"d1aa78f9-4a2e-43c5-8315-f04eed03f1fa\",\"type\":\"ColumnDataSource\"},\"glyph\":{\"id\":\"15ffc42a-f218-4917-ba8f-6a63eec7056d\",\"type\":\"Line\"},\"hover_glyph\":null,\"nonselection_glyph\":{\"id\":\"13365474-2037-48d0-9112-72ce8b09ce3f\",\"type\":\"Line\"},\"selection_glyph\":null},\"id\":\"2e9e30e3-7e7f-4ffc-a883-86d02d6dcb2d\",\"type\":\"GlyphRenderer\"},{\"attributes\":{\"fill_alpha\":{\"value\":0.1},\"fill_color\":{\"value\":\"#1f77b4\"},\"line_alpha\":{\"value\":0.1},\"line_color\":{\"value\":\"#1f77b4\"},\"radius\":{\"units\":\"data\",\"value\":0.01},\"x\":{\"field\":\"x\"},\"y\":{\"field\":\"y\"}},\"id\":\"f8d361cc-307d-4cfa-a412-1057bc9e62f1\",\"type\":\"Circle\"},{\"attributes\":{\"bottom_units\":\"screen\",\"fill_alpha\":{\"value\":0.5},\"fill_color\":{\"value\":\"lightgrey\"},\"left_units\":\"screen\",\"level\":\"overlay\",\"line_alpha\":{\"value\":1.0},\"line_color\":{\"value\":\"black\"},\"line_dash\":[4,4],\"line_width\":{\"value\":2},\"plot\":null,\"render_mode\":\"css\",\"right_units\":\"screen\",\"top_units\":\"screen\"},\"id\":\"df4aed74-1739-4225-938e-e97c8177ae32\",\"type\":\"BoxAnnotation\"},{\"attributes\":{\"dimension\":1,\"plot\":{\"id\":\"76025759-b4cb-40dc-89da-0a5b4f703779\",\"subtype\":\"Figure\",\"type\":\"Plot\"},\"ticker\":{\"id\":\"e36a87a6-2f69-40d8-b5ea-90c044bfb25f\",\"type\":\"BasicTicker\"}},\"id\":\"b793edc2-8fb3-443c-a801-2a5e4dc6391f\",\"type\":\"Grid\"},{\"attributes\":{\"active_drag\":\"auto\",\"active_scroll\":\"auto\",\"active_tap\":\"auto\",\"tools\":[{\"id\":\"39ec93b2-0714-4ecd-90cf-60f4c36fc97a\",\"type\":\"PanTool\"},{\"id\":\"2cc99f2c-6b98-4893-bc3d-d1737338c826\",\"type\":\"WheelZoomTool\"},{\"id\":\"7336bcd7-f76f-4673-89da-321cbc087646\",\"type\":\"BoxZoomTool\"},{\"id\":\"9dc8633c-9735-43f8-a2d9-00384a520440\",\"type\":\"SaveTool\"},{\"id\":\"3ee7e876-a6e4-435b-97d5-377335c2ab66\",\"type\":\"ResetTool\"},{\"id\":\"1fa6975f-fd71-45ea-9653-808f53c8c519\",\"type\":\"HelpTool\"}]},\"id\":\"7cec0f8c-38d7-4ed4-9ed9-4383a6a3d3ad\",\"type\":\"Toolbar\"},{\"attributes\":{\"plot\":{\"id\":\"76025759-b4cb-40dc-89da-0a5b4f703779\",\"subtype\":\"Figure\",\"type\":\"Plot\"}},\"id\":\"2cc99f2c-6b98-4893-bc3d-d1737338c826\",\"type\":\"WheelZoomTool\"},{\"attributes\":{\"items\":[{\"id\":\"0901e05d-7288-4f74-96a2-4f3a99da8869\",\"type\":\"LegendItem\"}],\"plot\":{\"id\":\"76025759-b4cb-40dc-89da-0a5b4f703779\",\"subtype\":\"Figure\",\"type\":\"Plot\"}},\"id\":\"74edeedc-53d6-41a0-abe7-9ade18109146\",\"type\":\"Legend\"},{\"attributes\":{\"axis_label\":\"y\",\"formatter\":{\"id\":\"e5b0aa5a-c682-46c5-97cd-8124b18d7ab4\",\"type\":\"BasicTickFormatter\"},\"plot\":{\"id\":\"76025759-b4cb-40dc-89da-0a5b4f703779\",\"subtype\":\"Figure\",\"type\":\"Plot\"},\"ticker\":{\"id\":\"e36a87a6-2f69-40d8-b5ea-90c044bfb25f\",\"type\":\"BasicTicker\"}},\"id\":\"159e6b4f-91f8-49c4-9cde-8e62de32c787\",\"type\":\"LinearAxis\"},{\"attributes\":{\"callback\":null},\"id\":\"ef099758-47d9-41fc-a156-8fd41e7afb21\",\"type\":\"DataRange1d\"},{\"attributes\":{\"plot\":{\"id\":\"76025759-b4cb-40dc-89da-0a5b4f703779\",\"subtype\":\"Figure\",\"type\":\"Plot\"}},\"id\":\"39ec93b2-0714-4ecd-90cf-60f4c36fc97a\",\"type\":\"PanTool\"},{\"attributes\":{\"plot\":{\"id\":\"76025759-b4cb-40dc-89da-0a5b4f703779\",\"subtype\":\"Figure\",\"type\":\"Plot\"}},\"id\":\"1fa6975f-fd71-45ea-9653-808f53c8c519\",\"type\":\"HelpTool\"},{\"attributes\":{\"plot\":{\"id\":\"76025759-b4cb-40dc-89da-0a5b4f703779\",\"subtype\":\"Figure\",\"type\":\"Plot\"},\"ticker\":{\"id\":\"94d4b97d-e49d-4b41-aff5-082497016e8e\",\"type\":\"BasicTicker\"}},\"id\":\"5467b353-fca3-4cd6-9265-b6a3e7496b38\",\"type\":\"Grid\"},{\"attributes\":{\"plot\":null,\"text\":\"Regression through the origin\"},\"id\":\"bdb32a08-518f-4c7d-a396-dcfe9d4da0c8\",\"type\":\"Title\"},{\"attributes\":{\"plot\":{\"id\":\"76025759-b4cb-40dc-89da-0a5b4f703779\",\"subtype\":\"Figure\",\"type\":\"Plot\"}},\"id\":\"9dc8633c-9735-43f8-a2d9-00384a520440\",\"type\":\"SaveTool\"},{\"attributes\":{\"fill_alpha\":{\"value\":0.6},\"fill_color\":{\"value\":\"#11535c\"},\"line_color\":{\"value\":null},\"radius\":{\"units\":\"data\",\"value\":0.01},\"x\":{\"field\":\"x\"},\"y\":{\"field\":\"y\"}},\"id\":\"55bfa2ad-57b6-4486-86e7-7ea2f61fdcef\",\"type\":\"Circle\"},{\"attributes\":{\"data_source\":{\"id\":\"b3aa78b1-aedd-4229-b889-d2207fb98d17\",\"type\":\"ColumnDataSource\"},\"glyph\":{\"id\":\"f0a84f1a-5eb4-4fb1-a4e4-26312a3413dc\",\"type\":\"MultiLine\"},\"hover_glyph\":null,\"nonselection_glyph\":{\"id\":\"5ef03e00-9191-47e7-a7e0-b182629ff8b6\",\"type\":\"MultiLine\"},\"selection_glyph\":null},\"id\":\"680e7a7b-5fcb-4b80-8965-ab955a2ac0e1\",\"type\":\"GlyphRenderer\"},{\"attributes\":{\"line_alpha\":{\"value\":0.1},\"line_color\":{\"value\":\"#1f77b4\"},\"line_width\":{\"value\":2.0},\"xs\":{\"field\":\"xs\"},\"ys\":{\"field\":\"ys\"}},\"id\":\"5ef03e00-9191-47e7-a7e0-b182629ff8b6\",\"type\":\"MultiLine\"},{\"attributes\":{\"callback\":null,\"column_names\":[\"y\",\"x\"],\"data\":{\"x\":{\"__ndarray__\":\"SNI/o+JowT/0Eb/2eNrTv+By+KDJTss/iMLCuTxMyj+qPNGj8HjevzSEt6V0YNM/6Bpcr7PbtL9kGo2WEHnUP2jBRjIZZMY/RFEi/K8m1r/KbxvbUWLev5iDw1rFwds/SKx9TTqh2T9Ap+g8DUO1PzgZRGyOidm/ELhdm2Povr9Q0ZmBQATMPyjv/lW1kcM/WOOf0Vqx2L88OdpSzm7aP/Ri1Nqb3d4/AKQeb3g9UT+oRleFB8axv3BirTaVBMO/aKnyfZ42yj/klJBfGLbcPwASzEDEE2Y/bu+3vkSH17+kPg2xug7TPwhcLPOcd8W/9jnh5+Rs278MHFqrqrjRP6hwTWEu38O/PFg3Y54I1z+V+lSFCRPgv0Qxpwn0PdE/2AVkT5dQyT8gIQyUh7PDP9QOZdlxhdw/TP7xL2qP3T/QJEw16L2wPzBZQ/wPXrY/nJ7c18HU2j8QamvMT8vPP1jw2+whCb6/cNMBIixKuD+gmxq5J7GsP8gx3+zHF9s/undH4g740L9kSQsGDrXeP9xnntiiEMe/CI5f9R3kyT+4bIa+mBq3vxCjpV2e662/HCQJRrzr0D8UNeXgf0vcP5LsIbKHB9i/YHMnP/mVwL8ASGMYtlNJP4DEQf+GNIO/kOmSLJSCwz8w+ngrbbvFvxzWYJMBUdI/qE5yyTErzr8AV0PzBTGdv2iJecCSZMS/eRFtgZYL4L+M8fbJP97Sv0CGajtnTLG/iJCGAGGfu7/MZpoNzVzcP0DmRBv+h9m/eiAT9/Jj1L9kY3yHI/PcPzjEKy8I97S/EJNgPhWu3r9UYtQ2v1vQv0zClS/Ffta/sN2Qvxkczz9Ee4TORt3aP7BE3D3ewL4/5oY310dV1b9WUlOim/fUv2RY6foL5sm/wGQdiVERwL8CPPgO0XzRv/wZfE9FHdA/Sr7LFtA53b8MoBuXIkTCv3gVSp20FNS/4KQnOQ7Pv7/ckWOVBnbGv65xEyTIjdm/WD2io5Vq2j9AT3ofyOiav5i05yWY1cq/KOoLfKYDxL9kyPBQMN/eP7yTqZfEF9S/ALH68jESjb8=\",\"dtype\":\"float64\",\"shape\":[100]},\"y\":{\"__ndarray__\":\"QGUnMjZgtT/wptcbglPcvwDo3Fp959g/KAuqVBPL7z88UXIDhdT5vzyrhfxtqPM/YFIeO1fC2L9I0FiTkQruP0BarR4Y3+g/vI9UypzD8b+UNfHmbAbxvzR/te9ga/w//Kv97Irl9D9gjMSRPDTQP9Cq31cwAum/iN/DrJvV4r/gFDNWuv3tP2hjodaGDeY/EKX5hbPv7L+0y/kLWHL7P2x8jfRyM/s/oGZSWY7s17/AxsZdQQK2v+iMRVSCyuq/wALFKysUyT9sHqsiCvL1P5A8wElKENa/JKstVJ4U+L90DuNo/X/zP+DwDB0Ej8e/vBIFA/WI9b/ccYyS9ab0P0BR6p1w3Ly/OIjsmxX+6T9UW/r7GyX9v9QtoVZgVPA/WJ3BtaHz6j+goq76cs7nP3jQCMJdSO8/XJHTN4Uk+z+Asb66A+Cvv4APLv3s5qi/bAFdrEc79T9Iltdr7RPvPxASwBDPuem/IPGOS6KoyT+gFVKYJ5DbP4y5ReSB0PQ/OP0NlxMW8L8clRrj8E3yPzhFP86AmOi/wP5xx9Q25z+A2YFoPsKpvwAPC3AQX8g/mFjawFaF4z+cmuqjfuD0PwAl2qDCC/W/iGICvAkd4L8Aihx07dfWv0CLMrUqCLK/SNvhOAnO5j94lPUIdIrtv3iJEoaGZO4/KAIQpmqL7b+Qy1L4a3Lbv0DeSYPPHru/XMbj6b5B/7+c3YCh5Hjxv0C/5XUsaLy/YIL80LWa5r+clbHf8d30P9CXoH2aYO6/RBLOAPRe87/M7LFWmZD4P/CJUWi/ndG//P8C9Jtw8r+Y98CXLJfjv3wCJhDqGPS/DA01Orzk8j98AFuu/njzP0DhXxaQR8E/eKofEH0/6r/889XdzQnwvwzOBJF0kfG/YEoP7y3pyL/oZi3PeMLqv1jmqEoiM+k/xMQ8KJm38r94JZt35HvpvxAZrJ/3kfC/8DxdpV7y2b9Qjmj9D8XYv5SFNAlVHvW/rG+IAYj++T/Agm28CPbYv1jDbAOg0e6/cAvbiOQW3r9MgSkTdnb8P2T8ZnNjRvS/gKyfSjlZpr8=\",\"dtype\":\"float64\",\"shape\":[100]}}},\"id\":\"74e9849d-7311-45fa-9515-841413a5e8de\",\"type\":\"ColumnDataSource\"},{\"attributes\":{\"axis_label\":\"x\",\"formatter\":{\"id\":\"6cf44464-6a2e-430d-95fe-1b91b2338ec2\",\"type\":\"BasicTickFormatter\"},\"plot\":{\"id\":\"76025759-b4cb-40dc-89da-0a5b4f703779\",\"subtype\":\"Figure\",\"type\":\"Plot\"},\"ticker\":{\"id\":\"94d4b97d-e49d-4b41-aff5-082497016e8e\",\"type\":\"BasicTicker\"}},\"id\":\"419c2512-64fe-47a4-8a70-7fd44deea6fb\",\"type\":\"LinearAxis\"},{\"attributes\":{\"callback\":null,\"end\":5,\"start\":-5},\"id\":\"fefe6a47-0368-4837-a9df-8655038191d8\",\"type\":\"Range1d\"},{\"attributes\":{\"line_color\":{\"value\":\"#2A2E33\"},\"line_width\":{\"value\":3},\"x\":{\"field\":\"x_i\"},\"y\":{\"field\":\"y_i\"}},\"id\":\"15ffc42a-f218-4917-ba8f-6a63eec7056d\",\"type\":\"Line\"},{\"attributes\":{\"line_color\":{\"value\":\"#9b0f0f\"},\"line_width\":{\"value\":2.0},\"xs\":{\"field\":\"xs\"},\"ys\":{\"field\":\"ys\"}},\"id\":\"f0a84f1a-5eb4-4fb1-a4e4-26312a3413dc\",\"type\":\"MultiLine\"},{\"attributes\":{},\"id\":\"f566efed-35c1-4fa5-9863-4fcf25b0042b\",\"type\":\"ToolEvents\"},{\"attributes\":{},\"id\":\"e36a87a6-2f69-40d8-b5ea-90c044bfb25f\",\"type\":\"BasicTicker\"},{\"attributes\":{\"data_source\":{\"id\":\"74e9849d-7311-45fa-9515-841413a5e8de\",\"type\":\"ColumnDataSource\"},\"glyph\":{\"id\":\"55bfa2ad-57b6-4486-86e7-7ea2f61fdcef\",\"type\":\"Circle\"},\"hover_glyph\":null,\"nonselection_glyph\":{\"id\":\"f8d361cc-307d-4cfa-a412-1057bc9e62f1\",\"type\":\"Circle\"},\"selection_glyph\":null},\"id\":\"408281e8-de3f-4c9f-a9ce-5d7e9ace903c\",\"type\":\"GlyphRenderer\"},{\"attributes\":{\"plot\":{\"id\":\"76025759-b4cb-40dc-89da-0a5b4f703779\",\"subtype\":\"Figure\",\"type\":\"Plot\"}},\"id\":\"3ee7e876-a6e4-435b-97d5-377335c2ab66\",\"type\":\"ResetTool\"},{\"attributes\":{},\"id\":\"6cf44464-6a2e-430d-95fe-1b91b2338ec2\",\"type\":\"BasicTickFormatter\"},{\"attributes\":{\"line_alpha\":{\"value\":0.1},\"line_color\":{\"value\":\"#1f77b4\"},\"line_width\":{\"value\":3},\"x\":{\"field\":\"x_i\"},\"y\":{\"field\":\"y_i\"}},\"id\":\"13365474-2037-48d0-9112-72ce8b09ce3f\",\"type\":\"Line\"},{\"attributes\":{\"callback\":null,\"column_names\":[\"xs\",\"ys\"],\"data\":{\"xs\":[[0.13601334544331878,0.13601334544331878],[-0.3102095040924546,-0.3102095040924546],[0.21334190711868128,0.21334190711868128],[0.20545157499647737,0.20545157499647737],[-0.4761315917757637,-0.4761315917757637],[0.30276218589102943,0.30276218589102943],[-0.08147738486523404,-0.08147738486523404],[0.31988920881523186,0.31988920881523186],[0.17492976145650663,0.17492976145650663],[-0.3461112940069777,-0.3461112940069777],[-0.4747509612768651,-0.4747509612768651],[0.43370183814664065,0.43370183814664065],[0.40046556060287175,0.40046556060287175],[0.08305437790900516,0.08305437790900516],[-0.3990207726750614,-0.3990207726750614],[-0.12073347609631946,-0.12073347609631946],[0.21887976005712995,0.21887976005712995],[0.15288416575446573,0.15288416575446573],[-0.3858248755564566,-0.3858248755564566],[0.41301305857713877,0.41301305857713877],[0.4822759282119897,0.4822759282119897],[0.0010522533525352262,0.0010522533525352262],[-0.0694279385127411,-0.0694279385127411],[-0.1485773579577372,-0.1485773579577372],[0.20479184293555908,0.20479184293555908],[0.44861420948502784,0.44861420948502784],[0.002694972330916423,0.002694972330916423],[-0.3676311361775707,-0.3676311361775707],[0.2977740029354925,0.2977740029354925],[-0.1677128016824272,-0.1677128016824272],[-0.4285213722659188,-0.4285213722659188],[0.2768961594924242,0.2768961594924242],[-0.15524844885920186,-0.15524844885920186],[0.35990104378777565,0.35990104378777565],[-0.5023238758220311,-0.5023238758220311],[0.2694063276546965,0.2694063276546965],[0.19777194382190433,0.19777194382190433],[0.15391630867839812,0.15391630867839812],[0.44564481954533375,0.44564481954533375],[0.46187834436566244,0.46187834436566244],[0.06539775181967689,0.06539775181967689],[0.08737277897612183,0.08737277897612183],[0.41923566894772946,0.41923566894772946],[0.2483920810835376,0.2483920810835376],[-0.1173268512029052,-0.1173268512029052],[0.09488178091289767,0.09488178091289767],[0.056039086671538785,0.056039086671538785],[0.42332647449509553,0.42332647449509553],[-0.2651402673490072,-0.2651402673490072],[0.4798007067703536,0.4798007067703536],[-0.18019519402588358,-0.18019519402588358],[0.20227407914272555,0.20227407914272555],[-0.09024958278171169,-0.09024958278171169],[-0.058438252383728906,-0.058438252383728906],[0.26438814963745627,0.26438814963745627],[0.44210812532840404,0.44210812532840404],[-0.37545959850076216,-0.37545959850076216],[-0.12957683166214462,-0.12957683166214462],[0.0007729186188731862,0.0007729186188731862],[-0.009377531685659912,-0.009377531685659912],[0.15242244888743217,0.15242244888743217],[-0.1697823011654278,-0.1697823011654278],[0.2861942233315362,0.2861942233315362],[-0.23569319092040542,-0.23569319092040542],[-0.028507321331594504,-0.028507321331594504],[-0.15931925199681563,-0.15931925199681563],[-0.5014145400860307,-0.5014145400860307],[-0.29481501315219627,-0.29481501315219627],[-0.06757207108105323,-0.06757207108105323],[-0.10790067923386648,-0.10790067923386648],[0.44316412285261886,0.44316412285261886],[-0.3989253298092059,-0.3989253298092059],[-0.3186004078711516,-0.3186004078711516],[0.4523400138000879,0.4523400138000879],[-0.08189440871844134,-0.08189440871844134],[-0.4793751820709966,-0.4793751820709966],[-0.25559978823142626,-0.25559978823142626],[-0.351487442464564,-0.351487442464564],[0.2430450616245543,0.2430450616245543],[0.4197556511662024,0.4197556511662024],[0.12013043413414226,0.12013043413414226],[-0.3333301164367256,-0.3333301164367256],[-0.32761278965089013,-0.32761278965089013],[-0.20233297111070947,-0.20233297111070947],[-0.12552851862964154,-0.12552851862964154],[-0.2732432027996198,-0.2732432027996198],[0.25178654443917003,0.25178654443917003],[-0.45665361620101363,-0.45665361620101363],[-0.14270431879344903,-0.14270431879344903],[-0.313763764956398,-0.313763764956398],[-0.12425316710836709,-0.12425316710836709],[-0.17547685903913546,-0.17547685903913546],[-0.3992786743454201,-0.3992786743454201],[0.4127554033265901,0.4127554033265901],[-0.026278616830111234,-0.026278616830111234],[-0.2096433816035741,-0.2096433816035741],[-0.15636139924011272,-0.15636139924011272],[0.4823723593173155,0.4823723593173155],[-0.3139506798818805,-0.3139506798818805],[-0.014194860675467158,-0.014194860675467158]],\"ys\":[[0.13601334544331878,0.08349932407818006],[-0.3102095040924546,-0.4425969383142805],[0.21334190711868128,0.38912900803882167],[0.20545157499647737,0.9935394910429283],[-0.4761315917757637,-1.614384664023489],[0.30276218589102943,1.2286205162187818],[-0.08147738486523404,-0.3868616177872237],[0.31988920881523186,0.9387901189679804],[0.17492976145650663,0.7772331809199571],[-0.3461112940069777,-1.110256948807531],[-0.4747509612768651,-1.0640687009029977],[0.43370183814664065,1.7762154925948836],[0.40046556060287175,1.3060406930405852],[0.08305437790900516,0.2531882689965581],[-0.3990207726750614,-0.7815171924861151],[-0.12073347609631946,-0.588575208122152],[0.21887976005712995,0.9372226413330758],[0.15288416575446573,0.6891512100220156],[-0.3858248755564566,-0.904260408087028],[0.41301305857713877,1.715415999203043],[0.4822759282119897,1.7000608017767957],[0.0010522533525352262,-0.3738132355007142],[-0.0694279385127411,-0.08597191371407131],[-0.1485773579577372,-0.8372203489238048],[0.20479184293555908,0.1959279979437465],[0.44861420948502784,1.371591697143141],[0.002694972330916423,-0.34474427416075404],[-0.3676311361775707,-1.5050338066309417],[0.2977740029354925,1.2187475297113481],[-0.1677128016824272,-0.18405200403674993],[-0.4285213722659188,-1.345936786457215],[0.2768961594924242,1.2907615398936434],[-0.15524844885920186,-0.11273864608148632],[0.35990104378777565,0.812266163386318],[-0.5023238758220311,-1.821559891022578],[0.2694063276546965,1.020599687954804],[0.19777194382190433,0.8422401952674745],[0.15391630867839812,0.7439513107429612],[0.44564481954533375,0.9775837697730045],[0.46187834436566244,1.6964161091537653],[0.06539775181967689,-0.06225597052193432],[0.08737277897612183,-0.04863682356429333],[0.41923566894772946,1.3269726498548051],[0.2483920810835376,0.9711825472156272],[-0.1173268512029052,-0.8039317443040677],[0.09488178091289767,0.20045880021451357],[0.056039086671538785,0.4306735026842379],[0.42332647449509553,1.3009051243676337],[-0.2651402673490072,-1.0053897762844155],[0.4798007067703536,1.144028555988661],[-0.18019519402588358,-0.7686161068215034],[0.20227407914272555,0.7254432578483474],[-0.09024958278171169,-0.05031008744929277],[-0.058438252383728906,0.19040112944468746],[0.26438814963745627,0.6100267187746509],[0.44210812532840404,1.3048082736001225],[-0.37545959850076216,-1.3153711589132513],[-0.12957683166214462,-0.5035446807915642],[0.0007729186188731862,-0.35692917193424023],[-0.009377531685659912,-0.07043711589589652],[0.15242244888743217,0.712650881860875],[-0.1697823011654278,-0.9231510329233421],[0.2861942233315362,0.9497711771585235],[-0.23569319092040542,-0.9232686274918409],[-0.028507321331594504,-0.42885874986966943],[-0.15931925199681563,-0.10593888240134053],[-0.5014145400860307,-1.953551210052317],[-0.29481501315219627,-1.0920149143911209],[-0.06757207108105323,-0.11096456411700917],[-0.10790067923386648,-0.7063855249180726],[0.44316412285261886,1.3041857469591838],[-0.3989253298092059,-0.9492924169214749],[-0.3186004078711516,-1.210681918281936],[0.4523400138000879,1.5353024851345252],[-0.08189440871844134,-0.27525315463404265],[-0.4793751820709966,-1.1524924785335307],[-0.25559978823142626,-0.6122038806858994],[-0.351487442464564,-1.2560825949477978],[0.2430450616245543,1.1808435701103148],[0.4197556511662024,1.217039757801131],[0.12013043413414226,0.13499642460352312],[-0.3333301164367256,-0.8202500643649975],[-0.32761278965089013,-1.002393595262446],[-0.20233297111070947,-1.0980115570827165],[-0.12552851862964154,-0.19461607144201576],[-0.2732432027996198,-0.8362392469818731],[0.25178654443917003,0.7874919374655276],[-0.45665361620101363,-1.1698237964413218],[-0.14270431879344903,-0.7963735900931814],[-0.313763764956398,-1.0356365430066639],[-0.12425316710836709,-0.40541807316635836],[-0.17547685903913546,-0.3870277380649201],[-0.3992786743454201,-1.3199053153587998],[0.4127554033265901,1.6246414241677298],[-0.026278616830111234,-0.3900167312731746],[-0.2096433816035741,-0.9630889956371034],[-0.15636139924011272,-0.4701472603302852],[0.4823723593173155,1.7789211987038298],[-0.3139506798818805,-1.2671846874143506],[-0.014194860675467158,-0.043649473533002414]]}},\"id\":\"b3aa78b1-aedd-4229-b889-d2207fb98d17\",\"type\":\"ColumnDataSource\"},{\"attributes\":{\"below\":[{\"id\":\"419c2512-64fe-47a4-8a70-7fd44deea6fb\",\"type\":\"LinearAxis\"}],\"left\":[{\"id\":\"159e6b4f-91f8-49c4-9cde-8e62de32c787\",\"type\":\"LinearAxis\"}],\"plot_height\":300,\"renderers\":[{\"id\":\"419c2512-64fe-47a4-8a70-7fd44deea6fb\",\"type\":\"LinearAxis\"},{\"id\":\"5467b353-fca3-4cd6-9265-b6a3e7496b38\",\"type\":\"Grid\"},{\"id\":\"159e6b4f-91f8-49c4-9cde-8e62de32c787\",\"type\":\"LinearAxis\"},{\"id\":\"b793edc2-8fb3-443c-a801-2a5e4dc6391f\",\"type\":\"Grid\"},{\"id\":\"df4aed74-1739-4225-938e-e97c8177ae32\",\"type\":\"BoxAnnotation\"},{\"id\":\"408281e8-de3f-4c9f-a9ce-5d7e9ace903c\",\"type\":\"GlyphRenderer\"},{\"id\":\"74edeedc-53d6-41a0-abe7-9ade18109146\",\"type\":\"Legend\"},{\"id\":\"2e9e30e3-7e7f-4ffc-a883-86d02d6dcb2d\",\"type\":\"GlyphRenderer\"},{\"id\":\"680e7a7b-5fcb-4b80-8965-ab955a2ac0e1\",\"type\":\"GlyphRenderer\"}],\"title\":{\"id\":\"bdb32a08-518f-4c7d-a396-dcfe9d4da0c8\",\"type\":\"Title\"},\"tool_events\":{\"id\":\"f566efed-35c1-4fa5-9863-4fcf25b0042b\",\"type\":\"ToolEvents\"},\"toolbar\":{\"id\":\"7cec0f8c-38d7-4ed4-9ed9-4383a6a3d3ad\",\"type\":\"Toolbar\"},\"x_range\":{\"id\":\"ef099758-47d9-41fc-a156-8fd41e7afb21\",\"type\":\"DataRange1d\"},\"y_range\":{\"id\":\"fefe6a47-0368-4837-a9df-8655038191d8\",\"type\":\"Range1d\"}},\"id\":\"76025759-b4cb-40dc-89da-0a5b4f703779\",\"subtype\":\"Figure\",\"type\":\"Plot\"},{\"attributes\":{},\"id\":\"94d4b97d-e49d-4b41-aff5-082497016e8e\",\"type\":\"BasicTicker\"},{\"attributes\":{},\"id\":\"e5b0aa5a-c682-46c5-97cd-8124b18d7ab4\",\"type\":\"BasicTickFormatter\"},{\"attributes\":{\"overlay\":{\"id\":\"df4aed74-1739-4225-938e-e97c8177ae32\",\"type\":\"BoxAnnotation\"},\"plot\":{\"id\":\"76025759-b4cb-40dc-89da-0a5b4f703779\",\"subtype\":\"Figure\",\"type\":\"Plot\"}},\"id\":\"7336bcd7-f76f-4673-89da-321cbc087646\",\"type\":\"BoxZoomTool\"},{\"attributes\":{\"callback\":null,\"column_names\":[\"y_i\",\"x_i\"],\"data\":{\"x_i\":{\"__ndarray__\":\"lfpUhQkT4L9kyPBQMN/ePw==\",\"dtype\":\"float64\",\"shape\":[2]},\"y_i\":{\"__ndarray__\":\"lfpUhQkT4L9kyPBQMN/ePw==\",\"dtype\":\"float64\",\"shape\":[2]}}},\"id\":\"d1aa78f9-4a2e-43c5-8315-f04eed03f1fa\",\"type\":\"ColumnDataSource\"}],\"root_ids\":[\"76025759-b4cb-40dc-89da-0a5b4f703779\"]},\"title\":\"Bokeh Application\",\"version\":\"0.12.4\"}};\n",
       "            var render_items = [{\"docid\":\"8938eba2-4e27-4516-b5a5-1933665181ba\",\"elementid\":\"a6d609c9-bc81-49fc-9317-abb97f3a5261\",\"modelid\":\"76025759-b4cb-40dc-89da-0a5b4f703779\",\"notebook_comms_target\":\"81e7d2cb-4307-46f7-b5dd-8daf6b836933\"}];\n",
       "            \n",
       "            Bokeh.embed.embed_items(docs_json, render_items);\n",
       "          };\n",
       "          if (document.readyState != \"loading\") fn();\n",
       "          else document.addEventListener(\"DOMContentLoaded\", fn);\n",
       "        })();\n",
       "      },\n",
       "      function(Bokeh) {\n",
       "      }\n",
       "    ];\n",
       "  \n",
       "    function run_inline_js() {\n",
       "      \n",
       "      if ((window.Bokeh !== undefined) || (force === true)) {\n",
       "        for (var i = 0; i < inline_js.length; i++) {\n",
       "          inline_js[i](window.Bokeh);\n",
       "        }if (force === true) {\n",
       "          display_loaded();\n",
       "        }} else if (Date.now() < window._bokeh_timeout) {\n",
       "        setTimeout(run_inline_js, 100);\n",
       "      } else if (!window._bokeh_failed_load) {\n",
       "        console.log(\"Bokeh: BokehJS failed to load within specified timeout.\");\n",
       "        window._bokeh_failed_load = true;\n",
       "      } else if (force !== true) {\n",
       "        var cell = $(document.getElementById(\"a6d609c9-bc81-49fc-9317-abb97f3a5261\")).parents('.cell').data().cell;\n",
       "        cell.output_area.append_execute_result(NB_LOAD_WARNING)\n",
       "      }\n",
       "  \n",
       "    }\n",
       "  \n",
       "    if (window._bokeh_is_loading === 0) {\n",
       "      console.log(\"Bokeh: BokehJS loaded, going straight to plotting\");\n",
       "      run_inline_js();\n",
       "    } else {\n",
       "      load_libs(js_urls, function() {\n",
       "        console.log(\"Bokeh: BokehJS plotting callback run at\", now());\n",
       "        run_inline_js();\n",
       "      });\n",
       "    }\n",
       "  }(this));\n",
       "</script>"
      ]
     },
     "metadata": {},
     "output_type": "display_data"
    },
    {
     "data": {
      "application/vnd.jupyter.widget-view+json": {
       "model_id": "92832fe6d2b54093b7cf22de4b43cf7f"
      }
     },
     "metadata": {},
     "output_type": "display_data"
    },
    {
     "data": {
      "text/plain": [
       "<function __main__.update>"
      ]
     },
     "execution_count": 148,
     "metadata": {},
     "output_type": "execute_result"
    }
   ],
   "source": [
    "from ipywidgets import interact\n",
    "\n",
    "from  bokeh.models.sources import ColumnDataSource\n",
    "from bokeh.io import push_notebook, show, output_notebook\n",
    "from bokeh.plotting import figure\n",
    "output_notebook()\n",
    "\n",
    "x_i = np.array([np.min(x_n),np.max(x_n)])\n",
    "y_i = x_i\n",
    "b = 1.\n",
    "source = ColumnDataSource(data=dict(x_i=x_i, y_i=y_i))\n",
    "\n",
    "p = figure(title='Regression through the origin', plot_height=300, plot_width=600, y_range=(-5,5),x_axis_label='x', y_axis_label='y')\n",
    "p.circle(x_n, y_n, radius=0.01, color=\"#11535c\", fill_alpha=0.6, line_color=None)\n",
    "r = p.line('x_i', 'y_i', color=\"#2A2E33\",source=source, line_width=3,legend=\"y=x*b\")\n",
    "\n",
    "xs = [[entry, entry] for entry in x_n]\n",
    "\n",
    "ys = [[b*entry[0],entry[1]] for entry in zip(x_n,y_n)] \n",
    "\n",
    "source2 = ColumnDataSource(data=dict(xs=xs, ys=ys))\n",
    "gi = p.multi_line('xs','ys',source=source2 ,line_width=2., color=\"#9b0f0f\" )\n",
    "\n",
    "def calc_mse(xs, ys, a, b):\n",
    "    mse = np.sum((ys - (a+b*xs))**2)/np.size(ys)    \n",
    "    return mse\n",
    "        \n",
    "\n",
    "def update(  b=1): \n",
    "    a=0\n",
    "    r.data_source.data['y_i'] = (b * x_i )\n",
    "    gi.data_source.data['ys'] = [ [b*entry[0],entry[1]] for entry in zip(x_n,y_n)] \n",
    "    mse = calc_mse(x_n,y_n,a,b)\n",
    "    p.title.text='Regression through the origin (b = %.3f, MSE = %.3f)'%(b, mse)\n",
    "    push_notebook()\n",
    "    \n",
    "    \n",
    "show(p, notebook_handle=True)\n",
    "interact(update, b=(-6.,6.))\n",
    "\n",
    "\n"
   ]
  },
  {
   "cell_type": "markdown",
   "metadata": {
    "deletable": true,
    "editable": true
   },
   "source": [
    "#### With scipy (stats)"
   ]
  },
  {
   "cell_type": "code",
   "execution_count": 125,
   "metadata": {
    "collapsed": false,
    "deletable": true,
    "editable": true
   },
   "outputs": [
    {
     "data": {
      "image/png": "[encoded data removed]",
      "text/plain": [
       "<matplotlib.figure.Figure at 0x7fc86274c490>"
      ]
     },
     "metadata": {},
     "output_type": "display_data"
    },
    {
     "name": "stdout",
     "output_type": "stream",
     "text": [
      "Slope = 3.223\n",
      "MSE = 0.070\n"
     ]
    }
   ],
   "source": [
    "from scipy import stats\n",
    "\n",
    "slope, intercept, r_value, p_value, std_err = stats.linregress(x_n,y_n)\n",
    "plt.plot(x_n, y_n, 'o', label='Original data', markersize=10)\n",
    "plt.plot(x_n, slope*x_n + intercept, 'r', label='Fitted line')\n",
    "plt.xlabel('x_n')\n",
    "plt.ylabel('y_n')\n",
    "plt.legend()\n",
    "plt.show()\n",
    "\n",
    "print('Slope = %.3f' %slope)\n",
    "#print('Intercept = %.3f' %intercept)\n",
    "print('MSE = %.3f'%calc_mse(x_n,y_n,intercept,slope))"
   ]
  },
  {
   "cell_type": "markdown",
   "metadata": {
    "deletable": true,
    "editable": true
   },
   "source": [
    "#### With scipy (statsmodels)\n",
    "\n"
   ]
  },
  {
   "cell_type": "code",
   "execution_count": 143,
   "metadata": {
    "collapsed": false,
    "deletable": true,
    "editable": true
   },
   "outputs": [
    {
     "name": "stdout",
     "output_type": "stream",
     "text": [
      "                            OLS Regression Results                            \n",
      "==============================================================================\n",
      "Dep. Variable:                    y_n   R-squared:                       0.927\n",
      "Model:                            OLS   Adj. R-squared:                  0.926\n",
      "Method:                 Least Squares   F-statistic:                     1241.\n",
      "Date:                Wed, 10 May 2017   Prob (F-statistic):           1.89e-57\n",
      "Time:                        07:04:38   Log-Likelihood:                -9.1897\n",
      "No. Observations:                 100   AIC:                             22.38\n",
      "Df Residuals:                      98   BIC:                             27.59\n",
      "Df Model:                           1                                         \n",
      "Covariance Type:            nonrobust                                         \n",
      "==============================================================================\n",
      "                 coef    std err          t      P>|t|      [0.025      0.975]\n",
      "------------------------------------------------------------------------------\n",
      "Intercept     6.8e-16      0.027   2.54e-14      1.000      -0.053       0.053\n",
      "x_n            3.2226      0.091     35.230      0.000       3.041       3.404\n",
      "==============================================================================\n",
      "Omnibus:                       20.281   Durbin-Watson:                   2.157\n",
      "Prob(Omnibus):                  0.000   Jarque-Bera (JB):                4.974\n",
      "Skew:                           0.058   Prob(JB):                       0.0831\n",
      "Kurtosis:                       1.914   Cond. No.                         3.41\n",
      "==============================================================================\n",
      "\n",
      "Warnings:\n",
      "[1] Standard Errors assume that the covariance matrix of the errors is correctly specified.\n"
     ]
    }
   ],
   "source": [
    "from statsmodels.formula.api import ols\n",
    "data = pd.DataFrame({'x_n': x_n, 'y_n': y_n})\n",
    "model = ols(\"y_n ~ x_n\", data).fit()\n",
    "print(model.summary())"
   ]
  },
  {
   "cell_type": "markdown",
   "metadata": {
    "deletable": true,
    "editable": true
   },
   "source": [
    "#### With numpy"
   ]
  },
  {
   "cell_type": "code",
   "execution_count": 127,
   "metadata": {
    "collapsed": false,
    "deletable": true,
    "editable": true
   },
   "outputs": [
    {
     "data": {
      "image/png": "[encoded data removed]",
      "text/plain": [
       "<matplotlib.figure.Figure at 0x7fc862ec0390>"
      ]
     },
     "metadata": {},
     "output_type": "display_data"
    },
    {
     "name": "stdout",
     "output_type": "stream",
     "text": [
      "Slope = 3.223\n",
      "MSE = 0.070\n"
     ]
    }
   ],
   "source": [
    "\n",
    "# rewrite as y = Ap , with A = [[x 1]] and p = [[m], [c]] and solve for p\n",
    "\n",
    "A = np.vstack([x_n, np.zeros(len(x_n))]).T\n",
    "\n",
    "m, c = np.linalg.lstsq(A, y_n)[0]\n",
    "\n",
    "plt.plot(x_n, y_n, 'o', label='Original data', markersize=10)\n",
    "plt.plot(x_n, m*x_n + c, 'r', label='Fitted line')\n",
    "plt.legend()\n",
    "plt.show()\n",
    "\n",
    "\n",
    "\n",
    "print('Slope = %.3f' %m)\n",
    "#print('Intercept = %.3f' %c)\n",
    "print('MSE = %.3f'%calc_mse(x_n,y_n,c,m))"
   ]
  },
  {
   "cell_type": "markdown",
   "metadata": {
    "deletable": true,
    "editable": true
   },
   "source": [
    "#### With sklearn"
   ]
  },
  {
   "cell_type": "code",
   "execution_count": 128,
   "metadata": {
    "collapsed": false,
    "deletable": true,
    "editable": true
   },
   "outputs": [
    {
     "name": "stdout",
     "output_type": "stream",
     "text": [
      "('Coefficients:', array([[ 3.22260395]]))\n"
     ]
    },
    {
     "data": {
      "image/png": "[encoded data removed]",
      "text/plain": [
       "<matplotlib.figure.Figure at 0x7fc862b16490>"
      ]
     },
     "metadata": {},
     "output_type": "display_data"
    },
    {
     "name": "stdout",
     "output_type": "stream",
     "text": [
      "Slope = 3.223\n",
      "MSE = 0.070\n"
     ]
    }
   ],
   "source": [
    "from sklearn import linear_model\n",
    "\n",
    "# Create linear regression object\n",
    "regr = linear_model.LinearRegression()\n",
    "\n",
    "# Train the model using the training sets\n",
    "regr.fit(x_n.reshape(-1,1), y_n.reshape(-1,1))\n",
    "\n",
    "# The coefficients\n",
    "print('Coefficients:', regr.coef_)\n",
    "# The mean squared error\n",
    "#print(\"Mean squared error: %.2f\"\n",
    "#      % np.mean((regr.predict(x_n.reshape(-1,1)) - y_n.reshape(-1,1)) ** 2))\n",
    "# Explained variance score: 1 is perfect prediction\n",
    "#print('Variance score: %.2f' % regr.score(x_n.reshape(-1,1), y_n.reshape(-1,1)))\n",
    "\n",
    "sl  = regr.coef_[0][0]\n",
    "inter = regr.intercept_[0]\n",
    "\n",
    "plt.plot(x_n, y_n, 'o', label='Original data', markersize=10)\n",
    "plt.plot(x_n, sl*x_n + inter, 'r', label='Fitted line')\n",
    "plt.legend()\n",
    "plt.show()\n",
    "\n",
    "\n",
    "\n",
    "print('Slope = %.3f' %sl)\n",
    "#print('Intercept = %.3f' %c)\n",
    "print('MSE = %.3f'%calc_mse(x_n,y_n,inter,sl))\n"
   ]
  },
  {
   "cell_type": "markdown",
   "metadata": {
    "deletable": true,
    "editable": true
   },
   "source": [
    "### Ordinary Least Squares (OLS)\n",
    "\n",
    "We would like to find the best line </li>\n",
    "\n",
    "Child's Height = $\\beta_0$ + $\\beta_1 $ Parent's Height\n",
    "\n",
    "Using least squares\n",
    "$$ \\sum_{i=1}^n \\{Y_i - (\\beta_0 + \\beta_1 X_i)\\}^2.$$\n",
    "\n",
    "The least squares fit to the line $Y = \\beta_0 + \\beta_1 X$ through the data pairs $(X_i, Y_i)$, with $Y_i$ the outcome results in $Y = \\hat{\\beta_0} + \\hat{\\beta_1} X$, with\n",
    "$$\\hat{\\beta_1} = Cor(Y,X) \\frac{S_Y}{S_X}$$ and\n",
    "$$ \\hat{\\beta_0} = \\bar{Y} - \\hat{\\beta_1} \\bar{X}.$$\n",
    "\n",
    "$\\beta_0$, the **intercept** and $\\beta_1$, the **slope**, are the model coefficients.\n",
    "\n",
    "Obviously the line passes through $(\\bar{X}, \\bar{Y})$, so is equivalent with the line obtained from regression throught the origin of centered data.\n",
    "\n",
    "The slope of the regression line with $X$ as the outcome and $Y$ as the predictor is $Cor(Y, X) \\frac{Sd(X)}{ Sd(Y)}!!!$\n",
    "\n",
    "For **normalised data**, the slope is $Cor(Y, X).$\n"
   ]
  },
  {
   "cell_type": "code",
   "execution_count": 129,
   "metadata": {
    "collapsed": false,
    "deletable": true,
    "editable": true
   },
   "outputs": [
    {
     "name": "stdout",
     "output_type": "stream",
     "text": [
      "3.22260395303\n",
      "3.78038177821\n"
     ]
    },
    {
     "data": {
      "image/png": "[encoded data removed]",
      "text/plain": [
       "<matplotlib.figure.Figure at 0x7fc862da03d0>"
      ]
     },
     "metadata": {},
     "output_type": "display_data"
    }
   ],
   "source": [
    "from scipy.stats.stats import pearsonr\n",
    "cor_YX, p_val = pearsonr(y, x)\n",
    "b1  = cor_YX*np.std(y)/np.std(x)\n",
    "print b1#(r\"$\\hat{\\beta_1} = %.3f$\"%b1)\n",
    "b0 = np.mean(y)-b1*np.mean(x)\n",
    "print b0\n",
    "\n",
    "#plot data points and fitted line\n",
    "plt.plot(x, y, 'o', label='Original data', markersize=10)\n",
    "plt.plot(x, b1*x + b0, 'r', label='Fitted line')\n",
    "plt.xlabel('x')\n",
    "plt.ylabel('y')\n",
    "plt.legend()\n",
    "plt.show()"
   ]
  },
  {
   "cell_type": "markdown",
   "metadata": {},
   "source": [
    "Let's try to reverse the role of the predictor and the outcome:"
   ]
  },
  {
   "cell_type": "code",
   "execution_count": 130,
   "metadata": {
    "collapsed": false,
    "deletable": true,
    "editable": true
   },
   "outputs": [
    {
     "name": "stdout",
     "output_type": "stream",
     "text": [
      "0.287599572269\n",
      "-1.01297952359\n"
     ]
    },
    {
     "data": {
      "image/png": "[encoded data removed]",
      "text/plain": [
       "<matplotlib.figure.Figure at 0x7fc862c3cc10>"
      ]
     },
     "metadata": {},
     "output_type": "display_data"
    }
   ],
   "source": [
    "# reverse outcome/ predictor relationship\n",
    "b1  = cor_YX*np.std(x)/np.std(y)\n",
    "print b1#(r\"$\\hat{\\beta_1} = %.3f$\"%b1)\n",
    "b0 = -b1*np.mean(y)+np.mean(x)\n",
    "print b0\n",
    "\n",
    "\n",
    "#plot data points and fitted line\n",
    "plt.plot(y, x, 'o', label='Original data', markersize=10)\n",
    "plt.plot(y, b1*y + b0, 'r', label='Fitted line')\n",
    "plt.xlabel('y')\n",
    "plt.ylabel('x')\n",
    "plt.legend()\n",
    "plt.show()"
   ]
  },
  {
   "cell_type": "markdown",
   "metadata": {
    "deletable": true,
    "editable": true
   },
   "source": [
    "***Notice the different coefficients obtained for the reversed model!!!***"
   ]
  },
  {
   "cell_type": "markdown",
   "metadata": {},
   "source": [
    "## Interpreting Model Coefficients"
   ]
  },
  {
   "cell_type": "markdown",
   "metadata": {},
   "source": [
    "How do we interpret the $\\beta_1$ coefficient?\n",
    "* A unit increase in parent's height is **associated with** $\\beta_1$ units increase in children's height.\n",
    "* A decrease would be designated by a **negative** coefficient $\\beta_1$."
   ]
  },
  {
   "cell_type": "markdown",
   "metadata": {},
   "source": [
    "### Excersises"
   ]
  },
  {
   "cell_type": "markdown",
   "metadata": {},
   "source": [
    "- #### Galton's parents'-children's heights:\n",
    "For the \"galton.csv\" dataset:\n",
    " * Create additional columns with centred versions of the columns \"Adj_Heights\" and \"Mean_Parents\" \n",
    " * Perform a regression through the origin employing the newly created columns.\n",
    " * Plot the data and the fitted line.\n",
    " * Calculate the Mean Squared Error between the predicted model and the fitted data.\n",
    " * Perform a regression on the uncentered data and compare the slope with the previously identified one.\n",
    " * Plot the uncentered data and the predicted model.\n",
    " * Calculate the MSE.\n",
    " * Calculate the slope and variance using the aforementioned correlation formulas.\n",
    " * Reverse the role of the predictor/outcome and try to explain the parents' height with the children's height.\n",
    " * Compare the model coefficients with the previously identified ones.\n",
    " * Now, add two further columns with normalised data.\n",
    " * Perform linear regression considering the children's heights as outcome.\n",
    " * Perform linear regression considering the parents' heights as outcome.\n",
    " * Compare the slopes."
   ]
  },
  {
   "cell_type": "code",
   "execution_count": null,
   "metadata": {
    "collapsed": true
   },
   "outputs": [],
   "source": []
  },
  {
   "cell_type": "markdown",
   "metadata": {},
   "source": [
    "## How Well Does the Model Fit the data?"
   ]
  },
  {
   "cell_type": "markdown",
   "metadata": {
    "deletable": true,
    "editable": true
   },
   "source": [
    "## Residuals\n",
    "\n",
    "Represent variation left unexplained by the fitted model - the vertical distances from the fitted line to the data points.\n",
    "\n",
    "Assuming the underlying model that the data follows $$Y_i = \\beta_0 + \\beta_1 X_i + \\epsilon_i,$$\n",
    "where $\\epsilon_i \\sim N(0,\\sigma^2)$, the predicted outcome $\\hat{Y_i}$ at the predictor value $X_i$ will be $$\\hat{Y_i} = \\hat{\\beta_0} + \\hat{\\beta_1} X_i$$\n",
    "\n",
    "The residual between the observed and the predicted outcome $$e_i = Y_i -\\hat{Y_i}.$$\n",
    "\n",
    "Least squares minimises the squared vertical distances, so in essence minimises $\\sum^n_{i=1}e^2_i.$\n",
    "\n",
    "The $e_i$ may be thought as estimates of the $\\epsilon_i$.\n",
    "\n",
    "#### Properties of the residuals\n",
    "\n",
    "* $E[e_i] = 0$\n",
    "* Useful for diagnosing poor model fit (residual plots)\n",
    "* May be thought as the outcome $Y$ with the linear association with the predictor $X$ having been removed.\n",
    "\n",
    "So one can differentiate residual variation (variation after removing the linear relaship with the predictor) from systematic variation (variation explained by the regression model)\n",
    "\n",
    "\n"
   ]
  },
  {
   "cell_type": "code",
   "execution_count": 131,
   "metadata": {
    "collapsed": false,
    "deletable": true,
    "editable": true
   },
   "outputs": [],
   "source": [
    "#with numpy\n",
    "y_hat1 = m*x_n + c\n",
    "\n",
    "\n",
    "#with scipy - stats\n",
    "y_hat2 = slope*x_n + intercept\n",
    "\n",
    "#with scipy - statsmodels\n",
    "\n",
    "y_hat3 = model.predict(x_n)\n",
    "\n",
    "#with sklearn\n",
    "\n",
    "y_hat4 = regr.predict(x_n.reshape(-1,1))\n",
    "\n",
    "res1 = y_n - y_hat1\n",
    "res2 = y_n - y_hat2\n",
    "res3 = y_n - y_hat3\n",
    "res4 = y_n - y_hat4.reshape(-1,)\n"
   ]
  },
  {
   "cell_type": "markdown",
   "metadata": {
    "collapsed": true,
    "deletable": true,
    "editable": true
   },
   "source": [
    "### Residual Plot"
   ]
  },
  {
   "cell_type": "code",
   "execution_count": 132,
   "metadata": {
    "collapsed": false,
    "deletable": true,
    "editable": true
   },
   "outputs": [
    {
     "name": "stdout",
     "output_type": "stream",
     "text": [
      "(100,)\n"
     ]
    },
    {
     "data": {
      "text/plain": [
       "<matplotlib.text.Text at 0x7fc86258fb10>"
      ]
     },
     "execution_count": 132,
     "metadata": {},
     "output_type": "execute_result"
    },
    {
     "data": {
      "image/png": "[encoded data removed]",
      "text/plain": [
       "<matplotlib.figure.Figure at 0x7fc868419750>"
      ]
     },
     "metadata": {},
     "output_type": "display_data"
    }
   ],
   "source": [
    "print x_n.shape\n",
    "plt.plot(x_n,res1,'o')\n",
    "\n",
    "for i in xrange(len(x_n)):\n",
    "    plt.plot([x_n[i],x_n[i]] , [res1[i], 0],color=\"#9b0f0f\",lw=2)\n",
    "    \n",
    "plt.xlabel('x_n')\n",
    "plt.ylabel('residuals')"
   ]
  },
  {
   "cell_type": "markdown",
   "metadata": {
    "collapsed": true,
    "deletable": true,
    "editable": true
   },
   "source": [
    "When we look at the residual plot, we are looking for patterns: **the residuals should be mostly patternless for a good fit**.\n",
    "\n",
    "We may now visualise the deviation around the outcome withought considering the predictor and the variations of the outcome after we removed the linear effect of the predictor."
   ]
  },
  {
   "cell_type": "code",
   "execution_count": 139,
   "metadata": {
    "collapsed": false,
    "deletable": true,
    "editable": true
   },
   "outputs": [
    {
     "name": "stdout",
     "output_type": "stream",
     "text": [
      "(100,)\n"
     ]
    },
    {
     "data": {
      "text/plain": [
       "[<matplotlib.lines.Line2D at 0x7fc86215c2d0>]"
      ]
     },
     "execution_count": 139,
     "metadata": {},
     "output_type": "execute_result"
    },
    {
     "data": {
      "image/png": "[encoded data removed]",
      "text/plain": [
       "<matplotlib.figure.Figure at 0x7fc8621f5710>"
      ]
     },
     "metadata": {},
     "output_type": "display_data"
    }
   ],
   "source": [
    "\n",
    "plt.plot([1]*100,np.sort(y-np.mean(y)),'o')\n",
    "plt.plot([2]*100,np.sort(res1),'o')"
   ]
  },
  {
   "cell_type": "markdown",
   "metadata": {},
   "source": [
    "### R-squared\n",
    "\n",
    "R-squared (coefficient of determination) is a statistical measure of how close the data are to the fitted regression line. \n",
    " It is the** percentage of the response variable variation that is explained by the linear model**.\n",
    " \n",
    " $$R^2 = \\frac{ \\text{Explained variation}}{ \\text{Total variation}}= \\frac{\\sum_{i=1}^n  (\\hat Y_i - \\bar Y)^2}{\\sum_{i=1}^n (Y_i - \\bar Y)^2}\n",
    "= 1 - \\frac{\\sum_{i=1}^n (Y_i - \\hat Y_i)^2}{\\sum_{i=1}^n (Y_i - \\bar Y)^2}$$\n",
    " \n",
    "$$ \\text{Total variation} = \\sum_{i=1}^n (Y_i - \\bar Y)^2 \n",
    "= \\text{Explained variation} + \\text{Residual variation}=  \\sum_{i=1}^n (\\hat Y_i - \\bar Y)^2 +\\sum_{i=1}^n (Y_i - \\hat Y_i)^2$$"
   ]
  },
  {
   "cell_type": "markdown",
   "metadata": {},
   "source": [
    "Estimate of residual variation arounfd the regression line, $\\sigma^2$,\n",
    "$$\\hat \\sigma^2 = \\frac{1}{n-2}\\sum_{i=1}^n e_i^2$$"
   ]
  },
  {
   "cell_type": "markdown",
   "metadata": {},
   "source": [
    "* $R^2 $ is the percentage of the variation explained by the regression model.\n",
    "* $0 \\leq R^2 \\leq 1$ (**higher** is better because more variance is explained by the model)\n",
    "* $R^2$ can be misleading summary of model fit\n",
    " - Deleting data may inflate $R^2$\n",
    " - Adding terms to a regression model always increases $R^2$\n",
    " "
   ]
  },
  {
   "cell_type": "code",
   "execution_count": 134,
   "metadata": {
    "collapsed": false
   },
   "outputs": [
    {
     "name": "stdout",
     "output_type": "stream",
     "text": [
      "sklearn R^2: 0.926819518483\n"
     ]
    }
   ],
   "source": [
    "coefofdet = regr.score(x_n.reshape(-1,1), y_n.reshape(-1,1))\n",
    "\n",
    "print('sklearn R^2: ' + str(coefofdet))"
   ]
  },
  {
   "cell_type": "code",
   "execution_count": 147,
   "metadata": {
    "collapsed": false
   },
   "outputs": [
    {
     "name": "stdout",
     "output_type": "stream",
     "text": [
      "statsmodel R^2: 0.926819518483\n"
     ]
    }
   ],
   "source": [
    "print('statsmodel R^2: ' + str(model.rsquared))\n"
   ]
  },
  {
   "cell_type": "code",
   "execution_count": null,
   "metadata": {
    "collapsed": true
   },
   "outputs": [],
   "source": []
  },
  {
   "cell_type": "code",
   "execution_count": null,
   "metadata": {
    "collapsed": false
   },
   "outputs": [],
   "source": []
  },
  {
   "cell_type": "code",
   "execution_count": null,
   "metadata": {
    "collapsed": true
   },
   "outputs": [],
   "source": []
  },
  {
   "cell_type": "code",
   "execution_count": null,
   "metadata": {
    "collapsed": true
   },
   "outputs": [],
   "source": []
  },
  {
   "cell_type": "code",
   "execution_count": null,
   "metadata": {
    "collapsed": true
   },
   "outputs": [],
   "source": []
  },
  {
   "cell_type": "markdown",
   "metadata": {},
   "source": [
    "# Exercises:"
   ]
  },
  {
   "cell_type": "markdown",
   "metadata": {},
   "source": [
    "* **Ground cricket chirps**\n",
    "The following data shows the relationship between chirps per second of a striped ground cricket and the corresponding ground temperature (in ºF)\n",
    " *  Determine a linear regression model equation to represent this data.\n",
    " * Plot the data and the obtained equation.\n",
    " * Decide on the goodness of fit of the model.\n",
    " * Extrapolate:  If the ground temperature reached 95º, then at what approximate rate would you expect the crickets to be chirping?\n",
    " * Interpolate:  With a listening device, you discovered that on a particular morning the crickets were chirping at a rate of 18 chirps per second.  What was the approximate ground temperature that morning? \n",
    " * \tIf the ground temperature should drop to freezing (32º F), what happens to the cricket's chirping rate?\n",
    " "
   ]
  },
  {
   "cell_type": "code",
   "execution_count": 135,
   "metadata": {
    "collapsed": true
   },
   "outputs": [],
   "source": [
    "chirps_per_second = [20., 16., 19.8, 18.4, 17.1,15.5 ,14.7 ,15.7,15.4 ,16.3 ,15.0 ,17.2,\n",
    "16.0 ,17.0 ,14.4 ]\n",
    "temperature = [88.6,71.6,93.3,84.3,80.6,75.2,69.7,71.6,69.4,83.3,79.6,82.6,80.6,83.5,76.3]"
   ]
  },
  {
   "cell_type": "markdown",
   "metadata": {},
   "source": [
    "\n",
    "* **Company data** We have a suspicion that in the dataset \"company_data.csv\" there is a relationship between x1 and y. We are interested in studying the magnitude of this relationship. Use a linear regression model to investigate this relationship. \n",
    " Would you be confident telling that there is a meaningful relationship between x1 and y?"
   ]
  },
  {
   "cell_type": "markdown",
   "metadata": {
    "collapsed": true,
    "deletable": true,
    "editable": true
   },
   "source": [
    "\n",
    "\n",
    "* For the following datasets  perform a linear regression and evaluate the goodness of fit with residual plots and $R^2$. Do you observe anything unusual?\n",
    "\n"
   ]
  },
  {
   "cell_type": "code",
   "execution_count": 136,
   "metadata": {
    "collapsed": true,
    "deletable": true,
    "editable": true
   },
   "outputs": [],
   "source": [
    "x =  np.random.uniform(-3,3,100)\n",
    "distribution = stats.norm(loc=0,scale=0.2)\n",
    "y = np.sin(x) + x + distribution.rvs(size=100)"
   ]
  },
  {
   "cell_type": "code",
   "execution_count": 137,
   "metadata": {
    "collapsed": false
   },
   "outputs": [],
   "source": [
    "x =  np.random.uniform(0,6,100)\n",
    "y = np.zeros(100)\n",
    "\n",
    "for i in xrange(len(x)):\n",
    "    \n",
    "    distribution = stats.norm(loc=0,scale=0.001*x[i])\n",
    "    y[i] = x[i] +  distribution.rvs(size=1)"
   ]
  },
  {
   "cell_type": "markdown",
   "metadata": {},
   "source": [
    "* **Anscombe dataset **\n",
    " - Load 'anscombe' dataset from seaborn library.\n",
    " - You will notice that there are four different datasets each with different values of x and y. For every dataset create and store the data in a seperate dataframe and observe the summary of those\n",
    " - For each dataset, fit a linear regression model and print the intercept and the slope of the predicted model\n",
    " - Calculate the $R^2$ for each dataset.\n",
    " - Create residual plots.\n"
   ]
  },
  {
   "cell_type": "markdown",
   "metadata": {
    "deletable": true,
    "editable": true
   },
   "source": [
    "\n"
   ]
  },
  {
   "cell_type": "markdown",
   "metadata": {
    "deletable": true,
    "editable": true
   },
   "source": [
    "## Appendix\n",
    "\n"
   ]
  },
  {
   "cell_type": "markdown",
   "metadata": {
    "collapsed": true,
    "deletable": true,
    "editable": true
   },
   "source": [
    "\n",
    "| Element | Description|\n",
    "|----|----|\n",
    "| Dep. Variable \t| Which variable is the response in the model|\n",
    "|Model |\tWhat model you are using in the fit|\n",
    "|Method |\tHow the parameters of the model were calculated \n",
    "|No. Observations \t|The number of observations (examples)\n",
    "|DF Residuals |\tDegrees of freedom of the residuals. Number of observations – number of parameters\n",
    "|DF Model |\tNumber of parameters in the model (not including the constant term if present)\n",
    "\n",
    "The right part of the first table shows the goodness of fit\n",
    "\n",
    "|Element |\tDescription|\n",
    "|----|----|\n",
    "|R-squared \t|The coefficient of determination. A statistical measure of how well the regression line approximates the real data points|\n",
    "|Adj. R-squared |\tThe above value adjusted based on the number of observations and the degrees-of-freedom of the residuals|\n",
    "|F-statistic |\tA measure how significant the fit is. The mean squared error of the model divided by the mean squared error of the residuals|\n",
    "|Prob (F-statistic) |\tThe probability that you would get the above statistic, given the null hypothesis that they are unrelated|\n",
    "|Log-likelihood |\tThe log of the likelihood function.|\n",
    "|AIC \t|The Akaike Information Criterion. Adjusts the log-likelihood based on the number of observations and the complexity of the model.\n",
    "|BIC |\tThe Bayesian Information Criterion. Similar to the AIC, but has a higher penalty for models with more parameters.|\n",
    "\n",
    "The left part of the table reports for each of the coefficients\n",
    "\n",
    "|Description|\tName of the term in the model|\n",
    "|-----------|---------------------|\n",
    "|coef |\tThe estimated value of the coefficient|\n",
    "|std err |\tThe basic standard error of the estimate of the coefficient. More sophisticated errors are also available.|\n",
    "|t \t|The t-statistic value. This is a measure of how statistically significant the coefficient is.|\n",
    "|P > t |\tP-value that the null-hypothesis that the coefficient = 0 is true. If it is less than the confidence level, often 0.05, it indicates that there is a statistically significant relationship between the term and the response.|\n",
    "\n",
    "|Element \t|Description|\n",
    "|-----------|---------------------|\n",
    "|Skewness |\tA measure of the symmetry of the data about the mean. Normally-distributed errors should be symmetrically distributed about the mean (equal amounts above and below the line).|\n",
    "|Kurtosis |\tA measure of the shape of the distribution. Compares the amount of data close to the mean with those far away from the mean (in the tails).|\n",
    "|Omnibus |\tD’Angostino’s test. It provides a combined statistical test for the presence of skewness and kurtosis.|\n",
    "|Prob(Omnibus) |\tThe above statistic turned into a probability|\n",
    "|Jarque-Bera |\tA different test of the skewness and kurtosis|\n",
    "|Prob (JB) \t|The above statistic turned into a probability|\n",
    "|Durbin-Watson |\tA test for the presence of autocorrelation (that the errors are not independent.) Often important in time-series analysis|\n",
    "|Cond. No |\tA test for multicollinearity (if in a fit with multiple parameters, the parameters are related with each other).|"
   ]
  },
  {
   "cell_type": "code",
   "execution_count": null,
   "metadata": {
    "collapsed": true
   },
   "outputs": [],
   "source": []
  }
 ],
 "metadata": {
  "kernelspec": {
   "display_name": "Python 2",
   "language": "python",
   "name": "python2"
  },
  "language_info": {
   "codemirror_mode": {
    "name": "ipython",
    "version": 2
   },
   "file_extension": ".py",
   "mimetype": "text/x-python",
   "name": "python",
   "nbconvert_exporter": "python",
   "pygments_lexer": "ipython2",
   "version": "2.7.12"
  }
 },
 "nbformat": 4,
 "nbformat_minor": 2
}
