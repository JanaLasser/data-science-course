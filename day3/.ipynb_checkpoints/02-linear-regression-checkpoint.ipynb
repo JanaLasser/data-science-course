{
 "cells": [
  {
   "cell_type": "markdown",
   "metadata": {},
   "source": [
    "<h1 id=\"tocheading\">Introduction to linear regression</h1>\n",
    "\n",
    "Chamkor\n",
    "\n",
    "<div id=\"toc\"></div>"
   ]
  },
  {
   "cell_type": "code",
   "execution_count": 1682,
   "metadata": {},
   "outputs": [
    {
     "data": {
      "application/javascript": [
       "$.getScript('https://kmahelona.github.io/ipython_notebook_goodies/ipython_notebook_toc.js')"
      ],
      "text/plain": [
       "<IPython.core.display.Javascript object>"
      ]
     },
     "metadata": {},
     "output_type": "display_data"
    }
   ],
   "source": [
    "%%javascript\n",
    "$.getScript('https://kmahelona.github.io/ipython_notebook_goodies/ipython_notebook_toc.js')"
   ]
  },
  {
   "cell_type": "markdown",
   "metadata": {},
   "source": [
    "# PART-I \"Single predictor\" regression\n",
    "### Introduction\n",
    "- Regression is to do with \"relationship between variables\".\n",
    "- For example, is humidity ($H$) is related with the temperature ($T$) in this room?   \n",
    "- Assume we do experiments, and from the data, we propose a linear hypothesis : $H\\propto T$.\n",
    "- Ofcourse there can be other possible models that can be considered such as approximating by a Fourier series, or by higher degree polynomial and so on.\n",
    "- Regression also involvolves determining \"strength\" or \"significance\" of relationship.\n",
    "\n",
    "\n",
    "### Steps\n",
    "\n",
    "- Propose a regression model (assumptions).\n",
    "- Interpret how \"significant\" is the regression model. Define a quantitative criteria.\n",
    "- Check the assumptions, and go to step one.\n",
    "\n",
    "Thus linear regression analysis also introduces us to framework of hypothesis testing.\n",
    "\n",
    "### Terminology\n",
    "\n",
    "- \"Predictor\" or \"independent\" variable or \"stimulus\" $(T)$.\n",
    "- \"Dependent\" or \"response\" variable $(H)$. \n",
    "- \"Positive\" and \"negative\" relationship.\n",
    "- Regression-line/plane.\n",
    "- Residual ($H=mT+c\\pm\\epsilon$). (In general \"independent\" variables can be more than one).\n",
    "\n",
    "### Exercise\n",
    "\n",
    "- ... data sets."
   ]
  },
  {
   "cell_type": "code",
   "execution_count": 1683,
   "metadata": {},
   "outputs": [],
   "source": [
    "import numpy as np\n",
    "import matplotlib.pyplot as plt"
   ]
  },
  {
   "cell_type": "code",
   "execution_count": 1684,
   "metadata": {},
   "outputs": [],
   "source": [
    "#random dataset\n",
    "\n",
    "N=100\n",
    "x=np.linspace(0,1,N)\n",
    "#print(x)\n",
    "y=-(np.random.rand(N)+0.5)*x + 2.0\n",
    "#print(y)"
   ]
  },
  {
   "cell_type": "code",
   "execution_count": 1685,
   "metadata": {},
   "outputs": [
    {
     "name": "stdout",
     "output_type": "stream",
     "text": [
      "    Y month  day  FFMC    DMC     DC   ISI  temp  RH  wind  rain   area\n",
      "X                                                                      \n",
      "7   5   mar  fri  86.2   26.2   94.3   5.1   8.2  51   6.7   0.0   0.00\n",
      "7   4   oct  tue  90.6   35.4  669.1   6.7  18.0  33   0.9   0.0   0.00\n",
      "7   4   oct  sat  90.6   43.7  686.9   6.7  14.6  33   1.3   0.0   0.00\n",
      "8   6   mar  fri  91.7   33.3   77.5   9.0   8.3  97   4.0   0.2   0.00\n",
      "8   6   mar  sun  89.3   51.3  102.2   9.6  11.4  99   1.8   0.0   0.00\n",
      "8   6   aug  sun  92.3   85.3  488.0  14.7  22.2  29   5.4   0.0   0.00\n",
      "8   6   aug  mon  92.3   88.9  495.6   8.5  24.1  27   3.1   0.0   0.00\n",
      "8   6   aug  mon  91.5  145.4  608.2  10.7   8.0  86   2.2   0.0   0.00\n",
      "8   6   sep  tue  91.0  129.5  692.6   7.0  13.1  63   5.4   0.0   0.00\n",
      "7   5   sep  sat  92.5   88.0  698.6   7.1  22.8  40   4.0   0.0   0.00\n",
      "7   5   sep  sat  92.5   88.0  698.6   7.1  17.8  51   7.2   0.0   0.00\n",
      "7   5   sep  sat  92.8   73.2  713.0  22.6  19.3  38   4.0   0.0   0.00\n",
      "6   5   aug  fri  63.5   70.8  665.3   0.8  17.0  72   6.7   0.0   0.00\n",
      "6   5   sep  mon  90.9  126.5  686.5   7.0  21.3  42   2.2   0.0   0.00\n",
      "6   5   sep  wed  92.9  133.3  699.6   9.2  26.4  21   4.5   0.0   0.00\n",
      "6   5   sep  fri  93.3  141.2  713.9  13.9  22.9  44   5.4   0.0   0.00\n",
      "5   5   mar  sat  91.7   35.8   80.8   7.8  15.1  27   5.4   0.0   0.00\n",
      "8   5   oct  mon  84.9   32.8  664.2   3.0  16.7  47   4.9   0.0   0.00\n",
      "6   4   mar  wed  89.2   27.9   70.8   6.3  15.9  35   4.0   0.0   0.00\n",
      "6   4   apr  sat  86.3   27.4   97.1   5.1   9.3  44   4.5   0.0   0.00\n",
      "6   4   sep  tue  91.0  129.5  692.6   7.0  18.3  40   2.7   0.0   0.00\n",
      "5   4   sep  mon  91.8   78.5  724.3   9.2  19.1  38   2.7   0.0   0.00\n",
      "7   4   jun  sun  94.3   96.3  200.0  56.1  21.0  44   4.5   0.0   0.00\n",
      "7   4   aug  sat  90.2  110.9  537.4   6.2  19.5  43   5.8   0.0   0.00\n",
      "7   4   aug  sat  93.5  139.4  594.2  20.3  23.7  32   5.8   0.0   0.00\n",
      "7   4   aug  sun  91.4  142.4  601.4  10.6  16.3  60   5.4   0.0   0.00\n",
      "7   4   sep  fri  92.4  117.9  668.0  12.2  19.0  34   5.8   0.0   0.00\n",
      "7   4   sep  mon  90.9  126.5  686.5   7.0  19.4  48   1.3   0.0   0.00\n",
      "6   3   sep  sat  93.4  145.4  721.4   8.1  30.2  24   2.7   0.0   0.00\n",
      "6   3   sep  sun  93.5  149.3  728.6   8.1  22.8  39   3.6   0.0   0.00\n",
      ".. ..   ...  ...   ...    ...    ...   ...   ...  ..   ...   ...    ...\n",
      "5   4   aug  tue  95.1  141.3  605.8  17.7  26.4  34   3.6   0.0  16.40\n",
      "4   4   aug  tue  95.1  141.3  605.8  17.7  19.4  71   7.6   0.0  46.70\n",
      "4   4   aug  wed  95.1  141.3  605.8  17.7  20.6  58   1.3   0.0   0.00\n",
      "4   4   aug  wed  95.1  141.3  605.8  17.7  28.7  33   4.0   0.0   0.00\n",
      "4   4   aug  thu  95.8  152.0  624.1  13.8  32.4  21   4.5   0.0   0.00\n",
      "1   3   aug  fri  95.9  158.0  633.6  11.3  32.4  27   2.2   0.0   0.00\n",
      "1   3   aug  fri  95.9  158.0  633.6  11.3  27.5  29   4.5   0.0  43.32\n",
      "6   6   aug  sat  96.0  164.0  643.0  14.0  30.8  30   4.9   0.0   8.59\n",
      "6   6   aug  mon  96.2  175.5  661.8  16.8  23.9  42   2.2   0.0   0.00\n",
      "4   5   aug  mon  96.2  175.5  661.8  16.8  32.6  26   3.1   0.0   2.77\n",
      "3   4   aug  tue  96.1  181.1  671.2  14.3  32.3  27   2.2   0.0  14.68\n",
      "6   5   aug  tue  96.1  181.1  671.2  14.3  33.3  26   2.7   0.0  40.54\n",
      "7   5   aug  tue  96.1  181.1  671.2  14.3  27.3  63   4.9   6.4  10.82\n",
      "8   6   aug  tue  96.1  181.1  671.2  14.3  21.6  65   4.9   0.8   0.00\n",
      "7   5   aug  tue  96.1  181.1  671.2  14.3  21.6  65   4.9   0.8   0.00\n",
      "4   4   aug  tue  96.1  181.1  671.2  14.3  20.7  69   4.9   0.4   0.00\n",
      "2   4   aug  wed  94.5  139.4  689.1  20.0  29.2  30   4.9   0.0   1.95\n",
      "4   3   aug  wed  94.5  139.4  689.1  20.0  28.9  29   4.9   0.0  49.59\n",
      "1   2   aug  thu  91.0  163.2  744.4  10.1  26.7  35   1.8   0.0   5.80\n",
      "1   2   aug  fri  91.0  166.9  752.6   7.1  18.5  73   8.5   0.0   0.00\n",
      "2   4   aug  fri  91.0  166.9  752.6   7.1  25.9  41   3.6   0.0   0.00\n",
      "1   2   aug  fri  91.0  166.9  752.6   7.1  25.9  41   3.6   0.0   0.00\n",
      "5   4   aug  fri  91.0  166.9  752.6   7.1  21.1  71   7.6   1.4   2.17\n",
      "6   5   aug  fri  91.0  166.9  752.6   7.1  18.2  62   5.4   0.0   0.43\n",
      "8   6   aug  sun  81.6   56.7  665.6   1.9  27.8  35   2.7   0.0   0.00\n",
      "4   3   aug  sun  81.6   56.7  665.6   1.9  27.8  32   2.7   0.0   6.44\n",
      "2   4   aug  sun  81.6   56.7  665.6   1.9  21.9  71   5.8   0.0  54.29\n",
      "7   4   aug  sun  81.6   56.7  665.6   1.9  21.2  70   6.7   0.0  11.16\n",
      "1   4   aug  sat  94.4  146.0  614.7  11.3  25.6  42   4.0   0.0   0.00\n",
      "6   3   nov  tue  79.5    3.0  106.7   1.1  11.8  31   4.5   0.0   0.00\n",
      "\n",
      "[517 rows x 12 columns]\n"
     ]
    }
   ],
   "source": [
    "import pandas as pd\n",
    "data = pd.read_csv('https://archive.ics.uci.edu/ml/machine-learning-databases/forest-fires/forestfires.csv', index_col=0)\n",
    "print(data)"
   ]
  },
  {
   "cell_type": "code",
   "execution_count": 1686,
   "metadata": {},
   "outputs": [],
   "source": [
    "y=data['temp']\n",
    "x=data['RH']\n",
    "N=len(x)"
   ]
  },
  {
   "cell_type": "code",
   "execution_count": 1687,
   "metadata": {},
   "outputs": [],
   "source": [
    "#iris dataset\n",
    "\n",
    "#data = pd.read_csv(\"https://raw.githubusercontent.com/mwaskom/seaborn-data/master/iris.csv\")\n",
    "#print(data)\n",
    "#data.set_index('species')\n",
    "#setosa=data[data['species'].str.contains(\"setosa\")]\n",
    "#x=setosa['sepal_length']\n",
    "#y=setosa['petal_length']\n",
    "#N=len(x)"
   ]
  },
  {
   "cell_type": "code",
   "execution_count": 1688,
   "metadata": {},
   "outputs": [
    {
     "data": {
      "image/png": "[encoded data removed]",
      "text/plain": [
       "<matplotlib.figure.Figure at 0x7fd67fbaac18>"
      ]
     },
     "metadata": {},
     "output_type": "display_data"
    }
   ],
   "source": [
    "import matplotlib.pyplot as plt\n",
    "\n",
    "def myplot(x,y,style): \n",
    "    plt.plot(x,y,style);\n",
    "    plt.xlabel('predictor $x$'); \n",
    "    plt.ylabel('response variable $y$');\n",
    "        \n",
    "myplot(x,y,'o')"
   ]
  },
  {
   "cell_type": "markdown",
   "metadata": {},
   "source": [
    "# Standard steps on the data\n",
    "\n",
    "### Empirical Mean\n",
    "\n",
    "$$\\bar{x} = \\frac{1}{N}\\sum_i{x_i}$$\n",
    "\n",
    "$$\\bar{y} = \\frac{1}{N}\\sum_i{y_i}$$\n",
    "\n",
    "### Empirical Variance\n",
    "$$ S^2 = \\frac{1}{n-1} \\sum_{i=1}^{n}{ \\left( y_i - \\bar{y} \\right)^2  } $$\n",
    "\n",
    "### Empirical Standard Deviation\n",
    "$$ S = \\sqrt{S^2}$$\n",
    "\n",
    "Notice that standard deviation is expressed in the same units as $y_i$.\n"
   ]
  },
  {
   "cell_type": "code",
   "execution_count": 1700,
   "metadata": {
    "scrolled": true
   },
   "outputs": [],
   "source": [
    "#def subPlots(var):    \n",
    "    #fig1 = plt.figure()    \n",
    "    #ax1 = fig1.add_subplot(221)\n",
    "    #ax1.plot(x)\n",
    "    #ax2 = fig1.add_subplot(222)\n",
    "    #ax2.plot(x)\n",
    "\n",
    "def scanVariable(var):        \n",
    "        #basic\n",
    "        print(\"Min    = \",np.min(var))\n",
    "        print(\"Max    = \",np.max(var))\n",
    "        print(\"Mean   = \",np.mean(var))\n",
    "        print(\"SD     = \",np.std(var))\n",
    "        print(\"Var    = \",np.std(var)**2)\n",
    "        print(\"Median = \",np.median(var))\n",
    "        print(\"Length = \",len(var))        \n",
    "        #visualize        \n",
    "        nbins = int(np.sqrt(len(var)))    \n",
    "        fig1 = plt.figure()         \n",
    "        \n",
    "        ax1 = fig1.add_subplot(131)\n",
    "        ax1.hist(var, bins=nbins, ec='black', color='purple')\n",
    "        ax1.set_xlabel('variable')\n",
    "        ax1.set_ylabel('count')\n",
    "        ax1.set_title(\"Original\")        \n",
    "        \n",
    "        ax1 = fig1.add_subplot(132)\n",
    "        n=ax1.hist(var/np.std(var), bins=nbins, ec='black', color='purple',normed=True)\n",
    "        ax1.set_xlabel('variable')\n",
    "        #ax1.set_ylabel('count')        \n",
    "        ax1.set_title(\"Normalized/Density\")  \n",
    "        #print(-np.sum(n[0]*np.log(n[0])))\n",
    "        \n",
    "        ax1 = fig1.add_subplot(133)\n",
    "        ax1.hist(var/np.std(var), bins=nbins, ec='black', color='purple',normed=True,cumulative=True)\n",
    "        ax1.set_xlabel('variable')\n",
    "        #ax1.set_ylabel('count')\n",
    "        ax1.set_title(\"Cumulative\")"
   ]
  },
  {
   "cell_type": "code",
   "execution_count": 1701,
   "metadata": {},
   "outputs": [
    {
     "name": "stdout",
     "output_type": "stream",
     "text": [
      "Predictor variable:\n",
      "Min    =  15\n",
      "Max    =  100\n",
      "Mean   =  44.28820116054158\n",
      "SD     =  16.30168068295805\n",
      "Var    =  265.74479308912765\n",
      "Median =  42.0\n",
      "Length =  517\n",
      "5.48074010215\n",
      "Response variable:\n",
      "Min    =  2.2\n",
      "Max    =  33.3\n",
      "Mean   =  18.88916827852998\n",
      "SD     =  5.8010069395983646\n",
      "Var    =  33.651681513268386\n",
      "Median =  19.3\n",
      "Length =  517\n",
      "5.61231330789\n"
     ]
    },
    {
     "data": {
      "image/png": "[encoded data removed]",
      "text/plain": [
       "<matplotlib.figure.Figure at 0x7fd67ddbc390>"
      ]
     },
     "metadata": {},
     "output_type": "display_data"
    },
    {
     "data": {
      "image/png": "[encoded data removed]",
      "text/plain": [
       "<matplotlib.figure.Figure at 0x7fd67e83a7b8>"
      ]
     },
     "metadata": {},
     "output_type": "display_data"
    }
   ],
   "source": [
    "print(\"Predictor variable:\");    \n",
    "scanVariable(x);    \n",
    "\n",
    "print(\"Response variable:\");\n",
    "scanVariable(y);"
   ]
  },
  {
   "cell_type": "code",
   "execution_count": null,
   "metadata": {},
   "outputs": [],
   "source": [
    "m=1.0\n",
    "c=2.0\n",
    "Y1=0.1*x+c\n",
    "Y2=0.3*x+c\n",
    "Y3=0.6*x+c"
   ]
  },
  {
   "cell_type": "code",
   "execution_count": null,
   "metadata": {},
   "outputs": [],
   "source": [
    "myplot(x,y,'o'); \n",
    "myplot(x,Y1,'-'); \n",
    "#myplot(x,Y2,'-'); \n",
    "#myplot(x,Y3,'-'); "
   ]
  },
  {
   "cell_type": "code",
   "execution_count": null,
   "metadata": {},
   "outputs": [],
   "source": [
    "x_mean = sum(x)/len(x);\n",
    "y_mean = sum(y)/len(y);"
   ]
  },
  {
   "cell_type": "code",
   "execution_count": null,
   "metadata": {},
   "outputs": [],
   "source": [
    "myplot(x,y,'o'); \n",
    "myplot(x_mean,y_mean,'or');"
   ]
  },
  {
   "cell_type": "markdown",
   "metadata": {},
   "source": [
    "### Centering\n",
    "\n",
    "$x_i = x_i-\\bar{x}$\n",
    "\n",
    "$y_i = y_i-\\bar{y}$"
   ]
  },
  {
   "cell_type": "code",
   "execution_count": null,
   "metadata": {},
   "outputs": [],
   "source": [
    "x=x-x_mean;\n",
    "y=y-y_mean;\n",
    "\n",
    "x_mean = sum(x)/len(x);\n",
    "y_mean = sum(y)/len(y);\n",
    "\n",
    "myplot(x,y,'o'); \n",
    "myplot(x_mean,y_mean,'or');"
   ]
  },
  {
   "cell_type": "markdown",
   "metadata": {},
   "source": [
    "### Normalization/rescaling\n",
    "\n",
    "This is done to have SD = 1, and mean = 0.\n",
    "\n",
    "$x_i = \\frac{x_i}{SD}$\n",
    "\n",
    "$y_i = \\frac{y_i}{SD}$"
   ]
  },
  {
   "cell_type": "code",
   "execution_count": null,
   "metadata": {},
   "outputs": [],
   "source": [
    "x=x/np.std(x);\n",
    "y=y/np.std(y);\n",
    "myplot(x,y,'o'); \n",
    "myplot(x_mean,y_mean,'or');\n",
    "\n",
    "print(np.std(x))\n",
    "print(np.std(y))\n"
   ]
  },
  {
   "cell_type": "code",
   "execution_count": null,
   "metadata": {},
   "outputs": [],
   "source": [
    "myplot(x,y,'o'); \n",
    "myplot(x_mean,y_mean,'or'); \n",
    "plt.axvline(x_mean); \n",
    "plt.axhline(y_mean);"
   ]
  },
  {
   "cell_type": "markdown",
   "metadata": {},
   "source": [
    "# Oridinary Least-square\n",
    "\n",
    "In this method, the sum of squares of the residuals, $\\sum_i (Y_i-y_i)^2$, is minimised.\n",
    "\n",
    "\n",
    "### Spread of the residual"
   ]
  },
  {
   "cell_type": "code",
   "execution_count": null,
   "metadata": {},
   "outputs": [],
   "source": [
    "d=Y1-y\n",
    "\n",
    "def myhist(var,xlabel,ylabel):\n",
    "    plt.hist(var)\n",
    "    plt.xlabel(xlabel); \n",
    "    plt.ylabel(ylabel)\n",
    "\n",
    "myhist(d,'$\\epsilon$', 'Count')"
   ]
  },
  {
   "cell_type": "markdown",
   "metadata": {},
   "source": [
    "\n",
    "We would like to identify the **slope** $m$ that minimises \n",
    "$$ \\sum_i (Y_i-y_i)^2 $$\n",
    "\n",
    "i.e. \n",
    "\n",
    "$$\n",
    "\\frac{\\partial}{\\partial m} \\sum_i (Y_i-y_i)^2 = 0\n",
    "$$\n",
    "\n",
    "$$\n",
    "\\frac{\\partial}{\\partial m} \\sum_i (mx_i-y_i)^2 = 0\n",
    "$$\n",
    "\n",
    "$$\n",
    "\\frac{\\partial}{\\partial m} \\sum_i (mx_i-y_i)(mx_i-y_i) = 0\n",
    "$$\n",
    "\n",
    "$$\n",
    "\\frac{\\partial}{\\partial m} \\sum_i (m^2 x_i^2 - 2 m x_i y_i + y_i^2) = 0\n",
    "$$\n",
    "\n",
    "$$\n",
    "\\sum_i (2 m x_i^2 - 2 x_i y_i) = 0\n",
    "$$\n",
    "\n",
    "$$\n",
    "m=\\frac{ \\sum_i x_i y_i }\n",
    "     { \\sum_i x_i^2 }\n",
    "$$\n",
    "\n",
    "Notice that \n",
    "$$\n",
    "\\frac{\\partial^2}{\\partial m^2} \\sum_i (Y_i-y_i)^2 = \\frac{\\partial}{\\partial m} \\sum_i (2 m x_i^2 - 2 x_i y_i) > 0\n",
    "$$ \n",
    "therefore a minimum."
   ]
  },
  {
   "cell_type": "code",
   "execution_count": null,
   "metadata": {},
   "outputs": [],
   "source": [
    "a = sum( (x-x_mean)*(y-y_mean) )\n",
    "b = sum( (x-x_mean)**2 )\n",
    "m = a/b\n",
    "print(m)"
   ]
  },
  {
   "cell_type": "code",
   "execution_count": null,
   "metadata": {},
   "outputs": [],
   "source": [
    "c=0\n",
    "Y=m*x+c\n",
    "\n",
    "myplot(x,y,'o'); \n",
    "myplot(x_mean,y_mean,'or'); \n",
    "plt.axvline(x_mean); \n",
    "plt.axhline(y_mean);\n",
    "myplot(x,Y,'-'); "
   ]
  },
  {
   "cell_type": "code",
   "execution_count": null,
   "metadata": {},
   "outputs": [],
   "source": [
    "c=y_mean - m*x_mean;\n",
    "\n",
    "Y=m*x+c\n",
    "\n",
    "myplot(x,y,'o'); \n",
    "myplot(x_mean,y_mean,'or'); \n",
    "plt.axvline(x_mean); \n",
    "plt.axhline(y_mean);\n",
    "myplot(x,Y,'-'); "
   ]
  },
  {
   "cell_type": "markdown",
   "metadata": {},
   "source": [
    "# Exercise 1. Ground cricket chirps"
   ]
  },
  {
   "cell_type": "markdown",
   "metadata": {},
   "source": [
    "* **Ground cricket chirps**\n",
    "The following data shows the relationship between chirps per second of a striped ground cricket and the corresponding ground temperature (in ºF)\n",
    " *  Determine a linear regression model equation to represent this data.\n",
    " * Plot the data and the obtained equation.\n",
    " * Decide on the goodness of fit of the model.\n",
    " * Extrapolate:  If the ground temperature reached 95º, then at what approximate rate would you expect the crickets to be chirping?\n",
    " * Interpolate:  With a listening device, you discovered that on a particular morning the crickets were chirping at a rate of 18 chirps per second.  What was the approximate ground temperature that morning? \n",
    " * \tIf the ground temperature should drop to freezing (32º F), what happens to the cricket's chirping rate?"
   ]
  },
  {
   "cell_type": "code",
   "execution_count": null,
   "metadata": {},
   "outputs": [],
   "source": [
    "chirps_per_second = [20., 16., 19.8, 18.4, 17.1,15.5 ,14.7 ,15.7,15.4 ,16.3 ,15.0 ,17.2,\n",
    "16.0 ,17.0 ,14.4 ]\n",
    "temperature = [88.6,71.6,93.3,84.3,80.6,75.2,69.7,71.6,69.4,83.3,79.6,82.6,80.6,83.5,76.3]"
   ]
  },
  {
   "cell_type": "markdown",
   "metadata": {},
   "source": [
    "# Significance Tests : Assesing the strength of regression model"
   ]
  },
  {
   "cell_type": "markdown",
   "metadata": {},
   "source": [
    "<a id='Spread of residuals'></a>\n",
    "### Spread of residuals\n",
    "\n",
    "* Residual spread (the term $\\pm\\epsilon$ in the regression model $Y=mX+c\\pm\\epsilon$) is an indicator."
   ]
  },
  {
   "cell_type": "code",
   "execution_count": null,
   "metadata": {},
   "outputs": [],
   "source": [
    "d=Y-y;\n",
    "\n",
    "myhist(d,'$\\epsilon$','Count');\n",
    "\n",
    "print(np.mean(d))\n",
    "print(np.std(d))"
   ]
  },
  {
   "cell_type": "markdown",
   "metadata": {},
   "source": [
    "### Residual plot"
   ]
  },
  {
   "cell_type": "code",
   "execution_count": null,
   "metadata": {},
   "outputs": [],
   "source": [
    "\n",
    "#m, c, r_value, p_value, std_err = stats.linregress(x,y);\n",
    "\n",
    "prediction=m*x+c;\n",
    "\n",
    "residual = prediction - y;\n",
    "\n",
    "plt.plot(x,residual,'r+');\n",
    "plt.xlabel(\"predictor x\");\n",
    "plt.ylabel(\"residual\");\n",
    "#myplot(x,m*x+c,'-r');\n"
   ]
  },
  {
   "cell_type": "code",
   "execution_count": null,
   "metadata": {
    "scrolled": true
   },
   "outputs": [],
   "source": [
    "scanVariable(d)"
   ]
  },
  {
   "cell_type": "markdown",
   "metadata": {},
   "source": [
    "### $R^2$ (R-squared)\n",
    "\n",
    "$R^2$ is the ratio of the \"sum of squares\" of the estimated and the actual responses.\n",
    "\n",
    "$R^2$ (also called 'coefficient of determination') is a statistical measure of how close the data are to the fitted regression line. \n",
    "\n",
    "It is the** percentage of the response variable variation that is explained by the linear model**.\n",
    "\n",
    "If $y_i$ are the actual \"outcomes\"\n",
    "and $Y_i$ are the estimated \"outcomes\"\n",
    "then\n",
    "\n",
    "$$\n",
    "R^2 = \\frac{\\sum(Y_i-\\bar{y})^2} {\\sum(y_i-\\bar{y})^2} = \\frac{\\text{Regression sum of squares}}{\\text{Total/actual sum of squares}} = \\frac{\\text{Explained variance}}{\\text{Total/actual variance}}\n",
    "$$\n",
    "\n",
    "If $R^2\\rightarrow 1$, implies strong relationship.\n",
    "\n",
    "If $R^2\\rightarrow 0$, implies weak relationship.\n"
   ]
  },
  {
   "cell_type": "code",
   "execution_count": null,
   "metadata": {},
   "outputs": [],
   "source": [
    "num = sum( (Y - y_mean)**2 );\n",
    "den = sum( (y - y_mean)**2 );\n",
    "R2  = num/den;\n",
    "print(R2)"
   ]
  },
  {
   "cell_type": "markdown",
   "metadata": {},
   "source": [
    "### Standard error of estimate (MSE)\n",
    "\n",
    "$$\\text{MSE} = {\\frac{1}{N-2}\\sum(Y_i-{y_i})^2}$$\n",
    "\n",
    "where $$\\sum_i{(Y_i-{y_i})^2}$$ is the $\\textbf{residual sum of squares}$."
   ]
  },
  {
   "cell_type": "code",
   "execution_count": null,
   "metadata": {},
   "outputs": [],
   "source": [
    "err = ( np.sum( (Y - y)**2 )/(N-2));\n",
    "print(err)"
   ]
  },
  {
   "cell_type": "markdown",
   "metadata": {},
   "source": [
    "# Covariance and correlation\n",
    "\n",
    "$$Covar(x,y) = \\frac{1}{n-1}\\sum_i{ (x_i-\\bar{x})(y_i-\\bar{y})}$$ \n",
    "\n",
    "$$Corr(x,y)  = \\frac{Covar(x,y)}{SD_x SD_y} = \\textbf{Correlation coefficient.}$$\n",
    "\n",
    "where $SD_x$ and $SD_y$ are standard deviations.\n",
    "\n",
    "- $-1 \\leq Corr(x,y) \\leq 1$\n",
    "- $Corr(x,y)$ measures the \"strength\" of the linear relationship between $x,y$ data, with stronger relationships as $Corr(x,y) \\rightarrow$-1 or 1.\n",
    "- $Corr(x,y) = 0$ implies no linear relationship."
   ]
  },
  {
   "cell_type": "code",
   "execution_count": null,
   "metadata": {},
   "outputs": [],
   "source": [
    "covar = sum((x-x_mean)*(y-y_mean))/(N-1);\n",
    "corr   = covar/(np.std(x)*np.std(y));\n",
    "\n",
    "print(corr)"
   ]
  },
  {
   "cell_type": "markdown",
   "metadata": {},
   "source": [
    "# Regression using scipy stats"
   ]
  },
  {
   "cell_type": "code",
   "execution_count": null,
   "metadata": {},
   "outputs": [],
   "source": [
    "from scipy import stats\n",
    "\n",
    "m, c, r_value, p_value, std_err = stats.linregress(x,y);\n",
    "myplot(x,y,'o');\n",
    "myplot(x,m*x+c,'-');\n",
    "\n",
    "print(r_value)\n",
    "print(std_err)"
   ]
  },
  {
   "cell_type": "markdown",
   "metadata": {},
   "source": [
    "# Regression using scipy statsmodels"
   ]
  },
  {
   "cell_type": "code",
   "execution_count": null,
   "metadata": {},
   "outputs": [],
   "source": [
    "from statsmodels.formula.api import ols\n",
    "import pandas as pd\n",
    "data = pd.DataFrame({'x': x, 'y': y});\n",
    "model = ols(\"y ~ x\", data).fit();\n",
    "print(model.summary());"
   ]
  },
  {
   "cell_type": "markdown",
   "metadata": {},
   "source": [
    "# Exercise 2. Sales data\n",
    "\n",
    " * Obtain the dataset using pandas from the following link:\n",
    " 'http://www-bcf.usc.edu/~gareth/ISL/Advertising.csv'\n",
    "\n",
    "For the \"Advertising.csv\" dataset:\n",
    " * Set variable 'TV' and the corresponding 'sales'.\n",
    " * Perform a regression 'through the origin'.\n",
    " * Plot the data and the fitted lines.\n",
    " * Calculate the Standard Error between the predicted model and the fitted data.\n",
    " * Obtain $R^2$ value.\n",
    " * Now, perform the same for the two further columns ('radio', 'newspaper') vs 'sales'.\n",
    " * Compare the slopes between the three cases."
   ]
  },
  {
   "cell_type": "code",
   "execution_count": null,
   "metadata": {},
   "outputs": [],
   "source": [
    "#import pandas as pd\n",
    "#data = pd.read_csv('http://www-bcf.usc.edu/~gareth/ISL/Advertising.csv', index_col=0)\n",
    "#rint(data)\n",
    "#x=data['TV']\n",
    "#y=data['sales']\n",
    "#N=len(x)"
   ]
  },
  {
   "cell_type": "markdown",
   "metadata": {},
   "source": [
    "# Brrrrrrrrrrrrreeeeeeeeaaaaaaaaaaaaaaaaaaakkkkkkkkkkkkkkkkkkkkkkkkkkk"
   ]
  },
  {
   "cell_type": "markdown",
   "metadata": {},
   "source": [
    "# Outliers and Influential Observations\n",
    " \n",
    " * Once a regression line is computed, a point which lies far from the line (large residual) is known as an **outlier**.\n",
    " \n",
    " * If a point lies far from the other data in the horizontal direction, it is known as an **influential observation**. It has a considerable impact on slope.\n",
    " \n",
    " ## Theil-Sen regression"
   ]
  },
  {
   "cell_type": "code",
   "execution_count": null,
   "metadata": {},
   "outputs": [],
   "source": [
    "#outlier dataset\n",
    "\n",
    "from sklearn import linear_model, datasets\n",
    "n_samples = 100\n",
    "n_outliers = 10\n",
    "x, y, coef = datasets.make_regression(n_samples=n_samples, n_features=1,n_informative=1, noise=10,coef=True, random_state=0)\n",
    "# Add outlier data\n",
    "np.random.seed(0)\n",
    "x[:n_outliers] = 3 + 0.5 * np.random.normal(size=(n_outliers, 1))\n",
    "y[:n_outliers] = -3 + 10 * np.random.normal(size=n_outliers)\n",
    "\n",
    "x=[row[0] for row in x]\n",
    "#y=[row[0] for row in y]\n",
    "\n",
    "N=len(x);\n",
    "#print(y)\n",
    "\n",
    "from numpy  import array\n",
    "x = array( x )"
   ]
  },
  {
   "cell_type": "code",
   "execution_count": null,
   "metadata": {},
   "outputs": [],
   "source": [
    "m, c, r_value, p_value, std_err = stats.linregress(x,y);\n",
    "myplot(x,y,'o');\n",
    "myplot(x,m*x+c,'-r');\n",
    "\n",
    "slope = np.empty(len(x))\n",
    "\n",
    "for j in range(0, len(x)):\n",
    "    for i in range(0, len(x)):\n",
    "        if j != i:\n",
    "            slope[j]= ( (y[j]-y[i])/(x[j]-x[i]) )\n",
    "\n",
    "m = np.median(slope);\n",
    "print(m)\n",
    "\n",
    "myplot(x,y,'o');\n",
    "myplot(x,m*x+c,'-g');"
   ]
  },
  {
   "cell_type": "markdown",
   "metadata": {},
   "source": [
    "## Residual plot : amplify the presence of outliers"
   ]
  },
  {
   "cell_type": "code",
   "execution_count": null,
   "metadata": {},
   "outputs": [],
   "source": [
    "\n",
    "#m, c, r_value, p_value, std_err = stats.linregress(x,y);\n",
    "\n",
    "prediction=m*x+c;\n",
    "\n",
    "residual = prediction - y;\n",
    "\n",
    "plt.plot(x,residual,'r+');\n",
    "plt.xlabel(\"predictor x\");\n",
    "plt.ylabel(\"residual\");\n",
    "#myplot(x,m*x+c,'-r');\n"
   ]
  },
  {
   "cell_type": "markdown",
   "metadata": {},
   "source": [
    "## Outliers using sklearn"
   ]
  },
  {
   "cell_type": "code",
   "execution_count": null,
   "metadata": {},
   "outputs": [],
   "source": [
    "from sklearn import linear_model, datasets\n",
    "\n",
    "n_samples = 100\n",
    "n_outliers = 10\n",
    "x, y, coef = datasets.make_regression(n_samples=n_samples, n_features=1,n_informative=1, noise=10,coef=True, random_state=0)\n",
    "# Add outlier data\n",
    "np.random.seed(0)\n",
    "x[:n_outliers] = 3 + 0.5 * np.random.normal(size=(n_outliers, 1))\n",
    "y[:n_outliers] = -3 + 10 * np.random.normal(size=n_outliers)\n",
    "\n",
    "# Fit line using all data\n",
    "lr = linear_model.LinearRegression()\n",
    "lr.fit(x, y)\n",
    "\n",
    "# Robustly fit linear model with RANSAC algorithm\n",
    "ransac = linear_model.RANSACRegressor()\n",
    "ransac.fit(x, y)\n",
    "inlier_mask = ransac.inlier_mask_\n",
    "outlier_mask = np.logical_not(inlier_mask)\n",
    "\n",
    "# Predict data of estimated models\n",
    "line_x = np.arange(x.min(), x.max())[:, np.newaxis]\n",
    "line_y = lr.predict(line_x)\n",
    "line_y_ransac = ransac.predict(line_x)\n",
    "\n",
    "\n",
    "#plots\n",
    "plt.scatter(x[inlier_mask], y[inlier_mask])\n",
    "plt.scatter(x[outlier_mask], y[outlier_mask])"
   ]
  },
  {
   "cell_type": "markdown",
   "metadata": {},
   "source": [
    "## Remark on extrapolation\n",
    "\n",
    "* Range of validity of the regression model must be made explicit."
   ]
  },
  {
   "cell_type": "markdown",
   "metadata": {},
   "source": [
    "# PART-II Multiple Regression : Going back to start \n",
    "\n",
    "- The humidity can depend on other parameters as well, then\n",
    "\n",
    "    $H_i = m_1 T_i + m_2 X_{2i} + m_3 X_{3i} + ...$\n",
    "    \n",
    "    (changing the notation)\n",
    "\n",
    "    $Y_i=m_1 X_1 + m_2 X_{2} + m_3 X_{3} + ...$\n",
    "    \n",
    "    or\n",
    "    \n",
    "    $Y_i=\\sum_{k=1}^p m_k X_{ki}$ for $p$ number of predictors.\n",
    "    \n",
    "    or\n",
    "    \n",
    "    $\\mathbf{Y} = \\mathbf{m}\\mathbf{X}$ in matrix notation.\n",
    "    \n",
    "    \n",
    "- The residual will be\n",
    "\n",
    "    $$\\sum_i( Y_i - \\sum_{k=1}^p m_k X_{ki} )^2$$\n",
    "    \n",
    "To minimize the residual,\n",
    "\n",
    "$$\n",
    "\\frac{\\partial}{\\partial m_k} \\sum_i ( Y_i - \\sum_{k=1}^p m_k X_{ki} )^2 = 0\n",
    "$$\n",
    "\n",
    "For example for two predictos ($p=2$)\n",
    "\n",
    "\n",
    "$$\n",
    "\\frac{\\partial}{\\partial m_1} \\sum_i( Y_i - m_1 X_{1i} - m_2 X_{2i})^2 = 0 \\\\\n",
    "\\implies \\sum_i ( X_{1i} Y_i - m_1 X_{1i} X_{1i} - m_2 X_{1i} X_{2i}) = 0 \\\\\n",
    "\\implies m_1  = \\frac { \\sum_i ( X_{1i} Y_i - m_2 X_{1i} X_{2i}) }{\\sum_i  X_{1i} X_{1i}}\n",
    "$$\n",
    "\n",
    "\n",
    "$$\n",
    "\\frac{\\partial}{\\partial m_2} \\sum_i( Y_i - m_1 X_{1i} - m_2 X_{2i})^2 = 0 \\\\\n",
    "\\implies \\sum_i ( X_{2i} Y_i - m_1 X_{2i} X_{1i} - m_2 X_{2i} X_{2i}) = 0 \\\\\n",
    "\\implies m_2 = \\frac {  \\sum_i ( X_{2i} Y_i - m_1 X_{2i} X_{1i}) }{\\sum_i X_{2i} X_{2i}}\n",
    "$$\n",
    "\n",
    "and solve for $m_1$ and $m_2$.\n",
    "\n"
   ]
  },
  {
   "cell_type": "code",
   "execution_count": null,
   "metadata": {},
   "outputs": [],
   "source": [
    "import pandas as pd\n",
    "data = pd.read_csv('http://www-bcf.usc.edu/~gareth/ISL/Advertising.csv', index_col=0)\n",
    "#X = df_adv[['TV', 'Radio']]\n",
    "#y = df_adv['Sales']\n",
    "#df_adv.head()\n",
    "print(data)\n"
   ]
  },
  {
   "cell_type": "code",
   "execution_count": null,
   "metadata": {},
   "outputs": [],
   "source": [
    "x1=data['TV']\n",
    "x2=data['radio']\n",
    "x3=data['newspaper']\n",
    "y=data['sales']\n",
    "\n",
    "#print(x1,y)\n",
    "plt.plot(x1,y,'o'); \n",
    "plt.xlabel('TV')\n",
    "plt.ylabel('sales')"
   ]
  },
  {
   "cell_type": "code",
   "execution_count": null,
   "metadata": {},
   "outputs": [],
   "source": [
    "myplot(x2,y,'o'); \n",
    "plt.xlabel('radio')\n",
    "plt.ylabel('sales')"
   ]
  },
  {
   "cell_type": "code",
   "execution_count": null,
   "metadata": {},
   "outputs": [],
   "source": [
    "plt.plot(x3,y,'o')\n",
    "plt.xlabel('newspaper');\n",
    "plt.ylabel('sales');"
   ]
  },
  {
   "cell_type": "markdown",
   "metadata": {},
   "source": [
    "## Proposed regression model\n",
    "\n",
    "$sales = m_0 + m_1 \\times TV + m_2 \\times radio + m_3 \\times newspaper$"
   ]
  },
  {
   "cell_type": "code",
   "execution_count": null,
   "metadata": {},
   "outputs": [],
   "source": [
    "import statsmodels.api as sm\n",
    "\n",
    "X = data[['TV', 'radio']];\n",
    "y = data['sales'];\n",
    "\n",
    "## fit a OLS model with intercept on TV and Radio\n",
    "X = sm.add_constant(X);\n",
    "model  = sm.OLS(y, X).fit();#\n",
    "\n",
    "print('m=',model.params)\n",
    "\n",
    "## Create the 3d plot \n",
    "# TV/Radio grid for 3d plot\n",
    "xx1, xx2 = np.meshgrid(np.linspace(X.TV.min(), X.TV.max(), 100), \n",
    "                       np.linspace(X.radio.min(), X.radio.max(), 100));\n",
    "\n",
    "# plot the hyperplane by evaluating the parameters on the grid\n",
    "Z = model.params[0] + model.params[1] * xx1 + model.params[2] * xx2;\n",
    "\n",
    "# create matplotlib 3d axes\n",
    "fig = plt.figure(figsize=(12, 8));\n",
    "#ax = Axes3D(fig, azim=-115, elev=15)\n",
    "\n",
    "\n",
    "from mpl_toolkits.mplot3d import Axes3D\n",
    "fig = plt.figure();\n",
    "ax = fig.add_subplot(111, projection='3d');\n",
    "\n",
    "# plot hyperplane\n",
    "surf = ax.plot_surface(xx1, xx2, Z, cmap=plt.cm.Blues_r, alpha=0.6, linewidth=0);\n",
    "\n",
    "# plot data points - points over the HP are white, points below are black\n",
    "resid = y - model.predict(X);\n",
    "ax.scatter(X[resid >= 0].TV, X[resid >= 0].radio, y[resid >= 0], color='black', alpha=1.0, facecolor='white');\n",
    "ax.scatter(X[resid < 0].TV, X[resid < 0].radio, y[resid < 0], color='black', alpha=1.0);\n",
    "\n",
    "# set axis labels\n",
    "ax.set_xlabel('TV');\n",
    "ax.set_ylabel('radio');\n",
    "ax.set_zlabel('sales');"
   ]
  },
  {
   "cell_type": "markdown",
   "metadata": {},
   "source": [
    "## See model summary"
   ]
  },
  {
   "cell_type": "code",
   "execution_count": null,
   "metadata": {},
   "outputs": [],
   "source": [
    "print(model.summary());"
   ]
  },
  {
   "cell_type": "markdown",
   "metadata": {},
   "source": [
    "## Exercise (Multiple regression)\n",
    "\n",
    "* **Iris dataset **\n",
    " - Load 'iris' dataset from seaborn library.\n",
    " - You will notice that there are defferent species with their sepal and petal dimensions. For 'setosa' species, create and store the data in a seperate dataframe.\n",
    " - Now run a multiple regression model for 'sepal_length' as a output variable and 'sepal_width' and 'petal_width' as predictors.\n",
    " - Print the intercept and the slope of the predicted model.\n",
    " - Calculate the $R^2$ the model.\n",
    " - Interpret if there is a correlation. "
   ]
  },
  {
   "cell_type": "code",
   "execution_count": null,
   "metadata": {},
   "outputs": [],
   "source": [
    "#iris dataset for multiple regression\n",
    "\n",
    "#data = pd.read_csv(\"https://raw.githubusercontent.com/mwaskom/seaborn-data/master/iris.csv\")\n",
    "#print(data)\n",
    "#data.set_index('species')\n",
    "#setosa=data[data['species'].str.contains(\"setosa\")]\n",
    "#x1=setosa['sepal_length']\n",
    "#x2=setosa['petal_length']\n",
    "#x3=setosa['petal_length']\n",
    "#y = data['sepal_length'];\n",
    "#X = data[['sepal_width', 'petal_width']];"
   ]
  },
  {
   "cell_type": "markdown",
   "metadata": {},
   "source": [
    "## Appendix"
   ]
  },
  {
   "cell_type": "markdown",
   "metadata": {},
   "source": [
    "\n",
    "| Element | Description|\n",
    "|----|----|\n",
    "| Dep. Variable \t| Which variable is the response in the model|\n",
    "|Model |\tWhat model you are using in the fit|\n",
    "|Method |\tHow the parameters of the model were calculated \n",
    "|No. Observations \t|The number of observations (examples)\n",
    "|DF Residuals |\tDegrees of freedom of the residuals. Number of observations – number of parameters\n",
    "|DF Model |\tNumber of parameters in the model (not including the constant term if present)\n",
    "\n",
    "The right part of the first table shows the goodness of fit\n",
    "\n",
    "|Element |\tDescription|\n",
    "|----|----|\n",
    "|R-squared \t|The coefficient of determination. A statistical measure of how well the regression line approximates the real data points|\n",
    "|Adj. R-squared |\tThe above value adjusted based on the number of observations and the degrees-of-freedom of the residuals|\n",
    "|F-statistic |\tA measure how significant the fit is. The mean squared error of the model divided by the mean squared error of the residuals|\n",
    "|Prob (F-statistic) |\tThe probability that you would get the above statistic, given the null hypothesis that they are unrelated|\n",
    "|Log-likelihood |\tThe log of the likelihood function.|\n",
    "|AIC \t|The Akaike Information Criterion. Adjusts the log-likelihood based on the number of observations and the complexity of the model.\n",
    "|BIC |\tThe Bayesian Information Criterion. Similar to the AIC, but has a higher penalty for models with more parameters.|\n",
    "\n",
    "The left part of the table reports for each of the coefficients\n",
    "\n",
    "|Description|\tName of the term in the model|\n",
    "|-----------|---------------------|\n",
    "|coef |\tThe estimated value of the coefficient|\n",
    "|std err |\tThe basic standard error of the estimate of the coefficient. More sophisticated errors are also available.|\n",
    "|t \t|The t-statistic value. This is a measure of how statistically significant the coefficient is.|\n",
    "|P > t |\tP-value that the null-hypothesis that the coefficient = 0 is true. If it is less than the confidence level, often 0.05, it indicates that there is a statistically significant relationship between the term and the response.|\n",
    "\n",
    "|Element \t|Description|\n",
    "|-----------|---------------------|\n",
    "|Skewness |\tA measure of the symmetry of the data about the mean. Normally-distributed errors should be symmetrically distributed about the mean (equal amounts above and below the line).|\n",
    "|Kurtosis |\tA measure of the shape of the distribution. Compares the amount of data close to the mean with those far away from the mean (in the tails).|\n",
    "|Omnibus |\tD’Angostino’s test. It provides a combined statistical test for the presence of skewness and kurtosis.|\n",
    "|Prob(Omnibus) |\tThe above statistic turned into a probability|\n",
    "|Jarque-Bera |\tA different test of the skewness and kurtosis|\n",
    "|Prob (JB) \t|The above statistic turned into a probability|\n",
    "|Durbin-Watson |\tA test for the presence of autocorrelation (that the errors are not independent.) Often important in time-series analysis|\n",
    "|Cond. No |\tA test for multicollinearity (if in a fit with multiple parameters, the parameters are related with each other).|"
   ]
  },
  {
   "cell_type": "code",
   "execution_count": null,
   "metadata": {},
   "outputs": [],
   "source": []
  }
 ],
 "metadata": {
  "kernelspec": {
   "display_name": "Python 3",
   "language": "python",
   "name": "python3"
  },
  "language_info": {
   "codemirror_mode": {
    "name": "ipython",
    "version": 3
   },
   "file_extension": ".py",
   "mimetype": "text/x-python",
   "name": "python",
   "nbconvert_exporter": "python",
   "pygments_lexer": "ipython3",
   "version": "3.6.3"
  }
 },
 "nbformat": 4,
 "nbformat_minor": 2
}
