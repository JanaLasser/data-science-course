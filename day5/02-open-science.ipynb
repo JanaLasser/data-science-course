{
 "cells": [
  {
   "cell_type": "markdown",
   "metadata": {
    "collapsed": true
   },
   "source": [
    "# Open Science"
   ]
  },
  {
   "cell_type": "markdown",
   "metadata": {},
   "source": [
    "<a name=\"top\"></a>Outline\n",
    "---"
   ]
  },
  {
   "cell_type": "markdown",
   "metadata": {},
   "source": [
    "1. ['Open Science' as a concept](#openscience)\n",
    "  * [What is it](#what)\n",
    "  * [Why bother?](#why)\n",
    "  * [Pitfalls and cons](#cons)\n",
    "  * [How do I practice it?](#how)\n",
    "2. [Open Access](#open access)\n",
    "  * [The 'green' and the 'golden' road](#green and golden)\n",
    "  * [Preprint servers](#preprint)\n",
    "  * [The executable paper](#executable paper)\n",
    "3. [Open Data](#open data)\n",
    "  * [The FAIR principle for data](#fair)\n",
    "4. [Open Source](#open source)\n",
    "  * [Citable code](#citable code)\n",
    "  * [Live presentation](#live)\n",
    "5. [Final remarks](#fin)\n",
    "  * [Questions](#questions)\n",
    "  * [Evaluation](#evaluation)"
   ]
  },
  {
   "cell_type": "markdown",
   "metadata": {},
   "source": [
    "<a name=\"openscience\"></a>'Open Science' as a concept\n",
    "==="
   ]
  },
  {
   "cell_type": "markdown",
   "metadata": {},
   "source": [
    "<a name=\"what\"></a>What is it?\n",
    "---"
   ]
  },
  {
   "cell_type": "markdown",
   "metadata": {},
   "source": [
    "Open Science is a buzzword that contains many sub-concepts from different areas of the scientific life. Common to all the sub-concepts are the goals that Open Science tries to reach with its approach:\n",
    "* Transparency\n",
    "* Reproducibility\n",
    "* Accessibility\n",
    "* Efficiency"
   ]
  },
  {
   "cell_type": "markdown",
   "metadata": {},
   "source": [
    "The most commonly named sub-concepts when talking about Open Science are\n",
    "* Open Access\n",
    "* Open Data\n",
    "* Open Source\n",
    "* Open Peer Review\n",
    "* Open Labbooks\n",
    "* Citizen Science\n",
    "This presentation is mostly concerned with the first three of them."
   ]
  },
  {
   "cell_type": "markdown",
   "metadata": {},
   "source": [
    "[top](#top)"
   ]
  },
  {
   "cell_type": "markdown",
   "metadata": {},
   "source": [
    "<a name=\"why\"></a>Why bother?\n",
    "---"
   ]
  },
  {
   "cell_type": "markdown",
   "metadata": {},
   "source": [
    "Making your science and data accessible and transparent involves some additional work on your part. Therefore we need some _incentives_ to make that work worth your while. Some incentives from the more direct ones to the more ideologoical:\n",
    "* Save money (for example for software licenses).\n",
    "* Save time (understandable, transparent and accessible work is to your own benefit).\n",
    "* Open tools often have a larger community.\n",
    "* Larger audience -> increased chance for collaborations/citations.\n",
    "* More efficient research because more data and knowledge is available can be re-used and re-mixed.\n",
    "* Money that is currently going to the shareholders of big publishers could be used to give one of YOU a permanent job in science instead.\n",
    "* More 'equal' access to knowledge and chances for example in developing countries.\n",
    "* Ethics of 'good scientific practice' demand reproducibility and accessibility.\n",
    "* The current 'reproducibility crisis' (http://www.nature.com/news/1-500-scientists-lift-the-lid-on-reproducibility-1.19970)\n",
    "* Other: ..."
   ]
  },
  {
   "cell_type": "markdown",
   "metadata": {},
   "source": [
    "![reproducibilitycrisis](http://www.nature.com/polopoly_fs/7.36717.1464174452!/image/reproducibility-graphic-online2.jpg_gen/derivatives/landscape_630/reproducibility-graphic-online2.jpg)"
   ]
  },
  {
   "cell_type": "markdown",
   "metadata": {},
   "source": [
    "[top](#top)"
   ]
  },
  {
   "cell_type": "markdown",
   "metadata": {},
   "source": [
    "<a name=\"cons\"></a>Pitfalls and cons\n",
    "---"
   ]
  },
  {
   "cell_type": "markdown",
   "metadata": {},
   "source": [
    "Being open with your science is not always a win-win situation for all involved parties and its not all flowers and sunshine. Some counterarguments and pitfalls you need to be aware of:\n",
    "* Open Access journals are paid by the _authors_ to cover their cost.  \n",
    "$\\rightarrow$ Be wary of excessive fees that are not warranted.\n",
    "* Open Access journals often have lower _impact factors_.  \n",
    "$\\rightarrow$ look out for institutions that have pledged to value _quality_ over citation metrics.\n",
    "* Being scooped is an imminent danger.  \n",
    "$\\rightarrow$ It is OK to make your data and source code accessible _after_ you published.\n",
    "* But my code is too messy...   \n",
    "$\\rightarrow$ People will be _thankfull_ that there is anything at all.\n",
    "* Loss of quality control/gatekeeping.  \n",
    "$\\rightarrow$ The reproducibility crisis is one of the best indicators that the current approach doesn't work either and it is time to try something else.\n",
    "* Other: ..."
   ]
  },
  {
   "cell_type": "markdown",
   "metadata": {},
   "source": [
    "<a name=\"how\"></a>How do I practice it?\n",
    "---"
   ]
  },
  {
   "cell_type": "markdown",
   "metadata": {},
   "source": [
    "* **Publish in Open Access journals** (https://doaj.org/ helps you find one).\n",
    "* **Publish your data** along with the corresponding publication and _give it a license_ (for example at https://zenodo.org/).\n",
    "* **Publish your code** used to analyze or (in case of numerical simulations) produce your data and _give it a license_ (for example on https://github.com/). \n",
    "\n",
    "A word on licenses: You can use the creative commons license chooser (https://creativecommons.org/choose/) to look for a license that fits your needs and attach/link to it in your publication.  \n",
    "\n",
    "You can explicitely allow or forbid\n",
    "* sharing\n",
    "* remixing\n",
    "* commercial use\n",
    "* (military use) - not yet in creative commons  \n",
    "\n",
    "If something you publish does not have an explicit license attached to it, it is by default forbidden to share, remix and use comercially!"
   ]
  },
  {
   "cell_type": "markdown",
   "metadata": {},
   "source": [
    "[top](#top)"
   ]
  },
  {
   "cell_type": "markdown",
   "metadata": {},
   "source": [
    "<a name=\"open access\"></a>Open Access\n",
    "==="
   ]
  },
  {
   "cell_type": "markdown",
   "metadata": {},
   "source": [
    "> Open access (OA) refers to online research outputs that are free of all restrictions on access (e.g. access tolls) and free of many restrictions on use (e.g. certain copyright and license restrictions). Open access can be applied to all forms of published research output, including peer-reviewed and non peer-reviewed academic journal articles, conference papers, theses, book chapters, and monographs.\n",
    "\n",
    "[Wikipedia on Open Access]"
   ]
  },
  {
   "cell_type": "markdown",
   "metadata": {},
   "source": [
    "<a name=\"green and golden\"></a>The 'green' and the 'golden' road\n",
    "---"
   ]
  },
  {
   "cell_type": "markdown",
   "metadata": {},
   "source": [
    "* 'Golden' open access journals publish their articles Open Access immediately (not after a certain dealy).\n",
    "* 'Green' open access journals endorse open self-publishing by the authors (for example on preprint or institutional servers) but have paywalls for their articles themselves."
   ]
  },
  {
   "cell_type": "markdown",
   "metadata": {},
   "source": [
    "<a name=\"preprint\"></a>Preprint servers\n",
    "---"
   ]
  },
  {
   "cell_type": "markdown",
   "metadata": {},
   "source": [
    "A preprint is a version of a paper that precedes publication in a peer-reviewed journal. The preprint may persist, often as a non-typeset version available free, after a paper is published in a journal.\n",
    "Two examples\n",
    "* arXiv for physics, astronomy and computer science (http://biorxiv.org/)\n",
    "* bioRxiv for biology (http://biorxiv.org/)\n",
    "\n",
    "Aim for golden Open Access. If your journal of choice is not Open Access itself, check if it endorses open self-publishing (most of them do!) and take the five minutes to upload your paper on an appropriate preprint server."
   ]
  },
  {
   "cell_type": "markdown",
   "metadata": {},
   "source": [
    "[top](#top)"
   ]
  },
  {
   "cell_type": "markdown",
   "metadata": {},
   "source": [
    "<a name=\"executable paper\"></a>The executable paper\n",
    "---"
   ]
  },
  {
   "cell_type": "markdown",
   "metadata": {},
   "source": [
    "An executable paper is a publication that comes with the data used to create it published along with it. The analysis done to arrive at the results and the scripts used to create the graphics are embedded in the paper and can be reproduced step by step by the reader. This is as good as it can get in terms of transparent and reproducible research. Possible tools\n",
    "* Jupyter-notebooks \n",
    "* R-markdown (http://rmarkdown.rstudio.com/)  \n",
    "\n",
    "Examples:\n",
    "* Full publication: http://nbviewer.jupyter.org/github/mbobra/machine-learning-with-solar-data/blob/master/cme_svm.ipynb\n",
    "* Only the figures: https://github.com/yoavram/ruggedsim/blob/master/manuscript/supplementry.ipynb"
   ]
  },
  {
   "cell_type": "markdown",
   "metadata": {},
   "source": [
    "[top](#top)"
   ]
  },
  {
   "cell_type": "markdown",
   "metadata": {},
   "source": [
    "<a name=\"open data\"></a>Open Data\n",
    "==="
   ]
  },
  {
   "cell_type": "markdown",
   "metadata": {},
   "source": [
    "Data itself has become recognized as primary research output (as opposed to papers). Journals for data-publishing have emerged and more and more publications use freely accessible datasets in a new context to discover new findings.  \n",
    "\n",
    "In this context we often talk about **Data Objects**. A data object consists of _data elements_ + _metadata_ + _an identifier_.  \n",
    "\n",
    "To make data re-use possible, the data you publish needs to adhere to a few basic principles."
   ]
  },
  {
   "cell_type": "markdown",
   "metadata": {},
   "source": [
    "<a name=\"fair\"></a>The FAIR principle\n",
    "---"
   ]
  },
  {
   "cell_type": "markdown",
   "metadata": {},
   "source": [
    "Following https://www.force11.org/group/fairgroup/fairprinciples, published data needs to be\n",
    "* **F**indable\n",
    "  - To be Findable any Data Object should be uniquely and persistently identifiable (DOI).\n",
    "  - A Data Object should minimally contain basic machine actionable metadata that allows it to be distinguished from other Data Objects.\n",
    "* **A**ccessible\n",
    "  - Data is Accessible in that it can be always obtained by machines and humans.\n",
    "  - Through a well-defined protocol and upon authorization where necessary.\n",
    "* **I**nteroperable\n",
    "  - (Meta) data is machine-actionable (parseable).\n",
    "  - (Meta) data formats utilize shared vocabularies. \n",
    "* **R**eusable\n",
    "  - (Meta) data should be sufficiently well-described and rich that it can be automatically (or with minimal human effort) linked or integrated, like-with-like, with other data sources.\n",
    "  - Published Data Objects should refer to their sources with rich enough metadata, a license and provenance to enable proper citation."
   ]
  },
  {
   "cell_type": "markdown",
   "metadata": {},
   "source": [
    "No matter what platform you finally use, adhering to the FAIR principle is always a good idea. It also isn't too much additional work if your data was in a machine-readable format in the first place."
   ]
  },
  {
   "cell_type": "markdown",
   "metadata": {},
   "source": [
    "[top](#top)"
   ]
  },
  {
   "cell_type": "markdown",
   "metadata": {},
   "source": [
    "<a name=\"open source\"></a>Open Source\n",
    "==="
   ]
  },
  {
   "cell_type": "markdown",
   "metadata": {},
   "source": [
    "> Open source promotes universal access via an open-source or free license to a product's design or blueprint, and universal redistribution of that design or blueprint.\n",
    "\n",
    "[Wikipedia]"
   ]
  },
  {
   "cell_type": "markdown",
   "metadata": {},
   "source": [
    "This often refers to software or code but can also be applied to for example Open Source plant cultures. Benefits of making your code openly accessible:\n",
    "* Encourages other people to work with it.\n",
    "* Valuable feedback, suggestions for improvements and bug reports.\n",
    "* More collaborations and contributions.\n",
    "* Connection to scientists and coders that work on the same problems that you would never have gotten to know otherwise.  \n",
    "\n",
    "The same principles as with Open Data apply to Open Source:\n",
    "* Make it findable by tagging it with keywords and hosting it at a place such at GitHub.\n",
    "* Make it re-usable by including a license and author's attribution.\n",
    "* Include a README file that details how to use the code.\n",
    "* Document and comment your code.  \n",
    "\n",
    "Especially the last point should be part of any software project or more involved analysis script anyways. Use the experience of publishing your code to find some bugs, clean up your codebase and add a proper documentation - this will greatly help you safe time in the future!"
   ]
  },
  {
   "cell_type": "markdown",
   "metadata": {},
   "source": [
    "[top](#top)"
   ]
  },
  {
   "cell_type": "markdown",
   "metadata": {},
   "source": [
    "<a name=\"citable code\"></a>Citable Code\n",
    "---"
   ]
  },
  {
   "cell_type": "markdown",
   "metadata": {},
   "source": [
    "Platforms like Zenodo allow you to assign a DOI to your code. Here is the workflow:\n",
    "* Log into Zenodo using your GitHub account (GitHub is much like GitLab but public by default).\n",
    "* Select one of your repositories.\n",
    "* Create a release of your code (freezes and tags the current status).\n",
    "* Get your DOI that can be used to cite your work."
   ]
  },
  {
   "cell_type": "markdown",
   "metadata": {},
   "source": [
    "[top](#top)"
   ]
  },
  {
   "cell_type": "markdown",
   "metadata": {},
   "source": [
    "<a name=\"fin\"></a>Final Remarks\n",
    "==="
   ]
  }
 ],
 "metadata": {
  "kernelspec": {
   "display_name": "Python 3",
   "language": "python",
   "name": "python3"
  },
  "language_info": {
   "codemirror_mode": {
    "name": "ipython",
    "version": 3
   },
   "file_extension": ".py",
   "mimetype": "text/x-python",
   "name": "python",
   "nbconvert_exporter": "python",
   "pygments_lexer": "ipython3",
   "version": "3.5.2"
  }
 },
 "nbformat": 4,
 "nbformat_minor": 1
}
