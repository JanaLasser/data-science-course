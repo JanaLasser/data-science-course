{
 "cells": [
  {
   "cell_type": "markdown",
   "metadata": {},
   "source": [
    "# Hypothesis Testing"
   ]
  },
  {
   "cell_type": "markdown",
   "metadata": {},
   "source": [
    "Statistical hypothesis testing is a framework for determining whether observed data deviates from what is expected.\n",
    "We will mainly use **scipy.stats** library."
   ]
  },
  {
   "cell_type": "markdown",
   "metadata": {},
   "source": [
    "#### Basics\n",
    "\n",
    "Test of **significance**: We want to assess the evidence provided by data about some claim concerning a population.\n",
    "\n",
    "Basic components:\n",
    "\n",
    "* **Null hypothesis ($H_0$)** : is indeferrent to our claims, assumes nothing interesting is going on between whatever variables we are testing, and attributes the extreme outcomes to pure chance. Represents the status quo in the relevant research field.\n",
    "* **Alternative/research hypothesis ($H_a$)**: statement that we are trying to prove by consucting the inferential statistics. Normally, we claim that a differencr **DOES** exist between the variables of interest.\n",
    "* **Test statistic**: to decide between two hypotheses, we shall choose the statistic upon hich we will base our decision.\n",
    "* **Prob. distribution of the test statistic under the null hypothesis**: setting aside our observed value of the test statistic, we instead focuses on what the value of the statistic might be if the null hypothesis were true \n",
    "* **Significance level $\\alpha$**: a probability threshold that determines when we _reject_ the null hypothesis. After carrying out a test, if the probability of getting a result as extreme as the one you observe due to chance is lower than the significance level, you reject the null hypothesis in favor of the alternative. This probability of seeing a result as extreme or more extreme than the one observed is known as the **p-value**.\n",
    "\n",
    "The purpose of a hypothesis test is to determine whether the null hypothesis is likely to be true given sample data. If there is little evidence against the null hypothesis given the data, you accept the null hypothesis. If the null hypothesis is unlikely given the data, you might reject the null in favor of the alternative hypothesis: there is something interesting is going on. The exact form of the alternative hypothesis will depend on the specific test you are carrying out. \n",
    "\n",
    "\n",
    "\n"
   ]
  },
  {
   "cell_type": "markdown",
   "metadata": {},
   "source": [
    "Let's consider a simple example of coin tossing. We flip a coin $n$ times and we observe $h$ heads. We would like to know whether the coin is fair ($H_0$) or biased ($H_a$).\n",
    "\n",
    "We denote by $B(q)$ the Bernulli distribution with unknown parameter $q$.\n",
    "\n",
    "Let's suppose that after $n=100$ flips, we get $h=61$ heads. We choose a significance level of $0.05$: is the coin fair or not? \n",
    "\n",
    "According to $H_0$: $q = 1/2$."
   ]
  },
  {
   "cell_type": "code",
   "execution_count": 106,
   "metadata": {
    "collapsed": true
   },
   "outputs": [],
   "source": [
    "import numpy as np\n",
    "import scipy.stats as st\n",
    "import scipy.special as sp\n",
    "%matplotlib inline\n",
    "import warnings\n",
    "warnings.filterwarnings('ignore')\n",
    "\n",
    "n = 100  # number of coin flips\n",
    "h = 61  # number of heads\n",
    "q = .5  # null-hypothesis of fair coin\n",
    "\n"
   ]
  },
  {
   "cell_type": "markdown",
   "metadata": {},
   "source": [
    "If $\\bar{X} is the sample mean, the z-score is the normalised version of the sample mean. \n",
    "Let us compute the **z-score** given the data and the significance level"
   ]
  },
  {
   "cell_type": "code",
   "execution_count": 107,
   "metadata": {},
   "outputs": [
    {
     "name": "stdout",
     "output_type": "stream",
     "text": [
      "2.2\n"
     ]
    }
   ],
   "source": [
    "xbar = float(h)/n #estimated mean of the distribution\n",
    "z = (xbar - q) * np.sqrt(n / (q*(1-q)))\n",
    "print(z)"
   ]
  },
  {
   "cell_type": "markdown",
   "metadata": {},
   "source": [
    "\n",
    "According to the null hypothesis, what is the probability that the z-score will be higher than some quantity $z_0$?\n",
    "\n",
    "This probability is called the (two-sided) **p-value**. According to the central limit theorem, the z-scoret approximately follows a standard Gaussian distribution N(0,1) for large n, so we have\n",
    "$$p = P[\\|z\\| > z_0] = 2P[z > z_0] \\approx 2* (1-\\Phi(z_0)),$$\n",
    "\n",
    "where $\\Phi$ the cummulative distribution of the standard normal distribution.\n",
    "\n",
    "So after computing z-score from the data, considering a significance level, we compute the $p-value$ of the calculated z-score.\n",
    "\n"
   ]
  },
  {
   "cell_type": "code",
   "execution_count": 108,
   "metadata": {},
   "outputs": [
    {
     "name": "stdout",
     "output_type": "stream",
     "text": [
      "0.027806895027\n"
     ]
    }
   ],
   "source": [
    "pval = 2 * (1 - st.norm.cdf(z))\n",
    "print(pval)"
   ]
  },
  {
   "cell_type": "markdown",
   "metadata": {},
   "source": [
    "If $p \\text{ value} < \\alpha$ ---> **_reject $H_0$_**"
   ]
  },
  {
   "cell_type": "markdown",
   "metadata": {},
   "source": [
    "![title](http://ipython-books.github.io/images/gaussian.png)"
   ]
  },
  {
   "cell_type": "markdown",
   "metadata": {},
   "source": [
    "## Statistical Tests\n",
    "*Compare two means from different distributions assuming they are independent and have same standard deviation:**z-test**\n",
    "\n"
   ]
  },
  {
   "cell_type": "markdown",
   "metadata": {},
   "source": [
    "### One sided and two sided tests\n",
    "\n",
    "Considering a test statistic e.g. two means $\\mu_A$ and $\\mu_B$:\n",
    "* **one sided** test claims: $\\mu_A < \\mu_B$\n",
    "* **two sided** tests claims: $\\mu_A < \\mu_B$ or $\\mu_A > \\mu_B$ "
   ]
  },
  {
   "cell_type": "markdown",
   "metadata": {},
   "source": [
    "### p -value\n",
    "Probability that the test will **correctly reject a false null hypothesis**.\n",
    "\n",
    "A p-value measures the strenght of evidence against a hypothesis:\n",
    "* if p-value is small, then either $H_0$ is false OR we got a really extreme/biased sample\n",
    "* the smaller the p-value is, the more convincing the evidence is against the null hypothesis"
   ]
  },
  {
   "cell_type": "markdown",
   "metadata": {},
   "source": [
    "## Student's T-Test\n",
    "\n",
    "For investigiting differences between sample and population means.\n",
    "\n",
    "### One-sample T-Test: testing the value of a population mean\n",
    "\n",
    "A one-sample t-test checks whether a sample mean differs from the population mean.\n",
    "\n",
    "**[stats.ttest_1samp()](https://docs.scipy.org/doc/scipy/reference/generated/scipy.stats.ttest_1samp.html#scipy.stats.ttest_1samp)** function tests if the population mean (which we already know) is likely to be equal to a given value (technically if observations are drawn from a Gaussian distributions of given population mean). It returns the T statistic and the p-value.(considers a two sided test)\n",
    "\n",
    "\n"
   ]
  },
  {
   "cell_type": "code",
   "execution_count": 109,
   "metadata": {
    "collapsed": true
   },
   "outputs": [],
   "source": [
    "import numpy as np\n",
    "import pandas as pd\n",
    "import scipy.stats as stats\n",
    "import matplotlib.pyplot as plt\n",
    "import math"
   ]
  },
  {
   "cell_type": "code",
   "execution_count": 110,
   "metadata": {},
   "outputs": [
    {
     "name": "stdout",
     "output_type": "stream",
     "text": [
      "Germany mean age: 43.000\n",
      "Goettingen mean age: 39.260\n"
     ]
    }
   ],
   "source": [
    "np.random.seed(6)\n",
    "#Population of Germany\n",
    "population_ages1 = stats.poisson.rvs(loc=18, mu=35, size=150000)\n",
    "population_ages2 = stats.poisson.rvs(loc=18, mu=10, size=100000)\n",
    "population_ages = np.concatenate((population_ages1, population_ages2))\n",
    "\n",
    "goettingen_ages1 = stats.poisson.rvs(loc=18, mu=30, size=30)\n",
    "goettingen_ages2 = stats.poisson.rvs(loc=18, mu=10, size=20)\n",
    "goettingen_ages = np.concatenate((goettingen_ages1, goettingen_ages2))\n",
    "\n",
    "print('Germany mean age: %.3f' %population_ages.mean() )\n",
    "print( 'Goettingen mean age: %.3f' %goettingen_ages.mean() )"
   ]
  },
  {
   "cell_type": "markdown",
   "metadata": {},
   "source": [
    "Here we know that we used a slightly different combination of distributions to generate the sample data for Goettingen, so we know that the two means are different. We will conduct a t-test at a $95\\%$ confidence level and see if it correctly rejects the null hypothesis that the sample comes from the same distribution as the population.\n",
    "\n"
   ]
  },
  {
   "cell_type": "code",
   "execution_count": 111,
   "metadata": {},
   "outputs": [
    {
     "data": {
      "text/plain": [
       "Ttest_1sampResult(statistic=-2.5742714883655027, pvalue=0.013118685425061678)"
      ]
     },
     "execution_count": 111,
     "metadata": {},
     "output_type": "execute_result"
    }
   ],
   "source": [
    "stats.ttest_1samp(a= goettingen_ages,               # Sample data\n",
    "                 popmean= population_ages.mean())  # Pop mean"
   ]
  },
  {
   "cell_type": "markdown",
   "metadata": {},
   "source": [
    "The test result shows the test statistic \"t\" is equal to -2.574. \n",
    "**This test statistic tells us how much the sample mean deviates from the null hypothesis.**\n",
    "\n",
    "If the t-statistic lies outside the quantiles of the t-distribution corresponding to our confidence level and degrees of freedom, we reject the null hypothesis. We can check the quantiles with **stats.t.ppf()**:"
   ]
  },
  {
   "cell_type": "code",
   "execution_count": 112,
   "metadata": {},
   "outputs": [
    {
     "data": {
      "text/plain": [
       "-2.0095752344892093"
      ]
     },
     "execution_count": 112,
     "metadata": {},
     "output_type": "execute_result"
    }
   ],
   "source": [
    "stats.t.ppf(q=0.025,  # Quantile to check\n",
    "            df=len(goettingen_ages)-1)  # Degrees of freedom"
   ]
  },
  {
   "cell_type": "code",
   "execution_count": 113,
   "metadata": {},
   "outputs": [
    {
     "data": {
      "text/plain": [
       "2.0095752344892088"
      ]
     },
     "execution_count": 113,
     "metadata": {},
     "output_type": "execute_result"
    }
   ],
   "source": [
    "stats.t.ppf(q=0.975,  # Quantile to check\n",
    "            df=len(goettingen_ages)-1)  # Degrees of freedom"
   ]
  },
  {
   "cell_type": "markdown",
   "metadata": {},
   "source": [
    "We can calculate the chances of seeing a result as extreme as the one we observed (known as the p-value) by passing the t-statistic in as the quantile to the stats.t.cdf() function:"
   ]
  },
  {
   "cell_type": "code",
   "execution_count": 114,
   "metadata": {},
   "outputs": [
    {
     "data": {
      "text/plain": [
       "0.013121066545690117"
      ]
     },
     "execution_count": 114,
     "metadata": {},
     "output_type": "execute_result"
    }
   ],
   "source": [
    "stats.t.cdf(x= -2.5742,      # T-test statistic\n",
    "               df= 49) * 2   # Mupltiply by two for two tailed test*"
   ]
  },
  {
   "cell_type": "markdown",
   "metadata": {},
   "source": [
    "**Note**: The alternative hypothesis we are checking is whether the sample mean differs (is not equal to) the population mean. Since the sample could differ in either the positive or negative direction we multiply the by two."
   ]
  },
  {
   "cell_type": "markdown",
   "metadata": {},
   "source": [
    "Notice this value is the same as the p-value listed in the original t-test output. A p-value of 0.01311 means we'd expect to see data as extreme as our sample due to chance about 1.3% of the time if the null hypothesis was true. In this case, the p-value is lower than our significance level α (equal to 1-conf.level or 0.05) so we should reject the null hypothesis. If we were to construct a 95% confidence interval for the sample it would not capture population mean:"
   ]
  },
  {
   "cell_type": "code",
   "execution_count": 115,
   "metadata": {},
   "outputs": [
    {
     "data": {
      "text/plain": [
       "(36.369669080722176, 42.15033091927782)"
      ]
     },
     "execution_count": 115,
     "metadata": {},
     "output_type": "execute_result"
    }
   ],
   "source": [
    "sigma = goettingen_ages.std()/math.sqrt(50)  # Sample stdev/sample size\n",
    "\n",
    "stats.t.interval(0.95,                        # Confidence level\n",
    "                 df = 49,                     # Degrees of freedom\n",
    "                 loc = goettingen_ages.mean(), # Sample mean\n",
    "                 scale= sigma)                # Standard dev estimate"
   ]
  },
  {
   "cell_type": "markdown",
   "metadata": {},
   "source": [
    "On the other hand, since there is a 1.3% chance of seeing a result this extreme due to chance, it is not significant at the 99% confidence level. This means if we were to construct a 99% confidence interval, it would capture the population mean:"
   ]
  },
  {
   "cell_type": "code",
   "execution_count": 116,
   "metadata": {},
   "outputs": [
    {
     "data": {
      "text/plain": [
       "(35.405479940921069, 43.114520059078927)"
      ]
     },
     "execution_count": 116,
     "metadata": {},
     "output_type": "execute_result"
    }
   ],
   "source": [
    "stats.t.interval(alpha = 0.99,                # Confidence level\n",
    "                 df = 49,                     # Degrees of freedom\n",
    "                 loc = goettingen_ages.mean(), # Sample mean\n",
    "                 scale= sigma)                # Standard dev estimate"
   ]
  },
  {
   "cell_type": "markdown",
   "metadata": {
    "collapsed": true
   },
   "source": []
  },
  {
   "cell_type": "code",
   "execution_count": null,
   "metadata": {
    "collapsed": true
   },
   "outputs": [],
   "source": []
  },
  {
   "cell_type": "markdown",
   "metadata": {},
   "source": [
    "###  2-sample t-test: testing for difference across populations\n",
    "Test wether the difference of the means of 2 different samples is significant.\n",
    "\n",
    "Here, the $H_0$ assumes that the **means of both groups are the same**. Unlike the one sample-test where we test against a known population parameter, the two sample test only involves sample means. \n",
    "\n",
    "**[stats.ttest_ind](https://docs.scipy.org/doc/scipy-0.14.0/reference/generated/scipy.stats.ttest_ind.html) ** function.\n",
    "\n",
    "\n",
    "\n",
    "Let's generate a sample of voter age data for Wisconsin and test it against the sample we made earlier:\n",
    "\n",
    "\n"
   ]
  },
  {
   "cell_type": "code",
   "execution_count": 117,
   "metadata": {},
   "outputs": [
    {
     "name": "stdout",
     "output_type": "stream",
     "text": [
      "42.8\n"
     ]
    }
   ],
   "source": [
    "np.random.seed(12)\n",
    "berlin_ages1 = stats.poisson.rvs(loc=18, mu=33, size=30)\n",
    "berlin_ages2 = stats.poisson.rvs(loc=18, mu=13, size=20)\n",
    "berlin_ages = np.concatenate((berlin_ages1, berlin_ages2))\n",
    "\n",
    "print( berlin_ages.mean() )"
   ]
  },
  {
   "cell_type": "code",
   "execution_count": 118,
   "metadata": {},
   "outputs": [
    {
     "data": {
      "text/plain": [
       "Ttest_indResult(statistic=-1.7083870793286842, pvalue=0.090731043439577483)"
      ]
     },
     "execution_count": 118,
     "metadata": {},
     "output_type": "execute_result"
    }
   ],
   "source": [
    "stats.ttest_ind(a= goettingen_ages,\n",
    "                b= berlin_ages,\n",
    "                equal_var=False)    # Assume samples have equal variance?"
   ]
  },
  {
   "cell_type": "markdown",
   "metadata": {},
   "source": [
    "The test yields a p-value of 0.0907, which means there is a 9% chance we'd see sample data this far apart if the two groups tested are actually identical. \n",
    "\n",
    "If we were using a $95\\%$ confidence level we would **fail to reject the null hypothesis**, since the p-value is greater than the corresponding significance level of $5\\%$."
   ]
  },
  {
   "cell_type": "markdown",
   "metadata": {},
   "source": [
    "Usually before proceeding with the t-test, we might want to evaluate the sample variances of the two groups, using the **Fisher's f-test** to verify the homoskedacity (homogeneity of variances)."
   ]
  },
  {
   "cell_type": "code",
   "execution_count": 119,
   "metadata": {},
   "outputs": [
    {
     "name": "stdout",
     "output_type": "stream",
     "text": [
      "Reject the null hypothesis that Var(X) == Var(Y)\n"
     ]
    }
   ],
   "source": [
    "F = np.std(goettingen_ages)**2 / np.std(berlin_ages)**2  # F-statistic\n",
    "df1 = len(goettingen_ages) - 1\n",
    "df2 = len(berlin_ages) - 1\n",
    "alpha = 0.05 \n",
    "p_value = stats.f.cdf(F, df1, df2)\n",
    "if p_value > alpha:\n",
    "    print(\"Reject the null hypothesis that Var(X) == Var(Y)\")"
   ]
  },
  {
   "cell_type": "markdown",
   "metadata": {
    "collapsed": true
   },
   "source": [
    "## Paired tests: repeated measurements on the same individual"
   ]
  },
  {
   "cell_type": "markdown",
   "metadata": {},
   "source": [
    "The former test assumes testing differences between *independent* groups. \n",
    "If we are interested in testing differences between samples of the same group at different points in time we use paired tests. (e.g. checking blod pressure on the same sample before and after treatment)\n",
    "\n",
    "**[stats.ttest_rel](https://docs.scipy.org/doc/scipy-0.14.0/reference/generated/scipy.stats.ttest_rel.html) **\n",
    "\n",
    "*(This is equivalent to a 1-sample test on the difference of the two samples assuming zero known population mean)*\n"
   ]
  },
  {
   "cell_type": "markdown",
   "metadata": {},
   "source": [
    "Let us consider a contrived example. We would like to test whethr a weight-loss drug works. We create dummy before and after weights:"
   ]
  },
  {
   "cell_type": "code",
   "execution_count": 120,
   "metadata": {},
   "outputs": [
    {
     "data": {
      "text/html": [
       "<div>\n",
       "<table border=\"1\" class=\"dataframe\">\n",
       "  <thead>\n",
       "    <tr style=\"text-align: right;\">\n",
       "      <th></th>\n",
       "      <th>weight_after</th>\n",
       "      <th>weight_before</th>\n",
       "      <th>weight_change</th>\n",
       "    </tr>\n",
       "  </thead>\n",
       "  <tbody>\n",
       "    <tr>\n",
       "      <th>count</th>\n",
       "      <td>100.000000</td>\n",
       "      <td>100.000000</td>\n",
       "      <td>100.000000</td>\n",
       "    </tr>\n",
       "    <tr>\n",
       "      <th>mean</th>\n",
       "      <td>83.884807</td>\n",
       "      <td>85.115182</td>\n",
       "      <td>-1.230375</td>\n",
       "    </tr>\n",
       "    <tr>\n",
       "      <th>std</th>\n",
       "      <td>10.423714</td>\n",
       "      <td>9.377513</td>\n",
       "      <td>4.783696</td>\n",
       "    </tr>\n",
       "    <tr>\n",
       "      <th>min</th>\n",
       "      <td>53.980301</td>\n",
       "      <td>58.466814</td>\n",
       "      <td>-11.495286</td>\n",
       "    </tr>\n",
       "    <tr>\n",
       "      <th>25%</th>\n",
       "      <td>76.612388</td>\n",
       "      <td>78.473681</td>\n",
       "      <td>-4.046211</td>\n",
       "    </tr>\n",
       "    <tr>\n",
       "      <th>50%</th>\n",
       "      <td>84.429677</td>\n",
       "      <td>85.276935</td>\n",
       "      <td>-1.413463</td>\n",
       "    </tr>\n",
       "    <tr>\n",
       "      <th>75%</th>\n",
       "      <td>91.015628</td>\n",
       "      <td>91.879048</td>\n",
       "      <td>1.738673</td>\n",
       "    </tr>\n",
       "    <tr>\n",
       "      <th>max</th>\n",
       "      <td>108.586869</td>\n",
       "      <td>106.566744</td>\n",
       "      <td>9.759282</td>\n",
       "    </tr>\n",
       "  </tbody>\n",
       "</table>\n",
       "</div>"
      ],
      "text/plain": [
       "       weight_after  weight_before  weight_change\n",
       "count    100.000000     100.000000     100.000000\n",
       "mean      83.884807      85.115182      -1.230375\n",
       "std       10.423714       9.377513       4.783696\n",
       "min       53.980301      58.466814     -11.495286\n",
       "25%       76.612388      78.473681      -4.046211\n",
       "50%       84.429677      85.276935      -1.413463\n",
       "75%       91.015628      91.879048       1.738673\n",
       "max      108.586869     106.566744       9.759282"
      ]
     },
     "execution_count": 120,
     "metadata": {},
     "output_type": "execute_result"
    }
   ],
   "source": [
    "np.random.seed(11)\n",
    "\n",
    "before= stats.norm.rvs(scale=10, loc=85, size=100)\n",
    "\n",
    "after = before + stats.norm.rvs(scale=5, loc=-1.25, size=100)\n",
    "\n",
    "weight_df = pd.DataFrame({\"weight_before\":before,\n",
    "                          \"weight_after\":after,\n",
    "                          \"weight_change\":after-before})\n",
    "\n",
    "weight_df.describe()             # Check a summary of the data"
   ]
  },
  {
   "cell_type": "markdown",
   "metadata": {},
   "source": [
    "We observe an average weight loss of 1.23 kilos after treatment. Let's conduct a paired t-test to see whether this difference is significant at a 95% confidence level. "
   ]
  },
  {
   "cell_type": "code",
   "execution_count": 121,
   "metadata": {},
   "outputs": [
    {
     "data": {
      "text/plain": [
       "Ttest_relResult(statistic=2.5720175998568315, pvalue=0.011596444318439753)"
      ]
     },
     "execution_count": 121,
     "metadata": {},
     "output_type": "execute_result"
    }
   ],
   "source": [
    "stats.ttest_rel(a = weight_df[\"weight_before\"], b = weight_df[\"weight_after\"])"
   ]
  },
  {
   "cell_type": "markdown",
   "metadata": {},
   "source": [
    "The p-value in the test output shows that the chances of seeing this large of a difference between samples due to chance is around 1%, so we reject the null hypothesis of the two means being equal."
   ]
  },
  {
   "cell_type": "markdown",
   "metadata": {
    "collapsed": true
   },
   "source": [
    "## Chi-Squared Test\n",
    "\n",
    "Similar to 1-sample t-test but for categorical variables.\n",
    "e.g. to test whether the ethnicity demographigs of Goettingen matches the ethnicity demographics of Germany."
   ]
  },
  {
   "cell_type": "code",
   "execution_count": 122,
   "metadata": {},
   "outputs": [
    {
     "name": "stdout",
     "output_type": "stream",
     "text": [
      "National\n",
      "col_0     count\n",
      "0              \n",
      "chinese   15000\n",
      "german   100000\n",
      "other     35000\n",
      "polish    60000\n",
      "spanish   50000\n",
      " \n",
      "Goettingen\n",
      "col_0    count\n",
      "0             \n",
      "chinese     75\n",
      "german     600\n",
      "other      150\n",
      "polish     300\n",
      "spanish    250\n"
     ]
    }
   ],
   "source": [
    "import numpy as np\n",
    "import pandas as pd\n",
    "import scipy.stats as stats\n",
    "\n",
    "\n",
    "\n",
    "national = pd.DataFrame([\"german\"]*100000 + [\"polish\"]*60000 +\\\n",
    "                        [\"spanish\"]*50000 + [\"chinese\"]*15000 + [\"other\"]*35000)\n",
    "           \n",
    "\n",
    "goettingen = pd.DataFrame([\"german\"]*600 + [\"polish\"]*300 + \\\n",
    "                         [\"spanish\"]*250 +[\"chinese\"]*75 + [\"other\"]*150)\n",
    "\n",
    "national_table = pd.crosstab(index=national[0], columns=\"count\")\n",
    "goettingen_table = pd.crosstab(index=goettingen[0], columns=\"count\")\n",
    "\n",
    "print( \"National\")\n",
    "print(national_table)\n",
    "print(\" \")\n",
    "print( \"Goettingen\")\n",
    "print(goettingen_table)\n",
    "\n",
    "\n"
   ]
  },
  {
   "cell_type": "markdown",
   "metadata": {},
   "source": [
    "The statistic compares the actual observed count of each subgroup with the expected count based on the population distribution. \n",
    "Thus we have to compute the expected counts"
   ]
  },
  {
   "cell_type": "code",
   "execution_count": 123,
   "metadata": {
    "collapsed": true
   },
   "outputs": [],
   "source": [
    "expected = national_table* len(goettingen)/len(national)\n",
    "\n",
    " \n"
   ]
  },
  {
   "cell_type": "code",
   "execution_count": 124,
   "metadata": {},
   "outputs": [
    {
     "data": {
      "text/plain": [
       "Power_divergenceResult(statistic=array([ 18.19480519]), pvalue=array([ 0.00113047]))"
      ]
     },
     "execution_count": 124,
     "metadata": {},
     "output_type": "execute_result"
    }
   ],
   "source": [
    "stats.chisquare(f_obs= goettingen_table,   # Array of observed counts\n",
    "                f_exp= expected)   # Array of expected counts\n",
    "\n"
   ]
  },
  {
   "cell_type": "markdown",
   "metadata": {},
   "source": [
    "Similar to the t-test where we compared the t-test statistic to a critical value based on the t-distribution to determine whether the result is significant, in the chi-square test we compare the chi-square test statistic to a critical value based on the chi-square distribution. Let's find the critical value for 95% confidence level and check the p-value of our result"
   ]
  },
  {
   "cell_type": "code",
   "execution_count": 125,
   "metadata": {},
   "outputs": [
    {
     "name": "stdout",
     "output_type": "stream",
     "text": [
      "Critical value\n",
      "9.48772903678\n"
     ]
    }
   ],
   "source": [
    "crit = stats.chi2.ppf(q = 0.95, # Find the critical value for 95% confidence*\n",
    "                      df = 4)   # Df = number of variable categories - 1\n",
    "\n",
    "print(\"Critical value\")\n",
    "print(crit)"
   ]
  },
  {
   "cell_type": "markdown",
   "metadata": {},
   "source": [
    "Since the chi-squared statistic exceeds the critical value, we'd reject the null hypothesis that the two distributions are the same."
   ]
  },
  {
   "cell_type": "markdown",
   "metadata": {
    "collapsed": true
   },
   "source": [
    "## Wilcoxon  RankSum test"
   ]
  },
  {
   "cell_type": "markdown",
   "metadata": {},
   "source": [
    "The Wilcoxon test is a useful test to determine if two distributions are significantly different or not. Unlike the t-test, the RankSum test does not assume that the data are normally distributed.\n",
    "\n",
    "[**stats.wilcoxon()**](https://docs.scipy.org/doc/scipy/reference/generated/scipy.stats.wilcoxon.html)"
   ]
  },
  {
   "cell_type": "markdown",
   "metadata": {
    "collapsed": true
   },
   "source": [
    "## One-way analysis of variance (ANOVA)"
   ]
  },
  {
   "cell_type": "markdown",
   "metadata": {
    "collapsed": true
   },
   "source": [
    "If you need to compare **more than two groups** at a time, an ANOVA is your best bet. For example, we have the results from three experiments with overlapping 95% confidence intervals, and we want to confirm that the results for all three experiments are not significantly different.\n",
    "\n",
    "For example, if we wanted to test whether voter age differs based on some categorical variable like ethnicity, we have to compare the means of each level or group the variable.\n",
    "\n",
    "One-way ANOVA tests whether the mean of some numeric variable differs across the levels of one categorical variable.  \n",
    "**Does any of the group means differ from the others?**\n",
    "\n",
    "Here we use the [F-distribution](https://en.wikipedia.org/wiki/F-distribution)."
   ]
  },
  {
   "cell_type": "markdown",
   "metadata": {},
   "source": [
    " Let's generate some fake voter age and demographic data and use the ANOVA to compare average ages across the groups:"
   ]
  },
  {
   "cell_type": "code",
   "execution_count": 126,
   "metadata": {},
   "outputs": [
    {
     "data": {
      "text/plain": [
       "F_onewayResult(statistic=1.7744689357329695, pvalue=0.13173183201930463)"
      ]
     },
     "execution_count": 126,
     "metadata": {},
     "output_type": "execute_result"
    }
   ],
   "source": [
    "np.random.seed(12)\n",
    "\n",
    "ethnicity =   [\"chinese\",\"spanish\",\"polish\",\"other\",\"german\"]\n",
    "\n",
    "# Generate random data\n",
    "voter_ethnicity = np.random.choice(a= ethnicity,\n",
    "                              p = [0.05, 0.15 ,0.25, 0.05, 0.5],\n",
    "                              size=1000)\n",
    "\n",
    "voter_age = stats.poisson.rvs(loc=18,\n",
    "                              mu=30,\n",
    "                              size=1000)\n",
    "\n",
    "# Group age data by ethnicity\n",
    "voter_frame = pd.DataFrame({\"ethnicity\":voter_ethnicity,\"age\":voter_age})\n",
    "groups = voter_frame.groupby(\"ethnicity\").groups\n",
    "\n",
    "# Etract individual groups\n",
    "chinese = voter_age[groups[\"chinese\"]]\n",
    "spanish = voter_age[groups[\"spanish\"]]\n",
    "polish = voter_age[groups[\"polish\"]]\n",
    "other = voter_age[groups[\"other\"]]\n",
    "german = voter_age[groups[\"german\"]]\n",
    "\n",
    "# Perform the ANOVA\n",
    "stats.f_oneway(chinese, spanish, polish, other, german)"
   ]
  },
  {
   "cell_type": "markdown",
   "metadata": {},
   "source": [
    "The test output yields an F-statistic of 1.774 and a p-value of 0.1317, indicating that there is no significant difference between the means of each group.\n"
   ]
  },
  {
   "cell_type": "markdown",
   "metadata": {},
   "source": [
    "Now let's make new age data where the group means do differ and run a second ANOVA:"
   ]
  },
  {
   "cell_type": "code",
   "execution_count": 127,
   "metadata": {},
   "outputs": [
    {
     "data": {
      "text/plain": [
       "F_onewayResult(statistic=10.164699828386366, pvalue=4.5613242113994585e-08)"
      ]
     },
     "execution_count": 127,
     "metadata": {},
     "output_type": "execute_result"
    }
   ],
   "source": [
    "np.random.seed(12)\n",
    "\n",
    "# Generate random data\n",
    "voter_ethnicity = np.random.choice(a= ethnicity,\n",
    "                              p = [0.05, 0.15 ,0.25, 0.05, 0.5],\n",
    "                              size=1000)\n",
    "\n",
    "# Use a different distribution for white ages\n",
    "white_ages = stats.poisson.rvs(loc=18, \n",
    "                              mu=32,\n",
    "                              size=1000)\n",
    "\n",
    "voter_age = stats.poisson.rvs(loc=18,\n",
    "                              mu=30,\n",
    "                              size=1000)\n",
    "\n",
    "voter_age = np.where(voter_ethnicity==\"german\", white_ages, voter_age)\n",
    "\n",
    "# Group age data by ethnicity\n",
    "voter_frame = pd.DataFrame({\"ethnicity\":voter_ethnicity,\"age\":voter_age})\n",
    "groups = voter_frame.groupby(\"ethnicity\").groups   \n",
    "\n",
    "# Extract individual groups\n",
    "chinese = voter_age[groups[\"chinese\"]]\n",
    "spanish = voter_age[groups[\"spanish\"]]\n",
    "polish = voter_age[groups[\"polish\"]]\n",
    "other = voter_age[groups[\"other\"]]\n",
    "german = voter_age[groups[\"german\"]]\n",
    "\n",
    "# Perform the ANOVA\n",
    "stats.f_oneway(chinese, spanish, polish, other, german)"
   ]
  },
  {
   "cell_type": "markdown",
   "metadata": {},
   "source": [
    "The test result suggests the groups don't have the same sample means in this case, since the p-value is significant at a 99% confidence level. We know that it is the white voters who differ because we set it up that way in the code, but when testing real data, you may not know which group(s) caused the the test to throw a positive result. To check which groups differ after getting a positive ANOVA result, you can perform a follow up test or \"post-hoc test\"."
   ]
  },
  {
   "cell_type": "markdown",
   "metadata": {},
   "source": [
    "One post-hoc test is to perform a separate t-test for each pair of groups, with adjusted significance levels considering the number of comparisons made ([Bonferroni correction](https://en.wikipedia.org/wiki/Bonferroni_correction)).\n",
    "\n",
    "A further option would be to curry out **Tukey's test** using the **[pairwise_tukeyhsd()](https://www.statsmodels.org/stable/generated/statsmodels.stats.multicomp.pairwise_tukeyhsd.html)** function in the statsmodels.stats.multicomp library."
   ]
  },
  {
   "cell_type": "code",
   "execution_count": 128,
   "metadata": {},
   "outputs": [
    {
     "data": {
      "text/html": [
       "<table class=\"simpletable\">\n",
       "<caption>Multiple Comparison of Means - Tukey HSD,FWER=0.05</caption>\n",
       "<tr>\n",
       "  <th>group1</th>  <th>group2</th>  <th>meandiff</th>  <th>lower</th>   <th>upper</th>  <th>reject</th>\n",
       "</tr>\n",
       "<tr>\n",
       "  <td>chinese</td> <td>german</td>   <td>1.9547</td>  <td>-0.4575</td> <td>4.3668</td>   <td>False</td>\n",
       "</tr>\n",
       "<tr>\n",
       "  <td>chinese</td>  <td>other</td>   <td>-1.0645</td> <td>-4.2391</td>  <td>2.11</td>    <td>False</td>\n",
       "</tr>\n",
       "<tr>\n",
       "  <td>chinese</td> <td>polish</td>   <td>0.4143</td>  <td>-2.1011</td> <td>2.9297</td>   <td>False</td>\n",
       "</tr>\n",
       "<tr>\n",
       "  <td>chinese</td> <td>spanish</td>  <td>-0.8032</td> <td>-3.4423</td>  <td>1.836</td>   <td>False</td>\n",
       "</tr>\n",
       "<tr>\n",
       "  <td>german</td>   <td>other</td>   <td>-3.0192</td> <td>-5.2941</td> <td>-0.7443</td>  <td>True</td> \n",
       "</tr>\n",
       "<tr>\n",
       "  <td>german</td>  <td>polish</td>   <td>-1.5404</td> <td>-2.734</td>  <td>-0.3468</td>  <td>True</td> \n",
       "</tr>\n",
       "<tr>\n",
       "  <td>german</td>  <td>spanish</td>  <td>-2.7579</td> <td>-4.194</td>  <td>-1.3217</td>  <td>True</td> \n",
       "</tr>\n",
       "<tr>\n",
       "   <td>other</td>  <td>polish</td>   <td>1.4789</td>  <td>-0.9053</td>  <td>3.863</td>   <td>False</td>\n",
       "</tr>\n",
       "<tr>\n",
       "   <td>other</td>  <td>spanish</td>  <td>0.2614</td>  <td>-2.253</td>  <td>2.7757</td>   <td>False</td>\n",
       "</tr>\n",
       "<tr>\n",
       "  <td>polish</td>  <td>spanish</td>  <td>-1.2175</td> <td>-2.821</td>   <td>0.386</td>   <td>False</td>\n",
       "</tr>\n",
       "</table>"
      ],
      "text/plain": [
       "<class 'statsmodels.iolib.table.SimpleTable'>"
      ]
     },
     "execution_count": 128,
     "metadata": {},
     "output_type": "execute_result"
    },
    {
     "data": {
      "image/png": "[encoded data removed]",
      "text/plain": [
       "<matplotlib.figure.Figure at 0x7f9d973a20f0>"
      ]
     },
     "metadata": {},
     "output_type": "display_data"
    }
   ],
   "source": [
    "from statsmodels.stats.multicomp import pairwise_tukeyhsd\n",
    "\n",
    "tukey = pairwise_tukeyhsd(endog=voter_age,     # Data\n",
    "                          groups=voter_ethnicity,   # Groups\n",
    "                          alpha=0.05)          # Significance level\n",
    "\n",
    "tukey.plot_simultaneous()    # Plot group confidence intervals\n",
    "plt.vlines(x=49.57,ymin=-0.5,ymax=4.5, color=\"red\")\n",
    "\n",
    "tukey.summary()      "
   ]
  },
  {
   "cell_type": "markdown",
   "metadata": {},
   "source": [
    "The output of the Tukey test shows the average difference, a confidence interval as well as whether you should reject the null hypothesis for each pair of groups at the given significance level. In this case, the test suggests we reject the null hypothesis for 3 pairs, with each pair including the \"german\" category. This suggests the german group is likely different from the others. The 95% confidence interval plot reinforces the results visually: only 1 other group's confidence interval overlaps the white group's confidence interval."
   ]
  },
  {
   "cell_type": "markdown",
   "metadata": {},
   "source": [
    "## Type I and type II errors\n",
    "\n",
    "The result of a statistical hypothesis test and the corresponding decision of whether to reject or accept the null hypothesis is not infallible. Incorrect conclusions made from hypothesis tests fall in one of two categories: type I error and type II error.\n",
    "\n",
    "* **Type I** (false positive - $\\alpha$) falsely concluding a statistical significant relationship DOES exist, when in fact it DOES NOT.\n",
    "* **Type II** (false negative - $\\beta$) failing to detect a statistically significant relationship when in fact one DOES exist.\n",
    "\n",
    "During the hypothesis testing, $\\alpha$ is the probability of occurence of a type I error (i.e. rejecting $H_0$ although it is true), while $\\beta$ the probability of occurence of a type II error (missing a significant result). \n",
    "\n",
    "For a fixed sample size, the lower we set the value of $\\alpha$, the higher the value of $\\beta$ will be.\n",
    "\n",
    "![title](https://effectsizefaq.files.wordpress.com/2010/05/type-i-and-type-ii-errors.jpg?w=300&h=225)\n",
    "\n",
    "\n",
    "\n",
    "To be considered statistically significant, the probability of obtaining a value of the test statistic must be smaller than the probability for committing a Type I error. In other words, the probability (p) must be less than what you have chosen for your alpha value (e.g. 0.05). \n",
    "> So in most cases we may conclude that a claim is statistically significant if the test returns a $p<0.05$.\n",
    "\n",
    "If a statistical significance is found, we conclude that the observed relationship is too great to exist just by chance."
   ]
  },
  {
   "cell_type": "code",
   "execution_count": 129,
   "metadata": {},
   "outputs": [
    {
     "data": {
      "text/plain": [
       "<matplotlib.text.Text at 0x7f9d971cae10>"
      ]
     },
     "execution_count": 129,
     "metadata": {},
     "output_type": "execute_result"
    },
    {
     "data": {
      "image/png": "[encoded data removed]",
      "text/plain": [
       "<matplotlib.figure.Figure at 0x7f9d9742b9e8>"
      ]
     },
     "metadata": {},
     "output_type": "display_data"
    }
   ],
   "source": [
    "\n",
    "plt.figure(figsize=(12,10))\n",
    "\n",
    "plt.fill_between(x=np.arange(-4,-2,0.01), \n",
    "                 y1= stats.norm.pdf(np.arange(-4,-2,0.01)) ,\n",
    "                 facecolor='red',\n",
    "                 alpha=0.35)\n",
    "\n",
    "plt.fill_between(x=np.arange(-2,2,0.01), \n",
    "                 y1= stats.norm.pdf(np.arange(-2,2,0.01)) ,\n",
    "                 facecolor='#a7aaaf',\n",
    "                 alpha=0.35)\n",
    "\n",
    "plt.fill_between(x=np.arange(2,4,0.01), \n",
    "                 y1= stats.norm.pdf(np.arange(2,4,0.01)) ,\n",
    "                 facecolor='red',\n",
    "                 alpha=0.5)\n",
    "\n",
    "plt.fill_between(x=np.arange(-4,-2,0.01), \n",
    "                 y1= stats.norm.pdf(np.arange(-4,-2,0.01),loc=3, scale=2) ,\n",
    "                 facecolor='#a7aaaf',\n",
    "                 alpha=0.35)\n",
    "\n",
    "plt.fill_between(x=np.arange(-2,2,0.01), \n",
    "                 y1= stats.norm.pdf(np.arange(-2,2,0.01),loc=3, scale=2) ,\n",
    "                 facecolor='blue',\n",
    "                 alpha=0.35)\n",
    "\n",
    "plt.fill_between(x=np.arange(2,10,0.01), \n",
    "                 y1= stats.norm.pdf(np.arange(2,10,0.01),loc=3, scale=2),\n",
    "                 facecolor='#a7aaaf',lw=3,\n",
    "                 alpha=0.35)\n",
    "\n",
    "plt.text(x=-0.9, y=0.15, s= \"Null Hypothesis\")\n",
    "plt.text(x=2.5, y=0.13, s= \"Alternative\")\n",
    "plt.text(x=2.1, y=0.01, s= \"Type 1 Error\")\n",
    "plt.text(x=-3.2, y=0.01, s= \"Type 1 Error\")\n",
    "plt.text(x=0, y=0.02, s= \"Type 2 Error\")"
   ]
  },
  {
   "cell_type": "markdown",
   "metadata": {},
   "source": [
    " Note that the Type II error rate is the area under the alternative distribution within the quantiles determined by the null distribution and the confidence level."
   ]
  },
  {
   "cell_type": "markdown",
   "metadata": {},
   "source": []
  },
  {
   "cell_type": "markdown",
   "metadata": {
    "collapsed": true
   },
   "source": []
  },
  {
   "cell_type": "markdown",
   "metadata": {},
   "source": [
    "### Relationship between confidence intervals, alpha and p values:\n",
    "\n",
    "* p-values may be referenced to alpha, or the chance of making a Type I error\n",
    "* a $95\\%$ confidence interval will reject any value of the null hypothesis that is outside the interval at a $5\\%$ significance level for a two-sided test.\n",
    "* a larger sample size with the same sample mean will result in a smaller p-value, i.e. stronger evidence!"
   ]
  },
  {
   "cell_type": "markdown",
   "metadata": {
    "collapsed": true
   },
   "source": [
    "## Exercises\n",
    "\n",
    "\n"
   ]
  },
  {
   "cell_type": "markdown",
   "metadata": {},
   "source": [
    "* The file \"brain_size.csv\" contains data from a study on the relationship between brain size and weight and intelligence (Willerman et al. 1991).\n",
    "\n",
    "  * Load the data file from \"http://www.scipy-lectures.org/_downloads/brain_size.csv\"\n",
    "  * Store the data in a dataframe and inspect for missing values\n",
    "  * Calculate the mean value for full IQ for all the participants and for males/females seperately\n",
    "   * Plot the data. (hint: use plotting.scatter_matrix from pandas.tools)\n",
    "   * Plot the scatter matrix for males only, and for females only. Do you think that the 2 sub-populations correspond to gender?\n",
    "   * Does the population have zero 'VIQ' mean? Perform an appropriate test to decide.\n",
    "   * The mean 'VIQ' values for males and females differ. Perform an appropriate test to decide whether this differnce is significant.\n",
    "   * Test whether 'FISQ' and 'PIQ' are significantly different. (Hint: You have to consider that both observations are measured on the same individuals)\n",
    "   * Test the difference between weights in males and females.\n",
    "   * Test if the VIQ of male and female are different after removing the effect of brain size, height and weight. (Hint: ANOVA)\n"
   ]
  },
  {
   "cell_type": "markdown",
   "metadata": {},
   "source": [
    "* A bottle filling machine is set to fill bottles with soft drink to a volume of 500 ml. The actual volume is known to follow a normal distribution. The manufacturer believes the machine is under-filling bottles. A sample of 20 bottles is taken and the volume of liquid inside is measured. The results are given in the [bottles](http://www.instantr.com/wp-content/uploads/2012/11/bottles.csv) dataset. Perform the appropriate test to determine whether the bottles are being consistently under filled. The manufacturer is specifically interested in knowing whether the volume is less than 500 ml."
   ]
  },
  {
   "cell_type": "markdown",
   "metadata": {},
   "source": [
    "* In the dataset \"[immer](https://github.com/vincentarelbundock/Rdatasets/blob/master/csv/MASS/immer.csv)\" the barley yield in years 1931 and 1932 of the same field are recorded. Assuming that the data in immer follows the normal distribution, find the 95% confidence interval estimate of the difference between the mean barley yields between years 1931 and 1932. (hint: remeber to perform an f-test first)"
   ]
  },
  {
   "cell_type": "markdown",
   "metadata": {},
   "source": [
    "* In the dataset \"[**parasite_data**](https://github.com/briandconnelly/BEACONToolkit/blob/master/analysis/scripts/data-analysis-python/parasite_data.csv)\" we have measurements for 3 variables \"virulence, replicate, and ShannonDiversity\". For our purposes, all we care is that the first two columns (Virulence and Replicate) are the experimental predictors, and the third column (ShannonDiversity) is the measured response from the experiment. Thus, we are interested in what effects Virulence and/or Replicate have on the measured ShannonDiversity. \n",
    " - Perform a test to identify whether the results for virulence treatment at level 0.5 and 0.8 are signifficantly different from each other.\n",
    " - Repeat the same test for levels 0.6 and 0.7.\n",
    " - Now compare all these treatments together to identify whether the results of one treatment significantly differs from the others."
   ]
  },
  {
   "cell_type": "code",
   "execution_count": null,
   "metadata": {
    "collapsed": true
   },
   "outputs": [],
   "source": []
  }
 ],
 "metadata": {
  "kernelspec": {
   "display_name": "Python 3",
   "language": "python",
   "name": "python3"
  },
  "language_info": {
   "codemirror_mode": {
    "name": "ipython",
    "version": 3
   },
   "file_extension": ".py",
   "mimetype": "text/x-python",
   "name": "python",
   "nbconvert_exporter": "python",
   "pygments_lexer": "ipython3",
   "version": "3.5.2"
  }
 },
 "nbformat": 4,
 "nbformat_minor": 2
}
