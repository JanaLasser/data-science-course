{
 "cells": [
  {
   "cell_type": "markdown",
   "metadata": {
    "collapsed": true
   },
   "source": [
    "[Day 1 afternoon **_\"Python crash course part 4\"_**]"
   ]
  },
  {
   "cell_type": "markdown",
   "metadata": {},
   "source": [
    "**Attribution**  \n",
    "The material in this notebook is based on  \n",
    "\n",
    "\"[python-in-a-notebook](https://github.com/leriomaggio/python-in-a-notebook)\"  \n",
    "by **Valerio Maggio**  \n",
    "  licensed under [CC BY-SA 4.0](https://creativecommons.org/licenses/by-sa/4.0/)\n",
    "  \n",
    "The original material has been modified and adapted."
   ]
  },
  {
   "cell_type": "markdown",
   "metadata": {},
   "source": [
    "<a name='functions'></a>Functions and Libraries\n",
    "==="
   ]
  },
  {
   "cell_type": "markdown",
   "metadata": {},
   "source": [
    "<a name=\"top\"></a>Outline\n",
    "---"
   ]
  },
  {
   "cell_type": "markdown",
   "metadata": {},
   "source": [
    "* [Functions](#functions)\n",
    "  * [Function syntax](#syntax)\n",
    "  * [Example functions](#examples)\n",
    "  * [Namespaces](#namespaces)\n",
    "  * [Positional arguments](#positional)\n",
    "  * [Default arguments](#default)\n",
    "  * [Keyword arguments](#keyword)\n",
    "  * [Advantages of functions](#advantages)\n",
    "* [The Python Standard Library](#builtin)\n",
    "  * [What are built-in functions?](#what)\n",
    "  * [Importing modules](#import)\n",
    "  * [Some helpful built-in examples](#builtin examples)\n",
    "* [Third party libraries](#third party)\n",
    "  * [NumPy](#numpy)\n",
    "  * [pandas](#pandas)\n",
    "  * [Matplotlib](#matplotlib)\n",
    "  * [scikit-learn and TensorFlow](#learn)\n",
    "* [Exercise 06: Functions and Libraries](#exercise06)"
   ]
  },
  {
   "cell_type": "markdown",
   "metadata": {},
   "source": [
    "**Learning goals:** By the end or this lecture you will\n",
    "* know how to avoid writing repetitive code by using functions\n",
    "* know how to use existing functions from the Python standard library\n",
    "* know how to import third party libraries and use their functions\n",
    "* know a bit about the third party libraries we are going to use in the course"
   ]
  },
  {
   "cell_type": "markdown",
   "metadata": {},
   "source": [
    "<a name=\"functions\"></a>Functions\n",
    "==="
   ]
  },
  {
   "cell_type": "markdown",
   "metadata": {},
   "source": [
    "<a name=\"syntax\"></a>Function syntax\n",
    "---"
   ]
  },
  {
   "cell_type": "markdown",
   "metadata": {},
   "source": [
    "##### Defining functions"
   ]
  },
  {
   "cell_type": "markdown",
   "metadata": {},
   "source": [
    "* Functions are a defined set of actions with a specific name.\n",
    "* Functions can take variables as _arguments_ and manipulate them.\n",
    "* Functions can _return_ variables as output to the rest of the program.\n",
    "* Functions are defined using the keyword **def**.\n",
    "\n",
    "NOTE: we have already used a lot of functions (**len()**, **min()** etc.)"
   ]
  },
  {
   "cell_type": "code",
   "execution_count": 25,
   "metadata": {
    "collapsed": true
   },
   "outputs": [],
   "source": [
    "# the syntax of defining a function\n",
    "\n",
    "# we call the definition the \"function header\"\n",
    "def function_name(argument_1, argument_2):\n",
    "    # do something with argument_1 and argument_2\n",
    "    return_value = argument_1*argument_2\n",
    "\n",
    "    # return the value to be used by the rest of the code\n",
    "    return return_value"
   ]
  },
  {
   "cell_type": "markdown",
   "metadata": {},
   "source": [
    "##### Calling functions"
   ]
  },
  {
   "cell_type": "markdown",
   "metadata": {},
   "source": [
    "* Functions are _called_ using the syntax ```function(argument)```.\n",
    "* Functions do not necessarily need an argument (they can for example only print a message).\n",
    "* Multiple arguments are separated by commas when calling the function."
   ]
  },
  {
   "cell_type": "code",
   "execution_count": 83,
   "metadata": {
    "collapsed": true
   },
   "outputs": [
    {
     "name": "stdout",
     "output_type": "stream",
     "text": [
      "30\n"
     ]
    }
   ],
   "source": [
    "# the syntax of calling a function\n",
    "new_value = function_name(5, 6)\n",
    "print(new_value)"
   ]
  },
  {
   "cell_type": "markdown",
   "metadata": {},
   "source": [
    "[top](#top)"
   ]
  },
  {
   "cell_type": "markdown",
   "metadata": {},
   "source": [
    "<a name=\"examples\"></a>Example functions\n",
    "---"
   ]
  },
  {
   "cell_type": "code",
   "execution_count": 12,
   "metadata": {
    "collapsed": true
   },
   "outputs": [
    {
     "name": "stdout",
     "output_type": "stream",
     "text": [
      "1000\n"
     ]
    }
   ],
   "source": [
    "# a function that returns the cube of the argument\n",
    "def cube(number):\n",
    "    number = number*number*number\n",
    "    return number\n",
    "\n",
    "number = 10\n",
    "number = cube(number)\n",
    "print(number)"
   ]
  },
  {
   "cell_type": "code",
   "execution_count": 19,
   "metadata": {
    "collapsed": true
   },
   "outputs": [
    {
     "name": "stdout",
     "output_type": "stream",
     "text": [
      "Dear Prof Mazza,\n",
      "I would like to do a PhD with you.\n",
      "\n",
      "Dear Prof Timme,\n",
      "I would like to do a PhD with you.\n",
      "\n",
      "Dear Prof Goehring,\n",
      "I would like to do a PhD with you.\n",
      "\n"
     ]
    }
   ],
   "source": [
    "# a function that could write email texts\n",
    "def print_greeting(person):\n",
    "    print('Dear Prof {},\\nI would like to do a PhD with you.\\n'\\\n",
    "          .format(person))\n",
    "    \n",
    "print_greeting('Mazza')\n",
    "print_greeting('Timme')\n",
    "print_greeting('Goehring')\n",
    "    \n",
    "# NOTE: the function has no return value"
   ]
  },
  {
   "cell_type": "code",
   "execution_count": 22,
   "metadata": {
    "collapsed": true
   },
   "outputs": [
    {
     "name": "stdout",
     "output_type": "stream",
     "text": [
      "*** important keyboard shortcuts: ***\n",
      "             edit mode - ENTER\n",
      "             command mode - ESC\n",
      "             cell to markdown - m\n",
      "             cell to code - y\n"
     ]
    }
   ],
   "source": [
    "# a function that prints a helper message\n",
    "def print_help():\n",
    "    print('''*** important keyboard shortcuts: ***\n",
    "             edit mode - ENTER\n",
    "             command mode - ESC\n",
    "             cell to markdown - m\n",
    "             cell to code - y''')\n",
    "    \n",
    "print_help()\n",
    "# NOTE: the function has neither arguments nor return value"
   ]
  },
  {
   "cell_type": "code",
   "execution_count": 1,
   "metadata": {
    "collapsed": true
   },
   "outputs": [
    {
     "name": "stdout",
     "output_type": "stream",
     "text": [
      "prime numbers from 0 to 100\n",
      "[2, 3, 5, 7, 11, 13, 17, 19, 23, 29, 31, 37, 41, 43, 47, 53, 59, 61, 67, 71, 73, 79, 83, 89, 97]\n"
     ]
    }
   ],
   "source": [
    "# finding prime numbers (after the Sieve of Eratosthenes)\n",
    "def primes_sieve(limit):\n",
    "    limit = limit + 1\n",
    "    \n",
    "    # initially all numbers are in the list primes\n",
    "    primes = list(range(2, limit))\n",
    "\n",
    "    # iterate over all numbers and 'sieve' away all the none primes\n",
    "    for i in primes:\n",
    "        # create a list of all the multiples of a number\n",
    "        factors = range(i, limit, i)\n",
    "        # remove the multiples from the prime list\n",
    "        for f in factors[1:]:\n",
    "            if f in primes:\n",
    "                primes.remove(f)\n",
    "    # all the remaining numbers have to be prime\n",
    "    return primes\n",
    "\n",
    "limit = 100\n",
    "print('prime numbers from 0 to {}:'.format(limit))\n",
    "print(primes_sieve(limit))"
   ]
  },
  {
   "cell_type": "markdown",
   "metadata": {},
   "source": [
    "[top](#top)"
   ]
  },
  {
   "cell_type": "markdown",
   "metadata": {},
   "source": [
    "<a name=\"namespaces\"></a>Namespaces\n",
    "---"
   ]
  },
  {
   "cell_type": "markdown",
   "metadata": {},
   "source": [
    "* The variables we define inside a function are only known within that function. We call that the _namespace_ of the function.  \n",
    "* Conversely, variables that we define outside the function are known in the _global_ namespace and therefore sometimes also named _global variables_.\n",
    "* Variables we pass to functions are known inside the function by the names you used in the function header.\n",
    "* We can give a function the same name as a variable. This is called _overloading_ of the variable. The program knows if you want to use the variable or the function depending on whether you use the function-calling syntax or not.\n",
    "* Try to avoid overloading for now, it can make some code more elegant but most code more confusing to read."
   ]
  },
  {
   "cell_type": "code",
   "execution_count": 30,
   "metadata": {
    "collapsed": true
   },
   "outputs": [
    {
     "name": "stdout",
     "output_type": "stream",
     "text": [
      "the value of cubes: 27\n"
     ]
    },
    {
     "ename": "NameError",
     "evalue": "name 'x' is not defined",
     "output_type": "error",
     "traceback": [
      "\u001b[1;31m---------------------------------------------------------------------------\u001b[0m",
      "\u001b[1;31mNameError\u001b[0m                                 Traceback (most recent call last)",
      "\u001b[1;32m<ipython-input-30-058da974840f>\u001b[0m in \u001b[0;36m<module>\u001b[1;34m()\u001b[0m\n\u001b[0;32m     11\u001b[0m \u001b[0mprint\u001b[0m\u001b[1;33m(\u001b[0m\u001b[1;34m'the value of cubes: {}'\u001b[0m\u001b[1;33m.\u001b[0m\u001b[0mformat\u001b[0m\u001b[1;33m(\u001b[0m\u001b[0mcubes\u001b[0m\u001b[1;33m)\u001b[0m\u001b[1;33m)\u001b[0m\u001b[1;33m\u001b[0m\u001b[0m\n\u001b[0;32m     12\u001b[0m \u001b[1;31m#x is only known inside the function's namespace\u001b[0m\u001b[1;33m\u001b[0m\u001b[1;33m\u001b[0m\u001b[0m\n\u001b[1;32m---> 13\u001b[1;33m \u001b[0mprint\u001b[0m\u001b[1;33m(\u001b[0m\u001b[1;34m'the value of x: {}'\u001b[0m\u001b[1;33m.\u001b[0m\u001b[0mformat\u001b[0m\u001b[1;33m(\u001b[0m\u001b[0mx\u001b[0m\u001b[1;33m)\u001b[0m\u001b[1;33m)\u001b[0m\u001b[1;33m\u001b[0m\u001b[0m\n\u001b[0m",
      "\u001b[1;31mNameError\u001b[0m: name 'x' is not defined"
     ]
    }
   ],
   "source": [
    "# namespace and overloading example\n",
    "\n",
    "# inside the function the argument is known as 'x'\n",
    "def cubes(x):\n",
    "    x = x*x*x\n",
    "    return x\n",
    "\n",
    "# the variable name 'cubes' is a function as well as a variable\n",
    "cubes = cubes(3)\n",
    "# cubes is known in the global namespace\n",
    "print('the value of cubes: {}'.format(cubes))\n",
    "# x is only known inside the function's namespace\n",
    "print('the value of x: {}'.format(x))"
   ]
  },
  {
   "cell_type": "markdown",
   "metadata": {},
   "source": [
    "[top](#top)"
   ]
  },
  {
   "cell_type": "markdown",
   "metadata": {},
   "source": [
    "<a name=\"positional\"></a>Positional arguments\n",
    "---"
   ]
  },
  {
   "cell_type": "markdown",
   "metadata": {},
   "source": [
    "Lets have a look at the following function"
   ]
  },
  {
   "cell_type": "code",
   "execution_count": 40,
   "metadata": {
    "collapsed": true
   },
   "outputs": [
    {
     "name": "stdout",
     "output_type": "stream",
     "text": [
      "First name: Brian\n",
      "Last name: Kernighan\n",
      "Age: 71\n",
      "\n",
      "First name: Ken\n",
      "Last name: Thompson\n",
      "Age: 70\n",
      "\n",
      "First name: Adele\n",
      "Last name: Goldberg\n",
      "Age: 68\n",
      "\n"
     ]
    }
   ],
   "source": [
    "def describe_person(first_name, last_name, age):\n",
    "    # This function takes in a person's first and last name,\n",
    "    # and their age.\n",
    "    # It then prints this information out in a simple format.\n",
    "    print(\"First name: {}\".format(first_name.title()))\n",
    "    print(\"Last name: {}\".format(last_name.title()))\n",
    "    print(\"Age: {}\\n\".format(age))\n",
    "    \n",
    "# HINT: title() capitalizes a string\n",
    "\n",
    "describe_person('brian', 'kernighan', 71)\n",
    "describe_person('ken', 'thompson', 70)\n",
    "describe_person('adele', 'goldberg', 68)"
   ]
  },
  {
   "cell_type": "markdown",
   "metadata": {},
   "source": [
    "The arguments in this function are `first_name`, `last_name`, and `age`. These are called *positional arguments* because Python knows which value to assign to each by the order in which you give the function values. In the calling line\n",
    "\n",
    "    describe_person('brian', 'kernighan', 71)\n",
    "\n",
    "we send the values *brian*, *kernighan*, and *71* to the function. Python matches \n",
    "* the first value *brian* with the first argument `first_name`\n",
    "* the second value *kernighan* with the second argument `last_name`\n",
    "* the third value *71* with the third argument `age`.\n",
    "\n",
    "This means we have to make sure to pass the arguments in the right order. We also have to make sure that we give the function the correct number of positional arguments."
   ]
  },
  {
   "cell_type": "markdown",
   "metadata": {},
   "source": [
    " Getting the order wrong will result in\n",
    " * hopefully a program error because the program trys to do things with variables that are not possible\n",
    " * sometimes result in a functional mistake because the program does the right things with the wrong variables and therefore returns wrong results (these errors are usually really nasty to find!)"
   ]
  },
  {
   "cell_type": "code",
   "execution_count": 41,
   "metadata": {
    "collapsed": true
   },
   "outputs": [
    {
     "name": "stdout",
     "output_type": "stream",
     "text": [
      "First name: Kernighan\n",
      "Last name: Brian\n",
      "Age: 71\n",
      "\n"
     ]
    },
    {
     "ename": "AttributeError",
     "evalue": "'int' object has no attribute 'title'",
     "output_type": "error",
     "traceback": [
      "\u001b[1;31m---------------------------------------------------------------------------\u001b[0m",
      "\u001b[1;31mAttributeError\u001b[0m                            Traceback (most recent call last)",
      "\u001b[1;32m<ipython-input-41-7e51280bc5e5>\u001b[0m in \u001b[0;36m<module>\u001b[1;34m()\u001b[0m\n\u001b[0;32m      3\u001b[0m \u001b[1;33m\u001b[0m\u001b[0m\n\u001b[0;32m      4\u001b[0m \u001b[1;31m#example for a program error\u001b[0m\u001b[1;33m\u001b[0m\u001b[1;33m\u001b[0m\u001b[0m\n\u001b[1;32m----> 5\u001b[1;33m \u001b[0mdescribe_person\u001b[0m\u001b[1;33m(\u001b[0m\u001b[1;36m71\u001b[0m\u001b[1;33m,\u001b[0m \u001b[1;34m'brian'\u001b[0m\u001b[1;33m,\u001b[0m \u001b[1;34m'kernighan'\u001b[0m\u001b[1;33m)\u001b[0m\u001b[1;33m\u001b[0m\u001b[0m\n\u001b[0m",
      "\u001b[1;32m<ipython-input-40-16ed52aeb593>\u001b[0m in \u001b[0;36mdescribe_person\u001b[1;34m(first_name, last_name, age)\u001b[0m\n\u001b[0;32m      3\u001b[0m     \u001b[1;31m#  and their age.\u001b[0m\u001b[1;33m\u001b[0m\u001b[1;33m\u001b[0m\u001b[0m\n\u001b[0;32m      4\u001b[0m     \u001b[1;31m# It then prints this information out in a simple format.\u001b[0m\u001b[1;33m\u001b[0m\u001b[1;33m\u001b[0m\u001b[0m\n\u001b[1;32m----> 5\u001b[1;33m     \u001b[0mprint\u001b[0m\u001b[1;33m(\u001b[0m\u001b[1;34m\"First name: {}\"\u001b[0m\u001b[1;33m.\u001b[0m\u001b[0mformat\u001b[0m\u001b[1;33m(\u001b[0m\u001b[0mfirst_name\u001b[0m\u001b[1;33m.\u001b[0m\u001b[0mtitle\u001b[0m\u001b[1;33m(\u001b[0m\u001b[1;33m)\u001b[0m\u001b[1;33m)\u001b[0m\u001b[1;33m)\u001b[0m\u001b[1;33m\u001b[0m\u001b[0m\n\u001b[0m\u001b[0;32m      6\u001b[0m     \u001b[0mprint\u001b[0m\u001b[1;33m(\u001b[0m\u001b[1;34m\"Last name: {}\"\u001b[0m\u001b[1;33m.\u001b[0m\u001b[0mformat\u001b[0m\u001b[1;33m(\u001b[0m\u001b[0mlast_name\u001b[0m\u001b[1;33m.\u001b[0m\u001b[0mtitle\u001b[0m\u001b[1;33m(\u001b[0m\u001b[1;33m)\u001b[0m\u001b[1;33m)\u001b[0m\u001b[1;33m)\u001b[0m\u001b[1;33m\u001b[0m\u001b[0m\n\u001b[0;32m      7\u001b[0m     \u001b[0mprint\u001b[0m\u001b[1;33m(\u001b[0m\u001b[1;34m\"Age: {}\\n\"\u001b[0m\u001b[1;33m.\u001b[0m\u001b[0mformat\u001b[0m\u001b[1;33m(\u001b[0m\u001b[0mage\u001b[0m\u001b[1;33m)\u001b[0m\u001b[1;33m)\u001b[0m\u001b[1;33m\u001b[0m\u001b[0m\n",
      "\u001b[1;31mAttributeError\u001b[0m: 'int' object has no attribute 'title'"
     ]
    }
   ],
   "source": [
    "# example for a functional mistake\n",
    "describe_person('kernighan', 'brian', 71)\n",
    "\n",
    "# example for a program error\n",
    "describe_person(71, 'brian', 'kernighan')"
   ]
  },
  {
   "cell_type": "markdown",
   "metadata": {},
   "source": [
    "Getting the number of arguments wrong results in a TypeError:"
   ]
  },
  {
   "cell_type": "code",
   "execution_count": 42,
   "metadata": {
    "collapsed": true
   },
   "outputs": [
    {
     "ename": "TypeError",
     "evalue": "describe_person() missing 1 required positional argument: 'age'",
     "output_type": "error",
     "traceback": [
      "\u001b[1;31m---------------------------------------------------------------------------\u001b[0m",
      "\u001b[1;31mTypeError\u001b[0m                                 Traceback (most recent call last)",
      "\u001b[1;32m<ipython-input-42-21e997a77944>\u001b[0m in \u001b[0;36m<module>\u001b[1;34m()\u001b[0m\n\u001b[1;32m----> 1\u001b[1;33m \u001b[0mdescribe_person\u001b[0m\u001b[1;33m(\u001b[0m\u001b[1;34m'brian'\u001b[0m\u001b[1;33m,\u001b[0m \u001b[1;36m71\u001b[0m\u001b[1;33m)\u001b[0m\u001b[1;33m\u001b[0m\u001b[0m\n\u001b[0m",
      "\u001b[1;31mTypeError\u001b[0m: describe_person() missing 1 required positional argument: 'age'"
     ]
    }
   ],
   "source": [
    "describe_person('brian', 71)"
   ]
  },
  {
   "cell_type": "markdown",
   "metadata": {},
   "source": [
    "[top](#top)"
   ]
  },
  {
   "cell_type": "markdown",
   "metadata": {},
   "source": [
    "<a name=\"default\"></a>Default arguments\n",
    "---"
   ]
  },
  {
   "cell_type": "markdown",
   "metadata": {},
   "source": [
    "If you want your function to do something by default, even if no information is passed to it, you can do so by giving your arguments _default values_. You do this by specifying the default values when you define the function:"
   ]
  },
  {
   "cell_type": "code",
   "execution_count": 39,
   "metadata": {
    "collapsed": true
   },
   "outputs": [
    {
     "name": "stdout",
     "output_type": "stream",
     "text": [
      "\n",
      "You are doing good work, Dimitra!\n",
      "\n",
      "You are doing good work, Debshanka!\n",
      "\n",
      "You are doing good work, everyone!\n"
     ]
    }
   ],
   "source": [
    "def thank_you(name='everyone'):\n",
    "    # the function prints a message to 'name'\n",
    "    # If no name is specified, it prints the message to everyone\n",
    "    print(\"\\nYou are doing good work, {}!\".format(name))\n",
    "    \n",
    "thank_you('Dimitra')\n",
    "thank_you('Debshanka')\n",
    "thank_you()"
   ]
  },
  {
   "cell_type": "markdown",
   "metadata": {},
   "source": [
    "<a name=\"keyword\"></a>Keyword arguments\n",
    "---"
   ]
  },
  {
   "cell_type": "markdown",
   "metadata": {},
   "source": [
    "We can use the concept of default arguments to understand keyword arguments: keyword arguments are arguments that have a default value of **None**.  \n",
    "\n",
    "NOTE: **None** is the programming equivalent of zero. It means 'nothing' and has the truth value **False** while every other non-boolean object has a truth value of **True**."
   ]
  },
  {
   "cell_type": "markdown",
   "metadata": {},
   "source": [
    "We can expect anyone who uses ```describe_person()``` to supply a first name and a last name, in that order. But now we are starting to include some information that might not apply to everyone. We can address this by keeping positional arguments for the first name and last name, but expect keyword arguments for everything else."
   ]
  },
  {
   "cell_type": "code",
   "execution_count": 49,
   "metadata": {
    "collapsed": true
   },
   "outputs": [
    {
     "name": "stdout",
     "output_type": "stream",
     "text": [
      "First name: brian\n",
      "Last name: kernighan\n",
      "Favorite language: C\n",
      "\n",
      "\n",
      "First name: adele\n",
      "Last name: goldberg\n",
      "Age: 68\n",
      "Favorite language: R\n",
      "\n",
      "\n",
      "First name: dennis\n",
      "Last name: ritchie\n",
      "Favorite language: C\n",
      "Died: 2011\n",
      "\n",
      "\n",
      "First name: guido\n",
      "Last name: van rossum\n",
      "Favorite language: Python\n",
      "\n",
      "\n"
     ]
    }
   ],
   "source": [
    "def describe_person(first_name, last_name, age=None, \\\n",
    "                    favorite_language=None, died=None):\n",
    "    \"\"\" \n",
    "    This function takes in a person's first and last name, \n",
    "    their age, and their favorite language.\n",
    "    It then prints this information out in a simple format.\n",
    "    \"\"\"\n",
    "    \n",
    "    print(\"First name: {}\".format(first_name))\n",
    "    print(\"Last name: {}\".format(last_name))\n",
    "    \n",
    "    # Optional information:\n",
    "    if age:\n",
    "        print(\"Age: {}\".format(age))\n",
    "    if favorite_language:\n",
    "        print(\"Favorite language: {}\".format(favorite_language))\n",
    "    if died:\n",
    "        print(\"Died: {}\".format(died))\n",
    "    # Blank line at end.\n",
    "    print(\"\\n\")\n",
    "    \n",
    "# NOTE: the triple paranthesis \"\"\" denote a multiline comment.\n",
    "# multiline comments directly below the function header are called\n",
    "# doc-strings. They can be displayed automatically by writing\n",
    "# ?function_name\n",
    "\n",
    "describe_person('brian', 'kernighan', favorite_language='C')\n",
    "describe_person('adele', 'goldberg', age=68, favorite_language='R')\n",
    "describe_person('dennis', 'ritchie', favorite_language='C', died=2011)\n",
    "describe_person('guido', 'van rossum', favorite_language='Python')"
   ]
  },
  {
   "cell_type": "markdown",
   "metadata": {},
   "source": [
    "[top](#top)"
   ]
  },
  {
   "cell_type": "markdown",
   "metadata": {},
   "source": [
    "<a name=\"advantages\"></a>Advantages of functions\n",
    "---"
   ]
  },
  {
   "cell_type": "markdown",
   "metadata": {},
   "source": [
    "The way of structuring a program by wrapping functionality in functions is called _procedural_ programming and is, together with _object-oriented_ programming, one of the two main programming _paradigms_.  \n",
    "In the context of this course, procedural programming will be the way we write code. Some advantages of using functions:"
   ]
  },
  {
   "cell_type": "markdown",
   "metadata": {},
   "source": [
    "* We write a set of instructions once and therefore save repetitive work.\n",
    "* Writing the same code in multiple places makes the program more prone to errors - putting code into functions helps with debugging.\n",
    "* If we want to modify the behavior of the program, we just need to change code in one place (the function).\n",
    "* Functions can make code easier to read and more elegant (and it is important that other people are able to understand what you did!)"
   ]
  },
  {
   "cell_type": "markdown",
   "metadata": {},
   "source": [
    "[top](#top)"
   ]
  },
  {
   "cell_type": "markdown",
   "metadata": {},
   "source": [
    "<a name=\"PSL\"></a>The Python Standard Library\n",
    "==="
   ]
  },
  {
   "cell_type": "markdown",
   "metadata": {},
   "source": [
    "<a name=\"builtin\"></a>What are built-in functions?\n",
    "---"
   ]
  },
  {
   "cell_type": "markdown",
   "metadata": {},
   "source": [
    "Most of the functionality in Python is provided by *modules*. The Python Standard Library is a large collection of modules that provides *cross-platform* implementations of common facilities such as access to the operating system, file I/O, string management, network communication, and much more - so called built-in functions.  \n",
    "The Python Standard Library ships automatically with every installation of Python - therefore wherever you have Python you have access to the Standard Library."
   ]
  },
  {
   "cell_type": "markdown",
   "metadata": {},
   "source": [
    "* To use a module in a Python program it first has to be imported. A module can be imported using the `import` keyword.\n",
    "* Functions that are provided by the module can then be accessed using the dot-operator: ```module.function()```"
   ]
  },
  {
   "cell_type": "markdown",
   "metadata": {},
   "source": [
    "[top](#top)"
   ]
  },
  {
   "cell_type": "markdown",
   "metadata": {},
   "source": [
    "<a name=\"import\"></a>Importing modules\n",
    "---"
   ]
  },
  {
   "cell_type": "markdown",
   "metadata": {},
   "source": [
    "For example the math module contains standard mathematical functions that we can use if we import it:"
   ]
  },
  {
   "cell_type": "code",
   "execution_count": 52,
   "metadata": {},
   "outputs": [
    {
     "name": "stdout",
     "output_type": "stream",
     "text": [
      "1.0\n"
     ]
    }
   ],
   "source": [
    "import math\n",
    "\n",
    "x = math.cos(2 * math.pi)\n",
    "\n",
    "print(x)"
   ]
  },
  {
   "cell_type": "markdown",
   "metadata": {},
   "source": [
    "Importing the module and then using its functions by referencing the module is the most common use case.  \n",
    "If we do not want to reference the module all the time, we can either import selected symbols (functions and variables) from the module into the current namespace or all of the module by using the ** * ** wildcard."
   ]
  },
  {
   "cell_type": "code",
   "execution_count": 54,
   "metadata": {},
   "outputs": [
    {
     "name": "stdout",
     "output_type": "stream",
     "text": [
      "1.0\n"
     ]
    }
   ],
   "source": [
    "from math import cos, pi\n",
    "\n",
    "print(cos(2 * pi))"
   ]
  },
  {
   "cell_type": "code",
   "execution_count": 60,
   "metadata": {},
   "outputs": [
    {
     "name": "stdout",
     "output_type": "stream",
     "text": [
      "1.0\n"
     ]
    }
   ],
   "source": [
    "from math import *\n",
    "\n",
    "print(sin(0.5 * pi))"
   ]
  },
  {
   "cell_type": "markdown",
   "metadata": {},
   "source": [
    "**NOTE**: in jupyter-notebooks, modules are accessible throughout the whole notebook onse imported."
   ]
  },
  {
   "cell_type": "markdown",
   "metadata": {},
   "source": [
    "In case of long module names or namespace collisions, we can use the **as** keyword to give modules different names at import time:"
   ]
  },
  {
   "cell_type": "code",
   "execution_count": 62,
   "metadata": {},
   "outputs": [
    {
     "name": "stdout",
     "output_type": "stream",
     "text": [
      "1.0\n"
     ]
    }
   ],
   "source": [
    "import math as m\n",
    "\n",
    "print(m.sin(0.5 * m.pi))"
   ]
  },
  {
   "cell_type": "markdown",
   "metadata": {},
   "source": [
    "To get information about how functions from modules work we can\n",
    "* use the ?-magic to display the docstring interactively\n",
    "* use the ```help(function_name)``` function to print the docstring\n",
    "* or search for documentation online (which is usually quite complete with lots of examples)"
   ]
  },
  {
   "cell_type": "code",
   "execution_count": 65,
   "metadata": {},
   "outputs": [
    {
     "name": "stdout",
     "output_type": "stream",
     "text": [
      "Help on built-in function sin in module math:\n",
      "\n",
      "sin(...)\n",
      "    sin(x)\n",
      "    \n",
      "    Return the sine of x (measured in radians).\n",
      "\n"
     ]
    }
   ],
   "source": [
    "help(m.sin)"
   ]
  },
  {
   "cell_type": "markdown",
   "metadata": {},
   "source": [
    "##### References"
   ]
  },
  {
   "cell_type": "markdown",
   "metadata": {},
   "source": [
    " * The Python Language Reference: http://docs.python.org/3/reference/index.html\n",
    " * The Python Standard Library: http://docs.python.org/3/library/"
   ]
  },
  {
   "cell_type": "markdown",
   "metadata": {},
   "source": [
    "[top](#top)"
   ]
  },
  {
   "cell_type": "markdown",
   "metadata": {},
   "source": [
    "<a name=\"builtin examples\"></a>Some helpful built-in modules\n",
    "---"
   ]
  },
  {
   "cell_type": "markdown",
   "metadata": {},
   "source": [
    "##### Math\n",
    "* **math**: mathematical functions\n",
    "* **decimal**: decimal fixed point and floating point arithmetic\n",
    "* **random**: pseudo-radom numbers\n",
    "* **statistics**: statistics functions"
   ]
  },
  {
   "cell_type": "markdown",
   "metadata": {},
   "source": [
    "##### Infrastructure\n",
    "* **os**: operating system interfaces\n",
    "* **sys**: system specific parameters and functions\n",
    "* **os.path**: common pathname manipulations\n",
    "* **fnmatch**: unix filename pattern matching\n",
    "* **pickle**: Python object serialization"
   ]
  },
  {
   "cell_type": "markdown",
   "metadata": {},
   "source": [
    "##### Coding\n",
    "* **pdb**: Python Debugger\n",
    "* **timeit**: execution time profiler"
   ]
  },
  {
   "cell_type": "markdown",
   "metadata": {},
   "source": [
    "And many, many, many more..."
   ]
  },
  {
   "cell_type": "markdown",
   "metadata": {},
   "source": [
    "[top](#top)"
   ]
  },
  {
   "cell_type": "markdown",
   "metadata": {},
   "source": [
    "<a name=\"third party\"></a>Third party libraries\n",
    "==="
   ]
  },
  {
   "cell_type": "markdown",
   "metadata": {},
   "source": [
    "Third party libraries offer functionality that goes far beyond what the Standard Library offers.  \n",
    "\n",
    "The Python-cosmos of third party libraries has grown tremendously during the last decade. Everybody can write their own library and add it to the Python package index. From there it can be downloaded easily using package managers like pip.  \n",
    "\n",
    "Third party libraries implement sofisticated, cutting edge algorithms. Many of them are very well documented and close to bug-free.  \n",
    "\n",
    "Nevertheless you should never trust a function blindly and use it as a black box. As a bare minimum you should read the documentation carefully. If the function does something unexpected, you can always have a look at the source code yourself.\n",
    "\n",
    "Below follow a few examples of the libraries most commonly used for scientific programming (and therefore also in this course)."
   ]
  },
  {
   "cell_type": "markdown",
   "metadata": {},
   "source": [
    "##### References\n",
    "Python package index:  https://pypi.python.org/pypi  \n",
    "Pip: https://de.wikipedia.org/wiki/Pip_(Python)"
   ]
  },
  {
   "cell_type": "markdown",
   "metadata": {},
   "source": [
    "[top](#top)"
   ]
  },
  {
   "cell_type": "markdown",
   "metadata": {},
   "source": [
    "<a name=\"numpy\"></a>NumPy\n",
    "---"
   ]
  },
  {
   "cell_type": "markdown",
   "metadata": {},
   "source": [
    "NumPy is THE fundamental library for scientific computing. It contains\n",
    "* a powerful N-dimensional array object\n",
    "* tools for integrating C++/C and Fortran code\n",
    "* linear algebra and random number functionality"
   ]
  },
  {
   "cell_type": "code",
   "execution_count": 4,
   "metadata": {
    "collapsed": true
   },
   "outputs": [
    {
     "name": "stdout",
     "output_type": "stream",
     "text": [
      "A:\n",
      "[[1 2]\n",
      " [3 4]]\n",
      "B:\n",
      "[[3 3]\n",
      " [3 3]]\n",
      "product:\n",
      "[[ 9  9]\n",
      " [21 21]]\n"
     ]
    }
   ],
   "source": [
    "#numpy example\n",
    "import numpy as np\n",
    "\n",
    "#create two (2,2) matrices A and B\n",
    "A = np.reshape([1,2,3,4],(2,2))\n",
    "B = np.reshape([3,3,3,3],(2,2))\n",
    "\n",
    "#calculate the matrix product\n",
    "matrix_product = np.dot(A, B)\n",
    "\n",
    "#print the result\n",
    "print('A:\\n{}'.format(A))\n",
    "print('B:\\n{}'.format(B))\n",
    "print('product:\\n{}'.format(matrix_product))"
   ]
  },
  {
   "cell_type": "markdown",
   "metadata": {},
   "source": [
    "[top](#top)"
   ]
  },
  {
   "cell_type": "markdown",
   "metadata": {},
   "source": [
    "<a name=\"pandas\"></a>pandas\n",
    "---"
   ]
  },
  {
   "cell_type": "markdown",
   "metadata": {},
   "source": [
    "Pandas is a library for data manipulation and analysis. It is especially useful to manipulate numerical tables and time series."
   ]
  },
  {
   "cell_type": "code",
   "execution_count": 7,
   "metadata": {
    "collapsed": true
   },
   "outputs": [
    {
     "name": "stdout",
     "output_type": "stream",
     "text": [
      "This is a time series\n",
      "\n",
      "0    1.0\n",
      "1    3.0\n",
      "2    5.0\n",
      "3    NaN\n",
      "4    6.0\n",
      "5    8.0\n",
      "dtype: float64\n",
      "\n",
      "\n",
      "This is a data frame\n",
      "\n",
      "                   A         B         C         D\n",
      "2013-01-01  1.051614  0.610440 -0.874110 -0.216858\n",
      "2013-01-02 -0.751798 -0.494934  0.640064  0.085240\n",
      "2013-01-03 -0.645353  0.068144  0.556657 -0.768242\n",
      "2013-01-04  1.124419  0.984491  1.962327  2.013448\n",
      "2013-01-05  0.309567 -0.109179  0.197242 -0.615997\n",
      "2013-01-06 -0.395696  0.746785  0.455481 -0.961882\n"
     ]
    }
   ],
   "source": [
    "#pandas example\n",
    "import pandas as pd\n",
    "\n",
    "s = pd.Series([1, 3, 5, None, 6, 8])\n",
    "print('This is a time series\\n')\n",
    "print(s)\n",
    "\n",
    "dates = pd.date_range('20130101',periods=6)\n",
    "df = pd.DataFrame(np.random.randn(6,4), index=dates, columns=list('ABCD'))\n",
    "print('\\n\\nThis is a data frame\\n')\n",
    "print(df)"
   ]
  },
  {
   "cell_type": "markdown",
   "metadata": {},
   "source": [
    "[top](#top)"
   ]
  },
  {
   "cell_type": "markdown",
   "metadata": {},
   "source": [
    "<a name=\"matplotlib\"></a>Matplotlib\n",
    "---"
   ]
  },
  {
   "cell_type": "markdown",
   "metadata": {},
   "source": [
    "Matplotlib is the library we use for visualizing data. Among other things it can do\n",
    "* line plots\n",
    "* scatter plots\n",
    "* histograms\n",
    "* heatmaps\n",
    "* 3D plots"
   ]
  },
  {
   "cell_type": "code",
   "execution_count": 82,
   "metadata": {
    "collapsed": true
   },
   "outputs": [
    {
     "data": {
      "text/plain": [
       "[<matplotlib.patches.Polygon at 0x7ffb59d09278>,\n",
       " <matplotlib.patches.Polygon at 0x7ffb5974b828>]"
      ]
     },
     "execution_count": 82,
     "metadata": {},
     "output_type": "execute_result"
    },
    {
     "data": {
      "image/png": "[encoded data removed]",
      "text/plain": [
       "<matplotlib.figure.Figure at 0x7ffb59d093c8>"
      ]
     },
     "metadata": {},
     "output_type": "display_data"
    }
   ],
   "source": [
    "# matplotlib example\n",
    "import matplotlib.pyplot as plt\n",
    "\n",
    "# this command makes jupyter displac the plot directly in the notebook\n",
    "%matplotlib inline\n",
    "\n",
    "x = np.linspace(0, 2 * np.pi, 500)\n",
    "y1 = np.sin(x)\n",
    "y2 = np.sin(3 * x)\n",
    "\n",
    "fig, ax = plt.subplots()\n",
    "ax.fill(x, y1, 'b', x, y2, 'r', alpha=0.3)"
   ]
  },
  {
   "cell_type": "markdown",
   "metadata": {},
   "source": [
    "[top](#top)"
   ]
  },
  {
   "cell_type": "markdown",
   "metadata": {},
   "source": [
    "<a name=\"learn\"></a>scikit-learn and TensorFlow\n",
    "---"
   ]
  },
  {
   "cell_type": "markdown",
   "metadata": {},
   "source": [
    "scikit-learn offers basic functionality for machine learning tasks as well as implementations of cutting edge algorithms. Among others, with scikit-learn you can do\n",
    "* Classification\n",
    "* Regression\n",
    "* Clustering\n",
    "* Dimensionality reduction\n",
    "* Model selection\n",
    "* Preprocessing"
   ]
  },
  {
   "cell_type": "markdown",
   "metadata": {},
   "source": [
    "TensorFlow does many of the things scikit-learn does but is designed for really big data. Allthough Open Source, development is mainly driven by Google which also uses TensorFlow in its products. TensorFlow especially supports\n",
    "* working with deep neural nets\n",
    "* native implementations on GPUs"
   ]
  },
  {
   "cell_type": "markdown",
   "metadata": {},
   "source": [
    "[top](#top)"
   ]
  },
  {
   "cell_type": "markdown",
   "metadata": {},
   "source": [
    "<a name=\"exercise06\"></a>Exercise 06: Functions and Libraries\n",
    "==="
   ]
  },
  {
   "cell_type": "markdown",
   "metadata": {},
   "source": [
    "0. **Git**\n",
    "  1. Switch to today's working branch.\n",
    "  2. Create a new document for the exercise and add it to the working branch's index.\n",
    "1. **Functions**\n",
    "  1. Write a function that takes a list as an argument and then sorts its elements manually (do not use **sort()** or **sorted()** for this!).\n",
    "  2. Test the function by sorting different lists.\n",
    "  3. (Optional): write a check inside the function that makes sure the variable passed to the function is an iterable that can be sorted and returns without crashing if that is not the case.\n",
    "  HINT: you can investigate algorithms like bubble sort or quick sort for this task.\n",
    "  4. Implement two different sorting algorithms in the function (you can use **sort()** as one if you don't have much time). Use default and/or keyword arguments to tell the function, which algorithm to use.\n",
    "  5. (Optional): find out about the %timeit magic in ipython notebook and use it to test the performance of your sorting algorithm versus **sort()**.\n",
    "2. **The Python Standard Library**\n",
    "  1. Inform yourself about the capabilities of the os.path module by reading the documentation.\n",
    "  2. Use os.path to create a list of all files in the current working directory.\n",
    "  3. Write a function that creates a new file if the file does not yet exist.\n",
    "3. **Third party libraries**\n",
    "  1. Create an array of random (x,y) coordinates using numpy.asarray() and numpy.random\n",
    "  2. Inform yourself about NumPy's ```loadtxt()``` and ```savetxt()``` functions by reading the function documentation.\n",
    "  3. Save the array to a text-file.\n",
    "  4. Read the array from the text-file.\n",
    "  5. (Optional) Use matplotlib to create a scatter-plot of the random numbers.\n",
    "  6. (Optional) find out how to save the scatter plot as pdf.\n",
    "4. **Git**\n",
    "  1. Commit the document with the exercises to the current working branch with a meaningful commit message.\n",
    "  2. Merge your working branch with the ```master``` branch.\n",
    "  3. Push your local commits to the remote repository so you can access it from everywhere."
   ]
  },
  {
   "cell_type": "markdown",
   "metadata": {},
   "source": [
    "[top](#top)"
   ]
  }
 ],
 "metadata": {
  "kernelspec": {
   "display_name": "Python 3",
   "language": "python",
   "name": "python3"
  },
  "language_info": {
   "codemirror_mode": {
    "name": "ipython",
    "version": 3
   },
   "file_extension": ".py",
   "mimetype": "text/x-python",
   "name": "python",
   "nbconvert_exporter": "python",
   "pygments_lexer": "ipython3",
   "version": "3.5.2"
  }
 },
 "nbformat": 4,
 "nbformat_minor": 1
}
