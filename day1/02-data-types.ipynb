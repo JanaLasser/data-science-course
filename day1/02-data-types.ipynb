{
 "cells": [
  {
   "cell_type": "markdown",
   "metadata": {
    "collapsed": true
   },
   "source": [
    "[Day 1 morning **_\"Python crash course part 1\"_**]"
   ]
  },
  {
   "cell_type": "markdown",
   "metadata": {},
   "source": [
    "# The Python Crash course"
   ]
  },
  {
   "cell_type": "markdown",
   "metadata": {},
   "source": [
    "The Python crash course is aimed at people who\n",
    "* have never written any code at all\n",
    "* have never used a scripting language\n",
    "* have never used Python\n",
    "* are just around for the fun of it"
   ]
  },
  {
   "cell_type": "markdown",
   "metadata": {},
   "source": [
    "The crash course will start slowly and then pick up speed as we go along. If you are bored, feel free to investigate more involved concepts on your own. In the exercises section there are also sometimes exercises marked **(optional)** for the more advanced/fast people."
   ]
  },
  {
   "cell_type": "markdown",
   "metadata": {},
   "source": [
    "In the course we will cover\n",
    "* **Data Types** (variables, numbers, strings)\n",
    "* **Data Containers** (lists, sets, dictionaries)\n",
    "* **Control Structures** (for, if, while)\n",
    "* **Functions** (custom, the Python Standard Library and third party libraries)"
   ]
  },
  {
   "cell_type": "markdown",
   "metadata": {},
   "source": [
    "<a name='data types'></a>Data Types\n",
    "==="
   ]
  },
  {
   "cell_type": "markdown",
   "metadata": {},
   "source": [
    "<a name=\"top\"></a>Outline\n",
    "---"
   ]
  },
  {
   "cell_type": "markdown",
   "metadata": {},
   "source": [
    "* [Data Types](#data types)\n",
    "  * [Variables](#variables)\n",
    "  * [Numbers](#numbers)\n",
    "  * [Strings](#strings)\n",
    "  * [Comments](#comments)\n",
    "* [Exercise 03: Data Types](#exercise03)"
   ]
  },
  {
   "cell_type": "markdown",
   "metadata": {},
   "source": [
    "**Learning goals:** By the end or this lecture you will\n",
    "* have a basic understanding of how programming work\n",
    "* be able to write your own functions and code snippets to deal with more complicated tasks\n",
    "* know where to find third party libraries that solve your problems for you"
   ]
  },
  {
   "cell_type": "markdown",
   "metadata": {},
   "source": [
    "<a name='variables'></a>Variables\n",
    "---"
   ]
  },
  {
   "cell_type": "markdown",
   "metadata": {},
   "source": [
    "A variable holds a value.  \n",
    "Variables are known throughout the whole document below the point where they were defined."
   ]
  },
  {
   "cell_type": "markdown",
   "metadata": {},
   "source": [
    "##### Example"
   ]
  },
  {
   "cell_type": "code",
   "execution_count": null,
   "metadata": {
    "collapsed": false
   },
   "outputs": [],
   "source": [
    "a = 10\n",
    "print(a)"
   ]
  },
  {
   "cell_type": "markdown",
   "metadata": {},
   "source": [
    "You can change the value of a variable at any point. Use ```=``` to assign values to variables."
   ]
  },
  {
   "cell_type": "code",
   "execution_count": 1,
   "metadata": {
    "collapsed": true
   },
   "outputs": [
    {
     "name": "stdout",
     "output_type": "stream",
     "text": [
      "100\n",
      "50\n",
      "25.0\n"
     ]
    }
   ],
   "source": [
    "b = 100\n",
    "print(b)\n",
    "b = 50\n",
    "print(b)\n",
    "b = b/2\n",
    "print(b)"
   ]
  },
  {
   "cell_type": "markdown",
   "metadata": {},
   "source": [
    "##### Naming rules"
   ]
  },
  {
   "cell_type": "markdown",
   "metadata": {},
   "source": [
    "- Variables can only contain letters, numbers, and underscores. Variable names can start with a letter or an underscore, but cannot start with a number.\n",
    "- Spaces are not allowed in variable names, so we use underscores instead of spaces. For example, use student_name instead of \"student name\".\n",
    "- You cannot use [Python keywords](http://docs.python.org/3/reference/lexical_analysis.html#keywords) as variable names (more on that later).\n",
    "- Variable names should be descriptive, without being too long. For example MPI_rooms is better than just \"rooms\", and \"number_of_rooms_at_the_MPI\"."
   ]
  },
  {
   "cell_type": "markdown",
   "metadata": {},
   "source": [
    "##### NameError "
   ]
  },
  {
   "cell_type": "markdown",
   "metadata": {},
   "source": [
    "An error you will almost certainly experience at some point"
   ]
  },
  {
   "cell_type": "code",
   "execution_count": 263,
   "metadata": {
    "collapsed": true
   },
   "outputs": [
    {
     "ename": "NameError",
     "evalue": "name 'MPI_roms' is not defined",
     "output_type": "error",
     "traceback": [
      "\u001b[1;31m---------------------------------------------------------------------------\u001b[0m",
      "\u001b[1;31mNameError\u001b[0m                                 Traceback (most recent call last)",
      "\u001b[1;32m<ipython-input-263-d762d310495c>\u001b[0m in \u001b[0;36m<module>\u001b[1;34m()\u001b[0m\n\u001b[0;32m      1\u001b[0m \u001b[0mMPI_rooms\u001b[0m \u001b[1;33m=\u001b[0m \u001b[1;36m83\u001b[0m\u001b[1;33m\u001b[0m\u001b[0m\n\u001b[1;32m----> 2\u001b[1;33m \u001b[0mprint\u001b[0m\u001b[1;33m(\u001b[0m\u001b[0mMPI_roms\u001b[0m\u001b[1;33m)\u001b[0m\u001b[1;33m\u001b[0m\u001b[0m\n\u001b[0m",
      "\u001b[1;31mNameError\u001b[0m: name 'MPI_roms' is not defined"
     ]
    }
   ],
   "source": [
    "MPI_rooms = 83\n",
    "print(MPI_roms)"
   ]
  },
  {
   "cell_type": "markdown",
   "metadata": {},
   "source": [
    "The anatomy of an error message:\n",
    "* The type of the error (NameError)\n",
    "* The file that was responsible for the error (ipython-input...)\n",
    "* the line in which the error occured\n",
    "* the cause of the error\n",
    "\n",
    "Make sure to spell variables right and always assign values to them before you use them!"
   ]
  },
  {
   "cell_type": "markdown",
   "metadata": {},
   "source": [
    "[top](#top)"
   ]
  },
  {
   "cell_type": "markdown",
   "metadata": {},
   "source": [
    "<a name='strings'></a>Strings\n",
    "---"
   ]
  },
  {
   "cell_type": "markdown",
   "metadata": {},
   "source": [
    "* Strings are sets of characters (letters and symbols), they are mostly used to store text.  \n",
    "* We declare strings by using either double or single quotes -> write text -> 'close' the string again with double or single quotes respectively.\n",
    "* Use the escape character '\\' to insert linebreaks into strings.\n",
    "* Use triple quotes for multiline strings"
   ]
  },
  {
   "cell_type": "markdown",
   "metadata": {},
   "source": [
    "##### Example "
   ]
  },
  {
   "cell_type": "code",
   "execution_count": null,
   "metadata": {
    "collapsed": true
   },
   "outputs": [],
   "source": [
    "quote = \"Linus Torvalds once said, \\\n",
    "    'Any program is only as good as it is useful.'\""
   ]
  },
  {
   "cell_type": "code",
   "execution_count": 2,
   "metadata": {
    "collapsed": true
   },
   "outputs": [
    {
     "name": "stdout",
     "output_type": "stream",
     "text": [
      "This is a string where I \n",
      "can confortably write on multiple lines\n",
      "without worring about to use the escape character \"\\\" as in\n",
      "the previsou example. \n",
      "As you'll see, the original string formatting is preserved.\n",
      "\n"
     ]
    }
   ],
   "source": [
    "\n",
    "multiline_string = '''This is a string where I \n",
    "can confortably write on multiple lines\n",
    "without worring about to use the escape character \"\\\\\" as in\n",
    "the previsou example. \n",
    "As you'll see, the original string formattiong is preserved.\n",
    "'''\n",
    "\n",
    "print(multiline_string)"
   ]
  },
  {
   "cell_type": "markdown",
   "metadata": {},
   "source": [
    "##### Combining strings (concatenation) "
   ]
  },
  {
   "cell_type": "markdown",
   "metadata": {},
   "source": [
    "The 'plus' sign combines two strings into one, we call this **concatenation**"
   ]
  },
  {
   "cell_type": "code",
   "execution_count": null,
   "metadata": {
    "collapsed": false
   },
   "outputs": [],
   "source": [
    "first_name = 'jana'\n",
    "last_name = 'lasser'\n",
    "full_name = first_name + ' ' + last_name\n",
    "print(full_name)"
   ]
  },
  {
   "cell_type": "markdown",
   "metadata": {},
   "source": [
    "There is no limit to the number of strings you can combine. You can also create strings from numbers to print nicer looking result messages to the output:"
   ]
  },
  {
   "cell_type": "code",
   "execution_count": null,
   "metadata": {
    "collapsed": false
   },
   "outputs": [],
   "source": [
    "a = 10\n",
    "b = 3\n",
    "c = a*b\n",
    "print('if you multiply ' + str(a) + ' by ' + str(b) + \\\n",
    "          ', the result is ' + str(c))"
   ]
  },
  {
   "cell_type": "markdown",
   "metadata": {},
   "source": [
    "##### Some string formatting "
   ]
  },
  {
   "cell_type": "markdown",
   "metadata": {},
   "source": [
    "String concatenation is a bit clumsy sometimes. A very powerful and more elegant tool is string formatting."
   ]
  },
  {
   "cell_type": "code",
   "execution_count": null,
   "metadata": {
    "collapsed": false
   },
   "outputs": [],
   "source": [
    "string_template = 'The result of the calculation of {calc} is {res}'\n",
    "print(\"String Template: \", string_template)\n",
    "\n",
    "print(string_template.format(calc='(3*4)+2', res=(3*4)+2))"
   ]
  },
  {
   "cell_type": "markdown",
   "metadata": {},
   "source": [
    "There's much more than that!\n",
    "For further information about *String formatting*, see the official online documentation about the [`string`](https://docs.python.org/3/library/string.html) module."
   ]
  },
  {
   "cell_type": "markdown",
   "metadata": {},
   "source": [
    "###### Whitespaces"
   ]
  },
  {
   "cell_type": "markdown",
   "metadata": {},
   "source": [
    "* \"whitespace\" refers to characters that the computer is aware of, but are invisible to readers.\n",
    "* Tabs and newlines are represented by special character combinations.\n",
    "* The two-character combination \"\\t\" makes a tab appear in a string whereas \"\\n\" starts a new line."
   ]
  },
  {
   "cell_type": "code",
   "execution_count": null,
   "metadata": {
    "collapsed": false
   },
   "outputs": [],
   "source": [
    "#tabs\n",
    "print('Hello world!')\n",
    "print('\\tHello world!')\n",
    "print('Hello \\tworld!')"
   ]
  },
  {
   "cell_type": "code",
   "execution_count": null,
   "metadata": {
    "collapsed": false
   },
   "outputs": [],
   "source": [
    "#leading newline\n",
    "print('\\nHello world!')"
   ]
  },
  {
   "cell_type": "code",
   "execution_count": null,
   "metadata": {
    "collapsed": false
   },
   "outputs": [],
   "source": [
    "#trailing newline\n",
    "print('Hello world!\\n')"
   ]
  },
  {
   "cell_type": "code",
   "execution_count": null,
   "metadata": {
    "collapsed": false
   },
   "outputs": [],
   "source": [
    "#line break in the middle of a string\n",
    "print('Hello \\nworld!')"
   ]
  },
  {
   "cell_type": "markdown",
   "metadata": {},
   "source": [
    "##### Stripping whitespaces "
   ]
  },
  {
   "cell_type": "markdown",
   "metadata": {},
   "source": [
    "Whitespaces can be annoying when working with strings. Thats why there is functionality to do away with them:"
   ]
  },
  {
   "cell_type": "code",
   "execution_count": null,
   "metadata": {
    "collapsed": false
   },
   "outputs": [],
   "source": [
    "name = ' jana '\n",
    "\n",
    "print('-' + name.lstrip() + '-')\n",
    "print('-' + name.rstrip() + '-')\n",
    "print('-' + name.strip() + '-')"
   ]
  },
  {
   "cell_type": "markdown",
   "metadata": {},
   "source": [
    "[top](#top)"
   ]
  },
  {
   "cell_type": "markdown",
   "metadata": {},
   "source": [
    "<a name='numbers'></a>Numbers\n",
    "---"
   ]
  },
  {
   "cell_type": "markdown",
   "metadata": {},
   "source": [
    "##### Integers"
   ]
  },
  {
   "cell_type": "markdown",
   "metadata": {},
   "source": [
    "You can do all of the basic operations with integers, and everything should behave as you expect. Addition and subtraction use the standard plus and minus symbols. Multiplication uses the asterisk, and division uses a forward slash. Exponents use two asterisks."
   ]
  },
  {
   "cell_type": "code",
   "execution_count": null,
   "metadata": {
    "collapsed": false
   },
   "outputs": [],
   "source": [
    "print(10+3)"
   ]
  },
  {
   "cell_type": "code",
   "execution_count": null,
   "metadata": {
    "collapsed": false
   },
   "outputs": [],
   "source": [
    "print(10-3)"
   ]
  },
  {
   "cell_type": "code",
   "execution_count": null,
   "metadata": {
    "collapsed": false
   },
   "outputs": [],
   "source": [
    "print(10*3)"
   ]
  },
  {
   "cell_type": "code",
   "execution_count": null,
   "metadata": {
    "collapsed": false
   },
   "outputs": [],
   "source": [
    "print(10/3)"
   ]
  },
  {
   "cell_type": "code",
   "execution_count": null,
   "metadata": {
    "collapsed": false
   },
   "outputs": [],
   "source": [
    "print(10**3)"
   ]
  },
  {
   "cell_type": "markdown",
   "metadata": {},
   "source": [
    "As with every calculator, you can use paranthesis (only round ones!) to modify the order of operators"
   ]
  },
  {
   "cell_type": "code",
   "execution_count": null,
   "metadata": {
    "collapsed": false
   },
   "outputs": [],
   "source": [
    "standard_order = 2+3*4\n",
    "changed_order = (2+3)*4\n",
    "print(standard_order)\n",
    "print(changed_order)"
   ]
  },
  {
   "cell_type": "markdown",
   "metadata": {},
   "source": [
    "##### Floating point numbers"
   ]
  },
  {
   "cell_type": "markdown",
   "metadata": {},
   "source": [
    "As you might have noticed, integers get converted to floats automatically when using the division operator. **This only happens in Python 3, not in Python 2!**  \n",
    "You can reproduce integer divison without 'remainder' by manually casting a number to integer:"
   ]
  },
  {
   "cell_type": "code",
   "execution_count": null,
   "metadata": {
    "collapsed": false
   },
   "outputs": [],
   "source": [
    "a = 10\n",
    "b = 3\n",
    "c = a/b\n",
    "d = int(a/b)\n",
    "print(c)\n",
    "print(type(c))\n",
    "print(d)\n",
    "print(type(d))"
   ]
  },
  {
   "cell_type": "markdown",
   "metadata": {},
   "source": [
    "**HINT:** you can ask what 'type' a variable is by using ```type(variable)```"
   ]
  },
  {
   "cell_type": "markdown",
   "metadata": {},
   "source": [
    "[top](#top)"
   ]
  },
  {
   "cell_type": "markdown",
   "metadata": {},
   "source": [
    "<a name='comments'></a>Comments\n",
    "---"
   ]
  },
  {
   "cell_type": "markdown",
   "metadata": {},
   "source": [
    "Comments allow you to write in palin text, within your program. In Python, any line that starts with a pound (#) symbol is ignored by the Python interpreter."
   ]
  },
  {
   "cell_type": "code",
   "execution_count": 3,
   "metadata": {
    "collapsed": true
   },
   "outputs": [
    {
     "name": "stdout",
     "output_type": "stream",
     "text": [
      "This line is not a comment, it is code.\n"
     ]
    }
   ],
   "source": [
    "# This line is a good comment.\n",
    "#this \n",
    "#is \n",
    "#not\n",
    "\n",
    "print(\"This line is not a comment, it is code.\")"
   ]
  },
  {
   "cell_type": "markdown",
   "metadata": {},
   "source": [
    "##### What makes a good comment?\n",
    "- It is short and to the point, but a complete thought. Most comments should be written in complete sentences.\n",
    "- It explains your thinking, so that when you return to the code later you will understand how you were approaching the problem.\n",
    "- It explains your thinking, so that others who work with your code will understand your overall approach to a problem.\n",
    "- It explains particularly difficult sections of code in detail."
   ]
  },
  {
   "cell_type": "markdown",
   "metadata": {},
   "source": [
    "##### When should you write a comment?\n",
    "- When you have to think about code before writing it.\n",
    "- When you are likely to forget later exactly how you were approaching a problem.\n",
    "- When there is more than one way to solve a problem.\n",
    "- When others are unlikely to anticipate your way of thinking about a problem."
   ]
  },
  {
   "cell_type": "markdown",
   "metadata": {},
   "source": [
    "[top](#top)"
   ]
  },
  {
   "cell_type": "markdown",
   "metadata": {},
   "source": [
    "<a name='exercise03'></a>Exercise 03: Data Types\n",
    "==="
   ]
  },
  {
   "cell_type": "markdown",
   "metadata": {},
   "source": [
    "0. **Git**\n",
    "  1. Create a new branch to work on the exercise or switch to the branch you created for today.\n",
    "  2. Create a new Jupyter-notebook for the exercise and add it to the index.\n",
    "1. **Strings**\n",
    "  1. Choose a famous scientist (from Göttingen of course..), store their first name, last name and a quote from them in variables\n",
    "  2. Use concatenation to make a sentence with the person and the quote, print the quote.\n",
    "  3. Use strip to remove all whitespaces from the quote and print it.\n",
    "2. **Numbers**\n",
    "  1. Write a program that prints out the results of a calculation for each basic operation.\n",
    "  2. Format the output so it is meaningful.\n",
    "  3. Investigate about long decimals and numerical accuracy in python. \n",
    "  4. Find an example where limited numerical accuracy can mess with your results.\n",
    "  5. How can you avoid/fix this behaviour?\n",
    "3. **Comments**\n",
    "  1. Write a program that uses every new concept you have learned in this notebook so far.\n",
    "  2. Write comments that explain each section of your program.\n",
    "  3. For each new thing the program does, write a line of output that explains what happened.\n",
    "4. **Git**\n",
    "  1. Don't forget to commit your changes with a commit message to cour current working branch."
   ]
  },
  {
   "cell_type": "markdown",
   "metadata": {},
   "source": [
    "[top](#top)"
   ]
  },
  {
   "cell_type": "markdown",
   "metadata": {},
   "source": [
    "[Kudos to **Aron Ahmadia** (US Army ERDC) and **David Ketcheson** (KAUST) from whom I copied shamelessly]"
   ]
  }
 ],
 "metadata": {
  "kernelspec": {
   "display_name": "Python 3",
   "language": "python",
   "name": "python3"
  },
  "language_info": {
   "codemirror_mode": {
    "name": "ipython",
    "version": 3
   },
   "file_extension": ".py",
   "mimetype": "text/x-python",
   "name": "python",
   "nbconvert_exporter": "python",
   "pygments_lexer": "ipython3",
   "version": "3.5.2"
  }
 },
 "nbformat": 4,
 "nbformat_minor": 0
}
