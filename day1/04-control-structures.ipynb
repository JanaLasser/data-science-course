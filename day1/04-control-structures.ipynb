{
 "cells": [
  {
   "cell_type": "markdown",
   "metadata": {},
   "source": [
    "**Attribution**  \n",
    "The material in this notebook is based on  \n",
    "\n",
    "\"[python-in-a-notebook](https://github.com/leriomaggio/python-in-a-notebook)\"  \n",
    "by **Valerio Maggio**  \n",
    "  licensed under [CC BY-SA 4.0](https://creativecommons.org/licenses/by-sa/4.0/)\n",
    "  \n",
    "The original material has been modified and adapted."
   ]
  },
  {
   "cell_type": "markdown",
   "metadata": {},
   "source": [
    "[Day 1 afternoon **_\"Python crash course part 3\"_**]"
   ]
  },
  {
   "cell_type": "markdown",
   "metadata": {},
   "source": [
    "<a name='control structures'></a>Control Structures\n",
    "==="
   ]
  },
  {
   "cell_type": "markdown",
   "metadata": {},
   "source": [
    "<a name=\"top\"></a>Outline\n",
    "---"
   ]
  },
  {
   "cell_type": "markdown",
   "metadata": {},
   "source": [
    "* [Control Structures](#control structures)\n",
    "  * [Logical tests](#logical tests)\n",
    "  * [Truth functions](#truth functions)\n",
    "  * [If statements](#if)\n",
    "  * [If-else statements](#if-else)\n",
    "  * [If-elif-else chains](#if-elif-else)\n",
    "  * [For loops](#for loops)\n",
    "  * [While looops](#while loops)\n",
    "* [Exercise 05: Control Structures](#exercise05)"
   ]
  },
  {
   "cell_type": "markdown",
   "metadata": {},
   "source": [
    "**Learning goals:** By the end or this lecture you will\n",
    "* know how to write a program that does more than just executing every line once\n",
    "* know how to implement conditional parts of your code\n",
    "* know how to loop over iterables\n",
    "* know the difference between a for and a while loop"
   ]
  },
  {
   "cell_type": "markdown",
   "metadata": {},
   "source": [
    "##### What is a control structure?"
   ]
  },
  {
   "cell_type": "markdown",
   "metadata": {},
   "source": [
    "* Usually a program is executed one line after the other.\n",
    "* A control structure lets you control the flow of the program.\n",
    "* You can enter loops using **for** and **while** keywords\n",
    "* You can enter parts of the program based on a condition using **if**, **elif** and **else** keywords."
   ]
  },
  {
   "cell_type": "markdown",
   "metadata": {},
   "source": [
    "##### Example"
   ]
  },
  {
   "cell_type": "code",
   "execution_count": 2,
   "metadata": {
    "collapsed": true
   },
   "outputs": [
    {
     "name": "stdout",
     "output_type": "stream",
     "text": [
      "ice cream is OK.\n",
      "chocolate is my favorite dessert!\n",
      "apple crisp is OK.\n",
      "cookies is OK.\n"
     ]
    }
   ],
   "source": [
    "# A list of desserts I like.\n",
    "desserts = ['ice cream', 'chocolate', 'apple crisp', 'cookies']\n",
    "favorite_dessert = 'chocolate'\n",
    "\n",
    "# Print the desserts out, make a special statement about my favourite.\n",
    "for dessert in desserts:\n",
    "    if dessert == favorite_dessert:\n",
    "        # This dessert is my favorite\n",
    "        print(\"{} is my favorite dessert!\".format(dessert))\n",
    "    else:\n",
    "        # These desserts are not\n",
    "        print(\"{} is OK.\".format(dessert))"
   ]
  },
  {
   "cell_type": "markdown",
   "metadata": {},
   "source": [
    "[top](#top)"
   ]
  },
  {
   "cell_type": "markdown",
   "metadata": {},
   "source": [
    "<a name='logical tests'></a>Logical tests\n",
    "---"
   ]
  },
  {
   "cell_type": "markdown",
   "metadata": {},
   "source": [
    "Logical tests are the way to realize conditional parts in the program. Every logical statement evaluates to **True** or **False** (also Python keywords). Use the following operators to test for"
   ]
  },
  {
   "cell_type": "markdown",
   "metadata": {},
   "source": [
    "* equality: ``` == ```\n",
    "* inequality: ``` != ```\n",
    "* greater than and less than: ``` > ``` and ``` < ```\n",
    "* greater or equal and less or equal: ``` >= ``` and ``` <= ```\n",
    "* existence of an item in a container: ``` in ```"
   ]
  },
  {
   "cell_type": "markdown",
   "metadata": {},
   "source": [
    "##### Examples"
   ]
  },
  {
   "cell_type": "code",
   "execution_count": 3,
   "metadata": {
    "collapsed": true
   },
   "outputs": [
    {
     "data": {
      "text/plain": [
       "True"
      ]
     },
     "execution_count": 3,
     "metadata": {},
     "output_type": "execute_result"
    }
   ],
   "source": [
    "3 == 3"
   ]
  },
  {
   "cell_type": "code",
   "execution_count": 5,
   "metadata": {
    "collapsed": true
   },
   "outputs": [
    {
     "data": {
      "text/plain": [
       "False"
      ]
     },
     "execution_count": 5,
     "metadata": {},
     "output_type": "execute_result"
    }
   ],
   "source": [
    "5 == 3"
   ]
  },
  {
   "cell_type": "code",
   "execution_count": 6,
   "metadata": {
    "collapsed": true
   },
   "outputs": [
    {
     "data": {
      "text/plain": [
       "True"
      ]
     },
     "execution_count": 6,
     "metadata": {},
     "output_type": "execute_result"
    }
   ],
   "source": [
    "5 > 3"
   ]
  },
  {
   "cell_type": "code",
   "execution_count": 13,
   "metadata": {
    "collapsed": true
   },
   "outputs": [
    {
     "data": {
      "text/plain": [
       "True"
      ]
     },
     "execution_count": 13,
     "metadata": {},
     "output_type": "execute_result"
    }
   ],
   "source": [
    "3 >= 3.0"
   ]
  },
  {
   "cell_type": "code",
   "execution_count": 24,
   "metadata": {
    "collapsed": true
   },
   "outputs": [
    {
     "data": {
      "text/plain": [
       "True"
      ]
     },
     "execution_count": 24,
     "metadata": {},
     "output_type": "execute_result"
    }
   ],
   "source": [
    "vowels = ['a', 'e', 'i', 'o', 'u']\n",
    "'e' in vowels"
   ]
  },
  {
   "cell_type": "markdown",
   "metadata": {},
   "source": [
    "[top](#top)"
   ]
  },
  {
   "cell_type": "markdown",
   "metadata": {},
   "source": [
    "<a name='truth functions'></a>Truth functions\n",
    "---"
   ]
  },
  {
   "cell_type": "markdown",
   "metadata": {},
   "source": [
    "Truth functions are functions that accept truth values as inputs and produce truth values as output. In programming we use them to connect several logical tests."
   ]
  },
  {
   "cell_type": "markdown",
   "metadata": {},
   "source": [
    "##### The negation \"not\""
   ]
  },
  {
   "cell_type": "markdown",
   "metadata": {},
   "source": [
    "**not** negates the statement of the logical test:"
   ]
  },
  {
   "cell_type": "code",
   "execution_count": 32,
   "metadata": {
    "collapsed": true
   },
   "outputs": [
    {
     "data": {
      "text/plain": [
       "False"
      ]
     },
     "execution_count": 32,
     "metadata": {},
     "output_type": "execute_result"
    }
   ],
   "source": [
    "not 5 == 5"
   ]
  },
  {
   "cell_type": "code",
   "execution_count": 33,
   "metadata": {
    "collapsed": true
   },
   "outputs": [
    {
     "data": {
      "text/plain": [
       "True"
      ]
     },
     "execution_count": 33,
     "metadata": {},
     "output_type": "execute_result"
    }
   ],
   "source": [
    "not 5 == 6"
   ]
  },
  {
   "cell_type": "markdown",
   "metadata": {},
   "source": [
    "##### The logical \"and\""
   ]
  },
  {
   "cell_type": "markdown",
   "metadata": {},
   "source": [
    "**and** returns **True** if and only if every one of the logical tests involved returns **True**:"
   ]
  },
  {
   "cell_type": "code",
   "execution_count": 26,
   "metadata": {
    "collapsed": true
   },
   "outputs": [
    {
     "data": {
      "text/plain": [
       "True"
      ]
     },
     "execution_count": 26,
     "metadata": {},
     "output_type": "execute_result"
    }
   ],
   "source": [
    "5 == 5 and 3 < 5 and 6 >= 4 and 'a' in ['a','b','c']"
   ]
  },
  {
   "cell_type": "code",
   "execution_count": 27,
   "metadata": {
    "collapsed": true
   },
   "outputs": [
    {
     "data": {
      "text/plain": [
       "False"
      ]
     },
     "execution_count": 27,
     "metadata": {},
     "output_type": "execute_result"
    }
   ],
   "source": [
    "5 != 5 and 3 < 5 and 6 >= 4 and 'a' in ['a','b','c']"
   ]
  },
  {
   "cell_type": "markdown",
   "metadata": {},
   "source": [
    "##### The logical \"or\""
   ]
  },
  {
   "cell_type": "markdown",
   "metadata": {},
   "source": [
    "**or** returns **True** if _one_ of the logical tests involved returns **True**:"
   ]
  },
  {
   "cell_type": "code",
   "execution_count": 30,
   "metadata": {
    "collapsed": true
   },
   "outputs": [
    {
     "data": {
      "text/plain": [
       "True"
      ]
     },
     "execution_count": 30,
     "metadata": {},
     "output_type": "execute_result"
    }
   ],
   "source": [
    "5 != 5 or 3 < 5 or 6 >= 4 or 'a' in ['a','b','c']"
   ]
  },
  {
   "cell_type": "code",
   "execution_count": 34,
   "metadata": {
    "collapsed": true
   },
   "outputs": [
    {
     "data": {
      "text/plain": [
       "False"
      ]
     },
     "execution_count": 34,
     "metadata": {},
     "output_type": "execute_result"
    }
   ],
   "source": [
    "5 != 5 or 3 > 5 or 6 <= 4 or 'a' not in ['a','b','c']"
   ]
  },
  {
   "cell_type": "markdown",
   "metadata": {},
   "source": [
    "##### Paranthesis in logical tests"
   ]
  },
  {
   "cell_type": "markdown",
   "metadata": {},
   "source": [
    "By using paranthesis, we can make increasingly complicated statements.\n",
    "Paranthesis change the order in which logical test are evaluated. Avoid to write overly complicated logic and split large tests into several smaller ones."
   ]
  },
  {
   "cell_type": "code",
   "execution_count": 35,
   "metadata": {
    "collapsed": true
   },
   "outputs": [
    {
     "data": {
      "text/plain": [
       "False"
      ]
     },
     "execution_count": 35,
     "metadata": {},
     "output_type": "execute_result"
    }
   ],
   "source": [
    "(5 != 5 or 3 < 5) and 'c' not in ['a', 'b'] and (False or 4 >= 6)"
   ]
  },
  {
   "cell_type": "markdown",
   "metadata": {},
   "source": [
    "[top](#top)"
   ]
  },
  {
   "cell_type": "markdown",
   "metadata": {},
   "source": [
    "<a name='if'></a>If statements\n",
    "---"
   ]
  },
  {
   "cell_type": "markdown",
   "metadata": {},
   "source": [
    "The simplest **if** statement has a single logical test and a single action to execute if the test returns **True**:"
   ]
  },
  {
   "cell_type": "code",
   "execution_count": 16,
   "metadata": {
    "collapsed": true
   },
   "outputs": [
    {
     "name": "stdout",
     "output_type": "stream",
     "text": [
      "file 2017-04-03.txt found!\n"
     ]
    }
   ],
   "source": [
    "# searching for a file\n",
    "filenames = ['2017-03-15.csv', '2017-04-03.txt', '2017-05-01.txt']\n",
    "file = '2017-04-03.txt'\n",
    "if file in filenames:\n",
    "    print('file {} found!'.format(file))"
   ]
  },
  {
   "cell_type": "markdown",
   "metadata": {},
   "source": [
    "<a name='if-else'></a>If-else statements\n",
    "---"
   ]
  },
  {
   "cell_type": "markdown",
   "metadata": {},
   "source": [
    "If the condition doesn't return **True**, you might want to do something else. That's what **if**-**else** statements are for:"
   ]
  },
  {
   "cell_type": "code",
   "execution_count": 19,
   "metadata": {
    "collapsed": true
   },
   "outputs": [
    {
     "name": "stdout",
     "output_type": "stream",
     "text": [
      "file 2017-01-21.txt not found, created a new one!\n"
     ]
    }
   ],
   "source": [
    "# searching for a file\n",
    "file = '2017-01-21.txt'\n",
    "if file in filenames:\n",
    "    print('file {} found!'.format())\n",
    "# creating a new one if file is not found\n",
    "else:\n",
    "    !touch {file}\n",
    "    print('file {} not found, created a new one!'.format(file))\n",
    "# NOTE: curly braces are used to pass python variables to the \n",
    "# command line"
   ]
  },
  {
   "cell_type": "code",
   "execution_count": 21,
   "metadata": {
    "collapsed": true
   },
   "outputs": [
    {
     "name": "stdout",
     "output_type": "stream",
     "text": [
      "[0.0, 0.5, 1.0, 1.5, 2.0, 10, 12, 14, 16, 18]\n"
     ]
    }
   ],
   "source": [
    "# creating a list\n",
    "new_list = []\n",
    "\n",
    "for number in range(10):\n",
    "    # if the current number is smaller than 5, divide by 2\n",
    "    if number < 5:\n",
    "        new_list.append(number/2)\n",
    "    # if the current number is larger or equal than 5, multiply by 2\n",
    "    else:\n",
    "        new_list.append(number*2)\n",
    "        \n",
    "print(new_list)"
   ]
  },
  {
   "cell_type": "markdown",
   "metadata": {},
   "source": [
    "[top](#top)"
   ]
  },
  {
   "cell_type": "markdown",
   "metadata": {},
   "source": [
    "<a name='if-elif-else'></a>The if-elif-else chain\n",
    "---"
   ]
  },
  {
   "cell_type": "markdown",
   "metadata": {},
   "source": [
    "You can stack as many conditions as you like. The chain alsways starts with one **if**, followed by the **elif** keyword and finished with the **else** keyword:"
   ]
  },
  {
   "cell_type": "code",
   "execution_count": 40,
   "metadata": {
    "collapsed": true
   },
   "outputs": [
    {
     "name": "stdout",
     "output_type": "stream",
     "text": [
      "It's monday. I hate my life.\n",
      "It's tuesday. I hate my life.\n",
      "It's wednesday. I am hopeful\n",
      "It's thursday. I am happy.\n",
      "It's friday. I am happy.\n"
     ]
    }
   ],
   "source": [
    "weekdays = ['monday', 'tuesday', 'wednesday', 'thursday', 'friday']\n",
    "for day in weekdays:\n",
    "    if day == 'monday' or day == 'tuesday':\n",
    "        print(\"It's {}. I am sad.\".format(day))\n",
    "    elif day == 'wednesday':\n",
    "        print(\"It's {}. I am hopeful\".format(day))\n",
    "    elif day == 'thursday' or day == 'friday':\n",
    "        print(\"It's {}. I am happy.\".format(day))\n",
    "    # the 'else' part is actually never reached in this example\n",
    "    else:\n",
    "        print('Huh... its probably weekend')"
   ]
  },
  {
   "cell_type": "markdown",
   "metadata": {},
   "source": [
    "Long **elif** chains can sometimes be realized more elegantly using dictionaries:"
   ]
  },
  {
   "cell_type": "code",
   "execution_count": 44,
   "metadata": {
    "collapsed": true
   },
   "outputs": [
    {
     "name": "stdout",
     "output_type": "stream",
     "text": [
      "It's monday. I am sad.\n",
      "It's tuesday. I am sad.\n",
      "It's wednesday. I am hopeful.\n",
      "It's thursday. I am happy.\n",
      "It's friday. I am happy.\n"
     ]
    }
   ],
   "source": [
    "weekday_feelings = {'monday': \"It's {}. I am sad.\",\n",
    "                    'tuesday': \"It's {}. I am sad.\",\n",
    "                    'wednesday': \"It's {}. I am hopeful.\",\n",
    "                    'thursday': \"It's {}. I am happy.\",\n",
    "                    'friday': \"It's {}. I am happy.\"}\n",
    "for day in weekdays:\n",
    "    print(weekday_feelings[day].format(day))"
   ]
  },
  {
   "cell_type": "markdown",
   "metadata": {},
   "source": [
    "[top](#top)"
   ]
  },
  {
   "cell_type": "markdown",
   "metadata": {},
   "source": [
    "<a name='for loops'></a>For loops\n",
    "---"
   ]
  },
  {
   "cell_type": "markdown",
   "metadata": {},
   "source": [
    "* The **for** loop structure is the most widely used iteration mechanism in Python. \n",
    "* For loops iterate over containers like lists, tuples, dictionaries or even strings. \n",
    "* Almost everything in Python can be iterated over by a **for** loop."
   ]
  },
  {
   "cell_type": "markdown",
   "metadata": {},
   "source": [
    "We already have seen plenty of **for** loops, here is another one: "
   ]
  },
  {
   "cell_type": "code",
   "execution_count": 50,
   "metadata": {
    "collapsed": true
   },
   "outputs": [
    {
     "name": "stdout",
     "output_type": "stream",
     "text": [
      "{'happy', 'hopeful', 'sad'}\n"
     ]
    }
   ],
   "source": [
    "# extract the feelings from the statements about the weekdays\n",
    "pure_feelings = []\n",
    "\n",
    "# iterate over all the statements\n",
    "for feeling in weekday_feelings.values():\n",
    "    # the feeling always comes after the 'I am' string\n",
    "    feeling = feeling.split('I am ')[1]\n",
    "    # strip away the trailing dot\n",
    "    feeling = feeling.strip('.')\n",
    "    # add the feeling to the list of pure feelings\n",
    "    pure_feelings.append(feeling)\n",
    "\n",
    "# keep only unique feelings by turning the list into a set\n",
    "pure_feelings = set(pure_feelings)\n",
    "\n",
    "print(pure_feelings)"
   ]
  },
  {
   "cell_type": "markdown",
   "metadata": {},
   "source": [
    "[top](#top)"
   ]
  },
  {
   "cell_type": "markdown",
   "metadata": {},
   "source": [
    "<a name='while loops'></a>While loops\n",
    "---"
   ]
  },
  {
   "cell_type": "markdown",
   "metadata": {},
   "source": [
    "* **while** loops test an initial condition\n",
    "* the condition is re-evaluated for every iteration of the loop\n",
    "* once the condition is not **True** anymore, the loop stops after finishing its currently running iteration\n",
    "* if a **while** loop does not include code to change its condition to **false** at some point, it will runn indefinitely!"
   ]
  },
  {
   "cell_type": "markdown",
   "metadata": {},
   "source": [
    "##### Numerical example"
   ]
  },
  {
   "cell_type": "code",
   "execution_count": 53,
   "metadata": {
    "collapsed": true
   },
   "outputs": [
    {
     "name": "stdout",
     "output_type": "stream",
     "text": [
      "You are still playing, because your life is 5.\n",
      "You are still playing, because your life is 4.\n",
      "You are still playing, because your life is 3.\n",
      "You are still playing, because your life is 2.\n",
      "You are still playing, because your life is 1.\n",
      "\n",
      "Your power dropped to 0! Game Over.\n"
     ]
    }
   ],
   "source": [
    "# The player's life starts out at 5.\n",
    "life = 5\n",
    "\n",
    "# The player is allowed to keep playing as long as their life is over 0.\n",
    "while life > 0:\n",
    "    print(\"You are still playing, because your life is %d.\" % life)\n",
    "    # Your game code that makes the player loose life goes here.\n",
    "    # We just represent it by subtracting 1 from player life every iteration\n",
    "    life = life - 1\n",
    "    \n",
    "print(\"\\nYour power dropped to 0! Game Over.\")"
   ]
  },
  {
   "cell_type": "markdown",
   "metadata": {},
   "source": [
    "##### While True example"
   ]
  },
  {
   "cell_type": "markdown",
   "metadata": {},
   "source": [
    "A common construct for programs that require input from the user or other parts of the system (like GUI) are so called **flags**. They start out as **True** and later on some input changes them to **false**. The **while**-loop runs as long as the flag is **True**:"
   ]
  },
  {
   "cell_type": "code",
   "execution_count": 58,
   "metadata": {
    "collapsed": true
   },
   "outputs": [
    {
     "name": "stdout",
     "output_type": "stream",
     "text": [
      "game is running\n"
     ]
    }
   ],
   "source": [
    "# The flag holds a truth value\n",
    "game_active = True\n",
    "\n",
    "# The while loop runs as long as the flag is True\n",
    "while game_active:\n",
    "    # Run the game.\n",
    "    # When the game ends, game_active will be set to False\n",
    "    game_active = False\n",
    "    print('game is running')\n",
    "    # At this point, the while loop will stop and the code below it\n",
    "    # Will be executed.\n",
    "    \n",
    "# NOTE: the mesage is still printed once as the condition is only \n",
    "# evaluated at the beginning of the while loop"
   ]
  },
  {
   "cell_type": "markdown",
   "metadata": {},
   "source": [
    "[top](#top)"
   ]
  },
  {
   "cell_type": "markdown",
   "metadata": {},
   "source": [
    "<a name='exercise05'></a>Exercise 05: Control Structures\n",
    "==="
   ]
  },
  {
   "cell_type": "markdown",
   "metadata": {},
   "source": [
    "0. **Git**\n",
    "  1. Switch to the working branch for today\n",
    "  2. Create a new document for the exercise and add it to the branche's index.\n",
    "1. **Logical tests and truth functions**\n",
    "  1. Write a program that evaluates the long logical test from \"paranthesis in logical tests\" in smaller chunks and prints the results.\n",
    "2. **If, elif and else**\n",
    "  1. Create a list with the numbers from 0 to 20.\n",
    "  2. Write a programm that iterates over the list and finds\n",
    "    * all even numbers and prints them\n",
    "    * all prime numbers and prints them\n",
    "    * has a special case for zero\n",
    "3. **While loops**\n",
    "  1. Set up a while loop that divides a number X by another number Y for every iteration.\n",
    "  2. Set a condition that stops the while loop if X is smaller than a certain cutoff value (this coud for example be understood as an error tolerance).\n",
    "  3. Print a message containing the current value of X in every iteration.\n",
    "4. **Git**\n",
    "  1. Commit the document with the exercises to the current working branch with a meaningful commit message."
   ]
  },
  {
   "cell_type": "markdown",
   "metadata": {},
   "source": [
    "[top](#top)"
   ]
  },
  {
   "cell_type": "markdown",
   "metadata": {
    "collapsed": true
   },
   "source": [
    "[Kudos to **Aron Ahmadia** (US Army ERDC) and **David Ketcheson** (KAUST) from whom I copied shamelessly]"
   ]
  }
 ],
 "metadata": {
  "kernelspec": {
   "display_name": "Python 3",
   "language": "python",
   "name": "python3"
  },
  "language_info": {
   "codemirror_mode": {
    "name": "ipython",
    "version": 3
   },
   "file_extension": ".py",
   "mimetype": "text/x-python",
   "name": "python",
   "nbconvert_exporter": "python",
   "pygments_lexer": "ipython3",
   "version": "3.5.2"
  }
 },
 "nbformat": 4,
 "nbformat_minor": 1
}
