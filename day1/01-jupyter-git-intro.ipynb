{
 "cells": [
  {
   "cell_type": "markdown",
   "metadata": {},
   "source": [
    "[Kudos to **Aron Ahmadia** (US Army ERDC) and **David Ketcheson** (KAUST) from whom I copied shamelessly]"
   ]
  },
  {
   "cell_type": "markdown",
   "metadata": {
    "collapsed": true
   },
   "source": [
    "# Outline"
   ]
  },
  {
   "cell_type": "markdown",
   "metadata": {},
   "source": [
    "1. Jupyter notebooks\n",
    "  * Intro\n",
    "  * What is a notebook?\n",
    "  * Navigation & keyboard shortcuts\n",
    "  * Markdown\n",
    "2. Git \n",
    "3. Exercises"
   ]
  },
  {
   "cell_type": "markdown",
   "metadata": {},
   "source": [
    "\n",
    "# Jupyter"
   ]
  },
  {
   "cell_type": "markdown",
   "metadata": {},
   "source": [
    "### What is jupyter?"
   ]
  },
  {
   "cell_type": "markdown",
   "metadata": {},
   "source": [
    "We will use jupyter for the rest of the course to\n",
    "1. Teach you new concepts by presenting a jupyter-notebook file with code snippets in a short talk.\n",
    "2. Give you exercises for every new concept to play around with (coding is learning by doing first and foremost!).\n",
    "3. Give you access to the teaching-notebook so you can extend existing code snippets directly.\n",
    "\n",
    "Jupyter is\n",
    "\n",
    "* an editor where we can write and structure text to describe what we do\n",
    "* an interpreter where we can write code and execute it  \n",
    "\n",
    "Different functionalities require different _cells_:  \n",
    "* markdown cells for text\n",
    "* code cells for code \n",
    "\n",
    "*Markdown* is a simple way to structure text (make it look nicer) using a couple of symbols"
   ]
  },
  {
   "cell_type": "markdown",
   "metadata": {},
   "source": [
    "### The notebook itself\n",
    "\n",
    "* Notebooks are HTML code\n",
    "* files are named .ipynb and reside in the _dashboard_ (where you can also create new files)\n",
    "* notebooks are shown/run in a browser like firefox, chromium or edge\n",
    "* the code is executed by a kernel (in our case python, but can be other languages too)"
   ]
  },
  {
   "cell_type": "markdown",
   "metadata": {},
   "source": [
    "### Modal editor"
   ]
  },
  {
   "cell_type": "markdown",
   "metadata": {},
   "source": [
    "Jupyter notebook has a modal user interface. This means that the keyboard does different things depending on which mode the Notebook is in. There are two modes: edit mode and command mode."
   ]
  },
  {
   "cell_type": "markdown",
   "metadata": {},
   "source": [
    "**Edit mode** is indicated by a green and **Command mode** by a grey cell border:"
   ]
  },
  {
   "cell_type": "code",
   "execution_count": null,
   "metadata": {
    "collapsed": true
   },
   "outputs": [],
   "source": []
  },
  {
   "cell_type": "markdown",
   "metadata": {},
   "source": [
    "When a cell is in edit mode, you can type into the cell, like a normal text editor.  \n",
    "\n",
    "When you are in command mode, you are able to edit the notebook as a whole, but not type into individual cells. Most importantly, in command mode, the keyboard is mapped to a set of shortcuts that let you perform notebook and cell actions efficiently. For example, if you are in command mode and you press `c`, you will copy the current cell and paste it by pressing `v` - no modifier is needed."
   ]
  },
  {
   "cell_type": "markdown",
   "metadata": {},
   "source": [
    "<div class=\"alert alert-success\" style=\"margin: 10px\">\n",
    "Enter edit mode by pressing `enter` or using the mouse to click *inside* a cell's editor area.\n",
    "</div>"
   ]
  },
  {
   "cell_type": "markdown",
   "metadata": {},
   "source": [
    "<div class=\"alert alert-success\" style=\"margin: 10px\">\n",
    "Enter command mode by pressing `esc` or using the mouse to click *outside* a cell's editor area.\n",
    "</div>"
   ]
  },
  {
   "cell_type": "markdown",
   "metadata": {},
   "source": [
    "### Navigation"
   ]
  },
  {
   "cell_type": "markdown",
   "metadata": {},
   "source": [
    "**Mouse navigation:** All navigation and actions in the Notebook are available using the mouse through the menubar and toolbar, which are both above the main Notebook area.  \n",
    "\n",
    "**Keyboard navigation:** In edit mode, most of the keyboard is dedicated to typing into the cell's editor. In command mode, the entire keyboard is available for shortcuts."
   ]
  },
  {
   "cell_type": "markdown",
   "metadata": {},
   "source": [
    "### Keyboard shortcuts (edit mode):"
   ]
  },
  {
   "cell_type": "markdown",
   "metadata": {},
   "source": [
    "In edit mode, keyboard shortcuts are similar to text editors like word, gedit etc. Examples:\n",
    "* `ctrl-c` to copy\n",
    "* `ctrl-v` to paste\n",
    "* `tab` for text-completion.\n"
   ]
  },
  {
   "cell_type": "markdown",
   "metadata": {},
   "source": [
    "### Keyboard shortcuts (command mode):"
   ]
  },
  {
   "cell_type": "markdown",
   "metadata": {},
   "source": [
    "Most important:\n",
    "* `enter` enters edit mode\n",
    "* `esc` enters command mode\n",
    "* `h` calls the help menu\n",
    "---\n",
    "Basic navigation:\n",
    "* `up/down` select cell above/below\n",
    "* `shift-enter` execute cell and select below\n",
    "* `alt-enter` execute cell and insert new cell below\n",
    "---\n",
    "Cell types:\n",
    "* `y` to code\n",
    "* `m` to markdown\n",
    "---\n",
    "Cell editing:\n",
    "* `d-d` delete cell\n",
    "* `c` copy cell\n",
    "* `x` cut cell\n",
    "* `v` paste cell\n",
    "* `shift-up/down` to select multiple cells"
   ]
  },
  {
   "cell_type": "markdown",
   "metadata": {},
   "source": [
    "## Markdown "
   ]
  },
  {
   "cell_type": "markdown",
   "metadata": {},
   "source": [
    "##### Text formatting"
   ]
  },
  {
   "cell_type": "markdown",
   "metadata": {},
   "source": [
    "You can make text _italic_ or **bold** or `monospace`"
   ]
  },
  {
   "cell_type": "markdown",
   "metadata": {},
   "source": [
    "---\n",
    "# You\n",
    "## can\n",
    "### make\n",
    "#### headings"
   ]
  },
  {
   "cell_type": "markdown",
   "metadata": {},
   "source": [
    "---\n",
    "Courtesy of MathJax, you can beautifully render mathematical expressions, both inline: \n",
    "$e^{i\\pi} + 1 = 0$, and displayed:\n",
    "\n",
    "$$e^x=\\sum_{i=0}^\\infty \\frac{1}{i!}x^i$$"
   ]
  },
  {
   "cell_type": "markdown",
   "metadata": {},
   "source": [
    "##### Lists\n",
    "Itemized list\n",
    "* One\n",
    "  - sublist\n",
    "    - subsublist\n",
    "* Two\n",
    "  - sublist\n",
    "* Three\n",
    "  - sublist\n",
    "    - subsublist\n",
    "      - subsubsublist"
   ]
  },
  {
   "cell_type": "markdown",
   "metadata": {},
   "source": [
    "---\n",
    "Enumerated list\n",
    "1. First\n",
    "  1. sublist\n",
    "  2. sublist\n",
    "2. Second"
   ]
  },
  {
   "cell_type": "markdown",
   "metadata": {},
   "source": [
    "##### Code\n",
    "This is a code snippet:    \n",
    "    \n",
    "```Python\n",
    "def f(x):\n",
    "    \"\"\"a docstring\"\"\"\n",
    "    return x**2\n",
    "```\n",
    "  "
   ]
  },
  {
   "cell_type": "markdown",
   "metadata": {},
   "source": [
    "##### Tables\n",
    "Time (s) | Audience Interest\n",
    "---------|------------------\n",
    " 0       | High\n",
    " 1       | Medium\n",
    " 3       | Food"
   ]
  },
  {
   "cell_type": "markdown",
   "metadata": {},
   "source": [
    "##### Command line"
   ]
  },
  {
   "cell_type": "code",
   "execution_count": 5,
   "metadata": {
    "collapsed": false
   },
   "outputs": [
    {
     "name": "stdout",
     "output_type": "stream",
     "text": [
      "01-jupyter-python-intro.ipynb\t    03-control-structures.ipynb\r\n",
      "02-data-types-and-containers.ipynb  04-input-output-and-libraries.ipynb\r\n"
     ]
    }
   ],
   "source": [
    "!ls"
   ]
  },
  {
   "cell_type": "markdown",
   "metadata": {},
   "source": [
    "# Git\n",
    "### What is Git?\n",
    "* Git is a software for distributed version control of files.\n",
    "* Git is open source and free\n",
    "* We will run Git using the command line (not the GUI)"
   ]
  },
  {
   "cell_type": "markdown",
   "metadata": {},
   "source": [
    "### What can you do with Git?\n",
    "* version control\n",
    "* remote repositories\n",
    "* sharing work online via GitHub and GitLab\n",
    "* working in teams\n",
    "\n",
    "Git is way to large and complicated to even begin to teach here. We will introduce you to a few basic here and then add new ones as we go along."
   ]
  },
  {
   "cell_type": "markdown",
   "metadata": {},
   "source": [
    "### A workflow in Git"
   ]
  },
  {
   "cell_type": "markdown",
   "metadata": {},
   "source": [
    "* create a new directory for this course and switch to it\n",
    "* to create a new and empty git repository, type  \n",
    "``` git init \n",
    "```  \n",
    "* check the status of the repository using  \n",
    "``` git status \n",
    "```  \n",
    "* create a new file\n",
    "* check git's status\n",
    "* track the new file in the git repository using  \n",
    "```git add file\n",
    "```  \n",
    "* check git's status\n"
   ]
  },
  {
   "cell_type": "markdown",
   "metadata": {},
   "source": [
    "# Exercises\n",
    "A word on exercises: If you are stuck\n",
    "1. google your problem, if you can't find an answer within 2-3 min proceed to\n",
    "2. ask your neighbor, if she already is annoyed with you proceed to\n",
    "3. ask the teachers"
   ]
  },
  {
   "cell_type": "markdown",
   "metadata": {},
   "source": [
    "1. **The Dashboard**\n",
    "  - Create a new notebook\n",
    "  - give the notebook a meaningful name\n",
    "  - give the notebook a structure for the exercises using new cells and headings  \n",
    "2. **Keyboard shortcuts** \n",
    "  - learn 3-4 useful keyboard shortcuts and use them wherever possible\n",
    "  - make a table with your favourite keyboard shortcuts\n",
    "  - find three more useful shortcuts for jupyter notebook  \n",
    "3. **Markdown**\n",
    "  - practice text formatting\n",
    "  - lists\n",
    "  - LaTeX    \n",
    "4. **Command line**\n",
    "  - experiment with command line commands\n",
    "  - find out how to display an image in jupyter notebook using the command line\n",
    "5. **Git**\n",
    "  - Create a folder for this course\n",
    "  - Initialize a Git repository in the folder\n",
    "  - Move the notebook you use to work on the exercises into the new repo\n",
    "  - track and commit the notebook to the repo\n",
    "  - make a change in the notebook and undo it using Git"
   ]
  },
  {
   "cell_type": "code",
   "execution_count": null,
   "metadata": {
    "collapsed": true
   },
   "outputs": [],
   "source": []
  }
 ],
 "metadata": {
  "kernelspec": {
   "display_name": "Python 3",
   "language": "python",
   "name": "python3"
  },
  "language_info": {
   "codemirror_mode": {
    "name": "ipython",
    "version": 3
   },
   "file_extension": ".py",
   "mimetype": "text/x-python",
   "name": "python",
   "nbconvert_exporter": "python",
   "pygments_lexer": "ipython3",
   "version": "3.5.2"
  }
 },
 "nbformat": 4,
 "nbformat_minor": 0
}
