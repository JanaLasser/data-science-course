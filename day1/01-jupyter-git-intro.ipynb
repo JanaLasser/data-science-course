{
 "cells": [
  {
   "cell_type": "markdown",
   "metadata": {},
   "source": [
    "[Kudos to **Aron Ahmadia** (US Army ERDC) and **David Ketcheson** (KAUST) from whom I copied shamelessly]"
   ]
  },
  {
   "cell_type": "markdown",
   "metadata": {},
   "source": [
    "[Day 1 morning **_\"the tools we use\"_**]"
   ]
  },
  {
   "cell_type": "markdown",
   "metadata": {},
   "source": [
    "# Course philosophy"
   ]
  },
  {
   "cell_type": "markdown",
   "metadata": {},
   "source": [
    "What is data-science?\n",
    "* hopefully involves data (lots of it)\n",
    "* and a scientific approach that is\n",
    "  - reproducible\n",
    "  - transparent\n",
    "  - _open_\n",
    "  - scaleable"
   ]
  },
  {
   "cell_type": "markdown",
   "metadata": {},
   "source": [
    "When working with lots of data you will \n",
    "* spend 90% of your time compiling and cleaning your data and figuring out which tools you should use to do so\n",
    "* spend 9% of your time complaining about how long it takes you to manage your data\n",
    "* spend 1% of your time to do the actual analysis"
   ]
  },
  {
   "cell_type": "markdown",
   "metadata": {},
   "source": [
    "Therefore the course will\n",
    "* commit lots of time to teach you how to use _tools_ to deal with data\n",
    "* involve lots of hands on exercises (about 2/3 of the time!)\n",
    "* follow a completely open and transparent approach"
   ]
  },
  {
   "cell_type": "markdown",
   "metadata": {},
   "source": [
    "# Jupyter and Git"
   ]
  },
  {
   "cell_type": "markdown",
   "metadata": {
    "collapsed": true
   },
   "source": [
    "<a name=\"top\"></a>Outline\n",
    "---"
   ]
  },
  {
   "cell_type": "markdown",
   "metadata": {},
   "source": [
    "* [Version control with Git](#git)\n",
    "  * [Introduction to Git](#git intro)\n",
    "  * [The local repository](#local repo)\n",
    "  * [The remote repository](#remote repo)\n",
    "  * [Committing files](#workflow)\n",
    "  * [Branches](#branches)\n",
    "* [Exercise 01: Git](#exercise01)\n",
    "* [Jupyter notebooks](#jupyter)\n",
    "  * [Introduction to Jupyter](#jupyter intro)\n",
    "  * [Modal editor](#editor)\n",
    "  * [Navigation & keyboard shortcuts](#navigation)\n",
    "  * [Markdown](#markdown)\n",
    "* [Exercise 02: Jupyter](#exercise02)"
   ]
  },
  {
   "cell_type": "markdown",
   "metadata": {},
   "source": [
    "**Learning goals:** By the end or this lecture you will\n",
    "* have access to a version controlled, local copy of the course material,\n",
    "* your _own_ remote repository to store exercises or data,\n",
    "* know how to write jupyter notebooks and\n",
    "* know how to write and execute code."
   ]
  },
  {
   "cell_type": "markdown",
   "metadata": {},
   "source": [
    "<a name='git intro'></a>Introduction to Git\n",
    "---"
   ]
  },
  {
   "cell_type": "markdown",
   "metadata": {},
   "source": [
    "### What is Git?\n",
    "* Git is a software for distributed version control of files.\n",
    "* Git is the most widespread tool to work with code collaboratively.\n",
    "* Git is open source and free.\n",
    "* It is a command line based tool (alltough there are GUIs for it).  \n",
    "\n",
    "Git has three data structures: \n",
    "* an **index** that caches information about the \n",
    "* **working directory** and the next version to be committed; \n",
    "* and an immutable, append-only **object database**.  \n",
    "\n",
    "The last entry in this object database is called **HEAD** and is a snapshot of the most recent commit."
   ]
  },
  {
   "cell_type": "markdown",
   "metadata": {},
   "source": [
    "![trees](http://rogerdudler.github.io/git-guide/img/trees.png)"
   ]
  },
  {
   "cell_type": "markdown",
   "metadata": {},
   "source": [
    "The object database contains four types of objects:\n",
    "* A blob (binary large object) is the content of a file. Blobs have no proper file name, time stamps, or other metadata - a blob's name internally is a hash of its content.\n",
    "* A tree object is the equivalent of a directory. It contains a list of file names, each with a type and a reference to a blob or tree object that is that file or directory's contents. These objects are a snapshot of the source tree. \n",
    "* A commit object links tree objects together into a history. It contains the name of a tree object (of the top-level source directory), a time stamp, a log message, and the names of zero or more parent commit objects.\n",
    "* A tag object that can be used to tag specific releases of the repository (more on that maybe later)."
   ]
  },
  {
   "cell_type": "markdown",
   "metadata": {},
   "source": [
    "### What can you do with Git?\n",
    "* local version control (rolling back to earlier versions, recovering deleted files etc.)\n",
    "* remote backup of your work\n",
    "* collaborative work online via GitHub and GitLab\n",
    "* making your code accessible to others\n",
    "* publishing of code  \n",
    "\n",
    "Git is way to large and powerful to even begin to teach it comprehensively here. We will introduce you to a few basics and then add new functionality as we go along."
   ]
  },
  {
   "cell_type": "markdown",
   "metadata": {},
   "source": [
    "<a name='local repo'></a>The local repository (init, status, clone)\n",
    "--- "
   ]
  },
  {
   "cell_type": "markdown",
   "metadata": {},
   "source": [
    "**workflow**  \n",
    "* create a new directory for this course and switch to it\n",
    "* to create a new and empty git repository, type  \n",
    "``` \n",
    "git init \n",
    "```  \n",
    "* check the status of the repository using  \n",
    "``` \n",
    "git status \n",
    "```\n",
    "* create a working copy of a local repository  \n",
    "``` \n",
    "git clone /path/to/repository \n",
    "```   \n"
   ]
  },
  {
   "cell_type": "markdown",
   "metadata": {},
   "source": [
    "[top](#top)"
   ]
  },
  {
   "cell_type": "markdown",
   "metadata": {},
   "source": [
    "<a name='remote repo'></a>The remote repository (clone, pull, remote add)\n",
    "--- "
   ]
  },
  {
   "cell_type": "markdown",
   "metadata": {},
   "source": [
    "**workflow**\n",
    "* when using a remote server, you need to specify the server to clone the repository  \n",
    "```\n",
    "git clone <server>\n",
    "``` \n",
    "\n",
    "* in the case of this course, we created a repository at the server\n",
    "```\n",
    "git@gitlab.gwdg.de:pycnic/datascience-course-ggnb\n",
    "```\n",
    "* if you haven't cloned an existing remote repository, you can add your local one to the remote server via\n",
    "```\n",
    "git remote add origin <server>\n",
    "```\n",
    "* if you do that, don't forget to get your local version up to date with the remote repository\n",
    "```\n",
    "git pull origin master\n",
    "```\n",
    "\n",
    "HINT: use ```git remote``` to show the name of your remote repository"
   ]
  },
  {
   "cell_type": "markdown",
   "metadata": {},
   "source": [
    "[top](#top)"
   ]
  },
  {
   "cell_type": "markdown",
   "metadata": {},
   "source": [
    "<a name='workflow'></a> Committing files (add, commit, push)\n",
    "---"
   ]
  },
  {
   "cell_type": "markdown",
   "metadata": {},
   "source": [
    "1. propose changes for a single fill or all new files by adding them to the **Index**\n",
    "```\n",
    "git add <filename>  \n",
    "git add *\n",
    "```\n",
    "2. commit _all_ changes to the **object database**, make sure to add a meaningful comment to _every_ commit\n",
    "```\n",
    "git commit -m \"Commit message\"\n",
    "```\n",
    "4. changes are now in the **object database** of your local working copy and the **HEAD** points to your most recent commit. To send them to the remote repository\n",
    "```\n",
    "git push origin master\n",
    "```\n",
    "\n",
    "HINT: use ```git status``` to see which files are already staged in the **Index**."
   ]
  },
  {
   "cell_type": "markdown",
   "metadata": {},
   "source": [
    "[top](#top)"
   ]
  },
  {
   "cell_type": "markdown",
   "metadata": {},
   "source": [
    "<a name='branches'></a>Branches (checkout, branch)\n",
    "---"
   ]
  },
  {
   "cell_type": "markdown",
   "metadata": {},
   "source": [
    "* Branches are used to work on parts of the project isolated from the rest of the project.\n",
    "* This can be useful to keep the _new_ things that are probably not working away from the working main part of the body and still retain version control for them.\n",
    "* Once the part of the project is developed enough and working, its separate branch can be merged back into the main project branch (the ```master``` branch).\n",
    "* The ```master``` branch is the \"default\" and only branch when you create a repository.  \n",
    "\n",
    "![branching](http://rogerdudler.github.io/git-guide/img/branches.png)"
   ]
  },
  {
   "cell_type": "markdown",
   "metadata": {},
   "source": [
    "1. create a new branch named feature_x and switch to it\n",
    "```\n",
    "git checkout -b feature_x\n",
    "```\n",
    "2. switch back to the master branch\n",
    "```\n",
    "git checkout master\n",
    "```\n",
    "3. delete the branch again\n",
    "```\n",
    "git branch -d feature_x\n",
    "```\n",
    "4. OR push the branch to the remote repository so it is available to others\n",
    "```\n",
    "git push origin feature_x\n",
    "```\n",
    "5. OR merge the branch to your active branch (e.g. master)\n",
    "```\n",
    "git merge feature_x\n",
    "```\n",
    "\n",
    "HINT: ```git status``` also shows you, which branch is currently your _active_ branch"
   ]
  },
  {
   "cell_type": "markdown",
   "metadata": {},
   "source": [
    "[top](#top)"
   ]
  },
  {
   "cell_type": "markdown",
   "metadata": {},
   "source": [
    "<a name='exercise01'></a>Exercise 01: Git\n",
    "==="
   ]
  },
  {
   "cell_type": "markdown",
   "metadata": {},
   "source": [
    "**A word on exercises**  \n",
    "Our work as data-scientists and programmers involves a lot of searching for existing solutions online. Not knowing the command/keyboard shortcut/function by heart is not a shame at all - just look it up. There will be somebody that had exactly the same question in the past and got an answer for it - and we all look up stuff all the time! Therefore, if you are stuck\n",
    "1. google your problem (stackoverflow is your friend here!), if you can't find an answer within 2-3 min proceed to\n",
    "2. ask your neighbor, if she already is annoyed with you proceed to\n",
    "3. ask the teachers"
   ]
  },
  {
   "cell_type": "markdown",
   "metadata": {},
   "source": [
    "** No PC?**  \n",
    "If you have trouble with your python setup on your PC or you did not bring a PC: You can use JupyterHub, a remote server we set up for you that has all the necessary libraries installed already. To work on the JupyterHub:\n",
    "* go to https://134.76.24.148\n",
    "* log in using your GWDG user credentials (if you do NOT have GWDG user credentials, approach us!)\n",
    "* create a new jupyter-notebook server\n",
    "* you are now at your very own jupyter-notebook dashbord\n",
    "* by clicking new -> python 3 (upper right corner) you can create a new jupyter-notebook\n",
    "* by clicking new -> terminal you can open a terminal to run git in\n"
   ]
  },
  {
   "cell_type": "markdown",
   "metadata": {},
   "source": [
    "1. **Your own repository**\n",
    "  1. clone the remote repository we use for the course to create a _local_ repository\n",
    "  2. create your own _remote_ repository at https://gitlab.gwdg.de/users/sign_in using your GWDG user credentials\n",
    "  3. add the remote adress of your own _remote_ repository to your _local_ repository  \n",
    "  HINT: ```git remote add <name> <server>```   \n",
    "2. **A branch a day...**\n",
    "  1. create a new branch with the name of this exercise\n",
    "  2. make sure the new branch is your active branch\n",
    "3. **Basic workflow**\n",
    "  1. create a new file in the new branch\n",
    "  2. add the new file to the index\n",
    "  3. commit the new file with a meaningful commit message\n",
    "  4. merge the branch back to ```master```"
   ]
  },
  {
   "cell_type": "markdown",
   "metadata": {},
   "source": [
    "[top](#top)"
   ]
  },
  {
   "cell_type": "markdown",
   "metadata": {},
   "source": [
    "<a name='jupyter'></a>Jupyter\n",
    "==="
   ]
  },
  {
   "cell_type": "markdown",
   "metadata": {},
   "source": [
    "<a name='jupyter intro'></a>Jupyter introduction\n",
    "---"
   ]
  },
  {
   "cell_type": "markdown",
   "metadata": {},
   "source": [
    "##### What is jupyter?"
   ]
  },
  {
   "cell_type": "markdown",
   "metadata": {},
   "source": [
    "Jupyter is\n",
    "\n",
    "* an editor where we can write and structure text to describe what we do\n",
    "* an interpreter where we can write code, execute it and display graphics embedded in the document\n",
    "\n",
    "We will use Jupyter for the rest of the course to\n",
    "1. Teach you new concepts by presenting a jupyter-notebook file with code snippets in a short talk.\n",
    "2. Give you exercises for every new concept to play around with (coding is learning by doing first and foremost!).\n",
    "3. Give you access to the teaching-notebook so you can extend existing code snippets directly.\n",
    "\n",
    "Different functionalities require different _cells_:  \n",
    "* markdown cells for text\n",
    "* code cells for code \n",
    "\n",
    "*Markdown* is a simple way to structure text (make it look nicer) using a couple of symbols"
   ]
  },
  {
   "cell_type": "markdown",
   "metadata": {},
   "source": [
    "**this** is a _markdown_ cell"
   ]
  },
  {
   "cell_type": "code",
   "execution_count": 1,
   "metadata": {
    "collapsed": true
   },
   "outputs": [
    {
     "data": {
      "text/plain": [
       "30"
      ]
     },
     "execution_count": 1,
     "metadata": {},
     "output_type": "execute_result"
    }
   ],
   "source": [
    "#this is a code cell\n",
    "3 * 10"
   ]
  },
  {
   "cell_type": "markdown",
   "metadata": {},
   "source": [
    "##### The notebook document itself"
   ]
  },
  {
   "cell_type": "markdown",
   "metadata": {},
   "source": [
    "* Notebooks are HTML code.\n",
    "* Files are named .ipynb and reside in the _dashboard_ (click on the 'jupyter' icon in the upper left corner to get to the dashboard).\n",
    "* At the dashboard you can create new files and stop execution of running notebooks.\n",
    "* Notebooks are shown/run in a browser like firefox, chromium or edge.\n",
    "* The code is executed by a kernel (in our case python, but can be other languages too)."
   ]
  },
  {
   "cell_type": "markdown",
   "metadata": {},
   "source": [
    "[top](#top)"
   ]
  },
  {
   "cell_type": "markdown",
   "metadata": {},
   "source": [
    "<a name='editor'></a>Modal editor\n",
    "---"
   ]
  },
  {
   "cell_type": "markdown",
   "metadata": {},
   "source": [
    "Jupyter notebook has a modal user interface. This means that the keyboard does different things depending on which mode the Notebook is in. There are two modes: edit mode and command mode."
   ]
  },
  {
   "cell_type": "markdown",
   "metadata": {},
   "source": [
    "**Edit mode** is indicated by a green and **Command mode** by a grey cell border:"
   ]
  },
  {
   "cell_type": "code",
   "execution_count": null,
   "metadata": {
    "collapsed": true
   },
   "outputs": [],
   "source": []
  },
  {
   "cell_type": "markdown",
   "metadata": {},
   "source": [
    "When a cell is in edit mode, you can type into the cell, like a normal text editor.  \n",
    "\n",
    "When you are in command mode, you are able to edit the notebook as a whole, but not type into individual cells. Most importantly, in command mode, the keyboard is mapped to a set of shortcuts that let you perform notebook and cell actions efficiently. For example, if you are in command mode and you press `c`, you will copy the current cell and paste it by pressing `v` - no modifier is needed."
   ]
  },
  {
   "cell_type": "markdown",
   "metadata": {},
   "source": [
    "<div class=\"alert alert-success\" style=\"margin: 10px\">\n",
    "Enter edit mode by pressing `enter` or using the mouse to click *inside* a cell's editor area.\n",
    "</div>"
   ]
  },
  {
   "cell_type": "markdown",
   "metadata": {},
   "source": [
    "<div class=\"alert alert-success\" style=\"margin: 10px\">\n",
    "Enter command mode by pressing `esc` or using the mouse to click *outside* a cell's editor area.\n",
    "</div>"
   ]
  },
  {
   "cell_type": "markdown",
   "metadata": {},
   "source": [
    "[top](#top)"
   ]
  },
  {
   "cell_type": "markdown",
   "metadata": {},
   "source": [
    "<a name='navigation'></a>Navigation\n",
    "---"
   ]
  },
  {
   "cell_type": "markdown",
   "metadata": {},
   "source": [
    "**Mouse navigation:** All navigation and actions in the Notebook are available using the mouse through the menubar and toolbar, which are both above the main Notebook area.  \n",
    "\n",
    "**Keyboard navigation:** In edit mode, most of the keyboard is dedicated to typing into the cell's editor. In command mode, the entire keyboard is available for shortcuts."
   ]
  },
  {
   "cell_type": "markdown",
   "metadata": {},
   "source": [
    "##### Keyboard shortcuts (edit mode):"
   ]
  },
  {
   "cell_type": "markdown",
   "metadata": {},
   "source": [
    "In edit mode, keyboard shortcuts are similar to text editors like word, gedit etc. Examples:\n",
    "* `ctrl-c` to copy\n",
    "* `ctrl-v` to paste\n",
    "* `tab` for text-completion.\n"
   ]
  },
  {
   "cell_type": "markdown",
   "metadata": {},
   "source": [
    "##### Keyboard shortcuts (command mode):"
   ]
  },
  {
   "cell_type": "markdown",
   "metadata": {},
   "source": [
    "Most important:\n",
    "* `enter` enters edit mode\n",
    "* `esc` enters command mode\n",
    "* `h` calls the help menu\n",
    "---\n",
    "Basic navigation:\n",
    "* `up/down` select cell above/below\n",
    "* `shift-enter` execute cell and select below\n",
    "* `alt-enter` execute cell and insert new cell below\n",
    "---\n",
    "Cell types:\n",
    "* `y` to code\n",
    "* `m` to markdown\n",
    "---\n",
    "Cell editing:\n",
    "* `d-d` delete cell\n",
    "* `c` copy cell\n",
    "* `x` cut cell\n",
    "* `v` paste cell\n",
    "* `shift-up/down` to select multiple cells"
   ]
  },
  {
   "cell_type": "markdown",
   "metadata": {},
   "source": [
    "[top](#top)"
   ]
  },
  {
   "cell_type": "markdown",
   "metadata": {},
   "source": [
    "<a name='markdown'></a>Markdown\n",
    "---"
   ]
  },
  {
   "cell_type": "markdown",
   "metadata": {},
   "source": [
    "##### Text formatting"
   ]
  },
  {
   "cell_type": "markdown",
   "metadata": {},
   "source": [
    "You can make text _italic_ or **bold** or `monospace`"
   ]
  },
  {
   "cell_type": "markdown",
   "metadata": {},
   "source": [
    "---\n",
    "# You\n",
    "## can\n",
    "### make\n",
    "#### headings"
   ]
  },
  {
   "cell_type": "markdown",
   "metadata": {},
   "source": [
    "---\n",
    "Courtesy of MathJax, you can beautifully render mathematical expressions, both inline: \n",
    "$e^{i\\pi} + 1 = 0$, and displayed:\n",
    "\n",
    "$$e^x=\\sum_{i=0}^\\infty \\frac{1}{i!}x^i$$"
   ]
  },
  {
   "cell_type": "markdown",
   "metadata": {},
   "source": [
    "##### Lists\n",
    "Itemized list\n",
    "* One\n",
    "  - sublist\n",
    "    - subsublist\n",
    "* Two\n",
    "  - sublist\n",
    "* Three\n",
    "  - sublist\n",
    "    - subsublist\n",
    "      - subsubsublist"
   ]
  },
  {
   "cell_type": "markdown",
   "metadata": {},
   "source": [
    "---\n",
    "Enumerated list\n",
    "1. First\n",
    "  1. sublist\n",
    "  2. sublist\n",
    "2. Second"
   ]
  },
  {
   "cell_type": "markdown",
   "metadata": {},
   "source": [
    "##### Code\n",
    "This is a code snippet (NOT EXECUTABLE!):    \n",
    "    \n",
    "```Python\n",
    "def f(x):\n",
    "    \"\"\"a docstring\"\"\"\n",
    "    return x**2\n",
    "```\n",
    "  "
   ]
  },
  {
   "cell_type": "markdown",
   "metadata": {},
   "source": [
    "##### Tables\n",
    "Time (s) | Audience Interest\n",
    "---------|------------------\n",
    " 0       | High\n",
    " 1       | Medium\n",
    " 3       | Food"
   ]
  },
  {
   "cell_type": "markdown",
   "metadata": {},
   "source": [
    "##### Command line\n",
    "Execute commands on the command line by prepending a '!' to the command."
   ]
  },
  {
   "cell_type": "code",
   "execution_count": 1,
   "metadata": {
    "collapsed": true
   },
   "outputs": [
    {
     "name": "stdout",
     "output_type": "stream",
     "text": [
      "01-jupyter-git-intro.ipynb  04-control-structures.ipynb\r\n",
      "02-data-types.ipynb\t    05-functions-and-libraries.ipynb\r\n",
      "03-data-containers.ipynb    airports.dat\r\n"
     ]
    }
   ],
   "source": [
    "!ls"
   ]
  },
  {
   "cell_type": "markdown",
   "metadata": {},
   "source": [
    "[top](#top)"
   ]
  },
  {
   "cell_type": "markdown",
   "metadata": {},
   "source": [
    "<a name='exercise02'></a>Exercise 02: Jupyter\n",
    "==="
   ]
  },
  {
   "cell_type": "markdown",
   "metadata": {},
   "source": [
    "0. **Git**\n",
    "  1. Create a new branch for the current day and switch to it. A good idea is to create a new branch every day for the day-to-day work and merge it back to master at the end of the day if everything works. Alternatively you can create a separate branch for every exercise but that is probably a bit tedious.\n",
    "1. **The Dashboard**\n",
    "  1. Create a new notebook.\n",
    "  2. Give the notebook a meaningful name.\n",
    "  3. Add the notebook to your working branch's index.\n",
    "  4. Give the notebook a structure for the exercises using new cells and headings.\n",
    "2. **Keyboard shortcuts** \n",
    "  1. Learn 3-4 useful keyboard shortcuts and use them whenever possible.\n",
    "  2. Make a table with your favourite keyboard shortcuts.\n",
    "  3. Find three more useful shortcuts for jupyter notebook in the help menu/documentation.\n",
    "3. **Markdown & Code**\n",
    "  1. Practice text formatting using\n",
    "  2. lists and\n",
    "  3. LaTeX. \n",
    "  4. Make a code cell, and type in some basic calculations.\n",
    "  5. Execute the code cell (```shift-enter```) to see the results of the calculations.\n",
    "4. **(Optional) Command line**\n",
    "  1. Experiment with command line input.\n",
    "  2. Find out how to display an image in jupyter notebook using the command line.\n",
    "5. **Git**\n",
    "  1. Commit the notebook to the working branch (commit message!).\n",
    "  2. (Optional) Make a change in the notebook (for example 'accidentally' deleting it) and undo the change using git."
   ]
  },
  {
   "cell_type": "markdown",
   "metadata": {},
   "source": [
    "[top](#top)"
   ]
  }
 ],
 "metadata": {
  "kernelspec": {
   "display_name": "Python 3",
   "language": "python",
   "name": "python3"
  },
  "language_info": {
   "codemirror_mode": {
    "name": "ipython",
    "version": 3
   },
   "file_extension": ".py",
   "mimetype": "text/x-python",
   "name": "python",
   "nbconvert_exporter": "python",
   "pygments_lexer": "ipython3",
   "version": "3.5.2"
  }
 },
 "nbformat": 4,
 "nbformat_minor": 0
}
