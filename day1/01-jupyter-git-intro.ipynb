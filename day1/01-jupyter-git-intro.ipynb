{
 "cells": [
  {
   "cell_type": "markdown",
   "metadata": {},
   "source": [
    "[Kudos to **Aron Ahmadia** (US Army ERDC) and **David Ketcheson** (KAUST) from whom I copied shamelessly]"
   ]
  },
  {
   "cell_type": "markdown",
   "metadata": {},
   "source": [
    "# Course philosophy"
   ]
  },
  {
   "cell_type": "markdown",
   "metadata": {},
   "source": [
    "What is data-science?\n",
    "* hopefully involves data (lots of it)\n",
    "* and a scientific approach that is\n",
    "  - reproducible\n",
    "  - transparent\n",
    "  - _open_\n",
    "  - (later) scaleable"
   ]
  },
  {
   "cell_type": "markdown",
   "metadata": {},
   "source": [
    "When working with lots of data you will \n",
    "* spend 90% of your time finding and cleaning your data and figuring out which tools you should use to do so\n",
    "* spend 9% of your time complaining about how long it takes you to mess with your data\n",
    "* spend 1% if your time doint the actual analysis"
   ]
  },
  {
   "cell_type": "markdown",
   "metadata": {},
   "source": [
    "Therefore the course will\n",
    "* commit lots of time to teaching you _tools_ to do your science\n",
    "* involve lots of hands on exercises (about 2/3 of the time!)\n",
    "* follow a completely open and transparent approach"
   ]
  },
  {
   "cell_type": "markdown",
   "metadata": {
    "collapsed": true
   },
   "source": [
    "# Outline day 1 morning _\"the tools we use\"_"
   ]
  },
  {
   "cell_type": "markdown",
   "metadata": {},
   "source": [
    "1. Version control with git\n",
    "  * Why version control?\n",
    "  * Basic workflows\n",
    "2. Git exercises\n",
    "3. Jupyter notebooks\n",
    "  * Intro\n",
    "  * What is a notebook?\n",
    "  * Navigation & keyboard shortcuts\n",
    "  * Markdown \n",
    "4. Jupyter exercises"
   ]
  },
  {
   "cell_type": "markdown",
   "metadata": {},
   "source": [
    "By the end or this lecture you will\n",
    "* have a working local version control for this course and\n",
    "* your _own_ remote repository with all the resources/exercises in this course,\n",
    "* know how to write and execute code,\n",
    "* create and display graphics and\n",
    "* structure and describe your work in text."
   ]
  },
  {
   "cell_type": "markdown",
   "metadata": {},
   "source": [
    "\n",
    "\n",
    "# Git\n",
    "### What is Git?\n",
    "* Git is a software for distributed version control of files.\n",
    "* Git is open source and free\n",
    "* Git is the most widespread tool to work with code collaboratively\n",
    "* It is a command line based tool (alltough there are GUIs for it)"
   ]
  },
  {
   "cell_type": "markdown",
   "metadata": {},
   "source": [
    "### What can you do with Git?\n",
    "* local version control\n",
    "* remote backup of your work\n",
    "* collaborative work online via GitHub and GitLab\n",
    "* accessibility for others\n",
    "* publishing of code  \n",
    "\n",
    "Git is way to large and powerful to even begin to teach it comprehensively here. We will introduce you to a few basics and then add new functionality as we go along."
   ]
  },
  {
   "cell_type": "markdown",
   "metadata": {},
   "source": [
    "##### The local repository (init, status, clone)"
   ]
  },
  {
   "cell_type": "markdown",
   "metadata": {},
   "source": [
    "* create a new directory for this course and switch to it\n",
    "* to create a new and empty git repository, type  \n",
    "``` \n",
    "git init \n",
    "```  \n",
    "* check the status of the repository using  \n",
    "``` \n",
    "git status \n",
    "```\n",
    "* create a working copy of a local repository  \n",
    "``` \n",
    "git clone /path/to/repository \n",
    "```   \n"
   ]
  },
  {
   "cell_type": "markdown",
   "metadata": {},
   "source": [
    "### The git playground"
   ]
  },
  {
   "cell_type": "markdown",
   "metadata": {},
   "source": [
    "Your local repository consists of three \"trees\" maintained by git:\n",
    "* your **working directory** (holds the actual files)\n",
    "* the **index** (acts as a staging area for changes you make)\n",
    "* the **HEAD** (points to the last change you have commited)\n",
    "![trees](http://rogerdudler.github.io/git-guide/img/trees.png)"
   ]
  },
  {
   "cell_type": "markdown",
   "metadata": {},
   "source": [
    "### The remote repository (clone, pull, remote add) "
   ]
  },
  {
   "cell_type": "markdown",
   "metadata": {},
   "source": [
    "* when using a remote server, you need to specify the server to clone the repository  \n",
    "```\n",
    "git clone <server>\n",
    "``` \n",
    "\n",
    "* in the case of this course, we created a repository at the server\n",
    "```\n",
    "git@gitlab.gwdg.de:pycnic/datascience-course-ggnb\n",
    "```\n",
    "* if you haven't cloned an existing remote repository, you can add your local one to the remote server via\n",
    "```\n",
    "git remote add origin <server>\n",
    "```\n",
    "* if you do that, don't forget to get your local version up to date with the remote repository\n",
    "```\n",
    "git pull origin master\n",
    "```\n",
    "\n",
    "HINT: use ```git remote``` to show the name of your remote repository"
   ]
  },
  {
   "cell_type": "markdown",
   "metadata": {},
   "source": [
    "### The workflow (add, commit, push)"
   ]
  },
  {
   "cell_type": "markdown",
   "metadata": {},
   "source": [
    "1. propose changes for a single fill or all new files by adding them to the **Index**\n",
    "```\n",
    "git add <filename>  \n",
    "git add *\n",
    "```\n",
    "2. commit _all_ changes to the **HEAD**, make sure to add a meaningful comment to _every_ commit\n",
    "```\n",
    "git commit -m \"Commit message\"\n",
    "```\n",
    "4. changes are now in the **HEAD** of your local working copy. To send them to the remote repository\n",
    "```\n",
    "git push origin master\n",
    "```\n",
    "\n",
    "HINT: use ```git status``` to see which files are already in the **Index**"
   ]
  },
  {
   "cell_type": "markdown",
   "metadata": {},
   "source": [
    "### The branches (checkout, branch) "
   ]
  },
  {
   "cell_type": "markdown",
   "metadata": {},
   "source": [
    "* Branches are used to work on new projects isolated from each other. \n",
    "* The master branch is the \"default\" branch when you create a repository. \n",
    "* Use other branches for development/experimentation and merge them back to the master branch upon completion.  \n",
    "\n",
    "![branching](http://rogerdudler.github.io/git-guide/img/branches.png)"
   ]
  },
  {
   "cell_type": "markdown",
   "metadata": {},
   "source": [
    "1. create a new branch named reature_x and switch to it\n",
    "```\n",
    "git checkout -b feature_x\n",
    "```\n",
    "2. switch bach to the master branch\n",
    "```\n",
    "git checkout master\n",
    "```\n",
    "3. delete the branch again\n",
    "```\n",
    "git branch -d feature_x\n",
    "```\n",
    "4. or push the branch to the remote repository so it is available to others\n",
    "```\n",
    "git push origin <branch>\n",
    "```\n",
    "5. or merge the branch to your active branch (e.g. master)\n",
    "```\n",
    "git merge <branch>\n",
    "```\n",
    "\n",
    "HINT: ```git status``` also shows you, which branch is currently your _active_ branch"
   ]
  },
  {
   "cell_type": "markdown",
   "metadata": {},
   "source": [
    "# Git exercises"
   ]
  },
  {
   "cell_type": "markdown",
   "metadata": {},
   "source": [
    "A word on exercises: Our work as data-scientists and programmers involves a lot of searching for existing solutions online. Not knowing the command/keyboard shortcut/function by heart is not a shame at all - just look it up, it will be there and we all do it all the time! Therefore, if you are stuck\n",
    "1. google your problem, if you can't find an answer within 2-3 min proceed to\n",
    "2. ask your neighbor, if she already is annoyed with you proceed to\n",
    "3. ask the teachers"
   ]
  },
  {
   "cell_type": "markdown",
   "metadata": {},
   "source": [
    "1. **Your own repository**\n",
    "  1. clone the remote repository we use for the course to create a _local_ repository\n",
    "  2. create your own _remote_ repository using your GWDG user credentials\n",
    "  3. add the remote adress of your own _remote_ repository to your _local_ repository  \n",
    "  HINT: ```git remote add <name> <server>```   \n",
    "2. **A branch a day...**\n",
    "  1. create a new branch with the name of this exercise\n",
    "  2. make sure the new branch is your active branch\n",
    "3. **Basic workflow**\n",
    "  1. create a new file in the new branch\n",
    "  2. add the new file to the index\n",
    "  3. commit the new file with a meaningful commit message\n",
    "  4. merge the branch back to ```master```"
   ]
  },
  {
   "cell_type": "markdown",
   "metadata": {},
   "source": [
    "# Jupyter"
   ]
  },
  {
   "cell_type": "markdown",
   "metadata": {},
   "source": [
    "### What is jupyter?"
   ]
  },
  {
   "cell_type": "markdown",
   "metadata": {},
   "source": [
    "We will use jupyter for the rest of the course to\n",
    "1. Teach you new concepts by presenting a jupyter-notebook file with code snippets in a short talk.\n",
    "2. Give you exercises for every new concept to play around with (coding is learning by doing first and foremost!).\n",
    "3. Give you access to the teaching-notebook so you can extend existing code snippets directly.\n",
    "\n",
    "Jupyter is\n",
    "\n",
    "* an editor where we can write and structure text to describe what we do\n",
    "* an interpreter where we can write code and execute it  \n",
    "\n",
    "Different functionalities require different _cells_:  \n",
    "* markdown cells for text\n",
    "* code cells for code \n",
    "\n",
    "*Markdown* is a simple way to structure text (make it look nicer) using a couple of symbols"
   ]
  },
  {
   "cell_type": "markdown",
   "metadata": {},
   "source": [
    "**this** is a _markdown_ cell"
   ]
  },
  {
   "cell_type": "code",
   "execution_count": 2,
   "metadata": {
    "collapsed": false
   },
   "outputs": [
    {
     "data": {
      "text/plain": [
       "30"
      ]
     },
     "execution_count": 2,
     "metadata": {},
     "output_type": "execute_result"
    }
   ],
   "source": [
    "#this is a code cell\n",
    "3 * 10"
   ]
  },
  {
   "cell_type": "markdown",
   "metadata": {},
   "source": [
    "### The notebook itself\n",
    "\n",
    "* Notebooks are HTML code\n",
    "* files are named .ipynb and reside in the _dashboard_ (where you can also create new files)\n",
    "* notebooks are shown/run in a browser like firefox, chromium or edge\n",
    "* the code is executed by a kernel (in our case python, but can be other languages too)"
   ]
  },
  {
   "cell_type": "markdown",
   "metadata": {},
   "source": [
    "### Modal editor"
   ]
  },
  {
   "cell_type": "markdown",
   "metadata": {},
   "source": [
    "Jupyter notebook has a modal user interface. This means that the keyboard does different things depending on which mode the Notebook is in. There are two modes: edit mode and command mode."
   ]
  },
  {
   "cell_type": "markdown",
   "metadata": {},
   "source": [
    "**Edit mode** is indicated by a green and **Command mode** by a grey cell border:"
   ]
  },
  {
   "cell_type": "code",
   "execution_count": null,
   "metadata": {
    "collapsed": true
   },
   "outputs": [],
   "source": []
  },
  {
   "cell_type": "markdown",
   "metadata": {},
   "source": [
    "When a cell is in edit mode, you can type into the cell, like a normal text editor.  \n",
    "\n",
    "When you are in command mode, you are able to edit the notebook as a whole, but not type into individual cells. Most importantly, in command mode, the keyboard is mapped to a set of shortcuts that let you perform notebook and cell actions efficiently. For example, if you are in command mode and you press `c`, you will copy the current cell and paste it by pressing `v` - no modifier is needed."
   ]
  },
  {
   "cell_type": "markdown",
   "metadata": {},
   "source": [
    "<div class=\"alert alert-success\" style=\"margin: 10px\">\n",
    "Enter edit mode by pressing `enter` or using the mouse to click *inside* a cell's editor area.\n",
    "</div>"
   ]
  },
  {
   "cell_type": "markdown",
   "metadata": {},
   "source": [
    "<div class=\"alert alert-success\" style=\"margin: 10px\">\n",
    "Enter command mode by pressing `esc` or using the mouse to click *outside* a cell's editor area.\n",
    "</div>"
   ]
  },
  {
   "cell_type": "markdown",
   "metadata": {},
   "source": [
    "### Navigation"
   ]
  },
  {
   "cell_type": "markdown",
   "metadata": {},
   "source": [
    "**Mouse navigation:** All navigation and actions in the Notebook are available using the mouse through the menubar and toolbar, which are both above the main Notebook area.  \n",
    "\n",
    "**Keyboard navigation:** In edit mode, most of the keyboard is dedicated to typing into the cell's editor. In command mode, the entire keyboard is available for shortcuts."
   ]
  },
  {
   "cell_type": "markdown",
   "metadata": {},
   "source": [
    "### Keyboard shortcuts (edit mode):"
   ]
  },
  {
   "cell_type": "markdown",
   "metadata": {},
   "source": [
    "In edit mode, keyboard shortcuts are similar to text editors like word, gedit etc. Examples:\n",
    "* `ctrl-c` to copy\n",
    "* `ctrl-v` to paste\n",
    "* `tab` for text-completion.\n"
   ]
  },
  {
   "cell_type": "markdown",
   "metadata": {},
   "source": [
    "### Keyboard shortcuts (command mode):"
   ]
  },
  {
   "cell_type": "markdown",
   "metadata": {},
   "source": [
    "Most important:\n",
    "* `enter` enters edit mode\n",
    "* `esc` enters command mode\n",
    "* `h` calls the help menu\n",
    "---\n",
    "Basic navigation:\n",
    "* `up/down` select cell above/below\n",
    "* `shift-enter` execute cell and select below\n",
    "* `alt-enter` execute cell and insert new cell below\n",
    "---\n",
    "Cell types:\n",
    "* `y` to code\n",
    "* `m` to markdown\n",
    "---\n",
    "Cell editing:\n",
    "* `d-d` delete cell\n",
    "* `c` copy cell\n",
    "* `x` cut cell\n",
    "* `v` paste cell\n",
    "* `shift-up/down` to select multiple cells"
   ]
  },
  {
   "cell_type": "markdown",
   "metadata": {},
   "source": [
    "## Markdown "
   ]
  },
  {
   "cell_type": "markdown",
   "metadata": {},
   "source": [
    "##### Text formatting"
   ]
  },
  {
   "cell_type": "markdown",
   "metadata": {},
   "source": [
    "You can make text _italic_ or **bold** or `monospace`"
   ]
  },
  {
   "cell_type": "markdown",
   "metadata": {},
   "source": [
    "---\n",
    "# You\n",
    "## can\n",
    "### make\n",
    "#### headings"
   ]
  },
  {
   "cell_type": "markdown",
   "metadata": {},
   "source": [
    "---\n",
    "Courtesy of MathJax, you can beautifully render mathematical expressions, both inline: \n",
    "$e^{i\\pi} + 1 = 0$, and displayed:\n",
    "\n",
    "$$e^x=\\sum_{i=0}^\\infty \\frac{1}{i!}x^i$$"
   ]
  },
  {
   "cell_type": "markdown",
   "metadata": {},
   "source": [
    "##### Lists\n",
    "Itemized list\n",
    "* One\n",
    "  - sublist\n",
    "    - subsublist\n",
    "* Two\n",
    "  - sublist\n",
    "* Three\n",
    "  - sublist\n",
    "    - subsublist\n",
    "      - subsubsublist"
   ]
  },
  {
   "cell_type": "markdown",
   "metadata": {},
   "source": [
    "---\n",
    "Enumerated list\n",
    "1. First\n",
    "  1. sublist\n",
    "  2. sublist\n",
    "2. Second"
   ]
  },
  {
   "cell_type": "markdown",
   "metadata": {},
   "source": [
    "##### Code\n",
    "This is a code snippet:    \n",
    "    \n",
    "```Python\n",
    "def f(x):\n",
    "    \"\"\"a docstring\"\"\"\n",
    "    return x**2\n",
    "```\n",
    "  "
   ]
  },
  {
   "cell_type": "markdown",
   "metadata": {},
   "source": [
    "##### Tables\n",
    "Time (s) | Audience Interest\n",
    "---------|------------------\n",
    " 0       | High\n",
    " 1       | Medium\n",
    " 3       | Food"
   ]
  },
  {
   "cell_type": "markdown",
   "metadata": {},
   "source": [
    "##### Command line"
   ]
  },
  {
   "cell_type": "code",
   "execution_count": 5,
   "metadata": {
    "collapsed": false
   },
   "outputs": [
    {
     "name": "stdout",
     "output_type": "stream",
     "text": [
      "01-jupyter-python-intro.ipynb\t    03-control-structures.ipynb\r\n",
      "02-data-types-and-containers.ipynb  04-input-output-and-libraries.ipynb\r\n"
     ]
    }
   ],
   "source": [
    "!ls"
   ]
  },
  {
   "cell_type": "markdown",
   "metadata": {},
   "source": [
    "# Exercises"
   ]
  },
  {
   "cell_type": "markdown",
   "metadata": {},
   "source": [
    "0. **Git**\n",
    "  1. Create a new branch for the exercise and switch to it\n",
    "1. **The Dashboard**\n",
    "  1. Create a new notebook\n",
    "  2. give the notebook a meaningful name\n",
    "  3. put the notebook on your working branch's index\n",
    "  4. give the notebook a structure for the exercises using new cells and headings  \n",
    "2. **Keyboard shortcuts** \n",
    "  1. learn 3-4 useful keyboard shortcuts and use them wherever possible\n",
    "  2. make a table with your favourite keyboard shortcuts\n",
    "  3. find three more useful shortcuts for jupyter notebook  \n",
    "3. **Markdown & Code**\n",
    "  1. practice text formatting\n",
    "  2. lists\n",
    "  3. LaTeX  \n",
    "  4. make a code cell, perform some basic calculations\n",
    "4. **(Optional) Command line**\n",
    "  1. experiment with command line commands\n",
    "  2. find out how to display an image in jupyter notebook using the command line\n",
    "5. **Git**\n",
    "  1. commit the notebook to the working branch (commit message!)\n",
    "  2. (optional) make a change in the notebook (for example 'accidentally' deleting it) and undo the change using git\n",
    "  3. merge your working branch back to ```master```"
   ]
  }
 ],
 "metadata": {
  "kernelspec": {
   "display_name": "Python 3",
   "language": "python",
   "name": "python3"
  },
  "language_info": {
   "codemirror_mode": {
    "name": "ipython",
    "version": 3
   },
   "file_extension": ".py",
   "mimetype": "text/x-python",
   "name": "python",
   "nbconvert_exporter": "python",
   "pygments_lexer": "ipython3",
   "version": "3.5.2"
  }
 },
 "nbformat": 4,
 "nbformat_minor": 0
}
