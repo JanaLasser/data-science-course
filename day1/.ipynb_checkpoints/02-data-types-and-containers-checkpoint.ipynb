{
 "cells": [
  {
   "cell_type": "markdown",
   "metadata": {
    "collapsed": true
   },
   "source": [
    "# Outline day 1 afternoon \n",
    "# _python crash course_"
   ]
  },
  {
   "cell_type": "markdown",
   "metadata": {},
   "source": [
    "1. Data types\n",
    "  * Variables\n",
    "  * Numbers\n",
    "  * Strings\n",
    "  * Regular expressions\n",
    "2. Exercises 03: data types\n",
    "3. Data containers\n",
    "  * Lists\n",
    "  * Tuples\n",
    "  * Sets\n",
    "  * Dictionaries\n",
    "4. Exercises 04: Data containers\n",
    "5. Control structures\n",
    "  * Logical operators\n",
    "  * If statements\n",
    "  * For loops\n",
    "  * While looops\n",
    "6. Exercises 05: control structures\n",
    "7. Functions and libraries\n",
    "  * custom functions\n",
    "  * the python standard library\n",
    "  * numpy\n",
    "  * matplotlib"
   ]
  },
  {
   "cell_type": "markdown",
   "metadata": {},
   "source": [
    "By the end or this lecture you will\n",
    "* have a basic understanding of how programming work\n",
    "* know how to read and write files and deal with file names\n",
    "* be able to write your own functions and code snippets to deal with more complicated tasks\n",
    "* know where to find third party libraries that solve your problems for you"
   ]
  },
  {
   "cell_type": "markdown",
   "metadata": {},
   "source": [
    "# 1. Data types"
   ]
  },
  {
   "cell_type": "markdown",
   "metadata": {},
   "source": [
    "## Variables"
   ]
  },
  {
   "cell_type": "markdown",
   "metadata": {},
   "source": [
    "A variable holds a value.  \n",
    "Variables are known throughout the whole document below the point where they were defined."
   ]
  },
  {
   "cell_type": "markdown",
   "metadata": {},
   "source": [
    "##### Example"
   ]
  },
  {
   "cell_type": "code",
   "execution_count": 162,
   "metadata": {
    "collapsed": false
   },
   "outputs": [
    {
     "name": "stdout",
     "output_type": "stream",
     "text": [
      "10\n"
     ]
    }
   ],
   "source": [
    "a = 10\n",
    "print(a)"
   ]
  },
  {
   "cell_type": "markdown",
   "metadata": {},
   "source": [
    "You can change the value of a variable at any point. Use ```=``` to assign values to variables."
   ]
  },
  {
   "cell_type": "code",
   "execution_count": 163,
   "metadata": {
    "collapsed": false
   },
   "outputs": [
    {
     "name": "stdout",
     "output_type": "stream",
     "text": [
      "100\n",
      "50\n",
      "25.0\n"
     ]
    }
   ],
   "source": [
    "b = 100\n",
    "print(b)\n",
    "b = 50\n",
    "print(b)\n",
    "b = b/2\n",
    "print(b)"
   ]
  },
  {
   "cell_type": "markdown",
   "metadata": {},
   "source": [
    "##### Naming rules"
   ]
  },
  {
   "cell_type": "markdown",
   "metadata": {},
   "source": [
    "- Variables can only contain letters, numbers, and underscores. Variable names can start with a letter or an underscore, but can not start with a number.\n",
    "- Spaces are not allowed in variable names, so we use underscores instead of spaces. For example, use student_name instead of \"student name\".\n",
    "- You cannot use [Python keywords](http://docs.python.org/3/reference/lexical_analysis.html#keywords) as variable names (more on that later).\n",
    "- Variable names should be descriptive, without being too long. For example MPI_rooms is better than just \"rooms\", and \"number_of_rooms_at_the_MPI\"."
   ]
  },
  {
   "cell_type": "markdown",
   "metadata": {},
   "source": [
    "##### NameError "
   ]
  },
  {
   "cell_type": "markdown",
   "metadata": {},
   "source": [
    "An error you will almost certainly experience at some point"
   ]
  },
  {
   "cell_type": "code",
   "execution_count": 164,
   "metadata": {
    "collapsed": false
   },
   "outputs": [
    {
     "ename": "NameError",
     "evalue": "name 'MPI_roms' is not defined",
     "output_type": "error",
     "traceback": [
      "\u001b[1;31m---------------------------------------------------------------------------\u001b[0m",
      "\u001b[1;31mNameError\u001b[0m                                 Traceback (most recent call last)",
      "\u001b[1;32m<ipython-input-164-d762d310495c>\u001b[0m in \u001b[0;36m<module>\u001b[1;34m()\u001b[0m\n\u001b[0;32m      1\u001b[0m \u001b[0mMPI_rooms\u001b[0m \u001b[1;33m=\u001b[0m \u001b[1;36m83\u001b[0m\u001b[1;33m\u001b[0m\u001b[0m\n\u001b[1;32m----> 2\u001b[1;33m \u001b[0mprint\u001b[0m\u001b[1;33m(\u001b[0m\u001b[0mMPI_roms\u001b[0m\u001b[1;33m)\u001b[0m\u001b[1;33m\u001b[0m\u001b[0m\n\u001b[0m",
      "\u001b[1;31mNameError\u001b[0m: name 'MPI_roms' is not defined"
     ]
    }
   ],
   "source": [
    "MPI_rooms = 83\n",
    "print(MPI_roms)"
   ]
  },
  {
   "cell_type": "markdown",
   "metadata": {},
   "source": [
    "The anatomy of an error message:\n",
    "* The type of the error (NameError)\n",
    "* The file that was responsible for the error (ipython-input...)\n",
    "* the line in which the error occured\n",
    "* the cause of the error\n",
    "\n",
    "Make sure to spell variables right and always assign values to them before you use them!"
   ]
  },
  {
   "cell_type": "markdown",
   "metadata": {},
   "source": [
    "## Strings"
   ]
  },
  {
   "cell_type": "markdown",
   "metadata": {},
   "source": [
    "* Strings are sets of characters (letters and symbols), they are mostly used to store text.  \n",
    "* We declare strings by using either double or single quotes, then writing text and finally 'closing' the string again with double or single quotes respectively.\n",
    "* Use the escape character '\\' to insert linebreaks into strings.\n",
    "* Use triple quotes for multiline strings"
   ]
  },
  {
   "cell_type": "markdown",
   "metadata": {},
   "source": [
    "##### Example "
   ]
  },
  {
   "cell_type": "code",
   "execution_count": null,
   "metadata": {
    "collapsed": true
   },
   "outputs": [],
   "source": [
    "quote = \"Linus Torvalds once said, \\\n",
    "    'Any program is only as good as it is useful.'\""
   ]
  },
  {
   "cell_type": "code",
   "execution_count": null,
   "metadata": {
    "collapsed": false
   },
   "outputs": [],
   "source": [
    "\n",
    "multiline_string = '''This is a string where I \n",
    "can confortably write on multiple lines\n",
    "without worring about to use the escape character \"\\\\\" as in\n",
    "the previsou example. \n",
    "As you'll see, the original string formatting is preserved.\n",
    "'''\n",
    "\n",
    "print(multiline_string)"
   ]
  },
  {
   "cell_type": "markdown",
   "metadata": {},
   "source": [
    "##### Combinint strings (concatenation) "
   ]
  },
  {
   "cell_type": "markdown",
   "metadata": {},
   "source": [
    "The 'plus' sign combines two strings into one, we call this **concatenation**"
   ]
  },
  {
   "cell_type": "code",
   "execution_count": null,
   "metadata": {
    "collapsed": false
   },
   "outputs": [],
   "source": [
    "first_name = 'jana'\n",
    "last_name = 'lasser'\n",
    "full_name = first_name + ' ' + last_name\n",
    "print(full_name)"
   ]
  },
  {
   "cell_type": "markdown",
   "metadata": {},
   "source": [
    "There is no limit to the number of strings you can combine. You can also create strings from numbers to print nicer looking result messages to the output:"
   ]
  },
  {
   "cell_type": "code",
   "execution_count": null,
   "metadata": {
    "collapsed": false
   },
   "outputs": [],
   "source": [
    "a = 10\n",
    "b = 3\n",
    "c = a*b\n",
    "print('if you multiply ' + str(a) + ' by ' + str(b) + \\\n",
    "          ', the result is ' + str(c))"
   ]
  },
  {
   "cell_type": "markdown",
   "metadata": {},
   "source": [
    "##### Some string formatting "
   ]
  },
  {
   "cell_type": "markdown",
   "metadata": {},
   "source": [
    "String concatenation is a bit clumsy sometimes. A very powerful and more elegant tool is string formatting."
   ]
  },
  {
   "cell_type": "code",
   "execution_count": null,
   "metadata": {
    "collapsed": false
   },
   "outputs": [],
   "source": [
    "string_template = 'The result of the calculation of {calc} is {res}'\n",
    "print(\"String Template: \", string_template)\n",
    "\n",
    "print(string_template.format(calc='(3*4)+2', res=(3*4)+2))"
   ]
  },
  {
   "cell_type": "markdown",
   "metadata": {},
   "source": [
    "There's much more than that!\n",
    "For further information about *String formatting*, see the official online documentation about the [`string`](https://docs.python.org/3/library/string.html) module."
   ]
  },
  {
   "cell_type": "markdown",
   "metadata": {},
   "source": [
    "###### Whitespaces"
   ]
  },
  {
   "cell_type": "markdown",
   "metadata": {},
   "source": [
    "* \"whitespace\" refers to characters that the computer is aware of, but are invisible to readers.\n",
    "* Tabs and newlines are represented by special character combinations.\n",
    "* The two-character combination \"\\t\" makes a tab appear in a string whereas \"\\n\" starts a new line."
   ]
  },
  {
   "cell_type": "code",
   "execution_count": null,
   "metadata": {
    "collapsed": false
   },
   "outputs": [],
   "source": [
    "#tabs\n",
    "print('Hello world!')\n",
    "print('\\tHello world!')\n",
    "print('Hello \\tworld!')"
   ]
  },
  {
   "cell_type": "code",
   "execution_count": null,
   "metadata": {
    "collapsed": false
   },
   "outputs": [],
   "source": [
    "#leading newline\n",
    "print('\\nHello world!')"
   ]
  },
  {
   "cell_type": "code",
   "execution_count": null,
   "metadata": {
    "collapsed": false
   },
   "outputs": [],
   "source": [
    "#trailing newline\n",
    "print('Hello world!\\n')"
   ]
  },
  {
   "cell_type": "code",
   "execution_count": null,
   "metadata": {
    "collapsed": false
   },
   "outputs": [],
   "source": [
    "#line break in the middle of a string\n",
    "print('Hello \\nworld!')"
   ]
  },
  {
   "cell_type": "markdown",
   "metadata": {},
   "source": [
    "##### Stripping whitespaces "
   ]
  },
  {
   "cell_type": "markdown",
   "metadata": {},
   "source": [
    "Whitespaces can be annoying when working with strings. Thats why there is functionality to do away with them:"
   ]
  },
  {
   "cell_type": "code",
   "execution_count": null,
   "metadata": {
    "collapsed": false
   },
   "outputs": [],
   "source": [
    "name = ' jana '\n",
    "\n",
    "print('-' + name.lstrip() + '-')\n",
    "print('-' + name.rstrip() + '-')\n",
    "print('-' + name.strip() + '-')"
   ]
  },
  {
   "cell_type": "markdown",
   "metadata": {},
   "source": [
    "## Numbers"
   ]
  },
  {
   "cell_type": "markdown",
   "metadata": {},
   "source": [
    "##### Integers"
   ]
  },
  {
   "cell_type": "markdown",
   "metadata": {},
   "source": [
    "You can do all of the basic operations with integers, and everything should behave as you expect. Addition and subtraction use the standard plus and minus symbols. Multiplication uses the asterisk, and division uses a forward slash. Exponents use two asterisks."
   ]
  },
  {
   "cell_type": "code",
   "execution_count": null,
   "metadata": {
    "collapsed": false
   },
   "outputs": [],
   "source": [
    "print(10+3)"
   ]
  },
  {
   "cell_type": "code",
   "execution_count": null,
   "metadata": {
    "collapsed": false
   },
   "outputs": [],
   "source": [
    "print(10-3)"
   ]
  },
  {
   "cell_type": "code",
   "execution_count": null,
   "metadata": {
    "collapsed": false
   },
   "outputs": [],
   "source": [
    "print(10*3)"
   ]
  },
  {
   "cell_type": "code",
   "execution_count": null,
   "metadata": {
    "collapsed": false
   },
   "outputs": [],
   "source": [
    "print(10/3)"
   ]
  },
  {
   "cell_type": "code",
   "execution_count": null,
   "metadata": {
    "collapsed": false
   },
   "outputs": [],
   "source": [
    "print(10**3)"
   ]
  },
  {
   "cell_type": "markdown",
   "metadata": {},
   "source": [
    "As with every calculator, you can use paranthesis (only round ones!) to modify the order of operators"
   ]
  },
  {
   "cell_type": "code",
   "execution_count": null,
   "metadata": {
    "collapsed": false
   },
   "outputs": [],
   "source": [
    "standard_order = 2+3*4\n",
    "changed_order = (2+3)*4\n",
    "print(standard_order)\n",
    "print(changed_order)"
   ]
  },
  {
   "cell_type": "markdown",
   "metadata": {},
   "source": [
    "##### Floating point numbers"
   ]
  },
  {
   "cell_type": "markdown",
   "metadata": {},
   "source": [
    "As you might have noticed, integers get converted to floats automatically when using the division operator. **This only happens in Python 3, not in Python 2!**  \n",
    "You can reproduce integer divison without 'remainder' by manually casting a number to integer:"
   ]
  },
  {
   "cell_type": "code",
   "execution_count": null,
   "metadata": {
    "collapsed": false
   },
   "outputs": [],
   "source": [
    "a = 10\n",
    "b = 3\n",
    "c = a/b\n",
    "d = int(a/b)\n",
    "print(c)\n",
    "print(type(c))\n",
    "print(d)\n",
    "print(type(d))"
   ]
  },
  {
   "cell_type": "markdown",
   "metadata": {},
   "source": [
    "**HINT:** you can ask what 'type' a variable is by using ```type(variable)```"
   ]
  },
  {
   "cell_type": "markdown",
   "metadata": {},
   "source": [
    "## Comments"
   ]
  },
  {
   "cell_type": "markdown",
   "metadata": {},
   "source": [
    "Comments allow you to write in English, within your program. In Python, any line that starts with a pound (#) symbol is ignored by the Python interpreter."
   ]
  },
  {
   "cell_type": "code",
   "execution_count": null,
   "metadata": {
    "collapsed": false
   },
   "outputs": [],
   "source": [
    "# This line is a comment.\n",
    "#this \n",
    "#is \n",
    "#not\n",
    "\n",
    "print(\"This line is not a comment, it is code.\")"
   ]
  },
  {
   "cell_type": "markdown",
   "metadata": {},
   "source": [
    "##### What makes a good comment?\n",
    "- It is short and to the point, but a complete thought. Most comments should be written in complete sentences.\n",
    "- It explains your thinking, so that when you return to the code later you will understand how you were approaching the problem.\n",
    "- It explains your thinking, so that others who work with your code will understand your overall approach to a problem.\n",
    "- It explains particularly difficult sections of code in detail."
   ]
  },
  {
   "cell_type": "markdown",
   "metadata": {},
   "source": [
    "##### When should you write a comment?\n",
    "- When you have to think about code before writing it.\n",
    "- When you are likely to forget later exactly how you were approaching a problem.\n",
    "- When there is more than one way to solve a problem.\n",
    "- When others are unlikely to anticipate your way of thinking about a problem."
   ]
  },
  {
   "cell_type": "markdown",
   "metadata": {},
   "source": [
    "# 2. Exercises 03: data types"
   ]
  },
  {
   "cell_type": "markdown",
   "metadata": {},
   "source": [
    "1. **Strings**\n",
    "  1. Choose a famous scientist (from Göttingen of course..), store their first name, last name and a quote from them in variables\n",
    "  2. Use concatenation to make a sentence with the person and the quote, print the quote.\n",
    "  3. Use strip to remove all whitespaces from the quote and print it.\n",
    "2. **Numbers**\n",
    "  1. Write a program that prints out the results of a calculation for each basic operation.\n",
    "  2. Format the output so it is meaningful.\n",
    "  3. Investigate about long decimals and numerical accuracy in python. \n",
    "  4. Find an example where limited numerical accuracy can mess with your results.\n",
    "  5. How can you avoid/fix this behaviour?\n",
    "3. **Comments**\n",
    "  1. Write a program that uses every new concept you have learned in this notebook so far.\n",
    "  2. Write comments that explain each section of your program.\n",
    "  3. For each new thing the program does, write a line of output that explains what happened."
   ]
  },
  {
   "cell_type": "markdown",
   "metadata": {},
   "source": [
    "# 3. Data containers"
   ]
  },
  {
   "cell_type": "markdown",
   "metadata": {},
   "source": [
    "## Lists"
   ]
  },
  {
   "cell_type": "markdown",
   "metadata": {},
   "source": [
    "* lists are collections of items, stored in a variable\n",
    "* there is no restrictions on what can be stored in a list\n",
    "* lists are declared using squared brackets\n",
    "* items are separated with commas"
   ]
  },
  {
   "cell_type": "markdown",
   "metadata": {},
   "source": [
    "##### Example "
   ]
  },
  {
   "cell_type": "code",
   "execution_count": null,
   "metadata": {
    "collapsed": false
   },
   "outputs": [],
   "source": [
    "data_science = ['reproducible', 'transparent', 'open', 'scalable']\n",
    "for trait in data_science:\n",
    "    print (\"data science is {}\".format(trait))"
   ]
  },
  {
   "cell_type": "markdown",
   "metadata": {},
   "source": [
    "##### List index"
   ]
  },
  {
   "cell_type": "markdown",
   "metadata": {},
   "source": [
    "You can access a specific item in a list using its **index** (i.e. position) in the list.  \n",
    "**NOTE:** the list index starts with zero."
   ]
  },
  {
   "cell_type": "code",
   "execution_count": null,
   "metadata": {
    "collapsed": false
   },
   "outputs": [],
   "source": [
    "first_trait = data_science[0]\n",
    "print(first_trait)"
   ]
  },
  {
   "cell_type": "markdown",
   "metadata": {},
   "source": [
    "You can also use negative indices to traverse the list from end to start."
   ]
  },
  {
   "cell_type": "code",
   "execution_count": null,
   "metadata": {
    "collapsed": false
   },
   "outputs": [],
   "source": [
    "last_trait = data_science[-1]\n",
    "print(last_trait)"
   ]
  },
  {
   "cell_type": "markdown",
   "metadata": {},
   "source": [
    "##### Index error "
   ]
  },
  {
   "cell_type": "code",
   "execution_count": null,
   "metadata": {
    "collapsed": false
   },
   "outputs": [],
   "source": [
    "data_science[4]"
   ]
  },
  {
   "cell_type": "markdown",
   "metadata": {},
   "source": [
    "If you try to access an index that lies outside the length of the list, you will get an **IndexError**.  \n",
    "**HINT:** you can check the number of elements in a list using the ```len()``` functionality."
   ]
  },
  {
   "cell_type": "code",
   "execution_count": null,
   "metadata": {
    "collapsed": false
   },
   "outputs": [],
   "source": [
    "num_elements = len(data_science)\n",
    "print('data science has {} traits'.format(num_elements))"
   ]
  },
  {
   "cell_type": "markdown",
   "metadata": {},
   "source": [
    "## Accessing list elements"
   ]
  },
  {
   "cell_type": "markdown",
   "metadata": {},
   "source": [
    "##### Looping over lists "
   ]
  },
  {
   "cell_type": "markdown",
   "metadata": {},
   "source": [
    "This is one of the most important concepts related to lists. You can have a list with a million items in it, and in three lines of code you can write a sentence for each of those million items.  \n",
    "\n",
    "We use a loop to access all the elements in a list. A loop is a block of code that repeats itself until it runs out of items to work with, or until a certain condition is met. In this case, our loop will run once for every item in our list."
   ]
  },
  {
   "cell_type": "code",
   "execution_count": null,
   "metadata": {
    "collapsed": false
   },
   "outputs": [],
   "source": [
    "for trait in data_science:\n",
    "    print(trait)"
   ]
  },
  {
   "cell_type": "markdown",
   "metadata": {},
   "source": [
    "What happened?\n",
    "* ```for``` is a keyword in python that is used to start a _loop_\n",
    "* ```trait``` is a temporary variable that is only known to the program _within_ the loop\n",
    "* the temporary variable has the value of each of the items in the list for each run of the loop respectively\n",
    "* the loop will run four times as the number of items in the list is four and then finish.  \n",
    "\n",
    "The ```for``` keyword is also an example of a control structure (more on that later).  \n",
    "**NOTE:** The colon after the first line is how python knows that the control element just ended.  "
   ]
  },
  {
   "cell_type": "markdown",
   "metadata": {},
   "source": [
    "##### Inside and outside loops"
   ]
  },
  {
   "cell_type": "markdown",
   "metadata": {},
   "source": [
    "Python uses indentation to decide which parts of the code are inside and outside a loop. Use at least a ```tab``` to make your code clearly readable!"
   ]
  },
  {
   "cell_type": "code",
   "execution_count": null,
   "metadata": {
    "collapsed": false
   },
   "outputs": [],
   "source": [
    "for trait in data_science:\n",
    "    print('important trait:')\n",
    "    print(trait + '\\n')\n",
    "\n",
    "print(\"It's time to change the example list...\")"
   ]
  },
  {
   "cell_type": "code",
   "execution_count": null,
   "metadata": {
    "collapsed": true
   },
   "outputs": [],
   "source": [
    "cool_tools = ['jupyter', 'git', 'xenodo', 'bokeh']"
   ]
  },
  {
   "cell_type": "markdown",
   "metadata": {},
   "source": [
    "##### Enumerating "
   ]
  },
  {
   "cell_type": "markdown",
   "metadata": {},
   "source": [
    "While looping through a list, you might be interested in the index of the current item. There are two neat ways of achieving that:"
   ]
  },
  {
   "cell_type": "code",
   "execution_count": null,
   "metadata": {
    "collapsed": false
   },
   "outputs": [],
   "source": [
    "#access the index of a certain item in the list\n",
    "print(data_science.index('open'))"
   ]
  },
  {
   "cell_type": "code",
   "execution_count": null,
   "metadata": {
    "collapsed": false
   },
   "outputs": [],
   "source": [
    "#access every index of every item in the list\n",
    "for index, tool in enumerate(cool_tools):\n",
    "    print('{}. cool tool is {}'.format(index, tool))"
   ]
  },
  {
   "cell_type": "markdown",
   "metadata": {},
   "source": [
    "We can also modify values the loop _returns_ to us:"
   ]
  },
  {
   "cell_type": "code",
   "execution_count": null,
   "metadata": {
    "collapsed": false
   },
   "outputs": [],
   "source": [
    "print(\"actually zero doesn't make much sense for an index...\\n\" )\n",
    "for index, tool in enumerate(cool_tools):\n",
    "    print('{}. cool tool is {}'.format(index + 1, tool))"
   ]
  },
  {
   "cell_type": "markdown",
   "metadata": {},
   "source": [
    "##### Iteration keywords "
   ]
  },
  {
   "cell_type": "markdown",
   "metadata": {},
   "source": [
    "You can use two additional keywords _inside_ loops like a ```for``` and a ```while``` loop:  \n",
    "* **break** will immediately _end_ the loop and exit it\n",
    "* **continue** will _skip_ to the next iteration step"
   ]
  },
  {
   "cell_type": "markdown",
   "metadata": {},
   "source": [
    "##### Slicing lists "
   ]
  },
  {
   "cell_type": "markdown",
   "metadata": {},
   "source": [
    "A very powerful concept for accessing lists is slicing. It allows you to access any subset of the items in the list. For this we access the list using\n",
    "* the start index\n",
    "* the stop index\n",
    "* the stepsize (which is optional and 1 per default)  \n",
    "\n",
    "```[start : stop (: step)]```"
   ]
  },
  {
   "cell_type": "code",
   "execution_count": 191,
   "metadata": {
    "collapsed": false
   },
   "outputs": [
    {
     "name": "stdout",
     "output_type": "stream",
     "text": [
      "[3, 4, 5]\n",
      "[2, 4, 6]\n",
      "[1, 2]\n",
      "[4, 5, 6, 7]\n"
     ]
    }
   ],
   "source": [
    "numbers = [1, 2, 3, 4, 5, 6, 7]\n",
    "#items in the middle of the list using only start and stop\n",
    "print(numbers[2:5])\n",
    "\n",
    "#all even numbers \n",
    "print(numbers[1:-1:2])\n",
    "\n",
    "#first two items\n",
    "print(numbers[0:2])\n",
    "\n",
    "#last four items (notice: ommiting 'end' means 'until list end')\n",
    "print(numbers[-4:])"
   ]
  },
  {
   "cell_type": "markdown",
   "metadata": {},
   "source": [
    "##### Copying lists"
   ]
  },
  {
   "cell_type": "markdown",
   "metadata": {},
   "source": [
    "Note that you can assign list slices to variables and you can make a copy of the whole list like this:"
   ]
  },
  {
   "cell_type": "code",
   "execution_count": 198,
   "metadata": {
    "collapsed": false
   },
   "outputs": [
    {
     "name": "stdout",
     "output_type": "stream",
     "text": [
      "['here', 'and']\n",
      "['here', 'there', 'and', 'all', 'over']\n"
     ]
    }
   ],
   "source": [
    "#assign a new variable to a slice\n",
    "strings = ['here', 'there', 'and', 'all', 'over']\n",
    "view = numbers[0:2]\n",
    "print(view)\n",
    "\n",
    "#copy the list using the slicing syntax\n",
    "copied_strings = strings[:]\n",
    "print(copied_strings)"
   ]
  },
  {
   "cell_type": "markdown",
   "metadata": {},
   "source": [
    "## List operations"
   ]
  },
  {
   "cell_type": "markdown",
   "metadata": {},
   "source": [
    "##### Modifying elements \n",
    "You can change the value of any list element by accessing it via its index:"
   ]
  },
  {
   "cell_type": "code",
   "execution_count": null,
   "metadata": {
    "collapsed": false
   },
   "outputs": [],
   "source": [
    "print(cool_tools)\n",
    "cool_tools[2] = 'scipy'\n",
    "cool_tools[3] = 'numpy'\n",
    "print(cool_tools)"
   ]
  },
  {
   "cell_type": "markdown",
   "metadata": {},
   "source": [
    "##### Checking for existence "
   ]
  },
  {
   "cell_type": "markdown",
   "metadata": {},
   "source": [
    "If you don't know, if a certain item is in a list, you can use the **in** keyword to check"
   ]
  },
  {
   "cell_type": "code",
   "execution_count": null,
   "metadata": {
    "collapsed": false
   },
   "outputs": [],
   "source": [
    "print('numpy' in cool_tools)\n",
    "print('xenodo' in cool_tools)"
   ]
  },
  {
   "cell_type": "markdown",
   "metadata": {},
   "source": [
    "##### Adding items to a list "
   ]
  },
  {
   "cell_type": "markdown",
   "metadata": {},
   "source": [
    "If you want to add items to a list you can use\n",
    "* **insert()** to add an item at a certain position\n",
    "* **append()** to add an item to the end of the list\n",
    "* **extend()** to append another list to your list"
   ]
  },
  {
   "cell_type": "code",
   "execution_count": null,
   "metadata": {
    "collapsed": true
   },
   "outputs": [],
   "source": [
    "string_list = ['a', 'b', 'c']\n",
    "number_list = [1, 2, 3]"
   ]
  },
  {
   "cell_type": "code",
   "execution_count": null,
   "metadata": {
    "collapsed": false
   },
   "outputs": [],
   "source": [
    "#insert\n",
    "string_list.insert(2,'z')\n",
    "print(string_list)"
   ]
  },
  {
   "cell_type": "code",
   "execution_count": null,
   "metadata": {
    "collapsed": false
   },
   "outputs": [],
   "source": [
    "#append\n",
    "string_list.append('y')\n",
    "print(string_list)"
   ]
  },
  {
   "cell_type": "code",
   "execution_count": null,
   "metadata": {
    "collapsed": false
   },
   "outputs": [],
   "source": [
    "#extend\n",
    "string_list.extend(number_list)\n",
    "print(string_list)"
   ]
  },
  {
   "cell_type": "markdown",
   "metadata": {},
   "source": [
    "##### Removing items from a list "
   ]
  },
  {
   "cell_type": "markdown",
   "metadata": {},
   "source": [
    "If you want to remove items from a list, you can use\n",
    "* **remove()** to remove a certain item by value\n",
    "* **del** to remove an item at a certain index\n",
    "* **pop()** to remove and return the last item in the list"
   ]
  },
  {
   "cell_type": "code",
   "execution_count": 180,
   "metadata": {
    "collapsed": false
   },
   "outputs": [
    {
     "name": "stdout",
     "output_type": "stream",
     "text": [
      "['git', 'xenodo', 'bokeh']\n"
     ]
    }
   ],
   "source": [
    "cool_tools = ['jupyter', 'git', 'xenodo', 'bokeh']\n",
    "cool_tools.remove('jupyter')\n",
    "print(cool_tools)"
   ]
  },
  {
   "cell_type": "code",
   "execution_count": 181,
   "metadata": {
    "collapsed": false
   },
   "outputs": [
    {
     "name": "stdout",
     "output_type": "stream",
     "text": [
      "['git', 'bokeh']\n"
     ]
    }
   ],
   "source": [
    "del cool_tools[1]\n",
    "print(cool_tools)"
   ]
  },
  {
   "cell_type": "code",
   "execution_count": 182,
   "metadata": {
    "collapsed": false
   },
   "outputs": [
    {
     "name": "stdout",
     "output_type": "stream",
     "text": [
      "bokeh\n"
     ]
    }
   ],
   "source": [
    "last_item = cool_tools.pop()\n",
    "print(last_item)"
   ]
  },
  {
   "cell_type": "markdown",
   "metadata": {},
   "source": [
    "##### Empty lists "
   ]
  },
  {
   "cell_type": "markdown",
   "metadata": {},
   "source": [
    "Sometimes it can be useful to initialize an empty list that can be filled with items later on."
   ]
  },
  {
   "cell_type": "code",
   "execution_count": 177,
   "metadata": {
    "collapsed": false
   },
   "outputs": [
    {
     "name": "stdout",
     "output_type": "stream",
     "text": [
      "['aa', 'bb', 'cc', 'dd']\n"
     ]
    }
   ],
   "source": [
    "letters = ['a', 'b', 'c', 'd']\n",
    "#here we initialize an empty list\n",
    "alphabet = []\n",
    "\n",
    "#we fill the new list in the loop\n",
    "for letter in letters:\n",
    "    alphabet.append(letter + letter)\n",
    "    \n",
    "print(alphabet)"
   ]
  },
  {
   "cell_type": "markdown",
   "metadata": {},
   "source": [
    "##### Sorting and reversing lists "
   ]
  },
  {
   "cell_type": "markdown",
   "metadata": {},
   "source": [
    "We can sort lists depending on their content. Strings will be sorted alphabetically by default, numbers numerically. We have two options:  \n",
    "* **sorted()** will keep the original order or the elements\n",
    "* **sort()** will modify the order of the elements"
   ]
  },
  {
   "cell_type": "code",
   "execution_count": 173,
   "metadata": {
    "collapsed": false
   },
   "outputs": [
    {
     "name": "stdout",
     "output_type": "stream",
     "text": [
      "Letters in alphabetical order\n",
      "a\n",
      "b\n",
      "c\n",
      "y\n",
      "z\n",
      "\n",
      "Letters in reverse alphabetical order\n",
      "z\n",
      "y\n",
      "c\n",
      "b\n",
      "a\n",
      "\n",
      "Original list order\n",
      "b\n",
      "a\n",
      "z\n",
      "c\n",
      "y\n"
     ]
    }
   ],
   "source": [
    "#using sorted()\n",
    "\n",
    "letters = ['b','a','z','c','y']\n",
    "#Print the letters in alphabetical order but keep the original order\n",
    "print('Letters in alphabetical order')\n",
    "for letter in sorted(letters):\n",
    "    print(letter)\n",
    "    \n",
    "print('\\nLetters in reverse alphabetical order')    \n",
    "#Print the letters in reverse alphabetical order but keep original order\n",
    "for letter in sorted(letters, reverse=True):\n",
    "    print(letter)\n",
    "    \n",
    "print('\\nOriginal list order')    \n",
    "#Show that the original order is preserved\n",
    "for letter in letters:\n",
    "    print(letter)"
   ]
  },
  {
   "cell_type": "code",
   "execution_count": 175,
   "metadata": {
    "collapsed": false
   },
   "outputs": [
    {
     "name": "stdout",
     "output_type": "stream",
     "text": [
      "[3, 5, 2, 10]\n"
     ]
    }
   ],
   "source": [
    "numbers = [10, 2, 5, 3]\n",
    "\n",
    "#reverse() reverses the order of the list and is permanent\n",
    "numbers.reverse()\n",
    "print(numbers)"
   ]
  },
  {
   "cell_type": "code",
   "execution_count": 201,
   "metadata": {
    "collapsed": false
   },
   "outputs": [
    {
     "name": "stdout",
     "output_type": "stream",
     "text": [
      "['all', 'and', 'here', 'over']\n",
      "['over', 'here', 'and', 'all']\n"
     ]
    }
   ],
   "source": [
    "#increasing order using sort()\n",
    "numbers.sort()\n",
    "print(numbers)\n",
    "\n",
    "#decreasing order\n",
    "numbers.sort(reverse=True)\n",
    "print(numbers)"
   ]
  },
  {
   "cell_type": "markdown",
   "metadata": {},
   "source": [
    "##### Functionality for numerical lists"
   ]
  },
  {
   "cell_type": "markdown",
   "metadata": {},
   "source": [
    "For lists containing only numbers, we have some special helper functions:\n",
    "* **range(start, stop, step)** helps us create large lists of numbers\n",
    "* **min()** returns the smallest item in a list\n",
    "* **max()** returns the largest item in a list\n",
    "* **sum()** returns the sum of all items in the list"
   ]
  },
  {
   "cell_type": "code",
   "execution_count": 206,
   "metadata": {
    "collapsed": false
   },
   "outputs": [
    {
     "name": "stdout",
     "output_type": "stream",
     "text": [
      "1\n",
      "3\n",
      "5\n",
      "7\n",
      "9\n",
      "11\n",
      "13\n",
      "15\n",
      "17\n",
      "19\n"
     ]
    }
   ],
   "source": [
    "#the range() function to print the first ten odd numbers:\n",
    "for number in range(1,21,2):\n",
    "    print(number)"
   ]
  },
  {
   "cell_type": "markdown",
   "metadata": {},
   "source": [
    "To turn this into a list, we can use the **list()** function"
   ]
  },
  {
   "cell_type": "code",
   "execution_count": 208,
   "metadata": {
    "collapsed": false
   },
   "outputs": [
    {
     "name": "stdout",
     "output_type": "stream",
     "text": [
      "[0, 1, 2, 3, 4, 5, 6, 7, 8, 9, 10, 11, 12, 13, 14]\n",
      "the minimum is: 0\n",
      "the maximum is: 14\n",
      "the sum is: 105\n"
     ]
    }
   ],
   "source": [
    "#create a list of the first 15 numbers. NOTE: starts with 0!\n",
    "numbers = list(range(15))\n",
    "print(numbers)\n",
    "\n",
    "#print min, max and sum\n",
    "print('the minimum is: {}\\nthe maximum is: {}\\nthe sum is: {}'\\\n",
    "     .format(min(numbers), max(numbers), sum(numbers)))"
   ]
  },
  {
   "cell_type": "markdown",
   "metadata": {},
   "source": [
    "## List comprehensions"
   ]
  },
  {
   "cell_type": "markdown",
   "metadata": {},
   "source": [
    "Creating more complicated lists manually is tedious. If we wanted to create a list of the first ten square numbers, it takes us three lines of code:"
   ]
  },
  {
   "cell_type": "code",
   "execution_count": 211,
   "metadata": {
    "collapsed": false
   },
   "outputs": [
    {
     "name": "stdout",
     "output_type": "stream",
     "text": [
      "[0, 1, 4, 9, 16, 25, 36, 49, 64, 81]\n"
     ]
    }
   ],
   "source": [
    "#make an empty list to store the squares\n",
    "squares = []\n",
    "\n",
    "#loop through the numbers, square them and append them to the list\n",
    "for number in range(10):\n",
    "    squares.append(number**2)\n",
    "    \n",
    "#make sure the result is correct    \n",
    "print(squares)"
   ]
  },
  {
   "cell_type": "markdown",
   "metadata": {},
   "source": [
    "We can do that in a more _pythonic_ way, using a _list comprehension_:"
   ]
  },
  {
   "cell_type": "code",
   "execution_count": 213,
   "metadata": {
    "collapsed": false
   },
   "outputs": [
    {
     "name": "stdout",
     "output_type": "stream",
     "text": [
      "[0, 1, 4, 9, 16, 25, 36, 49, 64, 81]\n"
     ]
    }
   ],
   "source": [
    "squares = [number**2 for number in range(10)]\n",
    "print(squares)"
   ]
  },
  {
   "cell_type": "markdown",
   "metadata": {},
   "source": [
    "What did just happen?\n",
    "* the part after the **for** keyword initializes a loop that runs ten times and returns the next number every time\n",
    "* the part before the **for** keyword performs an operation on the number\n",
    "* the square brackets \"channel\" the results into a list which is then assigned to the variable ```squares```"
   ]
  },
  {
   "cell_type": "markdown",
   "metadata": {},
   "source": [
    "##### A few more examples"
   ]
  },
  {
   "cell_type": "code",
   "execution_count": 219,
   "metadata": {
    "collapsed": false
   },
   "outputs": [
    {
     "name": "stdout",
     "output_type": "stream",
     "text": [
      "[0.0, 0.5, 1.0, 1.5, 2.0, 2.5, 3.0, 3.5, 4.0, 4.5, 5.0, 5.5, 6.0, 6.5, 7.0]\n",
      "[105, 106, 107, 108, 109, 110, 111, 112, 113, 114, 115, 116, 117, 118, 119]\n",
      "['deb the great', 'dimitra the great', 'jana the great']\n"
     ]
    }
   ],
   "source": [
    "#dividing every number by 2\n",
    "double = [number/2 for number in numbers]\n",
    "print(double)\n",
    "\n",
    "#adding the sum of numbers to every item\n",
    "sums = [number + sum(numbers) for number in numbers]\n",
    "print(sums)\n",
    "\n",
    "#works with strings too\n",
    "names = ['deb', 'dimitra', 'jana']\n",
    "narcicists = [name + ' the great' for name in names]\n",
    "print(narcicists)"
   ]
  },
  {
   "cell_type": "markdown",
   "metadata": {},
   "source": [
    "## Tuples"
   ]
  },
  {
   "cell_type": "markdown",
   "metadata": {},
   "source": [
    "* Basically, tuples are lists that can never be changed (e.g. _immutable_). \n",
    "* This can be handy in some cases where you want to make sure, that the vaules/positions in your container stay consistent.\n",
    "* Tuples are denoted by round brackets ()."
   ]
  },
  {
   "cell_type": "code",
   "execution_count": 247,
   "metadata": {
    "collapsed": false
   },
   "outputs": [
    {
     "name": "stdout",
     "output_type": "stream",
     "text": [
      "1\n"
     ]
    }
   ],
   "source": [
    "very_important_parameters = (1,2,3)\n",
    "print(very_important_parameters[0])"
   ]
  },
  {
   "cell_type": "markdown",
   "metadata": {},
   "source": [
    "## Sets"
   ]
  },
  {
   "cell_type": "markdown",
   "metadata": {},
   "source": [
    "* Sets are **unordered** collections of **unique** objects\n",
    "* Sets are very efficient for membership testing\n",
    "* Set can be used to perform mathematical operations like union and intersection\n",
    "* Sets are denoted by curly brackets {}\n",
    "* Sets can be created from other containers using the **set()** function"
   ]
  },
  {
   "cell_type": "code",
   "execution_count": 246,
   "metadata": {
    "collapsed": false
   },
   "outputs": [
    {
     "name": "stdout",
     "output_type": "stream",
     "text": [
      "{'a', 'c', 'd', 'b'}\n",
      "{'a', 'c', 'd', 'b', 'e'}\n",
      "{'a', 'c', 'd', 'b', 'e'}\n"
     ]
    }
   ],
   "source": [
    "#sets contain only unique elements\n",
    "letters1 = ['a','b','c','d','b','a']\n",
    "letters1 = set(letters1)\n",
    "print(letters1)\n",
    "\n",
    "letters1.add('e')\n",
    "print(letters1)\n",
    "\n",
    "letters1.add('a')\n",
    "print(letters1)"
   ]
  },
  {
   "cell_type": "code",
   "execution_count": 244,
   "metadata": {
    "collapsed": false
   },
   "outputs": [
    {
     "data": {
      "text/plain": [
       "True"
      ]
     },
     "execution_count": 244,
     "metadata": {},
     "output_type": "execute_result"
    }
   ],
   "source": [
    "#membership testing\n",
    "'b' in letters1"
   ]
  },
  {
   "cell_type": "code",
   "execution_count": 242,
   "metadata": {
    "collapsed": false
   },
   "outputs": [
    {
     "name": "stdout",
     "output_type": "stream",
     "text": [
      "{'c', 'd', 'e'}\n",
      "{'g', 'b', 'f', 'a', 'd', 'h', 'c', 'e'}\n"
     ]
    }
   ],
   "source": [
    "#operations on sets:\n",
    "letters2 = {'c','d','e','f','g','h'}\n",
    "\n",
    "#intersection\n",
    "print(letters1.intersection(letters2))\n",
    "\n",
    "#union\n",
    "print(letters1.union(letters2))"
   ]
  },
  {
   "cell_type": "markdown",
   "metadata": {},
   "source": [
    "## Dictionaries"
   ]
  },
  {
   "cell_type": "markdown",
   "metadata": {},
   "source": [
    "* Dictionaries are a way to store information that is connected in some way.\n",
    "* Dictionaries store information in key-value pairs\n",
    "* Dictionaries do not store information in any particular order\n",
    "* Syntax: ```{key : value} ```\n",
    "* like with indices in lists, we can access values by using the key to access the dictionary"
   ]
  },
  {
   "cell_type": "markdown",
   "metadata": {},
   "source": [
    "##### Example "
   ]
  },
  {
   "cell_type": "code",
   "execution_count": 259,
   "metadata": {
    "collapsed": false
   },
   "outputs": [
    {
     "name": "stdout",
     "output_type": "stream",
     "text": [
      "Word: set\n",
      "Meaning: An unordered collection of unique values\n",
      "\n",
      "Word: tuple\n",
      "Meaning: An immutable, ordered collection of values\n",
      "\n",
      "Word: dictionary\n",
      "Meaning: An unordered collection of {key:value} pairs\n",
      "\n",
      "Word: list\n",
      "Meaning: A mutable, ordered collection of values\n",
      "\n"
     ]
    }
   ],
   "source": [
    "#a dictionary of the word and meaning of different data containers\n",
    "#in python\n",
    "concepts = {'list': 'A mutable, ordered collection of values',\n",
    "            'tuple': 'An immutable, ordered collection of values',\n",
    "            'set': 'An unordered collection of unique values',\n",
    "            'dictionary': 'An unordered collection of {key:value} pairs'}\n",
    "\n",
    "#access the value by using dictionary[key]\n",
    "for key in concepts.keys():\n",
    "    meaning = concepts[key]\n",
    "    print('Word: {}'.format(key))\n",
    "    print('Meaning: {}\\n'.format(meaning))"
   ]
  },
  {
   "cell_type": "markdown",
   "metadata": {},
   "source": [
    "##### Adding and removing items"
   ]
  },
  {
   "cell_type": "code",
   "execution_count": 260,
   "metadata": {
    "collapsed": false
   },
   "outputs": [
    {
     "name": "stdout",
     "output_type": "stream",
     "text": [
      "set : An unordered collection of unique values\n",
      "function : A named set of instructions\n",
      "dictionary : An unordered collection of {key:value} pairs\n",
      "list : A mutable, ordered collection of values\n"
     ]
    }
   ],
   "source": [
    "#add a new entry\n",
    "concepts['function'] = 'A named set of instructions'\n",
    "\n",
    "#remove an existing entry\n",
    "del concepts['tuple']\n",
    "\n",
    "#print the dictionary\n",
    "for key in concepts.keys():\n",
    "    print('{} : {}'.format(key, concepts[key]))"
   ]
  },
  {
   "cell_type": "markdown",
   "metadata": {},
   "source": [
    "# 4. Exercises 04: data containers"
   ]
  },
  {
   "cell_type": "markdown",
   "metadata": {},
   "source": [
    "1. **Lists and loops**\n",
    "  1. Create a list containing strings that form a sentence\n",
    "  2. Concatenate all the list items into a single string by looping over the list\n",
    "  3. Create a list containing integers\n",
    "  4. Perform a mathematical operation on every item in the list by looping over the list\n",
    "  5. Print the result of the calculation for every iteration of the loop\n",
    "  6. Make a list with all integers from zero to ten.\n",
    "  7. Print all even and then all odd numbers in the list. Print only the first 4 and then the last 4 elements in the list.\n",
    "  8. Set every second element in the list to zero using a slice.\n",
    "2. **List operations**\n",
    "  1. Create a list containing strings using some combination of ```append()```, ```insert()``` and ```extend()```\n",
    "  2. Create a second empty list. Loop over the first list and multiply each item with its index. Store the results in the new list.\n",
    "  3. Print the length of the new list and the total number of characters in all strings of the list.  \n",
    "  HINT: strings themselves can be perceived as lists and have a ```len()```.\n",
    "  4. Create a list of the first 50 even numbers using ```range()```. Calculate the sum of the numbers once using a for loop and once using the ```sum()``` function.\n",
    "3. **List comprehensions**\n",
    "  1. Create a list of the first ten cubes using a list comprehension\n",
    "  2. Make a list with the first 100 elements of the fibonacci series. What are the problems when trying to use a list comprehension for this?\n",
    "4. **Tuples and sets**\n",
    "  1. Try to change the value of an item in a tuple.\n",
    "  2. Make two sets of ten letters each, five letters should be similar, five different for each set.\n",
    "  3. Use set operations to show that the symmetric difference of two sets is equivalent to the union of both relative complements of the sets.\n",
    "5. **Dictionaries**"
   ]
  },
  {
   "cell_type": "markdown",
   "metadata": {},
   "source": [
    "# 5. Control structures"
   ]
  },
  {
   "cell_type": "markdown",
   "metadata": {},
   "source": [
    "# 6. Exercises 05: control structures"
   ]
  },
  {
   "cell_type": "markdown",
   "metadata": {},
   "source": [
    "# 7. Functions and libraries"
   ]
  },
  {
   "cell_type": "markdown",
   "metadata": {},
   "source": [
    "# 8. Exercises 06: functions and libraries"
   ]
  },
  {
   "cell_type": "markdown",
   "metadata": {},
   "source": [
    "TODO:\n",
    "* regular expressions?\n",
    "* data containers body\n",
    "* data containers exercises\n",
    "* control structures body\n",
    "* control structures exercises\n",
    "* functions body\n",
    "* functions exercises\n",
    "* link outline to headings\n",
    "* proofread"
   ]
  },
  {
   "cell_type": "code",
   "execution_count": null,
   "metadata": {
    "collapsed": true
   },
   "outputs": [],
   "source": []
  }
 ],
 "metadata": {
  "kernelspec": {
   "display_name": "Python 3",
   "language": "python",
   "name": "python3"
  },
  "language_info": {
   "codemirror_mode": {
    "name": "ipython",
    "version": 3
   },
   "file_extension": ".py",
   "mimetype": "text/x-python",
   "name": "python",
   "nbconvert_exporter": "python",
   "pygments_lexer": "ipython3",
   "version": "3.5.2"
  }
 },
 "nbformat": 4,
 "nbformat_minor": 0
}
