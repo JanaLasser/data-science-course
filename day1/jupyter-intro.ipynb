{
 "cells": [
  {
   "cell_type": "markdown",
   "metadata": {},
   "source": [
    "# Jupyter"
   ]
  },
  {
   "cell_type": "markdown",
   "metadata": {
    "collapsed": true
   },
   "source": [
    "<a name=\"top\"></a>Outline\n",
    "---"
   ]
  },
  {
   "cell_type": "markdown",
   "metadata": {},
   "source": [
    "* [Jupyter notebooks](#jupyter)\n",
    "    * [Introduction to Jupyter](#jupyter intro)\n",
    "    * [Modal editor](#editor)\n",
    "    * [Navigation & keyboard shortcuts](#navigation)\n",
    "    * [Markdown](#markdown)\n",
    "    \n",
    "    \n",
    "* [Exercise: Jupyter](#exercise)"
   ]
  },
  {
   "cell_type": "markdown",
   "metadata": {},
   "source": [
    "**Learning goals:** By the end or this lecture you will\n",
    "* know how to write jupyter notebooks and\n",
    "* know how to write and execute code."
   ]
  },
  {
   "cell_type": "markdown",
   "metadata": {},
   "source": [
    "<a name='jupyter'></a>Jupyter\n",
    "==="
   ]
  },
  {
   "cell_type": "markdown",
   "metadata": {},
   "source": [
    "<a name='jupyter intro'></a>Jupyter introduction\n",
    "---"
   ]
  },
  {
   "cell_type": "markdown",
   "metadata": {},
   "source": [
    "##### What is jupyter?"
   ]
  },
  {
   "cell_type": "markdown",
   "metadata": {},
   "source": [
    "Jupyter is\n",
    "\n",
    "* an editor where we can write and structure text to describe what we do\n",
    "* an interpreter where we can write code, execute it and display graphics embedded in the document\n",
    "\n",
    "We will use Jupyter for the rest of the course to\n",
    "1. Teach you new concepts by presenting a jupyter-notebook file with code snippets in a short talk.\n",
    "2. Give you exercises for every new concept to play around with (coding is learning by doing first and foremost!).\n",
    "3. Give you access to the teaching-notebook so you can copy/use existing code snippets.\n",
    "\n",
    "Different functionalities require different _cells_:  \n",
    "* markdown cells for text\n",
    "* code cells for code \n",
    "\n",
    "*Markdown* is a simple way to structure text (make it look nicer) using a couple of symbols"
   ]
  },
  {
   "cell_type": "markdown",
   "metadata": {},
   "source": [
    "**this** is a _markdown_ cell"
   ]
  },
  {
   "cell_type": "code",
   "execution_count": null,
   "metadata": {
    "collapsed": true
   },
   "outputs": [],
   "source": [
    "#this is a code cell\n",
    "3 * 10"
   ]
  },
  {
   "cell_type": "markdown",
   "metadata": {},
   "source": [
    "##### The notebook document itself"
   ]
  },
  {
   "cell_type": "markdown",
   "metadata": {},
   "source": [
    "* Notebooks are HTML code.\n",
    "* Files are named .ipynb and reside in the _dashboard_ (click on the 'jupyter' icon in the upper left corner to get to the dashboard).\n",
    "* At the dashboard you can create new files and stop execution of running notebooks.\n",
    "* Notebooks are shown/run in a browser like firefox, chromium or edge.\n",
    "* The code is executed by a kernel (in our case python, but can be other languages too)."
   ]
  },
  {
   "cell_type": "markdown",
   "metadata": {},
   "source": [
    "[top](#top)"
   ]
  },
  {
   "cell_type": "markdown",
   "metadata": {},
   "source": [
    "<a name='editor'></a>Modal editor\n",
    "---"
   ]
  },
  {
   "cell_type": "markdown",
   "metadata": {},
   "source": [
    "Jupyter notebook has a modal user interface. This means that the keyboard does different things depending on which mode the Notebook is in. There are two modes: edit mode and command mode."
   ]
  },
  {
   "cell_type": "markdown",
   "metadata": {},
   "source": [
    "**Edit mode** is indicated by a green and **Command mode** by a grey cell border:"
   ]
  },
  {
   "cell_type": "code",
   "execution_count": null,
   "metadata": {
    "collapsed": true
   },
   "outputs": [],
   "source": []
  },
  {
   "cell_type": "markdown",
   "metadata": {},
   "source": [
    "When a cell is in edit mode, you can type into the cell, like a normal text editor.  \n",
    "\n",
    "When you are in command mode, you are able to edit the notebook as a whole, but not type into individual cells. Most importantly, in command mode, the keyboard is mapped to a set of shortcuts that let you perform notebook and cell actions efficiently. For example, if you are in command mode and you press `c`, you will copy the current cell and paste it by pressing `v` - no modifier is needed."
   ]
  },
  {
   "cell_type": "markdown",
   "metadata": {},
   "source": [
    "<div class=\"alert alert-success\" style=\"margin: 10px\">\n",
    "Enter edit mode by pressing `enter` or using the mouse to click *inside* a cell's editor area.\n",
    "</div>"
   ]
  },
  {
   "cell_type": "markdown",
   "metadata": {},
   "source": [
    "<div class=\"alert alert-success\" style=\"margin: 10px\">\n",
    "Enter command mode by pressing `esc` or using the mouse to click *outside* a cell's editor area.\n",
    "</div>"
   ]
  },
  {
   "cell_type": "markdown",
   "metadata": {},
   "source": [
    "[top](#top)"
   ]
  },
  {
   "cell_type": "markdown",
   "metadata": {},
   "source": [
    "<a name='navigation'></a>Navigation\n",
    "---"
   ]
  },
  {
   "cell_type": "markdown",
   "metadata": {},
   "source": [
    "**Mouse navigation:** All navigation and actions in the Notebook are available using the mouse through the menubar and toolbar, which are both above the main Notebook area.  \n",
    "\n",
    "**Keyboard navigation:** In edit mode, most of the keyboard is dedicated to typing into the cell's editor. In command mode, the entire keyboard is available for shortcuts."
   ]
  },
  {
   "cell_type": "markdown",
   "metadata": {},
   "source": [
    "##### Keyboard shortcuts (edit mode):"
   ]
  },
  {
   "cell_type": "markdown",
   "metadata": {},
   "source": [
    "In edit mode, keyboard shortcuts are similar to text editors like word, gedit etc. Examples:\n",
    "* `ctrl-c` to copy\n",
    "* `ctrl-v` to paste\n",
    "* `tab` for text-completion.\n"
   ]
  },
  {
   "cell_type": "markdown",
   "metadata": {},
   "source": [
    "##### Keyboard shortcuts (command mode):"
   ]
  },
  {
   "cell_type": "markdown",
   "metadata": {},
   "source": [
    "Most important:\n",
    "* `enter` enters edit mode\n",
    "* `esc` enters command mode\n",
    "* `h` calls the help menu\n",
    "---\n",
    "Basic navigation:\n",
    "* `up/down` select cell above/below\n",
    "* `shift-enter` execute cell and select below\n",
    "* `alt-enter` execute cell and insert new cell below\n",
    "---\n",
    "Cell types:\n",
    "* `y` to code\n",
    "* `m` to markdown\n",
    "---\n",
    "Cell editing:\n",
    "* `d-d` delete cell\n",
    "* `c` copy cell\n",
    "* `x` cut cell\n",
    "* `v` paste cell\n",
    "* `shift-up/down` to select multiple cells"
   ]
  },
  {
   "cell_type": "code",
   "execution_count": 2,
   "metadata": {},
   "outputs": [
    {
     "data": {
      "text/plain": [
       "9"
      ]
     },
     "execution_count": 2,
     "metadata": {},
     "output_type": "execute_result"
    }
   ],
   "source": [
    "3+6"
   ]
  },
  {
   "cell_type": "markdown",
   "metadata": {},
   "source": [
    "[top](#top)"
   ]
  },
  {
   "cell_type": "markdown",
   "metadata": {},
   "source": [
    "<a name='markdown'></a>Markdown\n",
    "---"
   ]
  },
  {
   "cell_type": "markdown",
   "metadata": {},
   "source": [
    "##### Text formatting"
   ]
  },
  {
   "cell_type": "markdown",
   "metadata": {},
   "source": [
    "You can make text _italic_ or **bold** or `monospace`"
   ]
  },
  {
   "cell_type": "markdown",
   "metadata": {},
   "source": [
    "---\n",
    "# You\n",
    "## can\n",
    "### have\n",
    "#### headings"
   ]
  },
  {
   "cell_type": "markdown",
   "metadata": {},
   "source": [
    "---\n",
    "Courtesy of MathJax, you can beautifully render mathematical expressions, both inline: \n",
    "$e^{i\\pi} + 1 = 0$, and displayed:\n",
    "\n",
    "$$e^x=\\sum_{i=0}^\\infty \\frac{1}{i!}x^i$$"
   ]
  },
  {
   "cell_type": "markdown",
   "metadata": {},
   "source": [
    "##### Lists\n",
    "Itemized list\n",
    "* One\n",
    "  - sublist\n",
    "    - subsublist\n",
    "* Two\n",
    "  - sublist\n",
    "* Three\n",
    "  - sublist\n",
    "    - subsublist\n",
    "      - subsubsublist"
   ]
  },
  {
   "cell_type": "markdown",
   "metadata": {},
   "source": [
    "---\n",
    "Enumerated list\n",
    "1. First\n",
    "  1. sublist\n",
    "  2. sublist\n",
    "2. Second"
   ]
  },
  {
   "cell_type": "markdown",
   "metadata": {},
   "source": [
    "##### Code\n",
    "This is a code snippet (NOT EXECUTABLE!):    \n",
    "    \n",
    "```Python\n",
    "def f(x):\n",
    "    \"\"\"a docstring\"\"\"\n",
    "    return x**2\n",
    "```\n",
    "  "
   ]
  },
  {
   "cell_type": "markdown",
   "metadata": {},
   "source": [
    "##### Tables\n",
    "Time (s) | Audience Interest\n",
    "---------|------------------\n",
    " 0       | High\n",
    " 1       | Medium\n",
    " 3       | Food"
   ]
  },
  {
   "cell_type": "markdown",
   "metadata": {},
   "source": [
    "##### Command line\n",
    "Execute commands on the command line by prepending a '!' to the command."
   ]
  },
  {
   "cell_type": "code",
   "execution_count": 3,
   "metadata": {},
   "outputs": [
    {
     "name": "stdout",
     "output_type": "stream",
     "text": [
      "01-git.pdf  02-numpy_matplot.ipynb  jupyter-intro.ipynb\r\n"
     ]
    }
   ],
   "source": [
    "!ls #or 'dir' for windows"
   ]
  },
  {
   "cell_type": "markdown",
   "metadata": {},
   "source": [
    "[top](#top)"
   ]
  },
  {
   "cell_type": "markdown",
   "metadata": {},
   "source": [
    "<a name='exercise'></a>Exercise: Jupyter\n",
    "==="
   ]
  },
  {
   "cell_type": "markdown",
   "metadata": {},
   "source": [
    "0. **Git**\n",
    "  1. Create a new branch for the current day and switch to it. A good idea is to create a new branch every day for the day-to-day work and merge it back to master at the end of the day if everything works. Alternatively you can create a separate branch for every exercise but that is probably a bit tedious.\n",
    "1. **The Dashboard**\n",
    "  1. Create a new notebook.\n",
    "  2. Give the notebook a meaningful name.\n",
    "  3. Add the notebook to your working branch's index.\n",
    "  4. Give the notebook a structure for the exercises using new cells and headings.\n",
    "2. **Keyboard shortcuts** \n",
    "  1. Learn 3-4 useful keyboard shortcuts and use them whenever possible.\n",
    "  2. Make a table with your favourite keyboard shortcuts.\n",
    "  3. Find three more useful shortcuts for jupyter notebook in the help menu/documentation.\n",
    "3. **Markdown & Code**\n",
    "  1. Practice text formatting using\n",
    "  2. lists and\n",
    "  3. LaTeX. \n",
    "  4. Make a code cell, and type in some basic calculations.\n",
    "  5. Execute the code cell (```shift-enter```) to see the results of the calculations.\n",
    "4. **(Optional) Command line**\n",
    "  1. Experiment with command line input.\n",
    "  2. Find out how to display an image in jupyter notebook using the command line.\n",
    "5. **Git**\n",
    "  1. Commit the notebook to the working branch (commit message!).\n",
    "  2. (Optional) Make a change in the notebook (for example 'accidentally' deleting it) and undo the change using git."
   ]
  },
  {
   "cell_type": "markdown",
   "metadata": {},
   "source": [
    "[Kudos to **Aron Ahmadia** (US Army ERDC) and **David Ketcheson** (KAUST) from whom I copied shamelessly]"
   ]
  },
  {
   "cell_type": "markdown",
   "metadata": {},
   "source": [
    "[top](#top)"
   ]
  }
 ],
 "metadata": {
  "kernelspec": {
   "display_name": "Python 3",
   "language": "python",
   "name": "python3"
  },
  "language_info": {
   "codemirror_mode": {
    "name": "ipython",
    "version": 3
   },
   "file_extension": ".py",
   "mimetype": "text/x-python",
   "name": "python",
   "nbconvert_exporter": "python",
   "pygments_lexer": "ipython3",
   "version": "3.5.2"
  }
 },
 "nbformat": 4,
 "nbformat_minor": 1
}
