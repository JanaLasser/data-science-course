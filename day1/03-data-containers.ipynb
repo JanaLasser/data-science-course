{
 "cells": [
  {
   "cell_type": "markdown",
   "metadata": {
    "collapsed": true
   },
   "source": [
    "[Day 1 afternoon **_\"Python crash course part 2\"_**]"
   ]
  },
  {
   "cell_type": "markdown",
   "metadata": {
    "collapsed": true
   },
   "source": [
    "<a name=\"data containers\"></a>Data Containers\n",
    "==="
   ]
  },
  {
   "cell_type": "markdown",
   "metadata": {},
   "source": [
    "<a name=\"top\"></a>Outline\n",
    "---"
   ]
  },
  {
   "cell_type": "markdown",
   "metadata": {},
   "source": [
    "* [Data Containers](#data containers)\n",
    "  * [Lists](#lists)\n",
    "  * [Accessing list elements](#accessing elements)\n",
    "  * [List operations](#list operations)\n",
    "  * [List comprehensions](#list comprehensions)\n",
    "  * [Tuples and sets](#sets)\n",
    "  * [Dictionaries](#dictionaries)\n",
    "* [Exercises 04: Data Containers](#exercise04)"
   ]
  },
  {
   "cell_type": "markdown",
   "metadata": {},
   "source": [
    "**Learning goals:** By the end or this lecture you will\n",
    "* have learned the concept of an _iterable_ in Python\n",
    "* know how to store and access variables in lists\n",
    "* know how to create sofisticated lists automatically\n",
    "* know the difference between a list, a tupe, a set and a dictionary"
   ]
  },
  {
   "cell_type": "markdown",
   "metadata": {
    "collapsed": true
   },
   "source": [
    "<a name=\"lists\"></a>Lists\n",
    "---"
   ]
  },
  {
   "cell_type": "markdown",
   "metadata": {
    "collapsed": true
   },
   "source": [
    "* lists are collections of items, stored in a variable\n",
    "* there is no restrictions on what can be stored in a list\n",
    "* lists are declared using squared brackets\n",
    "* items in a list are separated with commas"
   ]
  },
  {
   "cell_type": "markdown",
   "metadata": {},
   "source": [
    "_Everything in Python that can be perceived as a collection of different items is an **iterable**_ (i.e. we can _iterate_ over its items)"
   ]
  },
  {
   "cell_type": "markdown",
   "metadata": {
    "collapsed": true
   },
   "source": [
    "##### Example "
   ]
  },
  {
   "cell_type": "code",
   "execution_count": 1,
   "metadata": {
    "collapsed": true
   },
   "outputs": [
    {
     "name": "stdout",
     "output_type": "stream",
     "text": [
      "data science is reproducible\n",
      "data science is transparent\n",
      "data science is open\n",
      "data science is scalable\n"
     ]
    }
   ],
   "source": [
    "data_science = ['reproducible', 'transparent', 'open', 'scalable']\n",
    "for trait in data_science:\n",
    "    print (\"data science is {}\".format(trait))"
   ]
  },
  {
   "cell_type": "markdown",
   "metadata": {
    "collapsed": true
   },
   "source": [
    "##### List index"
   ]
  },
  {
   "cell_type": "markdown",
   "metadata": {
    "collapsed": true
   },
   "source": [
    "You can access a specific item in a list using its **index** (i.e. position) in the list.  \n",
    "**NOTE:** the list index starts with zero."
   ]
  },
  {
   "cell_type": "code",
   "execution_count": 2,
   "metadata": {
    "collapsed": true
   },
   "outputs": [
    {
     "name": "stdout",
     "output_type": "stream",
     "text": [
      "reproducible\n"
     ]
    }
   ],
   "source": [
    "first_trait = data_science[0]\n",
    "print(first_trait)"
   ]
  },
  {
   "cell_type": "markdown",
   "metadata": {
    "collapsed": true
   },
   "source": [
    "You can also use negative indices to traverse the list from end to start."
   ]
  },
  {
   "cell_type": "code",
   "execution_count": 3,
   "metadata": {
    "collapsed": true
   },
   "outputs": [
    {
     "name": "stdout",
     "output_type": "stream",
     "text": [
      "scalable\n"
     ]
    }
   ],
   "source": [
    "last_trait = data_science[-1]\n",
    "print(last_trait)"
   ]
  },
  {
   "cell_type": "markdown",
   "metadata": {
    "collapsed": true
   },
   "source": [
    "##### Index error "
   ]
  },
  {
   "cell_type": "code",
   "execution_count": 4,
   "metadata": {
    "collapsed": true
   },
   "outputs": [
    {
     "ename": "IndexError",
     "evalue": "list index out of range",
     "output_type": "error",
     "traceback": [
      "\u001b[1;31m---------------------------------------------------------------------------\u001b[0m",
      "\u001b[1;31mIndexError\u001b[0m                                Traceback (most recent call last)",
      "\u001b[1;32m<ipython-input-4-63f5b62dd8c9>\u001b[0m in \u001b[0;36m<module>\u001b[1;34m()\u001b[0m\n\u001b[1;32m----> 1\u001b[1;33m \u001b[0mdata_science\u001b[0m\u001b[1;33m[\u001b[0m\u001b[1;36m4\u001b[0m\u001b[1;33m]\u001b[0m\u001b[1;33m\u001b[0m\u001b[0m\n\u001b[0m",
      "\u001b[1;31mIndexError\u001b[0m: list index out of range"
     ]
    }
   ],
   "source": [
    "data_science[4]"
   ]
  },
  {
   "cell_type": "markdown",
   "metadata": {
    "collapsed": true
   },
   "source": [
    "If you try to access an index that lies outside the length of the list, you will get an **IndexError**.  \n",
    "**HINT:** you can check the number of elements in a list using the ```len()``` functionality."
   ]
  },
  {
   "cell_type": "code",
   "execution_count": 1,
   "metadata": {
    "collapsed": true
   },
   "outputs": [
    {
     "ename": "NameError",
     "evalue": "name 'data_science' is not defined",
     "output_type": "error",
     "traceback": [
      "\u001b[1;31m---------------------------------------------------------------------------\u001b[0m",
      "\u001b[1;31mNameError\u001b[0m                                 Traceback (most recent call last)",
      "\u001b[1;32m<ipython-input-1-fa8504fade00>\u001b[0m in \u001b[0;36m<module>\u001b[1;34m()\u001b[0m\n\u001b[1;32m----> 1\u001b[1;33m \u001b[0mnum_elements\u001b[0m \u001b[1;33m=\u001b[0m \u001b[0mlen\u001b[0m\u001b[1;33m(\u001b[0m\u001b[0mdata_science\u001b[0m\u001b[1;33m)\u001b[0m\u001b[1;33m\u001b[0m\u001b[0m\n\u001b[0m\u001b[0;32m      2\u001b[0m \u001b[0mprint\u001b[0m\u001b[1;33m(\u001b[0m\u001b[1;34m'data science has {} traits'\u001b[0m\u001b[1;33m.\u001b[0m\u001b[0mformat\u001b[0m\u001b[1;33m(\u001b[0m\u001b[0mnum_elements\u001b[0m\u001b[1;33m)\u001b[0m\u001b[1;33m)\u001b[0m\u001b[1;33m\u001b[0m\u001b[0m\n",
      "\u001b[1;31mNameError\u001b[0m: name 'data_science' is not defined"
     ]
    }
   ],
   "source": [
    "num_elements = len(data_science)\n",
    "print('data science has {} traits'.format(num_elements))"
   ]
  },
  {
   "cell_type": "markdown",
   "metadata": {},
   "source": [
    "[top](#top)"
   ]
  },
  {
   "cell_type": "markdown",
   "metadata": {
    "collapsed": true
   },
   "source": [
    "<a name=\"accessing elements\"></a>Accessing elements\n",
    "---"
   ]
  },
  {
   "cell_type": "markdown",
   "metadata": {
    "collapsed": true
   },
   "source": [
    "##### Looping over lists "
   ]
  },
  {
   "cell_type": "markdown",
   "metadata": {
    "collapsed": true
   },
   "source": [
    "This is one of the most important concepts related to lists. You can have a list with a million items in it, and in three lines of code you can write a sentence for each of those million items.  \n",
    "\n",
    "We use a loop to access all the elements in a list. A loop is a block of code that repeats itself until it runs out of items to work with, or until a certain condition is met. In this case, our loop will run once for every item in our list."
   ]
  },
  {
   "cell_type": "code",
   "execution_count": null,
   "metadata": {
    "collapsed": true
   },
   "outputs": [],
   "source": [
    "for trait in data_science:\n",
    "    print(trait)"
   ]
  },
  {
   "cell_type": "markdown",
   "metadata": {
    "collapsed": true
   },
   "source": [
    "What happened?\n",
    "* ```for``` is a keyword in python that is used to start a _loop_.\n",
    "* ```trait``` is a temporary variable that is only known to the program _within_ the loop.\n",
    "* The temporary variable has the value of each of the items in the list for each run of the loop respectively.\n",
    "* The loop will run four times as the number of items in the list is four and then finish.  \n",
    "\n",
    "The ```for``` keyword is also an example of a control element (more on that later).  \n",
    "**NOTE:** The colon after the first line is how python knows that the control element just ended.  "
   ]
  },
  {
   "cell_type": "markdown",
   "metadata": {
    "collapsed": true
   },
   "source": [
    "##### Inside and outside loops"
   ]
  },
  {
   "cell_type": "markdown",
   "metadata": {
    "collapsed": true
   },
   "source": [
    "Python uses _indentation_ to recognize which parts of the code are inside and outside a loop. Use at least a ```tab``` (and not an single whitespace) to indent your code to make the structure clearly recognizeable!"
   ]
  },
  {
   "cell_type": "code",
   "execution_count": null,
   "metadata": {
    "collapsed": true
   },
   "outputs": [],
   "source": [
    "for trait in data_science:\n",
    "    print('important trait:')\n",
    "    print(trait + '\\n')\n",
    "\n",
    "print(\"It's time to change the example list...\")"
   ]
  },
  {
   "cell_type": "code",
   "execution_count": null,
   "metadata": {
    "collapsed": true
   },
   "outputs": [],
   "source": [
    "cool_tools = ['jupyter', 'git', 'xenodo', 'bokeh']"
   ]
  },
  {
   "cell_type": "markdown",
   "metadata": {
    "collapsed": true
   },
   "source": [
    "##### Enumerating "
   ]
  },
  {
   "cell_type": "markdown",
   "metadata": {
    "collapsed": true
   },
   "source": [
    "While looping through a list, you might be interested in the index of the current item. There are two neat ways of achieving that:"
   ]
  },
  {
   "cell_type": "code",
   "execution_count": null,
   "metadata": {
    "collapsed": true
   },
   "outputs": [],
   "source": [
    "# access the index of a certain item in the list\n",
    "print(data_science.index('open'))"
   ]
  },
  {
   "cell_type": "code",
   "execution_count": null,
   "metadata": {
    "collapsed": true
   },
   "outputs": [],
   "source": [
    "# access every index of every item in the list\n",
    "for index, tool in enumerate(cool_tools):\n",
    "    print('{}. cool tool is {}'.format(index, tool))"
   ]
  },
  {
   "cell_type": "markdown",
   "metadata": {
    "collapsed": true
   },
   "source": [
    "We can also modify values the loop _returns_ to us:"
   ]
  },
  {
   "cell_type": "code",
   "execution_count": null,
   "metadata": {
    "collapsed": true
   },
   "outputs": [],
   "source": [
    "print(\"actually zero doesn't make much sense for an index...\\n\" )\n",
    "for index, tool in enumerate(cool_tools):\n",
    "    print('{}. cool tool is {}'.format(index + 1, tool))"
   ]
  },
  {
   "cell_type": "markdown",
   "metadata": {
    "collapsed": true
   },
   "source": [
    "##### Iteration keywords "
   ]
  },
  {
   "cell_type": "markdown",
   "metadata": {
    "collapsed": true
   },
   "source": [
    "You can use two additional keywords _inside_ loops like a ```for``` (and later a ```while``` loop):  \n",
    "* **break** will immediately _end_ the loop and exit it\n",
    "* **continue** will _skip_ to the next iteration step"
   ]
  },
  {
   "cell_type": "markdown",
   "metadata": {
    "collapsed": true
   },
   "source": [
    "##### Slicing lists "
   ]
  },
  {
   "cell_type": "markdown",
   "metadata": {
    "collapsed": true
   },
   "source": [
    "A very powerful concept for accessing lists is slicing. It allows you to access any subset of the items in the list. For this we access the list using\n",
    "* the start index\n",
    "* the stop index\n",
    "* the stepsize (which is optional and 1 per default)  \n",
    "\n",
    "```[start : stop (: step)]```"
   ]
  },
  {
   "cell_type": "code",
   "execution_count": null,
   "metadata": {
    "collapsed": true
   },
   "outputs": [],
   "source": [
    "numbers = [1, 2, 3, 4, 5, 6, 7]\n",
    "# items in the middle of the list using only start and stop\n",
    "print(numbers[2:5])\n",
    "\n",
    "# all even numbers \n",
    "print(numbers[1:-1:2])\n",
    "\n",
    "# first two items\n",
    "print(numbers[0:2])\n",
    "\n",
    "#  last four items (notice: ommiting 'end' means 'until list end')\n",
    "print(numbers[-4:])"
   ]
  },
  {
   "cell_type": "markdown",
   "metadata": {
    "collapsed": true
   },
   "source": [
    "##### Copying lists"
   ]
  },
  {
   "cell_type": "markdown",
   "metadata": {
    "collapsed": true
   },
   "source": [
    "Note that you can assign list slices to variables and you can make a copy of the whole list like this:"
   ]
  },
  {
   "cell_type": "code",
   "execution_count": null,
   "metadata": {
    "collapsed": true
   },
   "outputs": [],
   "source": [
    "# assign a new variable to a slice\n",
    "strings = ['here', 'there', 'and', 'all', 'over']\n",
    "view = numbers[0:2]\n",
    "print(view)\n",
    "\n",
    "# copy the list using the slicing syntax\n",
    "copied_strings = strings[:]\n",
    "print(copied_strings)"
   ]
  },
  {
   "cell_type": "markdown",
   "metadata": {},
   "source": [
    "[top](#top)"
   ]
  },
  {
   "cell_type": "markdown",
   "metadata": {
    "collapsed": true
   },
   "source": [
    "<a name=\"list operations\"></a>List operations\n",
    "---"
   ]
  },
  {
   "cell_type": "markdown",
   "metadata": {
    "collapsed": true
   },
   "source": [
    "##### Modifying elements \n",
    "You can change the value of any list element by accessing it via its index:"
   ]
  },
  {
   "cell_type": "code",
   "execution_count": null,
   "metadata": {
    "collapsed": true
   },
   "outputs": [],
   "source": [
    "print(cool_tools)\n",
    "cool_tools[2] = 'scipy'\n",
    "cool_tools[3] = 'numpy'\n",
    "print(cool_tools)"
   ]
  },
  {
   "cell_type": "markdown",
   "metadata": {
    "collapsed": true
   },
   "source": [
    "##### Checking for existence "
   ]
  },
  {
   "cell_type": "markdown",
   "metadata": {
    "collapsed": true
   },
   "source": [
    "If you don't know, if a certain item is in a list, you can use the **in** keyword to check"
   ]
  },
  {
   "cell_type": "code",
   "execution_count": null,
   "metadata": {
    "collapsed": true
   },
   "outputs": [],
   "source": [
    "print('numpy' in cool_tools)\n",
    "print('xenodo' in cool_tools)"
   ]
  },
  {
   "cell_type": "markdown",
   "metadata": {
    "collapsed": true
   },
   "source": [
    "##### Adding items to a list "
   ]
  },
  {
   "cell_type": "markdown",
   "metadata": {
    "collapsed": true
   },
   "source": [
    "If you want to add items to a list you can use\n",
    "* **insert()** to add an item at a certain position\n",
    "* **append()** to add an item to the end of the list\n",
    "* **extend()** to append another list to your list"
   ]
  },
  {
   "cell_type": "code",
   "execution_count": null,
   "metadata": {
    "collapsed": true
   },
   "outputs": [],
   "source": [
    "string_list = ['a', 'b', 'c']\n",
    "number_list = [1, 2, 3]"
   ]
  },
  {
   "cell_type": "code",
   "execution_count": null,
   "metadata": {
    "collapsed": true
   },
   "outputs": [],
   "source": [
    "# insert\n",
    "string_list.insert(2,'z')\n",
    "print(string_list)"
   ]
  },
  {
   "cell_type": "code",
   "execution_count": null,
   "metadata": {
    "collapsed": true
   },
   "outputs": [],
   "source": [
    "# append\n",
    "string_list.append('y')\n",
    "print(string_list)"
   ]
  },
  {
   "cell_type": "code",
   "execution_count": null,
   "metadata": {
    "collapsed": true
   },
   "outputs": [],
   "source": [
    "# extend\n",
    "string_list.extend(number_list)\n",
    "print(string_list)"
   ]
  },
  {
   "cell_type": "markdown",
   "metadata": {
    "collapsed": true
   },
   "source": [
    "##### Removing items from a list "
   ]
  },
  {
   "cell_type": "markdown",
   "metadata": {
    "collapsed": true
   },
   "source": [
    "If you want to remove items from a list, you can use\n",
    "* **remove()** to remove a certain item by value\n",
    "* **del** to remove an item at a certain index\n",
    "* **pop()** to remove and return the last item in the list"
   ]
  },
  {
   "cell_type": "code",
   "execution_count": null,
   "metadata": {
    "collapsed": true
   },
   "outputs": [],
   "source": [
    "cool_tools = ['jupyter', 'git', 'xenodo', 'bokeh']\n",
    "cool_tools.remove('jupyter')\n",
    "print(cool_tools)"
   ]
  },
  {
   "cell_type": "code",
   "execution_count": null,
   "metadata": {
    "collapsed": true
   },
   "outputs": [],
   "source": [
    "del cool_tools[1]\n",
    "print(cool_tools)"
   ]
  },
  {
   "cell_type": "code",
   "execution_count": null,
   "metadata": {
    "collapsed": true
   },
   "outputs": [],
   "source": [
    "last_item = cool_tools.pop()\n",
    "print(last_item)"
   ]
  },
  {
   "cell_type": "markdown",
   "metadata": {
    "collapsed": true
   },
   "source": [
    "##### Empty lists "
   ]
  },
  {
   "cell_type": "markdown",
   "metadata": {
    "collapsed": true
   },
   "source": [
    "Sometimes it can be useful to initialize an empty list that can be filled with items later on."
   ]
  },
  {
   "cell_type": "code",
   "execution_count": null,
   "metadata": {
    "collapsed": true
   },
   "outputs": [],
   "source": [
    "letters = ['a', 'b', 'c', 'd']\n",
    "# here we initialize an empty list\n",
    "alphabet = []\n",
    "\n",
    "# we fill the new list in the loop\n",
    "for letter in letters:\n",
    "    alphabet.append(letter + letter)\n",
    "    \n",
    "print(alphabet)"
   ]
  },
  {
   "cell_type": "markdown",
   "metadata": {
    "collapsed": true
   },
   "source": [
    "##### Sorting and reversing lists "
   ]
  },
  {
   "cell_type": "markdown",
   "metadata": {
    "collapsed": true
   },
   "source": [
    "We can sort lists depending on their content. Strings will be sorted alphabetically by default, numbers numerically. We have two options:  \n",
    "* **sorted()** will keep the original order or the elements\n",
    "* **sort()** will modify the order of the elements"
   ]
  },
  {
   "cell_type": "code",
   "execution_count": null,
   "metadata": {
    "collapsed": true
   },
   "outputs": [],
   "source": [
    "# using sorted()\n",
    "\n",
    "letters = ['b','a','z','c','y']\n",
    "# Print the letters in alphabetical order but keep the original order\n",
    "print('Letters in alphabetical order')\n",
    "for letter in sorted(letters):\n",
    "    print(letter)\n",
    "    \n",
    "print('\\nLetters in reverse alphabetical order')    \n",
    "# Print the letters in reverse alphabetical order but keep original order\n",
    "for letter in sorted(letters, reverse=True):\n",
    "    print(letter)\n",
    "    \n",
    "print('\\nOriginal list order')    \n",
    "# Show that the original order is preserved\n",
    "for letter in letters:\n",
    "    print(letter)"
   ]
  },
  {
   "cell_type": "code",
   "execution_count": null,
   "metadata": {
    "collapsed": true
   },
   "outputs": [],
   "source": [
    "numbers = [10, 2, 5, 3]\n",
    "\n",
    "# reverse() reverses the order of the list and is permanent\n",
    "numbers.reverse()\n",
    "print(numbers)"
   ]
  },
  {
   "cell_type": "code",
   "execution_count": null,
   "metadata": {
    "collapsed": true
   },
   "outputs": [],
   "source": [
    "# increasing order using sort()\n",
    "numbers.sort()\n",
    "print(numbers)\n",
    "\n",
    "# decreasing order\n",
    "numbers.sort(reverse=True)\n",
    "print(numbers)"
   ]
  },
  {
   "cell_type": "markdown",
   "metadata": {
    "collapsed": true
   },
   "source": [
    "##### Functionality for numerical lists"
   ]
  },
  {
   "cell_type": "markdown",
   "metadata": {
    "collapsed": true
   },
   "source": [
    "For lists containing only numbers, we have some special helper functions:\n",
    "* **range(start, stop, step)** helps us create large lists of numbers\n",
    "* **min()** returns the smallest item in a list\n",
    "* **max()** returns the largest item in a list\n",
    "* **sum()** returns the sum of all items in the list"
   ]
  },
  {
   "cell_type": "code",
   "execution_count": null,
   "metadata": {
    "collapsed": true
   },
   "outputs": [],
   "source": [
    "# using the range() function to print the first ten odd numbers:\n",
    "for number in range(1,21,2):\n",
    "    print(number)"
   ]
  },
  {
   "cell_type": "markdown",
   "metadata": {
    "collapsed": true
   },
   "source": [
    "To turn this into a list, we can use the **list()** function"
   ]
  },
  {
   "cell_type": "code",
   "execution_count": null,
   "metadata": {
    "collapsed": true
   },
   "outputs": [],
   "source": [
    "# create a list of the first 15 numbers.\n",
    "# NOTE: starts with 0!\n",
    "numbers = list(range(15))\n",
    "print(numbers)\n",
    "\n",
    "# print min, max and sum\n",
    "print('the minimum is: {}\\nthe maximum is: {}\\nthe sum is: {}'\\\n",
    "     .format(min(numbers), max(numbers), sum(numbers)))"
   ]
  },
  {
   "cell_type": "markdown",
   "metadata": {},
   "source": [
    "[top](#top)"
   ]
  },
  {
   "cell_type": "markdown",
   "metadata": {
    "collapsed": true
   },
   "source": [
    "<a name=\"list comprehensions\"></a>List comprehensions\n",
    "---"
   ]
  },
  {
   "cell_type": "markdown",
   "metadata": {
    "collapsed": true
   },
   "source": [
    "Creating more complicated lists manually is tedious. If we wanted to create a list of the first ten square numbers, it takes us three lines of code:"
   ]
  },
  {
   "cell_type": "code",
   "execution_count": null,
   "metadata": {
    "collapsed": true
   },
   "outputs": [],
   "source": [
    "# make an empty list to store the squares\n",
    "squares = []\n",
    "\n",
    "# loop through the numbers, square them and append them to the list\n",
    "for number in range(10):\n",
    "    squares.append(number**2)\n",
    "    \n",
    "# make sure the result is correct    \n",
    "print(squares)"
   ]
  },
  {
   "cell_type": "markdown",
   "metadata": {
    "collapsed": true
   },
   "source": [
    "We can do that in a more _pythonic_ way, using a _list comprehension_:"
   ]
  },
  {
   "cell_type": "code",
   "execution_count": null,
   "metadata": {
    "collapsed": true
   },
   "outputs": [],
   "source": [
    "squares = [number**2 for number in range(10)]\n",
    "print(squares)"
   ]
  },
  {
   "cell_type": "markdown",
   "metadata": {
    "collapsed": true
   },
   "source": [
    "What did just happen?\n",
    "* the part after the **for** keyword initializes a loop that runs ten times and returns the next number every time\n",
    "* the part before the **for** keyword performs an operation on the number\n",
    "* the square brackets \"channel\" the results into a list which is then assigned to the variable ```squares```"
   ]
  },
  {
   "cell_type": "markdown",
   "metadata": {
    "collapsed": true
   },
   "source": [
    "##### A few more examples"
   ]
  },
  {
   "cell_type": "code",
   "execution_count": null,
   "metadata": {
    "collapsed": true
   },
   "outputs": [],
   "source": [
    "# dividing every number by 2\n",
    "double = [number/2 for number in numbers]\n",
    "print(double)\n",
    "\n",
    "# adding the sum of numbers to every item\n",
    "sums = [number + sum(numbers) for number in numbers]\n",
    "print(sums)\n",
    "\n",
    "# works with strings too\n",
    "names = ['deb', 'dimitra', 'jana']\n",
    "narcicists = [name + ' the great' for name in names]\n",
    "print(narcicists)"
   ]
  },
  {
   "cell_type": "markdown",
   "metadata": {},
   "source": [
    "[top](#top)"
   ]
  },
  {
   "cell_type": "markdown",
   "metadata": {
    "collapsed": true
   },
   "source": [
    "<a name=\"sets\"></a>Tuples and sets\n",
    "---"
   ]
  },
  {
   "cell_type": "markdown",
   "metadata": {},
   "source": [
    "##### Tuples"
   ]
  },
  {
   "cell_type": "markdown",
   "metadata": {
    "collapsed": true
   },
   "source": [
    "* Basically, tuples are lists that can never be changed (e.g. _immutable_). \n",
    "* This can be handy in some cases where you want to make sure, that the vaules/positions in your container stay consistent.\n",
    "* Tuples are denoted by round brackets ()."
   ]
  },
  {
   "cell_type": "code",
   "execution_count": 1,
   "metadata": {
    "collapsed": true
   },
   "outputs": [
    {
     "name": "stdout",
     "output_type": "stream",
     "text": [
      "1\n"
     ]
    }
   ],
   "source": [
    "very_important_parameters = (1,2,3)\n",
    "print(very_important_parameters[0])"
   ]
  },
  {
   "cell_type": "markdown",
   "metadata": {
    "collapsed": true
   },
   "source": [
    "##### Sets"
   ]
  },
  {
   "cell_type": "markdown",
   "metadata": {
    "collapsed": true
   },
   "source": [
    "* Sets are **unordered** collections of **unique** objects.\n",
    "* Sets are very efficient for membership testing.\n",
    "* Set can be used to perform mathematical operations like union and intersection.\n",
    "* Sets are denoted by curly brackets {}.\n",
    "* Sets can be created from other containers using the **set()** function."
   ]
  },
  {
   "cell_type": "code",
   "execution_count": null,
   "metadata": {
    "collapsed": true
   },
   "outputs": [],
   "source": [
    "# sets contain only unique elements\n",
    "letters1 = ['a','b','c','d','b','a']\n",
    "letters1 = set(letters1)\n",
    "print(letters1)\n",
    "\n",
    "letters1.add('e')\n",
    "print(letters1)\n",
    "\n",
    "letters1.add('a')\n",
    "print(letters1)"
   ]
  },
  {
   "cell_type": "code",
   "execution_count": null,
   "metadata": {
    "collapsed": true
   },
   "outputs": [],
   "source": [
    "# membership testing\n",
    "'b' in letters1"
   ]
  },
  {
   "cell_type": "code",
   "execution_count": null,
   "metadata": {
    "collapsed": true
   },
   "outputs": [],
   "source": [
    "# operations on sets:\n",
    "letters2 = {'c','d','e','f','g','h'}\n",
    "\n",
    "# intersection\n",
    "print(letters1.intersection(letters2))\n",
    "\n",
    "# union\n",
    "print(letters1.union(letters2))"
   ]
  },
  {
   "cell_type": "markdown",
   "metadata": {},
   "source": [
    "[top](#top)"
   ]
  },
  {
   "cell_type": "markdown",
   "metadata": {
    "collapsed": true
   },
   "source": [
    "<a name=\"dictionaries\"></a>Dictionaries\n",
    "---"
   ]
  },
  {
   "cell_type": "markdown",
   "metadata": {
    "collapsed": true
   },
   "source": [
    "* Dictionaries are a way to store information that is connected in some way.\n",
    "* Dictionaries store information in key-value pairs.\n",
    "* Dictionaries do not store information in any particular order.\n",
    "* Syntax: ```{key : value} ```.\n",
    "* Like with indices in lists, we can access values by using the key to access the dictionary."
   ]
  },
  {
   "cell_type": "markdown",
   "metadata": {
    "collapsed": true
   },
   "source": [
    "##### Example "
   ]
  },
  {
   "cell_type": "code",
   "execution_count": null,
   "metadata": {
    "collapsed": true
   },
   "outputs": [],
   "source": [
    "# a dictionary of the word and meaning of different data containers\n",
    "# in python\n",
    "concepts = {'list': 'A mutable, ordered collection of values',\n",
    "            'tuple': 'An immutable, ordered collection of values',\n",
    "            'set': 'An unordered collection of unique values',\n",
    "            'dictionary': 'An unordered collection of {key:value} pairs'}\n",
    "\n",
    "# access the value by using dictionary[key]\n",
    "for key in concepts.keys():\n",
    "    meaning = concepts[key]\n",
    "    print('Word: {}'.format(key))\n",
    "    print('Meaning: {}\\n'.format(meaning))"
   ]
  },
  {
   "cell_type": "markdown",
   "metadata": {
    "collapsed": true
   },
   "source": [
    "##### Adding and removing items"
   ]
  },
  {
   "cell_type": "code",
   "execution_count": null,
   "metadata": {
    "collapsed": true
   },
   "outputs": [],
   "source": [
    "# add a new entry\n",
    "concepts['function'] = 'A named set of instructions'\n",
    "\n",
    "# remove an existing entry\n",
    "del concepts['tuple']\n",
    "\n",
    "# print the dictionary\n",
    "for key in concepts.keys():\n",
    "    print('{} : {}'.format(key, concepts[key]))"
   ]
  },
  {
   "cell_type": "markdown",
   "metadata": {},
   "source": [
    "[top](#top)"
   ]
  },
  {
   "cell_type": "markdown",
   "metadata": {
    "collapsed": true
   },
   "source": [
    "<a name=\"exercise04\"></a>Exercise 04: Data Containers\n",
    "---"
   ]
  },
  {
   "cell_type": "markdown",
   "metadata": {
    "collapsed": true
   },
   "source": [
    "0. **Git**\n",
    "  1. Switch to the branch you created for today.\n",
    "  2. Create a new notebook for the exercise and add it to the index.\n",
    "1. **Lists and loops**\n",
    "  1. Create a list containing strings that form a sentence.\n",
    "  2. Concatenate all the list items into a single string by looping over the list.\n",
    "  3. Create a list containing integers.\n",
    "  4. Perform a mathematical operation on every item in the list by looping over the list.\n",
    "  5. Print the result of the calculation for every iteration of the loop.\n",
    "  6. Make a list with all integers from zero to ten.\n",
    "  7. Print all even and then all odd numbers in the list. Print only the first 4 and then the last 4 elements in the list.\n",
    "  8. (Optional) Set every second element in the list to zero using a slice.\n",
    "2. **List operations**\n",
    "  1. Create a list containing strings using some combination of ```append()```, ```insert()``` and ```extend()```.\n",
    "  2. Create a second empty list. Loop over the first list and multiply each item with its index. Store the results in the new list.\n",
    "  3. Print the length of the new list and the total number of characters in all strings of the list.  \n",
    "  HINT: strings themselves can be perceived as lists and have a ```len()```.\n",
    "  4. Create a list of the first 50 even numbers using ```range()```. Calculate the sum of the numbers once using a for loop and once using the ```sum()``` function.\n",
    "3. **List comprehensions**\n",
    "  1. Create a list of the first ten cubes using a list comprehension.\n",
    "  2. (Optional) Make a list with the first 100 elements of the fibonacci series. What are the problems when trying to use a list comprehension for this?\n",
    "4. **Tuples and sets**\n",
    "  1. Try to change the value of an item in a tuple.\n",
    "  2. Make two sets of ten letters each, five letters should be similar, five different for each set.\n",
    "  3. Calculate and print the union and intersection of the two sets.\n",
    "  4. (Optional) Use set operations to show that the symmetric difference of two sets is equivalent to the union of both relative complements of the sets.\n",
    "5. **Dictionaries**\n",
    "  1. Look at the ```airport.dat``` file located in the folder /day1 in the repository. Create a dictionary with the ariport name shortform (for example 'LHR' for London Heathrow) as key and the latitute/longitude stored in a tuple as value. The dictionary should contain at least 3 different airports.\n",
    "  2. Loop through the dictionary and print the information in a meaningful way.\n",
    "  3. (Optional) Can you figure out an automated way to read the data-file into a dictionary?\n",
    "6. **Git**\n",
    "  1. Commit the document with the exercise to the current working branch with a meaningful commit message.  "
   ]
  },
  {
   "cell_type": "markdown",
   "metadata": {},
   "source": [
    "[top](#top)"
   ]
  },
  {
   "cell_type": "markdown",
   "metadata": {},
   "source": [
    "[Kudos to **Aron Ahmadia** (US Army ERDC) and **David Ketcheson** (KAUST) from whom I copied shamelessly]"
   ]
  }
 ],
 "metadata": {
  "kernelspec": {
   "display_name": "Python 3",
   "language": "python",
   "name": "python3"
  },
  "language_info": {
   "codemirror_mode": {
    "name": "ipython",
    "version": 3
   },
   "file_extension": ".py",
   "mimetype": "text/x-python",
   "name": "python",
   "nbconvert_exporter": "python",
   "pygments_lexer": "ipython3",
   "version": "3.5.2"
  }
 },
 "nbformat": 4,
 "nbformat_minor": 0
}
