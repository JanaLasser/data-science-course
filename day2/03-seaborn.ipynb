{
 "cells": [
  {
   "cell_type": "markdown",
   "metadata": {
    "collapsed": true,
    "run_control": {
     "frozen": false,
     "read_only": false
    }
   },
   "source": [
    "[Day 3 morning **_\"exploratory analysis\"_**]"
   ]
  },
  {
   "cell_type": "markdown",
   "metadata": {
    "run_control": {
     "frozen": false,
     "read_only": false
    }
   },
   "source": [
    "**Attribution:**  \n",
    "* The material in the [Matplotlib](#matplotlib) section is based on \"[matplotlib - 2D and 3D plotting in Python](https://github.com/jrjohansson/scientific-python-lectures/blob/master/Lecture-4-Matplotlib.ipynb)\" by **Robert Johansson ** under [CC-BY 3.0](https://creativecommons.org/licenses/by/3.0/).\n",
    "* The materian in the [Seaborn](#seaborn) section is based on \"[Seaborn tutorial: Plotting Functions](https://seaborn.pydata.org/tutorial.html) by **Michael Waskom** under [BSD 3-clause](https://opensource.org/licenses/BSD-3-Clause) license.\n",
    "* The material in the [Bokeh](#bokeh) section is based on [Bokeh: Bokeh notebooks: Tutorial ](http://nbviewer.jupyter.org/github/bokeh/bokeh-notebooks/tree/master/tutorial/) by **birdsarah**, **jbednar** and **bryevdv** under [BSD 3-clause New](https://github.com/bokeh/bokeh/blob/master/LICENSE.txt) license.\n",
    "\n",
    "**NOTE:** Some changes have been made.\n"
   ]
  },
  {
   "cell_type": "markdown",
   "metadata": {
    "run_control": {
     "frozen": false,
     "read_only": false
    }
   },
   "source": [
    "<a name=\"top\"></a>Exploratory Data Analysis\n",
    "==="
   ]
  },
  {
   "cell_type": "markdown",
   "metadata": {
    "run_control": {
     "frozen": false,
     "read_only": false
    }
   },
   "source": [
    "<a name=\"top\"></a>Outline\n",
    "---"
   ]
  },
  {
   "cell_type": "markdown",
   "metadata": {
    "run_control": {
     "frozen": false,
     "read_only": false
    }
   },
   "source": [
    "* [Basic plotting with Matplotlib](#matplotlib)\n",
    "  * [Numerical Variables](#numerical)\n",
    "  * [Object oriented plotting](#objectoriented)\n",
    "  * [The basic plot](#basic)\n",
    "  * [Scatterplots](#scatterplot)\n",
    "  * [Histograms](#histogram)\n",
    "  * [Heatmaps](#heatmap)\n",
    "* [Exercise 01: Matplotlib](#exercise01)\n",
    "* [Sofisticated plotting with Seaborn](#seaborn)\n",
    "  * [Jointplot](#jointplot)\n",
    "  * [Timeseries plot](#tsplot)\n",
    "  * [Categorical variables](#categorical)\n",
    "  * [Categorical scatterplots](#categorical scatterplot)\n",
    "  * [Distributions of observations within categories](#distribution)\n",
    "  * [Statistical estimation within categories](#estimation)\n",
    "* [Exercise 02: Seaborn](#exercise02)\n",
    "* [Interactive plotting with Bokeh](#bokeh)\n",
    "  * [Basic plotting interface](#bokeh intro)\n",
    "  * [Handling big data](#big data)\n",
    "  * [Interactive plotting](#interactive)\n",
    "* [Exercise 03: Bokeh](#exercise03)"
   ]
  },
  {
   "cell_type": "markdown",
   "metadata": {
    "run_control": {
     "frozen": false,
     "read_only": false
    }
   },
   "source": [
    "##### Introduction"
   ]
  },
  {
   "cell_type": "markdown",
   "metadata": {
    "run_control": {
     "frozen": false,
     "read_only": false
    }
   },
   "source": [
    "To investigate data, we often need to visualize it in some way to make it understandable for humans. Often spending an hour or two just _looking_ at the various aspects of a dataset without quantifying much is a worthy investment - we call this _explorative analysis_. That way you get a feeling of what information your dataset holds and what questions would be worthwhile to ask.  \n",
    "\n",
    "There is not enough time in this course to give you a complete intoduction to Python's main plotting library Matplotlib, let alone the other interesting libraries like Seaborn and Bokeh. That's why we choose an example oriented approach: This lecture will walk you through examples from Data Science usecases and workflows along with the best tools for every visualization technique. We will start with purely numerical data, then come to a mixture of numerical and categorical variables and finally arive at how to visualize truly big datasets."
   ]
  },
  {
   "cell_type": "markdown",
   "metadata": {
    "run_control": {
     "frozen": false,
     "read_only": false
    }
   },
   "source": [
    "**Learning goals:** By the end or this lecture you will\n",
    "* know how to create hiqh quality, reproducible plots using matplotlib\n",
    "* have an insight into the common visualization techniques for certain usecases like scatterplots, whisker plots, barplots etc.\n",
    "* have an idea about how to deal with visualization of really big datasets\n",
    "* know how to create interactive plots"
   ]
  },
  {
   "cell_type": "markdown",
   "metadata": {
    "run_control": {
     "frozen": false,
     "read_only": false
    }
   },
   "source": [
    "<a name=\"matplotlib\"></a>Basic plotting with Matplotlib\n",
    "==="
   ]
  },
  {
   "cell_type": "markdown",
   "metadata": {
    "run_control": {
     "frozen": false,
     "read_only": false
    }
   },
   "source": [
    "<a name=\"numerical\"></a>Numerical variables\n",
    "---"
   ]
  },
  {
   "cell_type": "markdown",
   "metadata": {
    "run_control": {
     "frozen": false,
     "read_only": false
    }
   },
   "source": [
    "Many datasets contain multiple numerical variables, and the goal of an analysis is often to relate those variables to each other. Tools for this are\n",
    "* **Scatterplots** show the response of an observation to a changing parameter\n",
    "* **Heatmaps** are a way to display the response of a variable to a two-dimensional, gridded parameter space  \n",
    "* **Histograms** are a way to show distributions of numerical data.\n",
    "* **Jointplots** are a combination of scatterplots and histograms.\n",
    "* **Timeseries plots** are a way to visualize one or more timeseries including uncertainty of the observations.\n",
    "\n",
    "_Numerical_ variables stand in contrast to _categorical_ variables. Categorical variables are variables that can only take one of a limited number of possible values or 'labels'."
   ]
  },
  {
   "cell_type": "markdown",
   "metadata": {
    "run_control": {
     "frozen": false,
     "read_only": false
    }
   },
   "source": [
    "[top](#top)"
   ]
  },
  {
   "cell_type": "markdown",
   "metadata": {
    "run_control": {
     "frozen": false,
     "read_only": false
    }
   },
   "source": [
    "<a name=\"objectoriented\"></a>Object oriented plotting\n",
    "---"
   ]
  },
  {
   "cell_type": "markdown",
   "metadata": {
    "run_control": {
     "frozen": false,
     "read_only": false
    }
   },
   "source": [
    "Matplotlib is a 2D and 3D graphics library for generating scientific figures. Some of the many advantages of this library include:\n",
    "\n",
    "* Easy to get started\n",
    "* Support for $\\LaTeX$ formatted labels and texts\n",
    "* Detailed control of every element in a figure\n",
    "* High-quality output in many formats\n",
    "* Seamless interaction with NumPy arrays\n",
    "\n",
    "Matplotlib is highly suitable for generating figures for scientific publications with emphasis on transparency and reproducibility:\n",
    "* All aspects of a figure can be controlled *programmatically*. \n",
    "* You can create a script to plot the figure and then regenerate it with updated data or change its appearance. \n",
    "* You can make that same script accessible or embed it into a Jupyter notebook to produce an _executable paper_."
   ]
  },
  {
   "cell_type": "markdown",
   "metadata": {
    "run_control": {
     "frozen": false,
     "read_only": false
    }
   },
   "source": [
    "To get started, we import the ```matplotlib.pyplot``` module as well as ```numpy```, ```pandas```, ```seaborn``` and ```bokeh``` and tell jupyter to display plots embedded in the notebook: "
   ]
  },
  {
   "cell_type": "code",
   "execution_count": 3,
   "metadata": {
    "collapsed": true,
    "run_control": {
     "frozen": false,
     "read_only": false
    }
   },
   "outputs": [],
   "source": [
    "import matplotlib.pyplot as plt\n",
    "import matplotlib as mpl\n",
    "import pandas as pd\n",
    "import numpy as np\n",
    "import seaborn.apionly as sns\n",
    "%matplotlib inline"
   ]
  },
  {
   "cell_type": "markdown",
   "metadata": {
    "run_control": {
     "frozen": false,
     "read_only": false
    }
   },
   "source": [
    "The main idea with object-oriented programming is to have objects that one can apply functions and actions on, and no object or program states should be global. The real advantage of this approach becomes apparent when more than one figure is created, when a figure contains more than one subplot or when we want to manipulate the objects _on_ the plot after they were created.\n",
    "\n",
    "Every plot consists of\n",
    "* a **figure** object that acts as a container/canvas for all other objects in the plot. You can control parameters such as the plot resolution (DPI),  size and layout through the figure object.  \n",
    "\n",
    "* one or more **axes** objects that hold the objects that are actually visible on the plot (curve, dots, colormap etc.). Axes objects have axis labels, ticks, legends etc. that can be controlled individually.  \n",
    "\n",
    "**NOTE:** if you are already familiar with the MATLAP plotting API, you can have a look at matplotlib's pylab module where you can find almost identical bindings for plotting functionality. Nevertheless we recommend learning the object oriented approach, because it is much more powerful and will be used throughout the other plotting libraries too."
   ]
  },
  {
   "cell_type": "markdown",
   "metadata": {
    "run_control": {
     "frozen": false,
     "read_only": false
    }
   },
   "source": [
    "[top](#top)"
   ]
  },
  {
   "cell_type": "markdown",
   "metadata": {
    "run_control": {
     "frozen": false,
     "read_only": false
    }
   },
   "source": [
    "<a name=\"basic\"></a>The basic plot\n",
    "---"
   ]
  },
  {
   "cell_type": "code",
   "execution_count": 4,
   "metadata": {
    "run_control": {
     "frozen": false,
     "read_only": false
    }
   },
   "outputs": [
    {
     "data": {
      "text/plain": [
       "[<matplotlib.lines.Line2D at 0x7f7ff7d6b0b8>]"
      ]
     },
     "execution_count": 4,
     "metadata": {},
     "output_type": "execute_result"
    },
    {
     "data": {
      "image/png": "[encoded data removed]",
      "text/plain": [
       "<matplotlib.figure.Figure at 0x7f7ff7d6b0f0>"
      ]
     },
     "metadata": {},
     "output_type": "display_data"
    }
   ],
   "source": [
    "# call the layout manager 'subplots' which returns a figure and an \n",
    "# axes object\n",
    "fig, ax = plt.subplots()\n",
    "\n",
    "# generate some data to plot\n",
    "x = np.linspace(0, 5, 10)\n",
    "y = x ** 2\n",
    "\n",
    "#set the axis labels and plot title\n",
    "ax.set_xlabel('x')\n",
    "ax.set_ylabel('y')\n",
    "ax.set_title('title')\n",
    "\n",
    "# plot the actual data\n",
    "# the plot() function plots the datapoints connected by a line\n",
    "# by default\n",
    "ax.plot(y,x)\n",
    "\n",
    "# NOTE1: to have more than one subplot, simply specify the keyword \n",
    "# arguments ncols=x and nrows=y when calling plt.subplots()\n",
    "\n",
    "# NOTE2: every command returns the 'visuals' it created in the plot\n",
    "# as objects. plot() for example returns a collection of lines that\n",
    "# we could choose to modify separately. We use a semicolon to \n",
    "# suppress the output to the command line in the future"
   ]
  },
  {
   "cell_type": "markdown",
   "metadata": {
    "run_control": {
     "frozen": false,
     "read_only": false
    }
   },
   "source": [
    "[top](#top)"
   ]
  },
  {
   "cell_type": "markdown",
   "metadata": {
    "run_control": {
     "frozen": false,
     "read_only": false
    }
   },
   "source": [
    "<a name=\"scatterplot\"></a>Scatterplots\n",
    "---"
   ]
  },
  {
   "cell_type": "code",
   "execution_count": 6,
   "metadata": {
    "run_control": {
     "frozen": false,
     "read_only": false
    }
   },
   "outputs": [
    {
     "data": {
      "text/html": [
       "<div>\n",
       "<table border=\"1\" class=\"dataframe\">\n",
       "  <thead>\n",
       "    <tr style=\"text-align: right;\">\n",
       "      <th></th>\n",
       "      <th>total_bill</th>\n",
       "      <th>tip</th>\n",
       "      <th>sex</th>\n",
       "      <th>smoker</th>\n",
       "      <th>day</th>\n",
       "      <th>time</th>\n",
       "      <th>size</th>\n",
       "    </tr>\n",
       "  </thead>\n",
       "  <tbody>\n",
       "    <tr>\n",
       "      <th>0</th>\n",
       "      <td>16.99</td>\n",
       "      <td>1.01</td>\n",
       "      <td>Female</td>\n",
       "      <td>No</td>\n",
       "      <td>Sun</td>\n",
       "      <td>Dinner</td>\n",
       "      <td>2</td>\n",
       "    </tr>\n",
       "    <tr>\n",
       "      <th>1</th>\n",
       "      <td>10.34</td>\n",
       "      <td>1.66</td>\n",
       "      <td>Male</td>\n",
       "      <td>No</td>\n",
       "      <td>Sun</td>\n",
       "      <td>Dinner</td>\n",
       "      <td>3</td>\n",
       "    </tr>\n",
       "    <tr>\n",
       "      <th>2</th>\n",
       "      <td>21.01</td>\n",
       "      <td>3.50</td>\n",
       "      <td>Male</td>\n",
       "      <td>No</td>\n",
       "      <td>Sun</td>\n",
       "      <td>Dinner</td>\n",
       "      <td>3</td>\n",
       "    </tr>\n",
       "    <tr>\n",
       "      <th>3</th>\n",
       "      <td>23.68</td>\n",
       "      <td>3.31</td>\n",
       "      <td>Male</td>\n",
       "      <td>No</td>\n",
       "      <td>Sun</td>\n",
       "      <td>Dinner</td>\n",
       "      <td>2</td>\n",
       "    </tr>\n",
       "    <tr>\n",
       "      <th>4</th>\n",
       "      <td>24.59</td>\n",
       "      <td>3.61</td>\n",
       "      <td>Female</td>\n",
       "      <td>No</td>\n",
       "      <td>Sun</td>\n",
       "      <td>Dinner</td>\n",
       "      <td>4</td>\n",
       "    </tr>\n",
       "  </tbody>\n",
       "</table>\n",
       "</div>"
      ],
      "text/plain": [
       "   total_bill   tip     sex smoker  day    time  size\n",
       "0       16.99  1.01  Female     No  Sun  Dinner     2\n",
       "1       10.34  1.66    Male     No  Sun  Dinner     3\n",
       "2       21.01  3.50    Male     No  Sun  Dinner     3\n",
       "3       23.68  3.31    Male     No  Sun  Dinner     2\n",
       "4       24.59  3.61  Female     No  Sun  Dinner     4"
      ]
     },
     "execution_count": 6,
     "metadata": {},
     "output_type": "execute_result"
    }
   ],
   "source": [
    "#a dataset of tips given to waitresses and waiters\n",
    "tips = sns.load_dataset(\"tips\")\n",
    "tips.head()"
   ]
  },
  {
   "cell_type": "code",
   "execution_count": 7,
   "metadata": {
    "run_control": {
     "frozen": false,
     "read_only": false
    }
   },
   "outputs": [
    {
     "data": {
      "image/png": "[encoded data removed]",
      "text/plain": [
       "<matplotlib.figure.Figure at 0x7f7ff54ffac8>"
      ]
     },
     "metadata": {},
     "output_type": "display_data"
    }
   ],
   "source": [
    "#setup the plot\n",
    "fig, ax = plt.subplots()\n",
    "ax.set_title('tips to bill correlation')\n",
    "ax.set_xlabel('bill [$]')\n",
    "ax.set_ylabel('tip [$]')\n",
    "\n",
    "#use the data from the 'tips' dataset to show the correlation\n",
    "x = np.asarray(tips['total_bill'])\n",
    "y = np.asarray(tips['tip'])\n",
    "plt.scatter(x, y, alpha=0.7, s=40, c='DarkCyan');"
   ]
  },
  {
   "cell_type": "markdown",
   "metadata": {
    "run_control": {
     "frozen": false,
     "read_only": false
    }
   },
   "source": [
    "[top](#top)"
   ]
  },
  {
   "cell_type": "markdown",
   "metadata": {
    "run_control": {
     "frozen": false,
     "read_only": false
    }
   },
   "source": [
    "<a name=\"histogram\"></a>Histograms\n",
    "---"
   ]
  },
  {
   "cell_type": "markdown",
   "metadata": {
    "run_control": {
     "frozen": false,
     "read_only": false
    }
   },
   "source": [
    "We use histograms to visualize distributions of numerical data. Histograms are an estimate of the propability density function of a continuours variable. \n",
    "* To plot, we use the **hist()** function along with the one-dimensional data.\n",
    "* Special care has to go into the ```bins``` argument as different sizes for the bins can change the 'look' of the histogram drastically\n",
    "* Common keyword arguments are the width of the bins ```rwidth``` and whether or not the histogram should show counts or be normed to show a probability density."
   ]
  },
  {
   "cell_type": "markdown",
   "metadata": {
    "run_control": {
     "frozen": false,
     "read_only": false
    }
   },
   "source": [
    "**NOTE:** In this example we use NumPys functionality to generate random numbers. To ensure reproducibility, it is good practice to provide a fixed seed to the random number generator."
   ]
  },
  {
   "cell_type": "code",
   "execution_count": 8,
   "metadata": {
    "run_control": {
     "frozen": false,
     "read_only": false
    }
   },
   "outputs": [
    {
     "data": {
      "image/png": "[encoded data removed]",
      "text/plain": [
       "<matplotlib.figure.Figure at 0x7f7ff542c908>"
      ]
     },
     "metadata": {},
     "output_type": "display_data"
    }
   ],
   "source": [
    "# Fixing random state for reproducibility\n",
    "seed = 300\n",
    "np.random.seed(seed)\n",
    "\n",
    "# example data\n",
    "mu = 100  # mean of distribution\n",
    "sigma = 15  # standard deviation of distribution\n",
    "x = mu + sigma * np.random.randn(437)\n",
    "\n",
    "fig, ax = plt.subplots()\n",
    "ax.set_xlabel('Smarts')\n",
    "ax.set_ylabel('Probability density')\n",
    "ax.set_title(r'Histogram of IQ: $\\mu=100$, $\\sigma=15$')\n",
    "\n",
    "# the histogram of the data\n",
    "n, bins, patches = ax.hist(x, bins=50, rwidth=0.8, \\\n",
    "        linewidth=0, normed=1, color='FireBrick', alpha=0.7)\n",
    "\n",
    "# add a 'best fit' line\n",
    "y = mpl.mlab.normpdf(bins, mu, sigma)\n",
    "ax.plot(bins, y, '--', lw=2);"
   ]
  },
  {
   "cell_type": "markdown",
   "metadata": {
    "run_control": {
     "frozen": false,
     "read_only": false
    }
   },
   "source": [
    "A keyword argument that warrant's its own example is the ```cumulative``` argument:"
   ]
  },
  {
   "cell_type": "code",
   "execution_count": 9,
   "metadata": {
    "run_control": {
     "frozen": false,
     "read_only": false
    }
   },
   "outputs": [
    {
     "data": {
      "image/png": "[encoded data removed]",
      "text/plain": [
       "<matplotlib.figure.Figure at 0x7f7ff53dd550>"
      ]
     },
     "metadata": {},
     "output_type": "display_data"
    }
   ],
   "source": [
    "#create random data\n",
    "np.random.seed(seed)\n",
    "x = np.random.normal(mu, sigma, size=100)\n",
    "\n",
    "#setup the plot\n",
    "fig, ax = plt.subplots(figsize=(8, 4))\n",
    "ax.grid(True)\n",
    "ax.set_title('Cumulative step histograms')\n",
    "ax.set_xlabel('Annual rainfall (mm)')\n",
    "ax.set_ylabel('Cumulative distribution')\n",
    "\n",
    "# plot the cumulative histogram\n",
    "n, bins, patches = ax.hist(x, bins=50, normed=1, histtype='step',\n",
    "                           cumulative=True, label='Empirical')\n",
    "\n",
    "# Add a line showing the expected distribution.\n",
    "y = mpl.mlab.normpdf(bins, mu, sigma).cumsum()\n",
    "y /= y[-1]\n",
    "ax.plot(bins, y, 'k--', linewidth=1.5, label='Theoretical')\n",
    "\n",
    "#add a legend\n",
    "ax.legend(loc=0);"
   ]
  },
  {
   "cell_type": "markdown",
   "metadata": {
    "run_control": {
     "frozen": false,
     "read_only": false
    }
   },
   "source": [
    "[top](#top)"
   ]
  },
  {
   "cell_type": "markdown",
   "metadata": {
    "run_control": {
     "frozen": false,
     "read_only": false
    }
   },
   "source": [
    "<a name=\"heatmap\"></a>Heatmaps\n",
    "---"
   ]
  },
  {
   "cell_type": "markdown",
   "metadata": {
    "run_control": {
     "frozen": false,
     "read_only": false
    }
   },
   "source": [
    "Heatmaps are a convenient way to plot three dimensional data: we encode two dimensions in space and the thrid dimension as color code.  \n",
    "Heatmaps are often used to plot confusion matrices (https://en.wikipedia.org/wiki/Confusion_matrix) from classification problems. \n",
    "* To plot we use **imshow()** along with a two dimensional numpy array\n",
    "* To plot the values without any aliasing effects we set ```interpolation``` to 'nearest'.\n",
    "* We have a wide range of choices of pre-defined colormaps (https://matplotlib.org/examples/color/colormaps_reference.html) but can also define custom colorbars.  \n",
    "\n",
    "More generally we can use **imshow()** to show any image that consists of pixels."
   ]
  },
  {
   "cell_type": "code",
   "execution_count": 10,
   "metadata": {
    "run_control": {
     "frozen": false,
     "read_only": false
    }
   },
   "outputs": [
    {
     "data": {
      "image/png": "[encoded data removed]",
      "text/plain": [
       "<matplotlib.figure.Figure at 0x7f7ff5483278>"
      ]
     },
     "metadata": {},
     "output_type": "display_data"
    }
   ],
   "source": [
    "# create some generic data\n",
    "N = 20\n",
    "x, y = np.mgrid[:N, :N]\n",
    "field = (np.cos(x*0.2) + np.sin(y*0.3))\n",
    "\n",
    "# set up the plot\n",
    "fig, ax = plt.subplots()\n",
    "ax.set_xlabel('$x$')\n",
    "ax.set_ylabel('$y$')\n",
    "ax.set_title('heatmap')\n",
    "\n",
    "# plot the data.\n",
    "# NOTE: here we actually need the positions returned by imshow()\n",
    "# to create the colorbar\n",
    "pos = ax.imshow(field, interpolation='nearest',cmap='RdYlGn')\n",
    "fig.colorbar(pos);"
   ]
  },
  {
   "cell_type": "markdown",
   "metadata": {
    "run_control": {
     "frozen": false,
     "read_only": false
    }
   },
   "source": [
    "##### NOTE: Saving figures"
   ]
  },
  {
   "cell_type": "markdown",
   "metadata": {
    "run_control": {
     "frozen": false,
     "read_only": false
    }
   },
   "source": [
    "To save a figure to a file, use the **savefig()** method of the ```figure``` object. The format is choosen automatically, based on the name ending you provide:"
   ]
  },
  {
   "cell_type": "code",
   "execution_count": 11,
   "metadata": {
    "run_control": {
     "frozen": false,
     "read_only": false
    }
   },
   "outputs": [
    {
     "name": "stdout",
     "output_type": "stream",
     "text": [
      "03-exploratory-analysis.ipynb\t  BMI_male_with_continent.csv~\r\n",
      "add-continents-to-BMI-data.ipynb  countryinfo.py\r\n",
      "BMI_female.csv\t\t\t  exercise02-solution.ipynb\r\n",
      "BMI_female_with_continent.csv\t  __pycache__\r\n",
      "BMI_female_with_continent.csv~\t  sample_figure.pdf\r\n",
      "BMI_male.csv\t\t\t  sample_figure.png\r\n",
      "BMI_male_with_continent.csv\r\n"
     ]
    }
   ],
   "source": [
    "# saving as pdf allows for access to all objects separately via a\n",
    "# vector graphics editor such as inkscape\n",
    "fig.savefig('sample_figure.pdf')\n",
    "\n",
    "#when saving as a bitmap, you can choose the resolution\n",
    "fig.savefig('sample_figure.png', dpi=200)\n",
    "\n",
    "#check that the files have been created\n",
    "! ls"
   ]
  },
  {
   "cell_type": "markdown",
   "metadata": {
    "run_control": {
     "frozen": false,
     "read_only": false
    }
   },
   "source": [
    "[top](#top)"
   ]
  },
  {
   "cell_type": "markdown",
   "metadata": {
    "run_control": {
     "frozen": false,
     "read_only": false
    }
   },
   "source": [
    "<a name=\"exercise01\"></a>Exercise 01: Matplotlib\n",
    "==="
   ]
  },
  {
   "cell_type": "markdown",
   "metadata": {
    "run_control": {
     "frozen": false,
     "read_only": false
    }
   },
   "source": [
    "1. **Matplotlib**\n",
    "  1. Explore the 'titanic' dataset using scatterplots and histograms of various variables\n",
    "  2. Display all plots as subplots in one big figure, make sure the axis labels, titles and legends are right.\n",
    "  3. (Optional) save the figure as pdf, open it with a vector graphics program (Inkscape) and manipulate the objects created by matplotlib.\n",
    "  4. Use a heatmap to show the dependency of the probability to survive on the deck and the sex of the passengers.\n",
    "2. **Lying with plots**\n",
    "  1. Think about ways to display plots in a misleading way and try them either with the datasets provided in the lecture or with custom datasets. \n",
    "  2. Specifically look at \n",
    "    * histogram bins\n",
    "    * axes ranges\n",
    "    * logarithmic plots"
   ]
  },
  {
   "cell_type": "markdown",
   "metadata": {
    "run_control": {
     "frozen": false,
     "read_only": false
    }
   },
   "source": [
    "[top](#top)"
   ]
  },
  {
   "cell_type": "markdown",
   "metadata": {
    "run_control": {
     "frozen": false,
     "read_only": false
    }
   },
   "source": [
    "<a name=\"seaborn\"></a>Sofisticated plotting with Seaborn\n",
    "==="
   ]
  },
  {
   "cell_type": "markdown",
   "metadata": {
    "run_control": {
     "frozen": false,
     "read_only": false
    }
   },
   "source": [
    "Seaborn is a visualization library based on matplotlib. Its main features are\n",
    "* very pleasing and clean default aesthetics\n",
    "* high level interface for draving of statistical graphics\n",
    "* extensive collection of plotting functions  \n",
    "* works seamlessly with pandas dataframes\n",
    "* as a nice side effect it also offers some simple datasets for testing\n",
    "\n",
    "By simply importing seaborn, matplotlib automatically changes its default settings (fontsize, background canvas color, not frames) to look very clean. \n",
    "\n",
    "Accessing matplotlib via the seaborn API is a good choice for sofisticated graphics like violon plots or joint plots. If you are looking for tight control over every detail in a plot, you should use the matplotlib API."
   ]
  },
  {
   "cell_type": "code",
   "execution_count": 12,
   "metadata": {
    "collapsed": true,
    "run_control": {
     "frozen": false,
     "read_only": false
    }
   },
   "outputs": [],
   "source": [
    "# previously we used only seaborn's api, now we want to use the \n",
    "# nicer default settings seaborn offers too, therefore we need to\n",
    "# reload the module\n",
    "import importlib\n",
    "import seaborn\n",
    "importlib.reload(seaborn);"
   ]
  },
  {
   "cell_type": "markdown",
   "metadata": {
    "run_control": {
     "frozen": false,
     "read_only": false
    }
   },
   "source": [
    "<a name=\"jointplot\"></a>Jointplot\n",
    "---"
   ]
  },
  {
   "cell_type": "markdown",
   "metadata": {
    "run_control": {
     "frozen": false,
     "read_only": false
    }
   },
   "source": [
    "* The **jointplot()** function offers functionality to plot a scatterplot (bivariate graph) as well as histograms (univariate graph) over both axis.  \n",
    "* To use seaborn together with a pandas dataframe, we provide the function with the dataframe (in this case ```tips```) along with the labels of the columns we want to use (in this case ```total_bill``` and ```tip```)\n",
    "* We could also use NumPy arrays for the x and y arguments"
   ]
  },
  {
   "cell_type": "code",
   "execution_count": 13,
   "metadata": {
    "run_control": {
     "frozen": false,
     "read_only": false
    }
   },
   "outputs": [
    {
     "data": {
      "image/png": "[encoded data removed]",
      "text/plain": [
       "<matplotlib.figure.Figure at 0x7f7ff4f512e8>"
      ]
     },
     "metadata": {},
     "output_type": "display_data"
    }
   ],
   "source": [
    "sns.jointplot(x=\"total_bill\", y=\"tip\", data=tips, kind=\"scatter\");"
   ]
  },
  {
   "cell_type": "markdown",
   "metadata": {
    "run_control": {
     "frozen": false,
     "read_only": false
    }
   },
   "source": [
    "[top](#top)"
   ]
  },
  {
   "cell_type": "markdown",
   "metadata": {
    "run_control": {
     "frozen": false,
     "read_only": false
    }
   },
   "source": [
    "<a name=\"tsplot\"></a>Timeseries plot\n",
    "---"
   ]
  },
  {
   "cell_type": "markdown",
   "metadata": {
    "run_control": {
     "frozen": false,
     "read_only": false
    }
   },
   "source": [
    "Timeseries plots are intended to visualize data where \n",
    "* different _sampling units_ belonging to the same _observational unit_ were measured\n",
    "* at different points in time\n",
    "* and therefore allow a measure for the uncertainty of the observation  \n",
    "\n",
    "We can use **tsplot()** with a pandas dataframe of a NumPy array. It is important, that the data conforms to the 'tidy' data format, therefore\n",
    "* each _variable_ forms a column and contains _values_\n",
    "* each _observation_ forms a row\n",
    "* each type of _observational unit_ forms a table or has a different _label_.  \n",
    "\n",
    "In the example below, the variables are\n",
    "* the timepoint\n",
    "* the sampling unit ```subject```\n",
    "* the signal ```BOLD signal```\n",
    "* the observational unit ```ROI``` (different labels)  \n",
    "\n",
    "There are 20 observations per timepoint and ROI accross 10 timepoints"
   ]
  },
  {
   "cell_type": "code",
   "execution_count": 14,
   "metadata": {
    "run_control": {
     "frozen": false,
     "read_only": false
    }
   },
   "outputs": [
    {
     "data": {
      "text/html": [
       "<div>\n",
       "<table border=\"1\" class=\"dataframe\">\n",
       "  <thead>\n",
       "    <tr style=\"text-align: right;\">\n",
       "      <th></th>\n",
       "      <th>timepoint</th>\n",
       "      <th>ROI</th>\n",
       "      <th>subject</th>\n",
       "      <th>BOLD signal</th>\n",
       "    </tr>\n",
       "  </thead>\n",
       "  <tbody>\n",
       "    <tr>\n",
       "      <th>0</th>\n",
       "      <td>0.0</td>\n",
       "      <td>IPS</td>\n",
       "      <td>0</td>\n",
       "      <td>0.513433</td>\n",
       "    </tr>\n",
       "    <tr>\n",
       "      <th>1</th>\n",
       "      <td>0.0</td>\n",
       "      <td>IPS</td>\n",
       "      <td>1</td>\n",
       "      <td>-0.414368</td>\n",
       "    </tr>\n",
       "    <tr>\n",
       "      <th>2</th>\n",
       "      <td>0.0</td>\n",
       "      <td>IPS</td>\n",
       "      <td>2</td>\n",
       "      <td>0.214695</td>\n",
       "    </tr>\n",
       "    <tr>\n",
       "      <th>3</th>\n",
       "      <td>0.0</td>\n",
       "      <td>IPS</td>\n",
       "      <td>3</td>\n",
       "      <td>0.814809</td>\n",
       "    </tr>\n",
       "    <tr>\n",
       "      <th>4</th>\n",
       "      <td>0.0</td>\n",
       "      <td>IPS</td>\n",
       "      <td>4</td>\n",
       "      <td>-0.894992</td>\n",
       "    </tr>\n",
       "  </tbody>\n",
       "</table>\n",
       "</div>"
      ],
      "text/plain": [
       "   timepoint  ROI  subject  BOLD signal\n",
       "0        0.0  IPS        0     0.513433\n",
       "1        0.0  IPS        1    -0.414368\n",
       "2        0.0  IPS        2     0.214695\n",
       "3        0.0  IPS        3     0.814809\n",
       "4        0.0  IPS        4    -0.894992"
      ]
     },
     "execution_count": 14,
     "metadata": {},
     "output_type": "execute_result"
    }
   ],
   "source": [
    "# Load the long-form example gammas dataset\n",
    "gammas = sns.load_dataset(\"gammas\")\n",
    "gammas.head()"
   ]
  },
  {
   "cell_type": "code",
   "execution_count": 15,
   "metadata": {
    "run_control": {
     "frozen": false,
     "read_only": false
    }
   },
   "outputs": [
    {
     "data": {
      "image/png": "[encoded data removed]",
      "text/plain": [
       "<matplotlib.figure.Figure at 0x7f7ff42c9ef0>"
      ]
     },
     "metadata": {},
     "output_type": "display_data"
    }
   ],
   "source": [
    "# Plot the response with standard error\n",
    "sns.tsplot(data=gammas, time=\"timepoint\", unit=\"subject\",\n",
    "           condition=\"ROI\", value=\"BOLD signal\");"
   ]
  },
  {
   "cell_type": "markdown",
   "metadata": {
    "run_control": {
     "frozen": false,
     "read_only": false
    }
   },
   "source": [
    "[top](#top)"
   ]
  },
  {
   "cell_type": "markdown",
   "metadata": {
    "run_control": {
     "frozen": false,
     "read_only": false
    }
   },
   "source": [
    "<a name=\"categorical\"></a>Categorical variables\n",
    "---"
   ]
  },
  {
   "cell_type": "markdown",
   "metadata": {
    "run_control": {
     "frozen": false,
     "read_only": false
    }
   },
   "source": [
    "We previously learned how to use plots to visualize the relationship between two variables and how it changes across levels of additional categorical variables. In the example with the tips\n",
    "* total bill and tip are _numerical variables_\n",
    "* weekday and time of day are _categorical variables_  \n",
    "\n",
    "However, what if one of the main variables we are interested in is categorical? Seaborn offers several options for plots of categorical variables\n",
    "1. plots that show each observation at each level of categorical variable (**swarmplot**)\n",
    "2. plots that show an abstract representation of each distribution of observations (**violinplot** and **boxplot**)\n",
    "3. plots that apply a statistical estimation to show a measure of a central tendency & confidence interval (**barplot**)\n"
   ]
  },
  {
   "cell_type": "markdown",
   "metadata": {
    "run_control": {
     "frozen": false,
     "read_only": false
    }
   },
   "source": [
    "[top](#top)"
   ]
  },
  {
   "cell_type": "markdown",
   "metadata": {
    "run_control": {
     "frozen": false,
     "read_only": false
    }
   },
   "source": [
    "<a name=\"categorical scatterplot\"></a>Categorical scatterplot\n",
    "---"
   ]
  },
  {
   "cell_type": "markdown",
   "metadata": {
    "run_control": {
     "frozen": false,
     "read_only": false
    }
   },
   "source": [
    "A simple way to show the the values of some quantitative variable across the levels of a categorical variable is to generalize a scatterplot to the case where one of the variables is categorical. This usually results in massive overlapping of the datapoints. Seaborn's **swarmplot** uses an algorithm to minimize the overlap between points.  \n",
    "In the example below we see\n",
    "* the _numerical_ variable ```total_bill``` \n",
    "* scattered over the _categorical_ variables of four weekdays\n",
    "* and colored according to the sex of the waiter/waitress"
   ]
  },
  {
   "cell_type": "code",
   "execution_count": 15,
   "metadata": {
    "run_control": {
     "frozen": false,
     "read_only": false
    }
   },
   "outputs": [
    {
     "data": {
      "image/png": "[encoded data removed]",
      "text/plain": [
       "<matplotlib.figure.Figure at 0x7fad58ad19e8>"
      ]
     },
     "metadata": {},
     "output_type": "display_data"
    }
   ],
   "source": [
    "sns.swarmplot(x=\"day\", y=\"total_bill\", hue=\"sex\", data=tips);"
   ]
  },
  {
   "cell_type": "markdown",
   "metadata": {
    "run_control": {
     "frozen": false,
     "read_only": false
    }
   },
   "source": [
    "[top](#top)"
   ]
  },
  {
   "cell_type": "markdown",
   "metadata": {
    "run_control": {
     "frozen": false,
     "read_only": false
    }
   },
   "source": [
    "<a name=\"distribution\"></a>Distributions of observations within categories\n",
    "---"
   ]
  },
  {
   "cell_type": "markdown",
   "metadata": {
    "run_control": {
     "frozen": false,
     "read_only": false
    }
   },
   "source": [
    "At a certain point, the categorical scatterplot approach becomes limited in the information it can provide about the distribution of values within each category. There are several ways to summarize this information in ways that facilitate easy comparisons across the category levels."
   ]
  },
  {
   "cell_type": "markdown",
   "metadata": {
    "run_control": {
     "frozen": false,
     "read_only": false
    }
   },
   "source": [
    "##### Boxplot / Whisker plot"
   ]
  },
  {
   "cell_type": "markdown",
   "metadata": {
    "run_control": {
     "frozen": false,
     "read_only": false
    }
   },
   "source": [
    "Boxplots or box-whisker-plots display groups of numerical data through their quartiles (four groups comprising of a quarter of the data each):\n",
    "* the bottom and top of the box show the first and third quartiles\n",
    "* the band inside the box shows the second quartile (median)\n",
    "* the whiskers exten to the lowest and highest value still within 1.5 IQR (https://en.wikipedia.org/wiki/Interquartile_range)\n",
    "* observations that fall outside this range are displayed as independent points (outliers)"
   ]
  },
  {
   "cell_type": "markdown",
   "metadata": {
    "run_control": {
     "frozen": false,
     "read_only": false
    }
   },
   "source": [
    "![boxplot](https://www.qualitydigest.com/april05/Images/Features/SPC_F1.jpg)"
   ]
  },
  {
   "cell_type": "code",
   "execution_count": 16,
   "metadata": {
    "run_control": {
     "frozen": false,
     "read_only": false
    }
   },
   "outputs": [
    {
     "data": {
      "image/png": "[encoded data removed]",
      "text/plain": [
       "<matplotlib.figure.Figure at 0x7fad59c339e8>"
      ]
     },
     "metadata": {},
     "output_type": "display_data"
    }
   ],
   "source": [
    "sns.boxplot(x=\"day\", y=\"total_bill\", hue=\"sex\", data=tips);"
   ]
  },
  {
   "cell_type": "markdown",
   "metadata": {
    "run_control": {
     "frozen": false,
     "read_only": false
    }
   },
   "source": [
    "##### Violinplot"
   ]
  },
  {
   "cell_type": "markdown",
   "metadata": {
    "run_control": {
     "frozen": false,
     "read_only": false
    }
   },
   "source": [
    "A different approach to showing numerical data belonging to several categories while keeping an estimate of its distribution is the violinplot. It combines the idea of the boxplot with the _kernel density estimation_ (KDE).  \n",
    "KDE computes a 'smooth' probability density without the use of a prescribed distribution function and fit parameters. It does so by \n",
    "* replacing each observation with a _kernel_ curve (default = gaussian)\n",
    "* summing up all kernel curves\n",
    "* normalizing the resulting curve to 1\n",
    "\n",
    "If we are comparing two populations (like female & male from the 'tips' dataset), we can 'split' the violins to show one KDE on each side of the violin respectively:"
   ]
  },
  {
   "cell_type": "code",
   "execution_count": 16,
   "metadata": {
    "run_control": {
     "frozen": false,
     "read_only": false
    }
   },
   "outputs": [
    {
     "data": {
      "image/png": "[encoded data removed]",
      "text/plain": [
       "<matplotlib.figure.Figure at 0x7f7ff41e7400>"
      ]
     },
     "metadata": {},
     "output_type": "display_data"
    }
   ],
   "source": [
    "sns.violinplot(x=\"day\", y=\"total_bill\", hue=\"sex\", data=tips, \\\n",
    "               split=True);"
   ]
  },
  {
   "cell_type": "markdown",
   "metadata": {
    "run_control": {
     "frozen": false,
     "read_only": false
    }
   },
   "source": [
    "[top](#top)"
   ]
  },
  {
   "cell_type": "markdown",
   "metadata": {
    "run_control": {
     "frozen": false,
     "read_only": false
    }
   },
   "source": [
    "<a name=\"estimation\"></a>Statistical estimation within categories\n",
    "---"
   ]
  },
  {
   "cell_type": "markdown",
   "metadata": {
    "run_control": {
     "frozen": false,
     "read_only": false
    }
   },
   "source": [
    "##### Barplot"
   ]
  },
  {
   "cell_type": "markdown",
   "metadata": {
    "run_control": {
     "frozen": false,
     "read_only": false
    }
   },
   "source": [
    "Often, rather than showing the distribution within each category, we might want to show the central tendency of the values. **barplot** accomplishes that by showing \n",
    "* an arbitrary estimate (default is the mean)\n",
    "* a confidence interval around the estimate using bootstrapping when there are multiple observations in each category  \n",
    "\n",
    "In the example below, the catgorical variables are\n",
    "* the sexes ```male``` and ```female``` \n",
    "* as well as the class ```first```, ```second``` and ```third```  \n",
    "\n",
    "The numerical data is the percentage in each category that survived the titanic, the confindence interval is shown as black errorbar. "
   ]
  },
  {
   "cell_type": "code",
   "execution_count": 17,
   "metadata": {
    "run_control": {
     "frozen": false,
     "read_only": false
    }
   },
   "outputs": [
    {
     "data": {
      "text/html": [
       "<div>\n",
       "<table border=\"1\" class=\"dataframe\">\n",
       "  <thead>\n",
       "    <tr style=\"text-align: right;\">\n",
       "      <th></th>\n",
       "      <th>survived</th>\n",
       "      <th>pclass</th>\n",
       "      <th>sex</th>\n",
       "      <th>age</th>\n",
       "      <th>sibsp</th>\n",
       "      <th>parch</th>\n",
       "      <th>fare</th>\n",
       "      <th>embarked</th>\n",
       "      <th>class</th>\n",
       "      <th>who</th>\n",
       "      <th>adult_male</th>\n",
       "      <th>deck</th>\n",
       "      <th>embark_town</th>\n",
       "      <th>alive</th>\n",
       "      <th>alone</th>\n",
       "    </tr>\n",
       "  </thead>\n",
       "  <tbody>\n",
       "    <tr>\n",
       "      <th>0</th>\n",
       "      <td>0</td>\n",
       "      <td>3</td>\n",
       "      <td>male</td>\n",
       "      <td>22.0</td>\n",
       "      <td>1</td>\n",
       "      <td>0</td>\n",
       "      <td>7.2500</td>\n",
       "      <td>S</td>\n",
       "      <td>Third</td>\n",
       "      <td>man</td>\n",
       "      <td>True</td>\n",
       "      <td>NaN</td>\n",
       "      <td>Southampton</td>\n",
       "      <td>no</td>\n",
       "      <td>False</td>\n",
       "    </tr>\n",
       "    <tr>\n",
       "      <th>1</th>\n",
       "      <td>1</td>\n",
       "      <td>1</td>\n",
       "      <td>female</td>\n",
       "      <td>38.0</td>\n",
       "      <td>1</td>\n",
       "      <td>0</td>\n",
       "      <td>71.2833</td>\n",
       "      <td>C</td>\n",
       "      <td>First</td>\n",
       "      <td>woman</td>\n",
       "      <td>False</td>\n",
       "      <td>C</td>\n",
       "      <td>Cherbourg</td>\n",
       "      <td>yes</td>\n",
       "      <td>False</td>\n",
       "    </tr>\n",
       "    <tr>\n",
       "      <th>2</th>\n",
       "      <td>1</td>\n",
       "      <td>3</td>\n",
       "      <td>female</td>\n",
       "      <td>26.0</td>\n",
       "      <td>0</td>\n",
       "      <td>0</td>\n",
       "      <td>7.9250</td>\n",
       "      <td>S</td>\n",
       "      <td>Third</td>\n",
       "      <td>woman</td>\n",
       "      <td>False</td>\n",
       "      <td>NaN</td>\n",
       "      <td>Southampton</td>\n",
       "      <td>yes</td>\n",
       "      <td>True</td>\n",
       "    </tr>\n",
       "    <tr>\n",
       "      <th>3</th>\n",
       "      <td>1</td>\n",
       "      <td>1</td>\n",
       "      <td>female</td>\n",
       "      <td>35.0</td>\n",
       "      <td>1</td>\n",
       "      <td>0</td>\n",
       "      <td>53.1000</td>\n",
       "      <td>S</td>\n",
       "      <td>First</td>\n",
       "      <td>woman</td>\n",
       "      <td>False</td>\n",
       "      <td>C</td>\n",
       "      <td>Southampton</td>\n",
       "      <td>yes</td>\n",
       "      <td>False</td>\n",
       "    </tr>\n",
       "    <tr>\n",
       "      <th>4</th>\n",
       "      <td>0</td>\n",
       "      <td>3</td>\n",
       "      <td>male</td>\n",
       "      <td>35.0</td>\n",
       "      <td>0</td>\n",
       "      <td>0</td>\n",
       "      <td>8.0500</td>\n",
       "      <td>S</td>\n",
       "      <td>Third</td>\n",
       "      <td>man</td>\n",
       "      <td>True</td>\n",
       "      <td>NaN</td>\n",
       "      <td>Southampton</td>\n",
       "      <td>no</td>\n",
       "      <td>True</td>\n",
       "    </tr>\n",
       "  </tbody>\n",
       "</table>\n",
       "</div>"
      ],
      "text/plain": [
       "   survived  pclass     sex   age  sibsp  parch     fare embarked  class  \\\n",
       "0         0       3    male  22.0      1      0   7.2500        S  Third   \n",
       "1         1       1  female  38.0      1      0  71.2833        C  First   \n",
       "2         1       3  female  26.0      0      0   7.9250        S  Third   \n",
       "3         1       1  female  35.0      1      0  53.1000        S  First   \n",
       "4         0       3    male  35.0      0      0   8.0500        S  Third   \n",
       "\n",
       "     who adult_male deck  embark_town alive  alone  \n",
       "0    man       True  NaN  Southampton    no  False  \n",
       "1  woman      False    C    Cherbourg   yes  False  \n",
       "2  woman      False  NaN  Southampton   yes   True  \n",
       "3  woman      False    C  Southampton   yes  False  \n",
       "4    man       True  NaN  Southampton    no   True  "
      ]
     },
     "execution_count": 17,
     "metadata": {},
     "output_type": "execute_result"
    }
   ],
   "source": [
    "# dataset of survivors of the titanica\n",
    "titanic = sns.load_dataset(\"titanic\")\n",
    "titanic.head()"
   ]
  },
  {
   "cell_type": "code",
   "execution_count": 18,
   "metadata": {
    "run_control": {
     "frozen": false,
     "read_only": false
    }
   },
   "outputs": [
    {
     "data": {
      "image/png": "[encoded data removed]",
      "text/plain": [
       "<matplotlib.figure.Figure at 0x7f7ff40dfa90>"
      ]
     },
     "metadata": {},
     "output_type": "display_data"
    }
   ],
   "source": [
    "sns.barplot(x=\"sex\", y=\"survived\", hue=\"class\", data=titanic);"
   ]
  },
  {
   "cell_type": "markdown",
   "metadata": {
    "run_control": {
     "frozen": false,
     "read_only": false
    }
   },
   "source": [
    "##### Countplot"
   ]
  },
  {
   "cell_type": "markdown",
   "metadata": {
    "run_control": {
     "frozen": false,
     "read_only": false
    }
   },
   "source": [
    "Similar to a histogram we can also show the data as a **countplot** that is, in essence, a histogram over a categorical rather than a numerical variable.  \n",
    "With the same titanic data we can show the number of survivors over the deck:"
   ]
  },
  {
   "cell_type": "code",
   "execution_count": 19,
   "metadata": {
    "run_control": {
     "frozen": false,
     "read_only": false
    }
   },
   "outputs": [
    {
     "data": {
      "image/png": "[encoded data removed]",
      "text/plain": [
       "<matplotlib.figure.Figure at 0x7fad58afdef0>"
      ]
     },
     "metadata": {},
     "output_type": "display_data"
    }
   ],
   "source": [
    "sns.countplot(x=\"deck\", data=titanic, palette=\"Greens_d\");"
   ]
  },
  {
   "cell_type": "markdown",
   "metadata": {
    "run_control": {
     "frozen": false,
     "read_only": false
    }
   },
   "source": [
    "[top](#top)"
   ]
  },
  {
   "cell_type": "markdown",
   "metadata": {
    "run_control": {
     "frozen": false,
     "read_only": false
    }
   },
   "source": [
    "<a name=\"exercise02\"></a>Exercise 02: Seaborn\n",
    "==="
   ]
  },
  {
   "cell_type": "markdown",
   "metadata": {
    "run_control": {
     "frozen": false,
     "read_only": false
    }
   },
   "source": [
    "1. **Categorical Data** \n",
    "  1. Load the timeseries 'BMI_male' and 'BMI_female'  into pandas dataframes. The data contains information about the mean BMI for women and men in 200 countries over a time period from 1980 to 2008.\n",
    "  2. Tidy up the datasets so 'Time' is a variable (**HINT**: ```pandas.melt()```) \n",
    "  3. Create a timeseries plot with the time development of the female BMI  averaging over all countries of a continent.\n",
    "  4. Show the BMI for men for the different continents at the year 1990 in a swarmplot.\n",
    "  5. Merge the two datasets into one, introducing the new label 'Sex' to describe the entries from the different datasets.\n",
    "  6. Plot the BMI for the year 2000 in a whisker plot showing men and women in a different color.\n",
    "  7. Show the BMIs in a violinplot: \n",
    "    * for the year 2000 split between men and women\n",
    "    * the combined BMIs for men and women split between the years 1980 and 2000.\n",
    "  8. Show BMIs for the years 1980, 1990 and 2000 in a barplot: \n",
    "    * split for the continents \n",
    "    * split for the sexes"
   ]
  },
  {
   "cell_type": "markdown",
   "metadata": {
    "run_control": {
     "frozen": false,
     "read_only": false
    }
   },
   "source": [
    "[top](#top)"
   ]
  }
 ],
 "metadata": {
  "kernelspec": {
   "display_name": "Python 3",
   "language": "python",
   "name": "python3"
  },
  "language_info": {
   "codemirror_mode": {
    "name": "ipython",
    "version": 3
   },
   "file_extension": ".py",
   "mimetype": "text/x-python",
   "name": "python",
   "nbconvert_exporter": "python",
   "pygments_lexer": "ipython3",
   "version": "3.5.2"
  },
  "latex_envs": {
   "LaTeX_envs_menu_present": true,
   "autocomplete": true,
   "bibliofile": "biblio.bib",
   "cite_by": "apalike",
   "current_citInitial": 1,
   "eqLabelWithNumbers": true,
   "eqNumInitial": 1,
   "hotkeys": {
    "equation": "Ctrl-E",
    "itemize": "Ctrl-I"
   },
   "labels_anchors": false,
   "latex_user_defs": false,
   "report_style_numbering": false,
   "user_envs_cfg": false
  },
  "toc": {
   "colors": {
    "hover_highlight": "#DAA520",
    "running_highlight": "#FF0000",
    "selected_highlight": "#FFD700"
   },
   "moveMenuLeft": true,
   "nav_menu": {
    "height": "414px",
    "width": "254px"
   },
   "navigate_menu": true,
   "number_sections": true,
   "sideBar": true,
   "threshold": 4,
   "toc_cell": false,
   "toc_section_display": "block",
   "toc_window_display": false,
   "widenNotebook": false
  }
 },
 "nbformat": 4,
 "nbformat_minor": 1
}
